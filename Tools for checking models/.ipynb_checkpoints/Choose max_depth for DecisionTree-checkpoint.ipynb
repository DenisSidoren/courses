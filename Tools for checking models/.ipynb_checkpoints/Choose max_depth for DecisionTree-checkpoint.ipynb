{
 "cells": [
  {
   "cell_type": "code",
   "execution_count": null,
   "metadata": {},
   "outputs": [],
   "source": [
    "import pandas as pd\n",
    "import numpy as np\n",
    "%matplotlib inline\n",
    "import matplotlib.pyplot as plt\n",
    "import seaborn as sns"
   ]
  },
  {
   "cell_type": "code",
   "execution_count": null,
   "metadata": {},
   "outputs": [],
   "source": [
    "# Загрузка файла, разделение на трэйн и тест"
   ]
  },
  {
   "cell_type": "code",
   "execution_count": null,
   "metadata": {},
   "outputs": [],
   "source": [
    "result_ml = pd.DataFrame()\n",
    "for i in range(1, 100, 1):\n",
    "    rs = np.random.seed(0)\n",
    "    my_awesome_tree = tree.DecisionTreeClassifier(random_state=np.random.seed(i),\n",
    "                                                  criterion='entropy',\n",
    "                                                  max_depth=i)\n",
    "    my_awesome_tree.fit(x_train, y_train)\n",
    "\n",
    "    train_score = my_awesome_tree.score(x_train, y_train)\n",
    "    accuracy_score = my_awesome_tree.score(x_test, y_test)\n",
    "\n",
    "    data_step_scores = pd.DataFrame({'Depth': [i],\n",
    "                                     'train_score': [train_score],\n",
    "                                     'accuracy_score': [accuracy_score]})\n",
    "    result_ml = result_ml.append(data_step_scores)\n",
    "\n",
    "result_ml_viz = result_ml.melt(id_vars=['Depth'], value_vars=['train_score', 'accuracy_score'],\n",
    "        var_name='call_type', value_name='score')\n",
    "sns.lineplot(data=result_ml_viz, x=\"Depth\", y=\"score\", hue=\"call_type\")\n",
    "\n",
    "result_ml.query('accuracy_score == accuracy_score.max()')"
   ]
  }
 ],
 "metadata": {
  "kernelspec": {
   "display_name": "Python 3",
   "language": "python",
   "name": "python3"
  },
  "language_info": {
   "codemirror_mode": {
    "name": "ipython",
    "version": 3
   },
   "file_extension": ".py",
   "mimetype": "text/x-python",
   "name": "python",
   "nbconvert_exporter": "python",
   "pygments_lexer": "ipython3",
   "version": "3.7.6"
  }
 },
 "nbformat": 4,
 "nbformat_minor": 4
}
