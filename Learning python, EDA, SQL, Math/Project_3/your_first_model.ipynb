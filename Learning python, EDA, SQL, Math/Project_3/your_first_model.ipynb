{
 "cells": [
  {
   "cell_type": "markdown",
   "metadata": {},
   "source": [
    "# Загрузка Pandas и очистка данных"
   ]
  },
  {
   "cell_type": "code",
   "execution_count": 2,
   "metadata": {},
   "outputs": [],
   "source": [
    "import pandas as pd\n",
    "import re\n",
    "import numpy as np\n",
    "from datetime import datetime as dt\n",
    "from sklearn.preprocessing import StandardScaler"
   ]
  },
  {
   "cell_type": "code",
   "execution_count": 97,
   "metadata": {},
   "outputs": [],
   "source": [
    "df_train = pd.read_csv('main_task.csv')\n",
    "df_test = pd.read_csv('kaggle_task.csv')\n",
    "sample_submission = pd.read_csv('sample_submission.csv')\n",
    "\n",
    "\n",
    "df_train['sample'] = 1 # помечаем где у нас трейн\n",
    "df_test['sample'] = 0 # помечаем где у нас тест\n",
    "df_test['Rating'] = 0 # в тесте у нас нет значения Rating, мы его должны предсказать, по этому пока просто заполняем нулями\n",
    "\n",
    "df = df_test.append(df_train, sort=False).reset_index(drop=True) # объединяем"
   ]
  },
  {
   "cell_type": "code",
   "execution_count": 72,
   "metadata": {},
   "outputs": [
    {
     "data": {
      "text/plain": [
       "13094"
      ]
     },
     "metadata": {},
     "output_type": "display_data"
    },
    {
     "data": {
      "text/plain": [
       "31"
      ]
     },
     "metadata": {},
     "output_type": "display_data"
    },
    {
     "data": {
      "text/plain": [
       "10732"
      ]
     },
     "metadata": {},
     "output_type": "display_data"
    },
    {
     "data": {
      "text/plain": [
       "12975"
      ]
     },
     "metadata": {},
     "output_type": "display_data"
    },
    {
     "data": {
      "text/plain": [
       "4"
      ]
     },
     "metadata": {},
     "output_type": "display_data"
    },
    {
     "data": {
      "text/plain": [
       "1574"
      ]
     },
     "metadata": {},
     "output_type": "display_data"
    },
    {
     "data": {
      "text/plain": [
       "41858"
      ]
     },
     "metadata": {},
     "output_type": "display_data"
    },
    {
     "data": {
      "text/plain": [
       "49963"
      ]
     },
     "metadata": {},
     "output_type": "display_data"
    },
    {
     "data": {
      "text/plain": [
       "49963"
      ]
     },
     "metadata": {},
     "output_type": "display_data"
    },
    {
     "data": {
      "text/plain": [
       "2"
      ]
     },
     "metadata": {},
     "output_type": "display_data"
    },
    {
     "data": {
      "text/plain": [
       "10"
      ]
     },
     "metadata": {},
     "output_type": "display_data"
    }
   ],
   "source": [
    "# Ваш код по очистке данных и генерации новых признаков\n",
    "# При необходимости добавьте ячейкиdata.sample(5)\n",
    "\n",
    "for i in list(df.columns):\n",
    "    display(len(df[i].unique()))\n",
    "\n",
    "#Так как уникальных значений ID_TA и URL_TA меньше 50000, данные могут содержать дубликаты\n",
    "\n",
    "#Создание DF содежащего дубликаты по признаку ID_TA\n",
    "duplicates=df[df.ID_TA.duplicated() == True].sort_values(by ='ID_TA')\n",
    "duplicates\n",
    "\n",
    "duplicates.City.unique()\n",
    "\n",
    "#Судя по всему, данные задвоеннны по City == Madrid|City == Warsaw\n",
    "\n",
    "difference_check = []\n",
    "for i in list(duplicates.ID_TA):\n",
    "    # Ниже вычисление разницы в целевой переменной для дубликатов\n",
    "    dif = list(df[df.ID_TA == i].Rating)[0] - list(df[df.ID_TA == i].Rating)[1]\n",
    "    difference_check.append(dif)\n",
    "difference_check\n",
    "\n",
    "duplicates.Rating.value_counts()\n",
    "\n",
    "#Разница в целевой переменной между дублями варируется в том же диапазоне, что и переменная в срезе\n",
    "\n",
    "df[df.ID_TA == duplicates.ID_TA.iloc[0]]\n",
    "\n",
    "df[df.ID_TA == duplicates.ID_TA.iloc[1]]\n",
    "\n",
    "#Судя по всему, разница между некоторыми дублями объясняется тем, что они распределены между файлами kaggle_task и main_task.\n",
    "\n",
    "#Имеет смысл создать переменную, которая обозначит, что у строки есть дубль\n",
    "\n",
    "### 1. Отметка дубликатов\n",
    "\n",
    "# Помечаем новыми пизнаками превые и последние дубликаты\n",
    "df['1'] = df.ID_TA.duplicated(keep='first')\n",
    "df['2'] = df.ID_TA.duplicated(keep='last')\n",
    "\n",
    "# Функция обрабатывает всмогательные столюцы и возвращает 1 для строк имеющих дубли\n",
    "def duplicate(row):\n",
    "    result = 0\n",
    "    if row['1'] == True:\n",
    "        result = 1\n",
    "    elif row['2'] == True:\n",
    "        result = 1\n",
    "    return result\n",
    "\n",
    "# Применение функции\n",
    "df['has_duplicate'] = df.apply(duplicate, axis = 1)\n",
    "\n",
    "# Удаление вспомогательных столбцов\n",
    "df.drop(['1','2'], axis = 'columns', inplace = True)"
   ]
  },
  {
   "cell_type": "code",
   "execution_count": 73,
   "metadata": {},
   "outputs": [],
   "source": [
    "id_vc = df.groupby(['Restaurant_id']).Ranking.count()\n",
    "df['id_amount'] = df.Restaurant_id.apply(lambda x: id_vc[x])"
   ]
  },
  {
   "cell_type": "code",
   "execution_count": 37,
   "metadata": {},
   "outputs": [],
   "source": [
    "def reviews_date(rew, count):\n",
    "    date = re.findall(r'\\d\\d?/\\d\\d?/\\d+', str(rew))\n",
    "    if len(date) == 0:\n",
    "        return np.nan\n",
    "    if count == 1:\n",
    "        return pd.to_datetime(date[0])\n",
    "    elif len(date) == 2:\n",
    "        return pd.to_datetime(date[1])\n",
    "    else:\n",
    "        return np.nan\n",
    "\n",
    "\n",
    "def reviews_text(rew, count):\n",
    "    if rew == 0:\n",
    "        return 'No review'\n",
    "    date = re.findall(r'(\\'\\D+?\\')', str(rew))\n",
    "    if len(date) == 0:\n",
    "        return 'No review'\n",
    "    if count == 1:\n",
    "        return date[0]\n",
    "    elif len(date) > 1 and count == 2:\n",
    "        return date[1]\n",
    "    else:\n",
    "        return np.nan\n",
    "\n",
    "\n",
    "def review_to_numb(rew):\n",
    "    if rew == 'No review':\n",
    "        return 0\n",
    "    for i in rew:\n",
    "        if i in positive_list:\n",
    "            return 1\n",
    "        elif i in negative_list:\n",
    "            return -1\n",
    "        else:\n",
    "            return 0\n",
    "\n",
    "\n",
    "def num_years(begin, end=None):\n",
    "    if end is None:\n",
    "        end = dt.now()\n",
    "    if begin == 0:\n",
    "        return 0\n",
    "    delta_time = round(((end - begin).days / 365.25), 2)\n",
    "    if delta_time > 10:\n",
    "        return 0\n",
    "    else:\n",
    "        return delta_time\n",
    "\n",
    "\n",
    "def for_city(rew, city):\n",
    "    if rew in city:\n",
    "        return rew\n",
    "    else:\n",
    "        return 'others'\n",
    "\n",
    "\n",
    "def cuisine_func(rew, cuisine):\n",
    "    if rew == 0:\n",
    "        return 0\n",
    "    for i in rew:\n",
    "        count = 0\n",
    "        if i in cuisine:\n",
    "            count += 1\n",
    "    if count > 0:\n",
    "        return 1\n",
    "    else:\n",
    "        return 0\n",
    "\n",
    "\n",
    "def fill_cuisine_nan(rew, cuisine):\n",
    "    if rew == 0:\n",
    "        return 1\n",
    "    for i in rew:\n",
    "        count = 0\n",
    "        if i in cuisine:\n",
    "            count += 1\n",
    "    if count > 0:\n",
    "        return 1\n",
    "    else:\n",
    "        return 0"
   ]
  },
  {
   "cell_type": "code",
   "execution_count": 12,
   "metadata": {},
   "outputs": [
    {
     "data": {
      "text/html": [
       "<div>\n",
       "<style scoped>\n",
       "    .dataframe tbody tr th:only-of-type {\n",
       "        vertical-align: middle;\n",
       "    }\n",
       "\n",
       "    .dataframe tbody tr th {\n",
       "        vertical-align: top;\n",
       "    }\n",
       "\n",
       "    .dataframe thead th {\n",
       "        text-align: right;\n",
       "    }\n",
       "</style>\n",
       "<table border=\"1\" class=\"dataframe\">\n",
       "  <thead>\n",
       "    <tr style=\"text-align: right;\">\n",
       "      <th></th>\n",
       "      <th>Restaurant_id</th>\n",
       "      <th>City</th>\n",
       "      <th>Cuisine Style</th>\n",
       "      <th>Ranking</th>\n",
       "      <th>Price Range</th>\n",
       "      <th>Number of Reviews</th>\n",
       "      <th>Reviews</th>\n",
       "      <th>URL_TA</th>\n",
       "      <th>ID_TA</th>\n",
       "      <th>sample</th>\n",
       "      <th>Rating</th>\n",
       "      <th>has_duplicate</th>\n",
       "      <th>id_amount</th>\n",
       "    </tr>\n",
       "  </thead>\n",
       "  <tbody>\n",
       "    <tr>\n",
       "      <th>16090</th>\n",
       "      <td>id_534</td>\n",
       "      <td>Barcelona</td>\n",
       "      <td>['Mediterranean', 'European', 'Spanish', 'Vege...</td>\n",
       "      <td>535.0</td>\n",
       "      <td>$</td>\n",
       "      <td>422.0</td>\n",
       "      <td>[['Lovely find', 'Good choice for lunch in Bar...</td>\n",
       "      <td>/Restaurant_Review-g187497-d717389-Reviews-Res...</td>\n",
       "      <td>d717389</td>\n",
       "      <td>1</td>\n",
       "      <td>4.0</td>\n",
       "      <td>0</td>\n",
       "      <td>18</td>\n",
       "    </tr>\n",
       "    <tr>\n",
       "      <th>4885</th>\n",
       "      <td>id_4885</td>\n",
       "      <td>Amsterdam</td>\n",
       "      <td>['Sushi', 'Asian', 'Vietnamese', 'Japanese', '...</td>\n",
       "      <td>2394.0</td>\n",
       "      <td>$$ - $$$</td>\n",
       "      <td>28.0</td>\n",
       "      <td>[['Good sushi 🍥 for a good price.', 'Amaizing ...</td>\n",
       "      <td>/Restaurant_Review-g188590-d5966364-Reviews-Su...</td>\n",
       "      <td>d5966364</td>\n",
       "      <td>0</td>\n",
       "      <td>0.0</td>\n",
       "      <td>0</td>\n",
       "      <td>5</td>\n",
       "    </tr>\n",
       "    <tr>\n",
       "      <th>41623</th>\n",
       "      <td>id_1533</td>\n",
       "      <td>Rome</td>\n",
       "      <td>['Italian', 'Mediterranean', 'Vegetarian Frien...</td>\n",
       "      <td>1534.0</td>\n",
       "      <td>$$ - $$$</td>\n",
       "      <td>609.0</td>\n",
       "      <td>[['Still holding its own with good food simpl....</td>\n",
       "      <td>/Restaurant_Review-g187791-d1034669-Reviews-Tr...</td>\n",
       "      <td>d1034669</td>\n",
       "      <td>1</td>\n",
       "      <td>4.0</td>\n",
       "      <td>0</td>\n",
       "      <td>13</td>\n",
       "    </tr>\n",
       "  </tbody>\n",
       "</table>\n",
       "</div>"
      ],
      "text/plain": [
       "      Restaurant_id       City  \\\n",
       "16090        id_534  Barcelona   \n",
       "4885        id_4885  Amsterdam   \n",
       "41623       id_1533       Rome   \n",
       "\n",
       "                                           Cuisine Style  Ranking Price Range  \\\n",
       "16090  ['Mediterranean', 'European', 'Spanish', 'Vege...    535.0           $   \n",
       "4885   ['Sushi', 'Asian', 'Vietnamese', 'Japanese', '...   2394.0    $$ - $$$   \n",
       "41623  ['Italian', 'Mediterranean', 'Vegetarian Frien...   1534.0    $$ - $$$   \n",
       "\n",
       "       Number of Reviews                                            Reviews  \\\n",
       "16090              422.0  [['Lovely find', 'Good choice for lunch in Bar...   \n",
       "4885                28.0  [['Good sushi 🍥 for a good price.', 'Amaizing ...   \n",
       "41623              609.0  [['Still holding its own with good food simpl....   \n",
       "\n",
       "                                                  URL_TA     ID_TA  sample  \\\n",
       "16090  /Restaurant_Review-g187497-d717389-Reviews-Res...   d717389       1   \n",
       "4885   /Restaurant_Review-g188590-d5966364-Reviews-Su...  d5966364       0   \n",
       "41623  /Restaurant_Review-g187791-d1034669-Reviews-Tr...  d1034669       1   \n",
       "\n",
       "       Rating  has_duplicate  id_amount  \n",
       "16090     4.0              0         18  \n",
       "4885      0.0              0          5  \n",
       "41623     4.0              0         13  "
      ]
     },
     "execution_count": 12,
     "metadata": {},
     "output_type": "execute_result"
    }
   ],
   "source": [
    "df.sample(3)"
   ]
  },
  {
   "cell_type": "code",
   "execution_count": 38,
   "metadata": {},
   "outputs": [],
   "source": [
    "df = df.drop('URL_TA', axis = 1)\n",
    "df = df.drop('ID_TA', axis = 1)\n",
    "df = df.drop('Restaurant_id', axis = 1)"
   ]
  },
  {
   "cell_type": "code",
   "execution_count": 15,
   "metadata": {},
   "outputs": [
    {
     "data": {
      "text/html": [
       "<div>\n",
       "<style scoped>\n",
       "    .dataframe tbody tr th:only-of-type {\n",
       "        vertical-align: middle;\n",
       "    }\n",
       "\n",
       "    .dataframe tbody tr th {\n",
       "        vertical-align: top;\n",
       "    }\n",
       "\n",
       "    .dataframe thead th {\n",
       "        text-align: right;\n",
       "    }\n",
       "</style>\n",
       "<table border=\"1\" class=\"dataframe\">\n",
       "  <thead>\n",
       "    <tr style=\"text-align: right;\">\n",
       "      <th></th>\n",
       "      <th>City</th>\n",
       "      <th>Cuisine Style</th>\n",
       "      <th>Ranking</th>\n",
       "      <th>Price Range</th>\n",
       "      <th>Number of Reviews</th>\n",
       "      <th>Reviews</th>\n",
       "      <th>sample</th>\n",
       "      <th>Rating</th>\n",
       "      <th>has_duplicate</th>\n",
       "      <th>id_amount</th>\n",
       "    </tr>\n",
       "  </thead>\n",
       "  <tbody>\n",
       "    <tr>\n",
       "      <th>49967</th>\n",
       "      <td>Paris</td>\n",
       "      <td>['French', 'European', 'Gastropub', 'Vegetaria...</td>\n",
       "      <td>1154.0</td>\n",
       "      <td>$$ - $$$</td>\n",
       "      <td>98.0</td>\n",
       "      <td>[['Cozy bistro with great food and warm servi....</td>\n",
       "      <td>1</td>\n",
       "      <td>4.5</td>\n",
       "      <td>0</td>\n",
       "      <td>8</td>\n",
       "    </tr>\n",
       "    <tr>\n",
       "      <th>17518</th>\n",
       "      <td>Paris</td>\n",
       "      <td>['French']</td>\n",
       "      <td>11735.0</td>\n",
       "      <td>$</td>\n",
       "      <td>24.0</td>\n",
       "      <td>[['Poor service and average food', 'Cocktails ...</td>\n",
       "      <td>1</td>\n",
       "      <td>3.5</td>\n",
       "      <td>0</td>\n",
       "      <td>1</td>\n",
       "    </tr>\n",
       "    <tr>\n",
       "      <th>23061</th>\n",
       "      <td>Amsterdam</td>\n",
       "      <td>['Fast Food', 'Middle Eastern', 'Vegetarian Fr...</td>\n",
       "      <td>1171.0</td>\n",
       "      <td>$</td>\n",
       "      <td>103.0</td>\n",
       "      <td>[['Best falafel in the world', 'Falafel specia...</td>\n",
       "      <td>1</td>\n",
       "      <td>4.5</td>\n",
       "      <td>0</td>\n",
       "      <td>13</td>\n",
       "    </tr>\n",
       "  </tbody>\n",
       "</table>\n",
       "</div>"
      ],
      "text/plain": [
       "            City                                      Cuisine Style  Ranking  \\\n",
       "49967      Paris  ['French', 'European', 'Gastropub', 'Vegetaria...   1154.0   \n",
       "17518      Paris                                         ['French']  11735.0   \n",
       "23061  Amsterdam  ['Fast Food', 'Middle Eastern', 'Vegetarian Fr...   1171.0   \n",
       "\n",
       "      Price Range  Number of Reviews  \\\n",
       "49967    $$ - $$$               98.0   \n",
       "17518           $               24.0   \n",
       "23061           $              103.0   \n",
       "\n",
       "                                                 Reviews  sample  Rating  \\\n",
       "49967  [['Cozy bistro with great food and warm servi....       1     4.5   \n",
       "17518  [['Poor service and average food', 'Cocktails ...       1     3.5   \n",
       "23061  [['Best falafel in the world', 'Falafel specia...       1     4.5   \n",
       "\n",
       "       has_duplicate  id_amount  \n",
       "49967              0          8  \n",
       "17518              0          1  \n",
       "23061              0         13  "
      ]
     },
     "execution_count": 15,
     "metadata": {},
     "output_type": "execute_result"
    }
   ],
   "source": [
    "df.sample(3)"
   ]
  },
  {
   "cell_type": "code",
   "execution_count": 74,
   "metadata": {},
   "outputs": [],
   "source": [
    "df.Reviews.fillna(df.Reviews.value_counts().index[0], inplace = True)\n",
    "df.Reviews = df.Reviews.apply(lambda x: x.replace('[[], []]', ''))\n",
    "df.Reviews = df.Reviews.replace('', np.nan, regex=True)\n",
    "df.Reviews = df.Reviews.fillna(0)\n",
    "\n",
    "df['reviews_text_1'] = df['Reviews'].apply(lambda x: reviews_text(x, 1))\n",
    "df['reviews_text_1'] = df['reviews_text_1'].apply(lambda x: str(x).replace(\"'\", \"\"))\n",
    "df['reviews_text_1'] = df['reviews_text_1'].apply(lambda x: x.lower())\n",
    "df['reviews_text_1'] = df['reviews_text_1'].apply(lambda x: x.split(' '))\n",
    "\n",
    "df['reviews_text_2'] = df['Reviews'].apply(lambda x: reviews_text(x, 2))\n",
    "df['reviews_text_2'] = df['reviews_text_2'].apply(lambda x: str(x).replace(\"'\", \"\"))\n",
    "df['reviews_text_2'] = df['reviews_text_2'].apply(lambda x: x.lower())\n",
    "df['reviews_text_2'] = df['reviews_text_2'].apply(lambda x: x.split(' '))\n",
    "\n",
    "positive = pd.read_excel('adjectives.xlsx', sheet_name = 'Sheet1', header = None)\n",
    "positive = positive.apply(lambda x: x.str.lower())\n",
    "positive_list = positive[0].to_list()\n",
    "\n",
    "negative = pd.read_excel('adjectives.xlsx', sheet_name = 'Sheet2', header = None)\n",
    "negative = negative.apply(lambda x: x.str.lower())\n",
    "negative_list = negative[0].to_list()\n",
    "\n",
    "df['reviews_text_1'] = df.reviews_text_1.apply(lambda x: review_to_numb(x))\n",
    "df['reviews_text_2'] = df.reviews_text_2.apply(lambda x: review_to_numb(x))\n",
    "\n",
    "\n",
    "df['Reviews_time_1'] = df['Reviews'].apply(lambda x: reviews_date(x, 1))\n",
    "df['Reviews_time_1'] = df['Reviews_time_1'].fillna(0)\n",
    "df['Reviews_time_1'] = df['Reviews_time_1'].apply(lambda x: num_years(x))\n",
    "\n",
    "df['Reviews_time_2'] = df['Reviews'].apply(lambda x: reviews_date(x, 2))\n",
    "df['Reviews_time_2'] = df['Reviews_time_2'].fillna(0)\n",
    "df['Reviews_time_2'] = df['Reviews_time_2'].apply(lambda x: num_years(x))"
   ]
  },
  {
   "cell_type": "code",
   "execution_count": 75,
   "metadata": {},
   "outputs": [],
   "source": [
    "scaler = StandardScaler()\n",
    "test = scaler.fit_transform(np.array(df['Ranking']).reshape(-1,1))\n",
    "df['Ranking'] = pd.Series(list((test)))\n",
    "df['Ranking'] = df['Ranking'].apply(lambda x: x[0])"
   ]
  },
  {
   "cell_type": "code",
   "execution_count": 76,
   "metadata": {},
   "outputs": [],
   "source": [
    "df['Number of Reviews'] = df['Number of Reviews'].fillna(0, inplace = True)\n",
    "test_1 = scaler.fit_transform(np.array(df['Number of Reviews']).reshape(-1,1))\n",
    "df['Number of Reviews'] = pd.Series(list((test_1)))\n",
    "df['Number of Reviews'] = df['Number of Reviews'].apply(lambda x: x[0])"
   ]
  },
  {
   "cell_type": "code",
   "execution_count": 116,
   "metadata": {},
   "outputs": [
    {
     "data": {
      "text/plain": [
       "0          4.0\n",
       "1         97.0\n",
       "2         28.0\n",
       "3        202.0\n",
       "4        162.0\n",
       "         ...  \n",
       "49995     79.0\n",
       "49996    542.0\n",
       "49997      4.0\n",
       "49998     70.0\n",
       "49999    260.0\n",
       "Name: Number of Reviews, Length: 50000, dtype: float64"
      ]
     },
     "execution_count": 116,
     "metadata": {},
     "output_type": "execute_result"
    }
   ],
   "source": [
    "df['Number of Reviews']"
   ]
  },
  {
   "cell_type": "code",
   "execution_count": 77,
   "metadata": {},
   "outputs": [],
   "source": [
    "popular_city = df.City.value_counts()\n",
    "popular_city = popular_city.loc[popular_city > 500].index.tolist()\n",
    "\n",
    "df['City'] = df['City'].apply(lambda x: for_city(x, popular_city))\n",
    "df_cities = pd.get_dummies(df['City'])\n",
    "df = pd.concat([df_cities, df], axis = 1)"
   ]
  },
  {
   "cell_type": "code",
   "execution_count": 78,
   "metadata": {},
   "outputs": [
    {
     "name": "stdout",
     "output_type": "stream",
     "text": [
      "veg 14592 \n",
      "mediterranean 2177 \n",
      "asian 3273 \n",
      "fastfood 1795 \n",
      "american 1607 \n",
      "african 265 \n",
      "europ 22306 \n",
      "alco 2018 \n",
      "other_cusine 1967\n"
     ]
    }
   ],
   "source": [
    "df['Cuisine Style'] = df['Cuisine Style'].str.findall(r'\\w+\\s*\\w*\\s*\\w*')\n",
    "df['Cuisine Style'] = df['Cuisine Style'].fillna(0)\n",
    "\n",
    "\n",
    "veg = ['Vegetarian Friendly',\n",
    "       'Vegan Options',\n",
    "       'Gluten Free Options',\n",
    "       'Healthy']\n",
    "europ = ['European', 'Italian', 'French', 'Spanish',\n",
    "         'British', 'Central European', 'German', 'Greek',\n",
    "         'Halal', 'Czech', 'Eastern European', 'Austrian',\n",
    "         'Polish', 'Hungarian', 'Scandinavian', 'Lebanese',\n",
    "         'Dutch', 'Irish', 'Belgian', 'Swiss', 'Danish',\n",
    "         'Swedish', 'Argentinean', 'Scottish', 'Ukrainian',\n",
    "         'Norwegian', 'Slovenian', 'Russian', 'Portuguese', 'Australian',\n",
    "         'Croatian', 'Singaporean', 'Romanian', 'Latvian']\n",
    "mediterranean = ['Mediterranean', 'Seafood', 'Turkish', 'Delicatessen',\n",
    "                 'Caribbean', 'New Zealand', 'Indonesian', 'Tunisian',\n",
    "                 'Hawaiian', 'Malaysian', 'Cuban', 'Taiwanese', 'Jamaican',\n",
    "                 'Sri Lankan', 'Filipino', 'Polynesian', 'Fujian']\n",
    "asian = ['Asian', 'Japanese', 'Sushi', 'Chinese',  'Indian', 'Thai',\n",
    "         'Vietnamese', 'Mexican',  'Korean', 'Pakistani',  'Caucasian',\n",
    "         'Uzbek', 'Minority Chinese',  'Armenian', 'Central Asian',\n",
    "         'Georgian', 'Israeli', 'Tibetan', 'Mongolian', 'Albanian', 'Azerbaijani']\n",
    "fastfood = ['Pizza', 'Fast Food', 'Street Food']\n",
    "american = ['Middle Eastern', 'American', 'Steakhouse', 'Barbecue', 'Grill', 'Gastropub',\n",
    "            'South American', 'Latin', 'Central American', 'Brazilian', 'Colombian',\n",
    "            'Chilean', 'Southwestern', 'Canadian', 'Native American']\n",
    "african = ['African', 'Moroccan', 'Peruvian', 'Nepali', 'Balti', 'Bangladeshi', 'Persian',\n",
    "           'Arabic', 'Kosher', 'Ethiopian', 'Venezuelan', 'Egyptian', 'Cajun ', 'Cambodian', 'Ecuadorean']\n",
    "alco = ['Bar', 'Pub', 'Wine Bar', 'Brew Pub']\n",
    "other_cusine = ['International', 'Cafe', 'Fusion', 'Soups', 'Contemporary',\n",
    "                'Diner', 'Afghani', 'Creole', 'Welsh', 'Burmese', 'Yunnan', 'Salvadoran', 'Xinjiang']\n",
    "\n",
    "df['veg'] = df['Cuisine Style'].apply(lambda x: cuisine_func(x, veg))\n",
    "df['mediterranean'] = df['Cuisine Style'].apply(\n",
    "    lambda x: cuisine_func(x, mediterranean))\n",
    "df['asian'] = df['Cuisine Style'].apply(lambda x: cuisine_func(x, asian))\n",
    "df['fastfood'] = df['Cuisine Style'].apply(lambda x: cuisine_func(x, fastfood))\n",
    "df['american'] = df['Cuisine Style'].apply(lambda x: cuisine_func(x, american))\n",
    "df['african'] = df['Cuisine Style'].apply(lambda x: cuisine_func(x, african))\n",
    "df['europ'] = df['Cuisine Style'].apply(lambda x: fill_cuisine_nan(x, europ))\n",
    "df['alco'] = df['Cuisine Style'].apply(lambda x: cuisine_func(x, alco))\n",
    "df['other_cusine'] = df['Cuisine Style'].apply(\n",
    "    lambda x: cuisine_func(x, other_cusine))\n",
    "\n",
    "table = pd.pivot_table(df,\n",
    "                       values=['veg', 'mediterranean', 'asian',\n",
    "                               'fastfood', 'american', 'african',\n",
    "                               'europ', 'alco', 'other_cusine'],\n",
    "                       index='City',\n",
    "                       aggfunc=np.sum)\n",
    "\n",
    "print('veg', df.veg.sum(), '\\n'\n",
    "      'mediterranean', df.mediterranean.sum(), '\\n'\n",
    "      'asian', df.asian.sum(), '\\n'\n",
    "      'fastfood', df.fastfood.sum(), '\\n'\n",
    "      'american',  df.american.sum(), '\\n'\n",
    "      'african', df.african.sum(), '\\n'\n",
    "      'europ', df.europ.sum(), '\\n'\n",
    "      'alco', df.alco.sum(), '\\n'\n",
    "      'other_cusine', df.other_cusine.sum())"
   ]
  },
  {
   "cell_type": "code",
   "execution_count": 93,
   "metadata": {},
   "outputs": [],
   "source": [
    "def fix_price_range(x):\n",
    "    if x == None:\n",
    "        return np.nan\n",
    "    if x == '$':\n",
    "        return 1\n",
    "    if x == '$$ - $$$':\n",
    "        return 2.5\n",
    "    if x == '$$$$':\n",
    "        return 4"
   ]
  },
  {
   "cell_type": "code",
   "execution_count": 80,
   "metadata": {},
   "outputs": [
    {
     "data": {
      "text/plain": [
       "Index(['Amsterdam', 'Athens', 'Barcelona', 'Berlin', 'Brussels', 'Budapest',\n",
       "       'Copenhagen', 'Dublin', 'Edinburgh', 'Geneva', 'Hamburg', 'Krakow',\n",
       "       'Lisbon', 'London', 'Lyon', 'Madrid', 'Milan', 'Munich', 'Oporto',\n",
       "       'Paris', 'Prague', 'Rome', 'Stockholm', 'Vienna', 'Warsaw', 'Zurich',\n",
       "       'others', 'Ranking', 'Price Range', 'Number of Reviews', 'sample',\n",
       "       'Rating', 'has_duplicate', 'id_amount', 'reviews_text_1',\n",
       "       'reviews_text_2', 'Reviews_time_1', 'Reviews_time_2', 'veg',\n",
       "       'mediterranean', 'asian', 'fastfood', 'american', 'african', 'europ',\n",
       "       'alco', 'other_cusine'],\n",
       "      dtype='object')"
      ]
     },
     "execution_count": 80,
     "metadata": {},
     "output_type": "execute_result"
    }
   ],
   "source": [
    "object_columns = [s for s in df.columns if df[s].dtypes == 'object']\n",
    "df.drop(object_columns, axis = 1, inplace=True)\n",
    "df.columns"
   ]
  },
  {
   "cell_type": "code",
   "execution_count": 101,
   "metadata": {},
   "outputs": [],
   "source": [
    "df_train = pd.read_csv('main_task.csv')\n",
    "df_test = pd.read_csv('kaggle_task.csv')\n",
    "df_train['sample'] = 1 # помечаем где у нас трейн\n",
    "df_test['sample'] = 0 # помечаем где у нас тест\n",
    "df_test['Rating'] = 0 # в тесте у нас нет значения Rating, мы его должны предсказать, по этому пока просто заполняем нулями\n",
    "\n",
    "data = df_test.append(df_train, sort=False).reset_index(drop=True) # объединяем"
   ]
  },
  {
   "cell_type": "code",
   "execution_count": 104,
   "metadata": {},
   "outputs": [],
   "source": [
    "def preproc_data(df_input):\n",
    "    '''includes several functions to pre-process the predictor data.'''\n",
    "    \n",
    "    df_output = df_input.copy()\n",
    "    \n",
    "    # ################### 1. Предобработка ############################################################## \n",
    "    # убираем не нужные для модели признаки\n",
    "    df_output.drop(['Restaurant_id','ID_TA',], axis = 1, inplace=True)\n",
    "    \n",
    "    \n",
    "    # ################### 2. NAN ############################################################## \n",
    "    # Далее заполняем пропуски, вы можете попробовать заполнением средним или средним по городу и тд...\n",
    "    #df_output['Number_of_Reviews_isNAN'] = pd.isna(df_output['Number of Reviews']).astype('uint8')\n",
    "    # Далее заполняем пропуски 0, вы можете попробовать заполнением средним или средним по городу и тд...\n",
    "    df_output['Number of Reviews'].fillna(0, inplace=True)\n",
    "    df_output['Cuisine Style'].fillna('European', inplace=True)\n",
    "    \n",
    "    citys = df_output.City.value_counts()\n",
    "    #df_output.City = df_output.City.apply(lambda x: x if citys[x]>100 else np.nan)\n",
    "    # ################### 3. Encoding ############################################################## \n",
    "    # для One-Hot Encoding в pandas есть готовая функция - get_dummies. Особенно радует параметр dummy_na\n",
    "    df_output = pd.get_dummies(df_output, columns=['City'], dummy_na=True) #, 'Price Range'\n",
    "    \n",
    "    def fix_price_range(x):\n",
    "        if x == None:\n",
    "            return np.nan\n",
    "        if x == '$':\n",
    "            return 1\n",
    "        if x == '$$ - $$$':\n",
    "            return 2.5\n",
    "        if x == '$$$$':\n",
    "            return 4\n",
    "    \n",
    "    df_output['Price Range'] = df_output['Price Range'].apply(lambda x: fix_price_range(x))\n",
    "    df_output['Price Range'] = df_output['Price Range'].fillna(round(df_output['Price Range'].mean(), 1))\n",
    "        \n",
    "    # ################### 4. Feature Engineering ####################################################\n",
    "    cuisine = set()\n",
    "    \n",
    "    df_output['Cuisine Style'] = df_output['Cuisine Style'].str.findall('\\w+\\s*\\w*\\s*\\w*')\n",
    "\n",
    "    cuisines = set()  # создаём пустое множество для хранения уникальных значений кухонь\n",
    "    for cuisinesList in df_output['Cuisine Style']:\n",
    "        for cuisine in cuisinesList:\n",
    "            cuisines.add(cuisine)\n",
    "\n",
    "\n",
    "    def find_item(cell):\n",
    "        if item in cell:\n",
    "            return 1\n",
    "        return 0\n",
    "\n",
    "\n",
    "    for item in cuisines:\n",
    "        df_output[item] = df_output['Cuisine Style'].apply(find_item)\n",
    "\n",
    "    # Добавляем признак - количество кухонь\n",
    "    df_output['Cuisine Count'] = df_output['Cuisine Style'].apply(lambda x: len(x))\n",
    "    \n",
    "    \n",
    "    df_output.Reviews.fillna(df_output.Reviews.value_counts().index[0], inplace = True)\n",
    "    df_output.Reviews = df_output.Reviews.apply(lambda x: x.replace('[[], []]', ''))\n",
    "    df_output.Reviews = df_output.Reviews.replace('', np.nan, regex=True)\n",
    "    df_output.Reviews = df_output.Reviews.fillna(0)\n",
    "\n",
    "    df_output['reviews_text_1'] = df_output['Reviews'].apply(lambda x: reviews_text(x, 1))\n",
    "    df_output['reviews_text_1'] = df_output['reviews_text_1'].apply(lambda x: str(x).replace(\"'\", \"\"))\n",
    "    df_output['reviews_text_1'] = df_output['reviews_text_1'].apply(lambda x: x.lower())\n",
    "    df_output['reviews_text_1'] = df_output['reviews_text_1'].apply(lambda x: x.split(' '))\n",
    "\n",
    "    df_output['reviews_text_2'] = df_output['Reviews'].apply(lambda x: reviews_text(x, 2))\n",
    "    df_output['reviews_text_2'] = df_output['reviews_text_2'].apply(lambda x: str(x).replace(\"'\", \"\"))\n",
    "    df_output['reviews_text_2'] = df_output['reviews_text_2'].apply(lambda x: x.lower())\n",
    "    df_output['reviews_text_2'] = df_output['reviews_text_2'].apply(lambda x: x.split(' '))\n",
    "\n",
    "    positive = pd.read_excel('adjectives.xlsx', sheet_name = 'Sheet1', header = None)\n",
    "    positive = positive.apply(lambda x: x.str.lower())\n",
    "    positive_list = positive[0].to_list()\n",
    "\n",
    "    negative = pd.read_excel('adjectives.xlsx', sheet_name = 'Sheet2', header = None)\n",
    "    negative = negative.apply(lambda x: x.str.lower())\n",
    "    negative_list = negative[0].to_list()\n",
    "\n",
    "    df_output['reviews_text_1'] = df_output.reviews_text_1.apply(lambda x: review_to_numb(x))\n",
    "    df_output['reviews_text_2'] = df_output.reviews_text_2.apply(lambda x: review_to_numb(x))\n",
    "\n",
    "\n",
    "    df_output['Reviews_time_1'] = df_output['Reviews'].apply(lambda x: reviews_date(x, 1))\n",
    "    df_output['Reviews_time_1'] = df_output['Reviews_time_1'].fillna(0)\n",
    "    df_output['Reviews_time_1'] = df_output['Reviews_time_1'].apply(lambda x: num_years(x))\n",
    "\n",
    "    df_output['Reviews_time_2'] = df_output['Reviews'].apply(lambda x: reviews_date(x, 2))\n",
    "    df_output['Reviews_time_2'] = df_output['Reviews_time_2'].fillna(0)\n",
    "    df_output['Reviews_time_2'] = df_output['Reviews_time_2'].apply(lambda x: num_years(x))\n",
    "    \n",
    "    # ################### 5. Clean #################################################### \n",
    "    # убираем признаки которые еще не успели обработать, \n",
    "    # модель на признаках с dtypes \"object\" обучаться не будет, просто выберим их и удалим\n",
    "    object_columns = [s for s in df_output.columns if df_output[s].dtypes == 'object']\n",
    "    df_output.drop(object_columns, axis = 1, inplace=True)\n",
    "    \n",
    "    return df_output"
   ]
  },
  {
   "cell_type": "code",
   "execution_count": 105,
   "metadata": {},
   "outputs": [
    {
     "data": {
      "text/html": [
       "<div>\n",
       "<style scoped>\n",
       "    .dataframe tbody tr th:only-of-type {\n",
       "        vertical-align: middle;\n",
       "    }\n",
       "\n",
       "    .dataframe tbody tr th {\n",
       "        vertical-align: top;\n",
       "    }\n",
       "\n",
       "    .dataframe thead th {\n",
       "        text-align: right;\n",
       "    }\n",
       "</style>\n",
       "<table border=\"1\" class=\"dataframe\">\n",
       "  <thead>\n",
       "    <tr style=\"text-align: right;\">\n",
       "      <th></th>\n",
       "      <th>Ranking</th>\n",
       "      <th>Price Range</th>\n",
       "      <th>Number of Reviews</th>\n",
       "      <th>sample</th>\n",
       "      <th>Rating</th>\n",
       "      <th>City_Amsterdam</th>\n",
       "      <th>City_Athens</th>\n",
       "      <th>City_Barcelona</th>\n",
       "      <th>City_Berlin</th>\n",
       "      <th>City_Bratislava</th>\n",
       "      <th>...</th>\n",
       "      <th>Turkish</th>\n",
       "      <th>Afghani</th>\n",
       "      <th>Gluten Free Options</th>\n",
       "      <th>South American</th>\n",
       "      <th>Caribbean</th>\n",
       "      <th>Cuisine Count</th>\n",
       "      <th>reviews_text_1</th>\n",
       "      <th>reviews_text_2</th>\n",
       "      <th>Reviews_time_1</th>\n",
       "      <th>Reviews_time_2</th>\n",
       "    </tr>\n",
       "  </thead>\n",
       "  <tbody>\n",
       "    <tr>\n",
       "      <th>46947</th>\n",
       "      <td>3972.0</td>\n",
       "      <td>2.5</td>\n",
       "      <td>207.0</td>\n",
       "      <td>1</td>\n",
       "      <td>3.5</td>\n",
       "      <td>0</td>\n",
       "      <td>0</td>\n",
       "      <td>0</td>\n",
       "      <td>0</td>\n",
       "      <td>0</td>\n",
       "      <td>...</td>\n",
       "      <td>0</td>\n",
       "      <td>0</td>\n",
       "      <td>0</td>\n",
       "      <td>0</td>\n",
       "      <td>0</td>\n",
       "      <td>2</td>\n",
       "      <td>0</td>\n",
       "      <td>0</td>\n",
       "      <td>3.09</td>\n",
       "      <td>3.14</td>\n",
       "    </tr>\n",
       "    <tr>\n",
       "      <th>32686</th>\n",
       "      <td>2472.0</td>\n",
       "      <td>2.5</td>\n",
       "      <td>2.0</td>\n",
       "      <td>1</td>\n",
       "      <td>4.5</td>\n",
       "      <td>0</td>\n",
       "      <td>0</td>\n",
       "      <td>0</td>\n",
       "      <td>0</td>\n",
       "      <td>0</td>\n",
       "      <td>...</td>\n",
       "      <td>0</td>\n",
       "      <td>0</td>\n",
       "      <td>0</td>\n",
       "      <td>0</td>\n",
       "      <td>0</td>\n",
       "      <td>5</td>\n",
       "      <td>0</td>\n",
       "      <td>0</td>\n",
       "      <td>0.00</td>\n",
       "      <td>0.00</td>\n",
       "    </tr>\n",
       "    <tr>\n",
       "      <th>17986</th>\n",
       "      <td>2530.0</td>\n",
       "      <td>2.5</td>\n",
       "      <td>242.0</td>\n",
       "      <td>1</td>\n",
       "      <td>4.0</td>\n",
       "      <td>0</td>\n",
       "      <td>0</td>\n",
       "      <td>0</td>\n",
       "      <td>0</td>\n",
       "      <td>0</td>\n",
       "      <td>...</td>\n",
       "      <td>0</td>\n",
       "      <td>0</td>\n",
       "      <td>1</td>\n",
       "      <td>0</td>\n",
       "      <td>0</td>\n",
       "      <td>4</td>\n",
       "      <td>1</td>\n",
       "      <td>0</td>\n",
       "      <td>3.03</td>\n",
       "      <td>3.22</td>\n",
       "    </tr>\n",
       "    <tr>\n",
       "      <th>41049</th>\n",
       "      <td>4493.0</td>\n",
       "      <td>1.0</td>\n",
       "      <td>113.0</td>\n",
       "      <td>1</td>\n",
       "      <td>3.0</td>\n",
       "      <td>0</td>\n",
       "      <td>0</td>\n",
       "      <td>0</td>\n",
       "      <td>0</td>\n",
       "      <td>0</td>\n",
       "      <td>...</td>\n",
       "      <td>0</td>\n",
       "      <td>0</td>\n",
       "      <td>0</td>\n",
       "      <td>0</td>\n",
       "      <td>0</td>\n",
       "      <td>3</td>\n",
       "      <td>0</td>\n",
       "      <td>1</td>\n",
       "      <td>3.89</td>\n",
       "      <td>3.48</td>\n",
       "    </tr>\n",
       "    <tr>\n",
       "      <th>6017</th>\n",
       "      <td>23.0</td>\n",
       "      <td>2.5</td>\n",
       "      <td>1182.0</td>\n",
       "      <td>0</td>\n",
       "      <td>0.0</td>\n",
       "      <td>0</td>\n",
       "      <td>0</td>\n",
       "      <td>0</td>\n",
       "      <td>0</td>\n",
       "      <td>0</td>\n",
       "      <td>...</td>\n",
       "      <td>0</td>\n",
       "      <td>0</td>\n",
       "      <td>1</td>\n",
       "      <td>0</td>\n",
       "      <td>0</td>\n",
       "      <td>7</td>\n",
       "      <td>1</td>\n",
       "      <td>1</td>\n",
       "      <td>2.95</td>\n",
       "      <td>2.98</td>\n",
       "    </tr>\n",
       "  </tbody>\n",
       "</table>\n",
       "<p>5 rows × 168 columns</p>\n",
       "</div>"
      ],
      "text/plain": [
       "       Ranking  Price Range  Number of Reviews  sample  Rating  \\\n",
       "46947   3972.0          2.5              207.0       1     3.5   \n",
       "32686   2472.0          2.5                2.0       1     4.5   \n",
       "17986   2530.0          2.5              242.0       1     4.0   \n",
       "41049   4493.0          1.0              113.0       1     3.0   \n",
       "6017      23.0          2.5             1182.0       0     0.0   \n",
       "\n",
       "       City_Amsterdam  City_Athens  City_Barcelona  City_Berlin  \\\n",
       "46947               0            0               0            0   \n",
       "32686               0            0               0            0   \n",
       "17986               0            0               0            0   \n",
       "41049               0            0               0            0   \n",
       "6017                0            0               0            0   \n",
       "\n",
       "       City_Bratislava  ...  Turkish  Afghani  Gluten Free Options  \\\n",
       "46947                0  ...        0        0                    0   \n",
       "32686                0  ...        0        0                    0   \n",
       "17986                0  ...        0        0                    1   \n",
       "41049                0  ...        0        0                    0   \n",
       "6017                 0  ...        0        0                    1   \n",
       "\n",
       "       South American  Caribbean  Cuisine Count  reviews_text_1  \\\n",
       "46947               0          0              2               0   \n",
       "32686               0          0              5               0   \n",
       "17986               0          0              4               1   \n",
       "41049               0          0              3               0   \n",
       "6017                0          0              7               1   \n",
       "\n",
       "       reviews_text_2  Reviews_time_1  Reviews_time_2  \n",
       "46947               0            3.09            3.14  \n",
       "32686               0            0.00            0.00  \n",
       "17986               0            3.03            3.22  \n",
       "41049               1            3.89            3.48  \n",
       "6017                1            2.95            2.98  \n",
       "\n",
       "[5 rows x 168 columns]"
      ]
     },
     "execution_count": 105,
     "metadata": {},
     "output_type": "execute_result"
    }
   ],
   "source": [
    "df_preproc = preproc_data(data)\n",
    "df_preproc.sample(5)"
   ]
  },
  {
   "cell_type": "code",
   "execution_count": 113,
   "metadata": {},
   "outputs": [],
   "source": [
    "def round_of_rating(number):\n",
    "    return np.round(number * 2) / 2"
   ]
  },
  {
   "cell_type": "code",
   "execution_count": 114,
   "metadata": {},
   "outputs": [
    {
     "name": "stderr",
     "output_type": "stream",
     "text": [
      "[Parallel(n_jobs=-1)]: Using backend ThreadingBackend with 4 concurrent workers.\n",
      "[Parallel(n_jobs=-1)]: Done  42 tasks      | elapsed:    7.5s\n"
     ]
    },
    {
     "name": "stdout",
     "output_type": "stream",
     "text": [
      "MAE: 0.1786875\n"
     ]
    },
    {
     "name": "stderr",
     "output_type": "stream",
     "text": [
      "[Parallel(n_jobs=-1)]: Done 100 out of 100 | elapsed:   17.2s finished\n",
      "[Parallel(n_jobs=4)]: Using backend ThreadingBackend with 4 concurrent workers.\n",
      "[Parallel(n_jobs=4)]: Done  42 tasks      | elapsed:    0.0s\n",
      "[Parallel(n_jobs=4)]: Done 100 out of 100 | elapsed:    0.0s finished\n"
     ]
    }
   ],
   "source": [
    "RANDOM_SEED = 42\n",
    "# Теперь выделим тестовую часть\n",
    "train_data = df_preproc.query('sample == 1').drop(['sample'], axis=1)\n",
    "test_data = df_preproc.query('sample == 0').drop(['sample'], axis=1)\n",
    "\n",
    "y = train_data.Rating.values    # наш таргет\n",
    "X = train_data.drop(['Rating'], axis=1)\n",
    "# Воспользуемся специальной функцие train_test_split для разбивки тестовых данных\n",
    "# выделим 20% данных на валидацию (параметр test_size)\n",
    "X_train, X_test, y_train, y_test = train_test_split(X, y, test_size=0.2, random_state=RANDOM_SEED)\n",
    "from sklearn.ensemble import RandomForestRegressor # инструмент для создания и обучения модели\n",
    "from sklearn import metrics # инструменты для оценки точности модели\n",
    "model = RandomForestRegressor(n_estimators=100, verbose=1, n_jobs=-1, random_state=RANDOM_SEED)\n",
    "# Обучаем модель на тестовом наборе данных\n",
    "model.fit(X_train, y_train)\n",
    "\n",
    "# Используем обученную модель для предсказания рейтинга ресторанов в тестовой выборке.\n",
    "# Предсказанные значения записываем в переменную y_pred\n",
    "y_pred = model.predict(X_test)\n",
    "y_pred = round_of_rating(y_pred)\n",
    "print('MAE:', metrics.mean_absolute_error(y_test, y_pred))"
   ]
  },
  {
   "cell_type": "code",
   "execution_count": 108,
   "metadata": {},
   "outputs": [
    {
     "name": "stdout",
     "output_type": "stream",
     "text": [
      "MAE: 0.20565624999999998\n"
     ]
    }
   ],
   "source": [
    "print('MAE:', metrics.mean_absolute_error(y_test, y_pred))"
   ]
  },
  {
   "cell_type": "code",
   "execution_count": 115,
   "metadata": {},
   "outputs": [
    {
     "data": {
      "text/plain": [
       "<matplotlib.axes._subplots.AxesSubplot at 0x154b2a6b6c8>"
      ]
     },
     "execution_count": 115,
     "metadata": {},
     "output_type": "execute_result"
    },
    {
     "data": {
      "image/png": "[encoded data removed]",
      "text/plain": [
       "<Figure size 720x720 with 1 Axes>"
      ]
     },
     "metadata": {
      "needs_background": "light"
     },
     "output_type": "display_data"
    }
   ],
   "source": [
    "plt.rcParams['figure.figsize'] = (10,10)\n",
    "feat_importances = pd.Series(model.feature_importances_, index=X.columns)\n",
    "feat_importances.nlargest(15).plot(kind='barh')"
   ]
  },
  {
   "cell_type": "markdown",
   "metadata": {},
   "source": [
    "# Разбиваем датафрейм на части, необходимые для обучения и тестирования модели"
   ]
  },
  {
   "cell_type": "code",
   "execution_count": 61,
   "metadata": {},
   "outputs": [],
   "source": [
    "# Х - данные с информацией о ресторанах, у - целевая переменная (рейтинги ресторанов)\n",
    "X = df.drop(['Rating'], axis = 1)\n",
    "y = df['Rating']"
   ]
  },
  {
   "cell_type": "code",
   "execution_count": 62,
   "metadata": {},
   "outputs": [],
   "source": [
    "# Загружаем специальный инструмент для разбивки:\n",
    "from sklearn.model_selection import train_test_split"
   ]
  },
  {
   "cell_type": "code",
   "execution_count": 63,
   "metadata": {},
   "outputs": [],
   "source": [
    "# Наборы данных с меткой \"train\" будут использоваться для обучения модели, \"test\" - для тестирования.\n",
    "# Для тестирования мы будем использовать 25% от исходного датасета.\n",
    "X_train, X_test, y_train, y_test = train_test_split(X, y, test_size=0.25)"
   ]
  },
  {
   "cell_type": "code",
   "execution_count": 65,
   "metadata": {},
   "outputs": [
    {
     "name": "stderr",
     "output_type": "stream",
     "text": [
      "C:\\Users\\stepn\\anaconda3\\lib\\site-packages\\ipykernel_launcher.py:1: SettingWithCopyWarning: \n",
      "A value is trying to be set on a copy of a slice from a DataFrame.\n",
      "Try using .loc[row_indexer,col_indexer] = value instead\n",
      "\n",
      "See the caveats in the documentation: https://pandas.pydata.org/pandas-docs/stable/user_guide/indexing.html#returning-a-view-versus-a-copy\n",
      "  \"\"\"Entry point for launching an IPython kernel.\n",
      "C:\\Users\\stepn\\anaconda3\\lib\\site-packages\\ipykernel_launcher.py:2: SettingWithCopyWarning: \n",
      "A value is trying to be set on a copy of a slice from a DataFrame.\n",
      "Try using .loc[row_indexer,col_indexer] = value instead\n",
      "\n",
      "See the caveats in the documentation: https://pandas.pydata.org/pandas-docs/stable/user_guide/indexing.html#returning-a-view-versus-a-copy\n",
      "  \n"
     ]
    }
   ],
   "source": [
    "X_train['Ranking'] = X_train['Ranking'].fillna(X_train.Ranking.mean())\n",
    "X_train['Number of Reviews'] = X_train['Number of Reviews'].fillna(0)"
   ]
  },
  {
   "cell_type": "code",
   "execution_count": 66,
   "metadata": {},
   "outputs": [
    {
     "name": "stderr",
     "output_type": "stream",
     "text": [
      "C:\\Users\\stepn\\anaconda3\\lib\\site-packages\\ipykernel_launcher.py:1: SettingWithCopyWarning: \n",
      "A value is trying to be set on a copy of a slice from a DataFrame.\n",
      "Try using .loc[row_indexer,col_indexer] = value instead\n",
      "\n",
      "See the caveats in the documentation: https://pandas.pydata.org/pandas-docs/stable/user_guide/indexing.html#returning-a-view-versus-a-copy\n",
      "  \"\"\"Entry point for launching an IPython kernel.\n",
      "C:\\Users\\stepn\\anaconda3\\lib\\site-packages\\ipykernel_launcher.py:2: SettingWithCopyWarning: \n",
      "A value is trying to be set on a copy of a slice from a DataFrame.\n",
      "Try using .loc[row_indexer,col_indexer] = value instead\n",
      "\n",
      "See the caveats in the documentation: https://pandas.pydata.org/pandas-docs/stable/user_guide/indexing.html#returning-a-view-versus-a-copy\n",
      "  \n"
     ]
    }
   ],
   "source": [
    "X_test['Ranking'] = X_test['Ranking'].fillna(X_test.Ranking.mean())\n",
    "X_test['Number of Reviews'] = X_test['Number of Reviews'].fillna(0)"
   ]
  },
  {
   "cell_type": "code",
   "execution_count": 67,
   "metadata": {},
   "outputs": [
    {
     "data": {
      "text/plain": [
       "Index(['Amsterdam', 'Athens', 'Barcelona', 'Berlin', 'Brussels', 'Budapest',\n",
       "       'Copenhagen', 'Dublin', 'Edinburgh', 'Geneva', 'Hamburg', 'Krakow',\n",
       "       'Lisbon', 'London', 'Lyon', 'Madrid', 'Milan', 'Munich', 'Oporto',\n",
       "       'Paris', 'Prague', 'Rome', 'Stockholm', 'Vienna', 'Warsaw', 'Zurich',\n",
       "       'others', 'Ranking', 'Price Range', 'Number of Reviews', 'sample',\n",
       "       'has_duplicate', 'id_amount', 'reviews_text_1', 'reviews_text_2',\n",
       "       'Reviews_time_1', 'Reviews_time_2', 'veg', 'mediterranean', 'asian',\n",
       "       'fastfood', 'american', 'african', 'europ', 'alco', 'other_cusine'],\n",
       "      dtype='object')"
      ]
     },
     "execution_count": 67,
     "metadata": {},
     "output_type": "execute_result"
    }
   ],
   "source": [
    "X_train.columns"
   ]
  },
  {
   "cell_type": "markdown",
   "metadata": {},
   "source": [
    "# Создаём, обучаем и тестируем модель"
   ]
  },
  {
   "cell_type": "code",
   "execution_count": 28,
   "metadata": {},
   "outputs": [],
   "source": [
    "# Импортируем необходимые библиотеки:\n",
    "from sklearn.ensemble import RandomForestRegressor # инструмент для создания и обучения модели\n",
    "from sklearn import metrics # инструменты для оценки точности модели"
   ]
  },
  {
   "cell_type": "code",
   "execution_count": 68,
   "metadata": {},
   "outputs": [
    {
     "ename": "ValueError",
     "evalue": "Input contains NaN, infinity or a value too large for dtype('float32').",
     "output_type": "error",
     "traceback": [
      "\u001b[1;31m---------------------------------------------------------------------------\u001b[0m",
      "\u001b[1;31mValueError\u001b[0m                                Traceback (most recent call last)",
      "\u001b[1;32m<ipython-input-68-d417683147ce>\u001b[0m in \u001b[0;36m<module>\u001b[1;34m\u001b[0m\n\u001b[0;32m      3\u001b[0m \u001b[1;33m\u001b[0m\u001b[0m\n\u001b[0;32m      4\u001b[0m \u001b[1;31m# Обучаем модель на тестовом наборе данных\u001b[0m\u001b[1;33m\u001b[0m\u001b[1;33m\u001b[0m\u001b[1;33m\u001b[0m\u001b[0m\n\u001b[1;32m----> 5\u001b[1;33m \u001b[0mregr\u001b[0m\u001b[1;33m.\u001b[0m\u001b[0mfit\u001b[0m\u001b[1;33m(\u001b[0m\u001b[0mX_train\u001b[0m\u001b[1;33m,\u001b[0m \u001b[0my_train\u001b[0m\u001b[1;33m)\u001b[0m\u001b[1;33m\u001b[0m\u001b[1;33m\u001b[0m\u001b[0m\n\u001b[0m\u001b[0;32m      6\u001b[0m \u001b[1;33m\u001b[0m\u001b[0m\n\u001b[0;32m      7\u001b[0m \u001b[1;31m# Используем обученную модель для предсказания рейтинга ресторанов в тестовой выборке.\u001b[0m\u001b[1;33m\u001b[0m\u001b[1;33m\u001b[0m\u001b[1;33m\u001b[0m\u001b[0m\n",
      "\u001b[1;32m~\\anaconda3\\lib\\site-packages\\sklearn\\ensemble\\_forest.py\u001b[0m in \u001b[0;36mfit\u001b[1;34m(self, X, y, sample_weight)\u001b[0m\n\u001b[0;32m    293\u001b[0m         \"\"\"\n\u001b[0;32m    294\u001b[0m         \u001b[1;31m# Validate or convert input data\u001b[0m\u001b[1;33m\u001b[0m\u001b[1;33m\u001b[0m\u001b[1;33m\u001b[0m\u001b[0m\n\u001b[1;32m--> 295\u001b[1;33m         \u001b[0mX\u001b[0m \u001b[1;33m=\u001b[0m \u001b[0mcheck_array\u001b[0m\u001b[1;33m(\u001b[0m\u001b[0mX\u001b[0m\u001b[1;33m,\u001b[0m \u001b[0maccept_sparse\u001b[0m\u001b[1;33m=\u001b[0m\u001b[1;34m\"csc\"\u001b[0m\u001b[1;33m,\u001b[0m \u001b[0mdtype\u001b[0m\u001b[1;33m=\u001b[0m\u001b[0mDTYPE\u001b[0m\u001b[1;33m)\u001b[0m\u001b[1;33m\u001b[0m\u001b[1;33m\u001b[0m\u001b[0m\n\u001b[0m\u001b[0;32m    296\u001b[0m         \u001b[0my\u001b[0m \u001b[1;33m=\u001b[0m \u001b[0mcheck_array\u001b[0m\u001b[1;33m(\u001b[0m\u001b[0my\u001b[0m\u001b[1;33m,\u001b[0m \u001b[0maccept_sparse\u001b[0m\u001b[1;33m=\u001b[0m\u001b[1;34m'csc'\u001b[0m\u001b[1;33m,\u001b[0m \u001b[0mensure_2d\u001b[0m\u001b[1;33m=\u001b[0m\u001b[1;32mFalse\u001b[0m\u001b[1;33m,\u001b[0m \u001b[0mdtype\u001b[0m\u001b[1;33m=\u001b[0m\u001b[1;32mNone\u001b[0m\u001b[1;33m)\u001b[0m\u001b[1;33m\u001b[0m\u001b[1;33m\u001b[0m\u001b[0m\n\u001b[0;32m    297\u001b[0m         \u001b[1;32mif\u001b[0m \u001b[0msample_weight\u001b[0m \u001b[1;32mis\u001b[0m \u001b[1;32mnot\u001b[0m \u001b[1;32mNone\u001b[0m\u001b[1;33m:\u001b[0m\u001b[1;33m\u001b[0m\u001b[1;33m\u001b[0m\u001b[0m\n",
      "\u001b[1;32m~\\anaconda3\\lib\\site-packages\\sklearn\\utils\\validation.py\u001b[0m in \u001b[0;36mcheck_array\u001b[1;34m(array, accept_sparse, accept_large_sparse, dtype, order, copy, force_all_finite, ensure_2d, allow_nd, ensure_min_samples, ensure_min_features, warn_on_dtype, estimator)\u001b[0m\n\u001b[0;32m    576\u001b[0m         \u001b[1;32mif\u001b[0m \u001b[0mforce_all_finite\u001b[0m\u001b[1;33m:\u001b[0m\u001b[1;33m\u001b[0m\u001b[1;33m\u001b[0m\u001b[0m\n\u001b[0;32m    577\u001b[0m             _assert_all_finite(array,\n\u001b[1;32m--> 578\u001b[1;33m                                allow_nan=force_all_finite == 'allow-nan')\n\u001b[0m\u001b[0;32m    579\u001b[0m \u001b[1;33m\u001b[0m\u001b[0m\n\u001b[0;32m    580\u001b[0m     \u001b[1;32mif\u001b[0m \u001b[0mensure_min_samples\u001b[0m \u001b[1;33m>\u001b[0m \u001b[1;36m0\u001b[0m\u001b[1;33m:\u001b[0m\u001b[1;33m\u001b[0m\u001b[1;33m\u001b[0m\u001b[0m\n",
      "\u001b[1;32m~\\anaconda3\\lib\\site-packages\\sklearn\\utils\\validation.py\u001b[0m in \u001b[0;36m_assert_all_finite\u001b[1;34m(X, allow_nan, msg_dtype)\u001b[0m\n\u001b[0;32m     58\u001b[0m                     \u001b[0mmsg_err\u001b[0m\u001b[1;33m.\u001b[0m\u001b[0mformat\u001b[0m\u001b[1;33m\u001b[0m\u001b[1;33m\u001b[0m\u001b[0m\n\u001b[0;32m     59\u001b[0m                     (type_err,\n\u001b[1;32m---> 60\u001b[1;33m                      msg_dtype if msg_dtype is not None else X.dtype)\n\u001b[0m\u001b[0;32m     61\u001b[0m             )\n\u001b[0;32m     62\u001b[0m     \u001b[1;31m# for object dtype data, we only check for NaNs (GH-13254)\u001b[0m\u001b[1;33m\u001b[0m\u001b[1;33m\u001b[0m\u001b[1;33m\u001b[0m\u001b[0m\n",
      "\u001b[1;31mValueError\u001b[0m: Input contains NaN, infinity or a value too large for dtype('float32')."
     ]
    }
   ],
   "source": [
    "# Создаём модель\n",
    "regr = RandomForestRegressor(n_estimators=100)\n",
    "\n",
    "# Обучаем модель на тестовом наборе данных\n",
    "regr.fit(X_train, y_train)\n",
    "\n",
    "# Используем обученную модель для предсказания рейтинга ресторанов в тестовой выборке.\n",
    "# Предсказанные значения записываем в переменную y_pred\n",
    "y_pred = regr.predict(X_test)"
   ]
  },
  {
   "cell_type": "code",
   "execution_count": 53,
   "metadata": {},
   "outputs": [
    {
     "name": "stdout",
     "output_type": "stream",
     "text": [
      "MAE: 0.17238199999999998\n"
     ]
    }
   ],
   "source": [
    "# Сравниваем предсказанные значения (y_pred) с реальными (y_test), и смотрим насколько они в среднем отличаются\n",
    "# Метрика называется Mean Absolute Error (MAE) и показывает среднее отклонение предсказанных значений от фактических.\n",
    "print('MAE:', metrics.mean_absolute_error(y_test, y_pred))"
   ]
  },
  {
   "cell_type": "code",
   "execution_count": 58,
   "metadata": {},
   "outputs": [
    {
     "ename": "ValueError",
     "evalue": "Length of passed values is 46, index implies 49.",
     "output_type": "error",
     "traceback": [
      "\u001b[1;31m---------------------------------------------------------------------------\u001b[0m",
      "\u001b[1;31mValueError\u001b[0m                                Traceback (most recent call last)",
      "\u001b[1;32m<ipython-input-58-247bf39a09d5>\u001b[0m in \u001b[0;36m<module>\u001b[1;34m\u001b[0m\n\u001b[0;32m      1\u001b[0m \u001b[1;32mimport\u001b[0m \u001b[0mmatplotlib\u001b[0m\u001b[1;33m.\u001b[0m\u001b[0mpyplot\u001b[0m \u001b[1;32mas\u001b[0m \u001b[0mplt\u001b[0m\u001b[1;33m\u001b[0m\u001b[1;33m\u001b[0m\u001b[0m\n\u001b[0;32m      2\u001b[0m \u001b[0mplt\u001b[0m\u001b[1;33m.\u001b[0m\u001b[0mrcParams\u001b[0m\u001b[1;33m[\u001b[0m\u001b[1;34m'figure.figsize'\u001b[0m\u001b[1;33m]\u001b[0m \u001b[1;33m=\u001b[0m \u001b[1;33m(\u001b[0m\u001b[1;36m10\u001b[0m\u001b[1;33m,\u001b[0m\u001b[1;36m10\u001b[0m\u001b[1;33m)\u001b[0m\u001b[1;33m\u001b[0m\u001b[1;33m\u001b[0m\u001b[0m\n\u001b[1;32m----> 3\u001b[1;33m \u001b[0mfeat_importances\u001b[0m \u001b[1;33m=\u001b[0m \u001b[0mpd\u001b[0m\u001b[1;33m.\u001b[0m\u001b[0mSeries\u001b[0m\u001b[1;33m(\u001b[0m\u001b[0mregr\u001b[0m\u001b[1;33m.\u001b[0m\u001b[0mfeature_importances_\u001b[0m\u001b[1;33m,\u001b[0m \u001b[0mindex\u001b[0m\u001b[1;33m=\u001b[0m\u001b[0mX\u001b[0m\u001b[1;33m.\u001b[0m\u001b[0mcolumns\u001b[0m\u001b[1;33m)\u001b[0m\u001b[1;33m\u001b[0m\u001b[1;33m\u001b[0m\u001b[0m\n\u001b[0m\u001b[0;32m      4\u001b[0m \u001b[0mfeat_importances\u001b[0m\u001b[1;33m.\u001b[0m\u001b[0mnlargest\u001b[0m\u001b[1;33m(\u001b[0m\u001b[1;36m15\u001b[0m\u001b[1;33m)\u001b[0m\u001b[1;33m.\u001b[0m\u001b[0mplot\u001b[0m\u001b[1;33m(\u001b[0m\u001b[0mkind\u001b[0m\u001b[1;33m=\u001b[0m\u001b[1;34m'barh'\u001b[0m\u001b[1;33m)\u001b[0m\u001b[1;33m\u001b[0m\u001b[1;33m\u001b[0m\u001b[0m\n",
      "\u001b[1;32m~\\anaconda3\\lib\\site-packages\\pandas\\core\\series.py\u001b[0m in \u001b[0;36m__init__\u001b[1;34m(self, data, index, dtype, name, copy, fastpath)\u001b[0m\n\u001b[0;32m    290\u001b[0m                     \u001b[1;32mif\u001b[0m \u001b[0mlen\u001b[0m\u001b[1;33m(\u001b[0m\u001b[0mindex\u001b[0m\u001b[1;33m)\u001b[0m \u001b[1;33m!=\u001b[0m \u001b[0mlen\u001b[0m\u001b[1;33m(\u001b[0m\u001b[0mdata\u001b[0m\u001b[1;33m)\u001b[0m\u001b[1;33m:\u001b[0m\u001b[1;33m\u001b[0m\u001b[1;33m\u001b[0m\u001b[0m\n\u001b[0;32m    291\u001b[0m                         raise ValueError(\n\u001b[1;32m--> 292\u001b[1;33m                             \u001b[1;34mf\"Length of passed values is {len(data)}, \"\u001b[0m\u001b[1;33m\u001b[0m\u001b[1;33m\u001b[0m\u001b[0m\n\u001b[0m\u001b[0;32m    293\u001b[0m                             \u001b[1;34mf\"index implies {len(index)}.\"\u001b[0m\u001b[1;33m\u001b[0m\u001b[1;33m\u001b[0m\u001b[0m\n\u001b[0;32m    294\u001b[0m                         )\n",
      "\u001b[1;31mValueError\u001b[0m: Length of passed values is 46, index implies 49."
     ]
    }
   ],
   "source": [
    "import matplotlib.pyplot as plt\n",
    "plt.rcParams['figure.figsize'] = (10,10)\n",
    "feat_importances = pd.Series(regr.feature_importances_, index=X.columns)\n",
    "feat_importances.nlargest(15).plot(kind='barh')"
   ]
  },
  {
   "cell_type": "code",
   "execution_count": null,
   "metadata": {},
   "outputs": [],
   "source": []
  }
 ],
 "metadata": {
  "kernelspec": {
   "display_name": "Python 3",
   "language": "python",
   "name": "python3"
  },
  "language_info": {
   "codemirror_mode": {
    "name": "ipython",
    "version": 3
   },
   "file_extension": ".py",
   "mimetype": "text/x-python",
   "name": "python",
   "nbconvert_exporter": "python",
   "pygments_lexer": "ipython3",
   "version": "3.7.6"
  }
 },
 "nbformat": 4,
 "nbformat_minor": 2
}
