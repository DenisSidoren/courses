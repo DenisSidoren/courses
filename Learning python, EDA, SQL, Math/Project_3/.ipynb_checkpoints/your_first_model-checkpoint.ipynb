{
 "cells": [
  {
   "cell_type": "markdown",
   "metadata": {},
   "source": [
    "# Загрузка Pandas и очистка данных"
   ]
  },
  {
   "cell_type": "code",
   "execution_count": 15,
   "metadata": {},
   "outputs": [],
   "source": [
    "import pandas as pd\n",
    "import re\n",
    "import numpy as np\n",
    "from datetime import datetime as dt\n",
    "from sklearn.preprocessing import StandardScaler"
   ]
  },
  {
   "cell_type": "code",
   "execution_count": 591,
   "metadata": {},
   "outputs": [],
   "source": [
    "df = pd.read_csv('main_task.csv')"
   ]
  },
  {
   "cell_type": "code",
   "execution_count": null,
   "metadata": {},
   "outputs": [],
   "source": [
    "# Ваш код по очистке данных и генерации новых признаков\n",
    "# При необходимости добавьте ячейки"
   ]
  },
  {
   "cell_type": "code",
   "execution_count": 592,
   "metadata": {},
   "outputs": [],
   "source": [
    "def reviews_date(rew, count):\n",
    "    date = re.findall(r'\\d\\d?/\\d\\d?/\\d+', str(rew))\n",
    "    if len(date) == 0:\n",
    "        return np.nan\n",
    "    if count == 1:\n",
    "        return pd.to_datetime(date[0])\n",
    "    elif len(date) == 2:\n",
    "        return pd.to_datetime(date[1])\n",
    "    else:\n",
    "        return np.nan\n",
    "\n",
    "\n",
    "def reviews_text(rew, count):\n",
    "    if rew == 0:\n",
    "        return 'No review'\n",
    "    date = re.findall(r'(\\'\\D+?\\')', str(rew))\n",
    "    if len(date) == 0:\n",
    "        return 'No review'\n",
    "    if count == 1:\n",
    "        return date[0]\n",
    "    elif len(date) > 1 and count == 2:\n",
    "        return date[1]\n",
    "    else:\n",
    "        return np.nan\n",
    "\n",
    "\n",
    "def review_to_numb(rew):\n",
    "    if rew == 'No review':\n",
    "        return 0\n",
    "    for i in rew:\n",
    "        if i in positive_list:\n",
    "            return 1\n",
    "        elif i in negative_list:\n",
    "            return -1\n",
    "        else:\n",
    "            return 0\n",
    "\n",
    "\n",
    "def num_years(begin, end=None):\n",
    "    if end is None:\n",
    "        end = dt.now()\n",
    "    if begin == 0:\n",
    "        return 0\n",
    "    delta_time = round(((end - begin).days / 365.25), 2)\n",
    "    if delta_time > 10:\n",
    "        return 0\n",
    "    else:\n",
    "        return delta_time\n",
    "\n",
    "\n",
    "def for_city(rew, city):\n",
    "    if rew in city:\n",
    "        return rew\n",
    "    else:\n",
    "        return 'others'\n",
    "\n",
    "\n",
    "def cuisine_func(rew, cuisine):\n",
    "    if rew == 0:\n",
    "        return 0\n",
    "    for i in rew:\n",
    "        count = 0\n",
    "        if i in cuisine:\n",
    "            count += 1\n",
    "    if count > 0:\n",
    "        return 1\n",
    "    else:\n",
    "        return 0\n",
    "\n",
    "\n",
    "def fill_cuisine_nan(rew, cuisine):\n",
    "    if rew == 0:\n",
    "        return 1\n",
    "    for i in rew:\n",
    "        count = 0\n",
    "        if i in cuisine:\n",
    "            count += 1\n",
    "    if count > 0:\n",
    "        return 1\n",
    "    else:\n",
    "        return 0"
   ]
  },
  {
   "cell_type": "code",
   "execution_count": 593,
   "metadata": {},
   "outputs": [],
   "source": [
    "df = df.drop('URL_TA', axis = 1)\n",
    "df = df.drop('ID_TA', axis = 1)\n",
    "df = df.drop('Restaurant_id', axis = 1)"
   ]
  },
  {
   "cell_type": "code",
   "execution_count": 594,
   "metadata": {},
   "outputs": [],
   "source": [
    "df.Reviews = df.Reviews.apply(lambda x: x.replace('[[], []]', ''))\n",
    "df.Reviews = df.Reviews.replace('', np.nan, regex=True)\n",
    "df.Reviews = df.Reviews.fillna(0)\n",
    "\n",
    "df['reviews_text_1'] = df['Reviews'].apply(lambda x: reviews_text(x, 1))\n",
    "df['reviews_text_1'] = df['reviews_text_1'].apply(lambda x: str(x).replace(\"'\", \"\"))\n",
    "df['reviews_text_1'] = df['reviews_text_1'].apply(lambda x: x.lower())\n",
    "df['reviews_text_1'] = df['reviews_text_1'].apply(lambda x: x.split(' '))\n",
    "\n",
    "df['reviews_text_2'] = df['Reviews'].apply(lambda x: reviews_text(x, 2))\n",
    "df['reviews_text_2'] = df['reviews_text_2'].apply(lambda x: str(x).replace(\"'\", \"\"))\n",
    "df['reviews_text_2'] = df['reviews_text_2'].apply(lambda x: x.lower())\n",
    "df['reviews_text_2'] = df['reviews_text_2'].apply(lambda x: x.split(' '))\n",
    "\n",
    "positive = pd.read_excel('positive.xlsx', sheet_name = 'Лист3', header = None)\n",
    "positive = positive.apply(lambda x: x.str.lower())\n",
    "positive_list = positive[0].to_list()\n",
    "\n",
    "negative = pd.read_excel('positive.xlsx', sheet_name = 'Лист4', header = None)\n",
    "negative = negative.apply(lambda x: x.str.lower())\n",
    "negative_list = negative[0].to_list()\n",
    "\n",
    "df['reviews_text_1'] = df.reviews_text_1.apply(lambda x: review_to_numb(x))\n",
    "df['reviews_text_2'] = df.reviews_text_2.apply(lambda x: review_to_numb(x))\n",
    "\n",
    "\n",
    "df['Reviews_time_1'] = df['Reviews'].apply(lambda x: reviews_date(x, 1))\n",
    "df['Reviews_time_1'] = df['Reviews_time_1'].fillna(0)\n",
    "df['Reviews_time_1'] = df['Reviews_time_1'].apply(lambda x: num_years(x))\n",
    "\n",
    "df['Reviews_time_2'] = df['Reviews'].apply(lambda x: reviews_date(x, 2))\n",
    "df['Reviews_time_2'] = df['Reviews_time_2'].fillna(0)\n",
    "df['Reviews_time_2'] = df['Reviews_time_2'].apply(lambda x: num_years(x))"
   ]
  },
  {
   "cell_type": "code",
   "execution_count": 595,
   "metadata": {},
   "outputs": [],
   "source": [
    "scaler = StandardScaler()\n",
    "test = scaler.fit_transform(np.array(df['Ranking']).reshape(-1,1))\n",
    "df['Ranking'] = pd.Series(list((test)))\n",
    "df['Ranking'] = df['Ranking'].apply(lambda x: x[0])"
   ]
  },
  {
   "cell_type": "code",
   "execution_count": 596,
   "metadata": {},
   "outputs": [],
   "source": [
    "test_1 = scaler.fit_transform(np.array(df['Number of Reviews']).reshape(-1,1))\n",
    "df['Number of Reviews'] = pd.Series(list((test_1)))\n",
    "df['Number of Reviews'] = df['Number of Reviews'].apply(lambda x: x[0])"
   ]
  },
  {
   "cell_type": "code",
   "execution_count": 597,
   "metadata": {},
   "outputs": [],
   "source": [
    "popular_city = df.City.value_counts()\n",
    "popular_city = popular_city.loc[popular_city > 500].index.tolist()\n",
    "\n",
    "df['City'] = df['City'].apply(lambda x: for_city(x, popular_city))\n",
    "df_cities = pd.get_dummies(df['City'])\n",
    "df = pd.concat([df_cities, df], axis = 1)"
   ]
  },
  {
   "cell_type": "code",
   "execution_count": 598,
   "metadata": {},
   "outputs": [
    {
     "name": "stdout",
     "output_type": "stream",
     "text": [
      "veg 11655 \n",
      "mediterranean 1733 \n",
      "asian 2608 \n",
      "fastfood 1463 \n",
      "american 1275 \n",
      "african 217 \n",
      "europ 17837 \n",
      "alco 1610 \n",
      "other_cusine 1602\n"
     ]
    }
   ],
   "source": [
    "df['Cuisine Style'] = df['Cuisine Style'].str.findall(r'\\w+\\s*\\w*\\s*\\w*')\n",
    "df['Cuisine Style'] = df['Cuisine Style'].fillna(0)\n",
    "\n",
    "\n",
    "veg = ['Vegetarian Friendly',\n",
    "       'Vegan Options',\n",
    "       'Gluten Free Options',\n",
    "       'Healthy']\n",
    "europ = ['European', 'Italian', 'French', 'Spanish',\n",
    "         'British', 'Central European', 'German', 'Greek',\n",
    "         'Halal', 'Czech', 'Eastern European', 'Austrian',\n",
    "         'Polish', 'Hungarian', 'Scandinavian', 'Lebanese',\n",
    "         'Dutch', 'Irish', 'Belgian', 'Swiss', 'Danish',\n",
    "         'Swedish', 'Argentinean', 'Scottish', 'Ukrainian',\n",
    "         'Norwegian', 'Slovenian', 'Russian', 'Portuguese', 'Australian',\n",
    "         'Croatian', 'Singaporean', 'Romanian', 'Latvian']\n",
    "mediterranean = ['Mediterranean', 'Seafood', 'Turkish', 'Delicatessen',\n",
    "                 'Caribbean', 'New Zealand', 'Indonesian', 'Tunisian',\n",
    "                 'Hawaiian', 'Malaysian', 'Cuban', 'Taiwanese', 'Jamaican',\n",
    "                 'Sri Lankan', 'Filipino', 'Polynesian', 'Fujian']\n",
    "asian = ['Asian', 'Japanese', 'Sushi', 'Chinese',  'Indian', 'Thai',\n",
    "         'Vietnamese', 'Mexican',  'Korean', 'Pakistani',  'Caucasian',\n",
    "         'Uzbek', 'Minority Chinese',  'Armenian', 'Central Asian',\n",
    "         'Georgian', 'Israeli', 'Tibetan', 'Mongolian', 'Albanian', 'Azerbaijani']\n",
    "fastfood = ['Pizza', 'Fast Food', 'Street Food']\n",
    "american = ['Middle Eastern', 'American', 'Steakhouse', 'Barbecue', 'Grill', 'Gastropub',\n",
    "            'South American', 'Latin', 'Central American', 'Brazilian', 'Colombian',\n",
    "            'Chilean', 'Southwestern', 'Canadian', 'Native American']\n",
    "african = ['African', 'Moroccan', 'Peruvian', 'Nepali', 'Balti', 'Bangladeshi', 'Persian',\n",
    "           'Arabic', 'Kosher', 'Ethiopian', 'Venezuelan', 'Egyptian', 'Cajun ', 'Cambodian', 'Ecuadorean']\n",
    "alco = ['Bar', 'Pub', 'Wine Bar', 'Brew Pub']\n",
    "other_cusine = ['International', 'Cafe', 'Fusion', 'Soups', 'Contemporary',\n",
    "                'Diner', 'Afghani', 'Creole', 'Welsh', 'Burmese', 'Yunnan', 'Salvadoran', 'Xinjiang']\n",
    "\n",
    "df['veg'] = df['Cuisine Style'].apply(lambda x: cuisine_func(x, veg))\n",
    "df['mediterranean'] = df['Cuisine Style'].apply(\n",
    "    lambda x: cuisine_func(x, mediterranean))\n",
    "df['asian'] = df['Cuisine Style'].apply(lambda x: cuisine_func(x, asian))\n",
    "df['fastfood'] = df['Cuisine Style'].apply(lambda x: cuisine_func(x, fastfood))\n",
    "df['american'] = df['Cuisine Style'].apply(lambda x: cuisine_func(x, american))\n",
    "df['african'] = df['Cuisine Style'].apply(lambda x: cuisine_func(x, african))\n",
    "df['europ'] = df['Cuisine Style'].apply(lambda x: fill_cuisine_nan(x, europ))\n",
    "df['alco'] = df['Cuisine Style'].apply(lambda x: cuisine_func(x, alco))\n",
    "df['other_cusine'] = df['Cuisine Style'].apply(\n",
    "    lambda x: cuisine_func(x, other_cusine))\n",
    "\n",
    "table = pd.pivot_table(df,\n",
    "                       values=['veg', 'mediterranean', 'asian',\n",
    "                               'fastfood', 'american', 'african',\n",
    "                               'europ', 'alco', 'other_cusine'],\n",
    "                       index='City',\n",
    "                       aggfunc=np.sum)\n",
    "\n",
    "print('veg', df.veg.sum(), '\\n'\n",
    "      'mediterranean', df.mediterranean.sum(), '\\n'\n",
    "      'asian', df.asian.sum(), '\\n'\n",
    "      'fastfood', df.fastfood.sum(), '\\n'\n",
    "      'american',  df.american.sum(), '\\n'\n",
    "      'african', df.african.sum(), '\\n'\n",
    "      'europ', df.europ.sum(), '\\n'\n",
    "      'alco', df.alco.sum(), '\\n'\n",
    "      'other_cusine', df.other_cusine.sum())"
   ]
  },
  {
   "cell_type": "code",
   "execution_count": 599,
   "metadata": {},
   "outputs": [
    {
     "data": {
      "text/plain": [
       "0        2.5\n",
       "1        2.2\n",
       "2        4.0\n",
       "3        2.2\n",
       "4        2.5\n",
       "        ... \n",
       "39995    2.5\n",
       "39996    2.5\n",
       "39997    2.2\n",
       "39998    2.5\n",
       "39999    2.5\n",
       "Name: Price Range, Length: 40000, dtype: float64"
      ]
     },
     "execution_count": 599,
     "metadata": {},
     "output_type": "execute_result"
    }
   ],
   "source": [
    "\n",
    "def fix_price_range(x):\n",
    "    if x == None:\n",
    "        return np.nan\n",
    "    if x == '$':\n",
    "        return 1\n",
    "    if x == '$$ - $$$':\n",
    "        return 2.5\n",
    "    if x == '$$$$':\n",
    "        return 4\n",
    "df['Price Range'] = df['Price Range'].apply(lambda x: fix_price_range(x))\n",
    "df['Price Range'] = df['Price Range'].fillna(round(df['Price Range'].mean(), 1))\n",
    "df['Price Range']"
   ]
  },
  {
   "cell_type": "markdown",
   "metadata": {},
   "source": [
    "# Разбиваем датафрейм на части, необходимые для обучения и тестирования модели"
   ]
  },
  {
   "cell_type": "code",
   "execution_count": null,
   "metadata": {},
   "outputs": [],
   "source": []
  },
  {
   "cell_type": "code",
   "execution_count": 600,
   "metadata": {},
   "outputs": [],
   "source": [
    "# Х - данные с информацией о ресторанах, у - целевая переменная (рейтинги ресторанов)\n",
    "X = df.drop(['Rating'], axis = 1)\n",
    "y = df['Rating']"
   ]
  },
  {
   "cell_type": "code",
   "execution_count": 502,
   "metadata": {},
   "outputs": [],
   "source": [
    "# Загружаем специальный инструмент для разбивки:\n",
    "from sklearn.model_selection import train_test_split"
   ]
  },
  {
   "cell_type": "code",
   "execution_count": 601,
   "metadata": {},
   "outputs": [],
   "source": [
    "# Наборы данных с меткой \"train\" будут использоваться для обучения модели, \"test\" - для тестирования.\n",
    "# Для тестирования мы будем использовать 25% от исходного датасета.\n",
    "X_train, X_test, y_train, y_test = train_test_split(X, y, test_size=0.25)"
   ]
  },
  {
   "cell_type": "code",
   "execution_count": 602,
   "metadata": {},
   "outputs": [],
   "source": [
    "X_train = X_train.drop(['City','Cuisine Style', 'Reviews'], axis = 1)\n",
    "X_train['Ranking'] = X_train['Ranking'].fillna(X_train.Ranking.mean())\n",
    "X_train['Number of Reviews'] = X_train['Number of Reviews'].fillna(0)"
   ]
  },
  {
   "cell_type": "code",
   "execution_count": 603,
   "metadata": {},
   "outputs": [],
   "source": [
    "X_test = X_test.drop(['City','Cuisine Style', 'Reviews'], axis = 1)\n",
    "X_test['Ranking'] = X_test['Ranking'].fillna(X_test.Ranking.mean())\n",
    "X_test['Number of Reviews'] = X_test['Number of Reviews'].fillna(0)"
   ]
  },
  {
   "cell_type": "code",
   "execution_count": 604,
   "metadata": {},
   "outputs": [
    {
     "data": {
      "text/plain": [
       "Index(['Amsterdam', 'Athens', 'Barcelona', 'Berlin', 'Brussels', 'Budapest',\n",
       "       'Copenhagen', 'Dublin', 'Edinburgh', 'Hamburg', 'Lisbon', 'London',\n",
       "       'Lyon', 'Madrid', 'Milan', 'Munich', 'Oporto', 'Paris', 'Prague',\n",
       "       'Rome', 'Stockholm', 'Vienna', 'Warsaw', 'Zurich', 'others', 'Ranking',\n",
       "       'Price Range', 'Number of Reviews', 'reviews_text_1', 'reviews_text_2',\n",
       "       'Reviews_time_1', 'Reviews_time_2', 'veg', 'mediterranean', 'asian',\n",
       "       'fastfood', 'american', 'african', 'europ', 'alco', 'other_cusine'],\n",
       "      dtype='object')"
      ]
     },
     "execution_count": 604,
     "metadata": {},
     "output_type": "execute_result"
    }
   ],
   "source": [
    "X_train.columns"
   ]
  },
  {
   "cell_type": "markdown",
   "metadata": {},
   "source": [
    "# Создаём, обучаем и тестируем модель"
   ]
  },
  {
   "cell_type": "code",
   "execution_count": 513,
   "metadata": {},
   "outputs": [],
   "source": [
    "# Импортируем необходимые библиотеки:\n",
    "from sklearn.ensemble import RandomForestRegressor # инструмент для создания и обучения модели\n",
    "from sklearn import metrics # инструменты для оценки точности модели"
   ]
  },
  {
   "cell_type": "code",
   "execution_count": 605,
   "metadata": {},
   "outputs": [],
   "source": [
    "# Создаём модель\n",
    "regr = RandomForestRegressor(n_estimators=100)\n",
    "\n",
    "# Обучаем модель на тестовом наборе данных\n",
    "regr.fit(X_train, y_train)\n",
    "\n",
    "# Используем обученную модель для предсказания рейтинга ресторанов в тестовой выборке.\n",
    "# Предсказанные значения записываем в переменную y_pred\n",
    "y_pred = regr.predict(X_test)"
   ]
  },
  {
   "cell_type": "code",
   "execution_count": 606,
   "metadata": {},
   "outputs": [
    {
     "name": "stdout",
     "output_type": "stream",
     "text": [
      "MAE: 0.2180145\n"
     ]
    }
   ],
   "source": [
    "# Сравниваем предсказанные значения (y_pred) с реальными (y_test), и смотрим насколько они в среднем отличаются\n",
    "# Метрика называется Mean Absolute Error (MAE) и показывает среднее отклонение предсказанных значений от фактических.\n",
    "print('MAE:', metrics.mean_absolute_error(y_test, y_pred))"
   ]
  },
  {
   "cell_type": "code",
   "execution_count": null,
   "metadata": {},
   "outputs": [],
   "source": []
  }
 ],
 "metadata": {
  "kernelspec": {
   "display_name": "Python 3",
   "language": "python",
   "name": "python3"
  },
  "language_info": {
   "codemirror_mode": {
    "name": "ipython",
    "version": 3
   },
   "file_extension": ".py",
   "mimetype": "text/x-python",
   "name": "python",
   "nbconvert_exporter": "python",
   "pygments_lexer": "ipython3",
   "version": "3.7.6"
  }
 },
 "nbformat": 4,
 "nbformat_minor": 2
}
