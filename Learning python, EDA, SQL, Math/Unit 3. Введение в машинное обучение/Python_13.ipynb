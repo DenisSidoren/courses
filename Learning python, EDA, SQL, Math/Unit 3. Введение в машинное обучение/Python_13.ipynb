{
 "cells": [
  {
   "cell_type": "code",
   "execution_count": 1,
   "metadata": {},
   "outputs": [],
   "source": [
    "from datetime import datetime, timedelta"
   ]
  },
  {
   "cell_type": "code",
   "execution_count": 2,
   "metadata": {},
   "outputs": [],
   "source": [
    "date_string = '05.05.2019 21:00'\n",
    "dt = datetime.strptime(date_string, '%d.%m.%Y %H:%M')"
   ]
  },
  {
   "cell_type": "code",
   "execution_count": 12,
   "metadata": {},
   "outputs": [
    {
     "data": {
      "text/plain": [
       "'07.07.2019'"
      ]
     },
     "execution_count": 12,
     "metadata": {},
     "output_type": "execute_result"
    }
   ],
   "source": [
    "date_string = '2019-07-07T18:59:33'\n",
    "date_string = dt.strptime(date_string, '%Y-%m-%dT%H:%M:%S')\n",
    "date_format = date_string.strftime('%d.%m.%Y')"
   ]
  },
  {
   "cell_type": "code",
   "execution_count": 70,
   "metadata": {},
   "outputs": [],
   "source": [
    "dt_list = ['2019-07-07T18:59:06', '2019-07-07T19:00:02', '2019-07-07T19:01:04']\n",
    "datetime_list = []\n",
    "for i in dt_list:\n",
    "    date = datetime.strptime(i, '%Y-%m-%dT%H:%M:%S')\n",
    "    datetime_list.append(date)\n",
    "    \n",
    "datetime_list_start = [datetime(2019, 7, 7, 18, 59, 0),\n",
    " datetime(2019, 7, 7, 19, 0, 0),\n",
    " datetime(2019, 7, 7, 19, 1, 0)]\n",
    "\n",
    "import pandas as pd\n",
    "column_1 = pd.Series(datetime_list)\n",
    "column_2 = pd.Series(datetime_list_start)\n",
    "df = pd.DataFrame(column_1, columns = ['column_1'])\n",
    "df['column_2'] = column_2\n",
    "report_seconds = (df.column_1 - df.column_2)\n",
    "report_seconds = report_seconds.apply(lambda x: x.seconds)\n",
    "report_seconds = report_seconds.to_list()\n",
    "\n",
    "\n"
   ]
  },
  {
   "cell_type": "code",
   "execution_count": 32,
   "metadata": {},
   "outputs": [
    {
     "data": {
      "text/plain": [
       "0   2019-07-07 18:59:06\n",
       "1   2019-07-07 19:00:02\n",
       "2   2019-07-07 19:01:04\n",
       "dtype: datetime64[ns]"
      ]
     },
     "execution_count": 32,
     "metadata": {},
     "output_type": "execute_result"
    }
   ],
   "source": [
    "column_1"
   ]
  },
  {
   "cell_type": "code",
   "execution_count": 77,
   "metadata": {},
   "outputs": [
    {
     "data": {
      "text/plain": [
       "12"
      ]
     },
     "execution_count": 77,
     "metadata": {},
     "output_type": "execute_result"
    }
   ],
   "source": [
    "total_time = sum(report_seconds)\n",
    "total_time"
   ]
  },
  {
   "cell_type": "code",
   "execution_count": 75,
   "metadata": {},
   "outputs": [],
   "source": []
  },
  {
   "cell_type": "code",
   "execution_count": 76,
   "metadata": {},
   "outputs": [
    {
     "data": {
      "text/plain": [
       "[6, 2, 4]"
      ]
     },
     "execution_count": 76,
     "metadata": {},
     "output_type": "execute_result"
    }
   ],
   "source": [
    "report_seconds"
   ]
  },
  {
   "cell_type": "code",
   "execution_count": null,
   "metadata": {},
   "outputs": [],
   "source": []
  }
 ],
 "metadata": {
  "kernelspec": {
   "display_name": "Python 3",
   "language": "python",
   "name": "python3"
  },
  "language_info": {
   "codemirror_mode": {
    "name": "ipython",
    "version": 3
   },
   "file_extension": ".py",
   "mimetype": "text/x-python",
   "name": "python",
   "nbconvert_exporter": "python",
   "pygments_lexer": "ipython3",
   "version": "3.7.6"
  }
 },
 "nbformat": 4,
 "nbformat_minor": 4
}
