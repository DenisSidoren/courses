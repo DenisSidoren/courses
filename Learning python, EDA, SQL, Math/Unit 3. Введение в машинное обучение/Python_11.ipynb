{
 "cells": [
  {
   "cell_type": "code",
   "execution_count": 3,
   "metadata": {},
   "outputs": [],
   "source": [
    "import pandas as pd\n",
    "import numpy as np\n",
    "\n",
    "log = pd.read_csv('log.xls', header = None)\n",
    "us = pd.read_csv('users.xls', encoding = 'koi8_r', sep = '\\t')"
   ]
  },
  {
   "cell_type": "code",
   "execution_count": 9,
   "metadata": {},
   "outputs": [
    {
     "data": {
      "text/html": [
       "<div>\n",
       "<style scoped>\n",
       "    .dataframe tbody tr th:only-of-type {\n",
       "        vertical-align: middle;\n",
       "    }\n",
       "\n",
       "    .dataframe tbody tr th {\n",
       "        vertical-align: top;\n",
       "    }\n",
       "\n",
       "    .dataframe thead th {\n",
       "        text-align: right;\n",
       "    }\n",
       "</style>\n",
       "<table border=\"1\" class=\"dataframe\">\n",
       "  <thead>\n",
       "    <tr style=\"text-align: right;\">\n",
       "      <th></th>\n",
       "      <th>user_id</th>\n",
       "      <th>time</th>\n",
       "      <th>bet</th>\n",
       "      <th>win</th>\n",
       "    </tr>\n",
       "  </thead>\n",
       "  <tbody>\n",
       "    <tr>\n",
       "      <th>0</th>\n",
       "      <td>Запись пользователя № - user_919</td>\n",
       "      <td>[2019-01-01 14:06:51</td>\n",
       "      <td>NaN</td>\n",
       "      <td>NaN</td>\n",
       "    </tr>\n",
       "    <tr>\n",
       "      <th>1</th>\n",
       "      <td>Запись пользователя № - user_973</td>\n",
       "      <td>[2019-01-01 14:51:16</td>\n",
       "      <td>NaN</td>\n",
       "      <td>NaN</td>\n",
       "    </tr>\n",
       "    <tr>\n",
       "      <th>2</th>\n",
       "      <td>Запись пользователя № - user_903</td>\n",
       "      <td>[2019-01-01 16:31:16</td>\n",
       "      <td>NaN</td>\n",
       "      <td>NaN</td>\n",
       "    </tr>\n",
       "    <tr>\n",
       "      <th>3</th>\n",
       "      <td>Запись пользователя № - user_954</td>\n",
       "      <td>[2019-01-01 17:17:51</td>\n",
       "      <td>NaN</td>\n",
       "      <td>NaN</td>\n",
       "    </tr>\n",
       "    <tr>\n",
       "      <th>4</th>\n",
       "      <td>Запись пользователя № - user_954</td>\n",
       "      <td>[2019-01-01 21:31:18</td>\n",
       "      <td>NaN</td>\n",
       "      <td>NaN</td>\n",
       "    </tr>\n",
       "  </tbody>\n",
       "</table>\n",
       "</div>"
      ],
      "text/plain": [
       "                            user_id                  time  bet  win\n",
       "0  Запись пользователя № - user_919  [2019-01-01 14:06:51  NaN  NaN\n",
       "1  Запись пользователя № - user_973  [2019-01-01 14:51:16  NaN  NaN\n",
       "2  Запись пользователя № - user_903  [2019-01-01 16:31:16  NaN  NaN\n",
       "3  Запись пользователя № - user_954  [2019-01-01 17:17:51  NaN  NaN\n",
       "4  Запись пользователя № - user_954  [2019-01-01 21:31:18  NaN  NaN"
      ]
     },
     "execution_count": 9,
     "metadata": {},
     "output_type": "execute_result"
    }
   ],
   "source": [
    "log.columns = ['user_id', 'time', 'bet', 'win']\n",
    "log.head()"
   ]
  },
  {
   "cell_type": "code",
   "execution_count": 10,
   "metadata": {},
   "outputs": [
    {
     "data": {
      "text/plain": [
       "False    985\n",
       "True      15\n",
       "Name: time, dtype: int64"
      ]
     },
     "execution_count": 10,
     "metadata": {},
     "output_type": "execute_result"
    }
   ],
   "source": [
    "log.time.isna().value_counts() #Счет количества пропущенных значений (True)"
   ]
  },
  {
   "cell_type": "code",
   "execution_count": 11,
   "metadata": {},
   "outputs": [
    {
     "data": {
      "text/html": [
       "<div>\n",
       "<style scoped>\n",
       "    .dataframe tbody tr th:only-of-type {\n",
       "        vertical-align: middle;\n",
       "    }\n",
       "\n",
       "    .dataframe tbody tr th {\n",
       "        vertical-align: top;\n",
       "    }\n",
       "\n",
       "    .dataframe thead th {\n",
       "        text-align: right;\n",
       "    }\n",
       "</style>\n",
       "<table border=\"1\" class=\"dataframe\">\n",
       "  <thead>\n",
       "    <tr style=\"text-align: right;\">\n",
       "      <th></th>\n",
       "      <th>user_id</th>\n",
       "    </tr>\n",
       "  </thead>\n",
       "  <tbody>\n",
       "    <tr>\n",
       "      <th>0</th>\n",
       "      <td>Запись пользователя № - user_919</td>\n",
       "    </tr>\n",
       "    <tr>\n",
       "      <th>1</th>\n",
       "      <td>Запись пользователя № - user_973</td>\n",
       "    </tr>\n",
       "    <tr>\n",
       "      <th>2</th>\n",
       "      <td>Запись пользователя № - user_903</td>\n",
       "    </tr>\n",
       "    <tr>\n",
       "      <th>3</th>\n",
       "      <td>Запись пользователя № - user_954</td>\n",
       "    </tr>\n",
       "    <tr>\n",
       "      <th>4</th>\n",
       "      <td>Запись пользователя № - user_954</td>\n",
       "    </tr>\n",
       "  </tbody>\n",
       "</table>\n",
       "</div>"
      ],
      "text/plain": [
       "                            user_id\n",
       "0  Запись пользователя № - user_919\n",
       "1  Запись пользователя № - user_973\n",
       "2  Запись пользователя № - user_903\n",
       "3  Запись пользователя № - user_954\n",
       "4  Запись пользователя № - user_954"
      ]
     },
     "execution_count": 11,
     "metadata": {},
     "output_type": "execute_result"
    }
   ],
   "source": [
    "new_log = log.dropna(axis=1) #Удаление столбцов (целиком), в которых есть пропуски\n",
    "new_log.head()"
   ]
  },
  {
   "cell_type": "code",
   "execution_count": 12,
   "metadata": {},
   "outputs": [
    {
     "name": "stdout",
     "output_type": "stream",
     "text": [
      "<class 'pandas.core.frame.DataFrame'>\n",
      "Int64Index: 133 entries, 14 to 991\n",
      "Data columns (total 4 columns):\n",
      " #   Column   Non-Null Count  Dtype  \n",
      "---  ------   --------------  -----  \n",
      " 0   user_id  133 non-null    object \n",
      " 1   time     133 non-null    object \n",
      " 2   bet      133 non-null    float64\n",
      " 3   win      133 non-null    float64\n",
      "dtypes: float64(2), object(2)\n",
      "memory usage: 5.2+ KB\n"
     ]
    }
   ],
   "source": [
    "new_log2 = log.dropna(axis=0) #Удаление строк (целиком), в которых есть пропуски\n",
    "new_log2.info()"
   ]
  },
  {
   "cell_type": "code",
   "execution_count": 17,
   "metadata": {},
   "outputs": [
    {
     "data": {
      "text/html": [
       "<div>\n",
       "<style scoped>\n",
       "    .dataframe tbody tr th:only-of-type {\n",
       "        vertical-align: middle;\n",
       "    }\n",
       "\n",
       "    .dataframe tbody tr th {\n",
       "        vertical-align: top;\n",
       "    }\n",
       "\n",
       "    .dataframe thead th {\n",
       "        text-align: right;\n",
       "    }\n",
       "</style>\n",
       "<table border=\"1\" class=\"dataframe\">\n",
       "  <thead>\n",
       "    <tr style=\"text-align: right;\">\n",
       "      <th></th>\n",
       "      <th>user_id</th>\n",
       "      <th>time</th>\n",
       "      <th>bet</th>\n",
       "      <th>win</th>\n",
       "    </tr>\n",
       "  </thead>\n",
       "  <tbody>\n",
       "    <tr>\n",
       "      <th>0</th>\n",
       "      <td>Запись пользователя № - user_919</td>\n",
       "      <td>[2019-01-01 14:06:51</td>\n",
       "      <td>NaN</td>\n",
       "      <td>NaN</td>\n",
       "    </tr>\n",
       "    <tr>\n",
       "      <th>1</th>\n",
       "      <td>Запись пользователя № - user_973</td>\n",
       "      <td>[2019-01-01 14:51:16</td>\n",
       "      <td>NaN</td>\n",
       "      <td>NaN</td>\n",
       "    </tr>\n",
       "    <tr>\n",
       "      <th>2</th>\n",
       "      <td>Запись пользователя № - user_903</td>\n",
       "      <td>[2019-01-01 16:31:16</td>\n",
       "      <td>NaN</td>\n",
       "      <td>NaN</td>\n",
       "    </tr>\n",
       "    <tr>\n",
       "      <th>3</th>\n",
       "      <td>Запись пользователя № - user_954</td>\n",
       "      <td>[2019-01-01 17:17:51</td>\n",
       "      <td>NaN</td>\n",
       "      <td>NaN</td>\n",
       "    </tr>\n",
       "    <tr>\n",
       "      <th>4</th>\n",
       "      <td>Запись пользователя № - user_954</td>\n",
       "      <td>[2019-01-01 21:31:18</td>\n",
       "      <td>NaN</td>\n",
       "      <td>NaN</td>\n",
       "    </tr>\n",
       "    <tr>\n",
       "      <th>...</th>\n",
       "      <td>...</td>\n",
       "      <td>...</td>\n",
       "      <td>...</td>\n",
       "      <td>...</td>\n",
       "    </tr>\n",
       "    <tr>\n",
       "      <th>991</th>\n",
       "      <td>Запись пользователя № - user_965</td>\n",
       "      <td>[2019-04-20 12:55:41</td>\n",
       "      <td>800.0</td>\n",
       "      <td>6927.0</td>\n",
       "    </tr>\n",
       "    <tr>\n",
       "      <th>992</th>\n",
       "      <td>Запись пользователя № - user_967</td>\n",
       "      <td>[2019-04-20 14:59:36</td>\n",
       "      <td>10154.0</td>\n",
       "      <td>NaN</td>\n",
       "    </tr>\n",
       "    <tr>\n",
       "      <th>993</th>\n",
       "      <td>Запись пользователя № - user_973</td>\n",
       "      <td>[2019-04-20 17:09:56</td>\n",
       "      <td>10254.0</td>\n",
       "      <td>NaN</td>\n",
       "    </tr>\n",
       "    <tr>\n",
       "      <th>994</th>\n",
       "      <td>Запись пользователя № - user_977</td>\n",
       "      <td>[2019-04-20 18:10:07</td>\n",
       "      <td>10354.0</td>\n",
       "      <td>NaN</td>\n",
       "    </tr>\n",
       "    <tr>\n",
       "      <th>995</th>\n",
       "      <td>Запись пользователя № - user_984</td>\n",
       "      <td>[2019-04-20 9:59:58</td>\n",
       "      <td>9754.0</td>\n",
       "      <td>NaN</td>\n",
       "    </tr>\n",
       "  </tbody>\n",
       "</table>\n",
       "<p>986 rows × 4 columns</p>\n",
       "</div>"
      ],
      "text/plain": [
       "                              user_id                  time      bet     win\n",
       "0    Запись пользователя № - user_919  [2019-01-01 14:06:51      NaN     NaN\n",
       "1    Запись пользователя № - user_973  [2019-01-01 14:51:16      NaN     NaN\n",
       "2    Запись пользователя № - user_903  [2019-01-01 16:31:16      NaN     NaN\n",
       "3    Запись пользователя № - user_954  [2019-01-01 17:17:51      NaN     NaN\n",
       "4    Запись пользователя № - user_954  [2019-01-01 21:31:18      NaN     NaN\n",
       "..                                ...                   ...      ...     ...\n",
       "991  Запись пользователя № - user_965  [2019-04-20 12:55:41    800.0  6927.0\n",
       "992  Запись пользователя № - user_967  [2019-04-20 14:59:36  10154.0     NaN\n",
       "993  Запись пользователя № - user_973  [2019-04-20 17:09:56  10254.0     NaN\n",
       "994  Запись пользователя № - user_977  [2019-04-20 18:10:07  10354.0     NaN\n",
       "995  Запись пользователя № - user_984   [2019-04-20 9:59:58   9754.0     NaN\n",
       "\n",
       "[986 rows x 4 columns]"
      ]
     },
     "execution_count": 17,
     "metadata": {},
     "output_type": "execute_result"
    }
   ],
   "source": [
    "new_log3 = log.drop_duplicates(subset = ['user_id', 'time'])\n",
    "new_log3"
   ]
  },
  {
   "cell_type": "code",
   "execution_count": null,
   "metadata": {},
   "outputs": [],
   "source": [
    "log['time'] = log['time'].str.replace('[', '')\n",
    "log['time'] = pd.to_datetime(log['time'], format = '%Y-%m-%d')\n",
    "log['time'] = log.time.dropna(axis = 0)\n",
    "log"
   ]
  },
  {
   "cell_type": "code",
   "execution_count": 46,
   "metadata": {},
   "outputs": [
    {
     "data": {
      "text/plain": [
       "Timestamp('2019-04-20 18:10:07')"
      ]
     },
     "execution_count": 46,
     "metadata": {},
     "output_type": "execute_result"
    }
   ],
   "source": [
    "log.time.max()"
   ]
  },
  {
   "cell_type": "code",
   "execution_count": 48,
   "metadata": {},
   "outputs": [
    {
     "data": {
      "text/plain": [
       "36.0    25\n",
       "31.0    23\n",
       "6.0     22\n",
       "50.0    22\n",
       "14.0    21\n",
       "29.0    21\n",
       "12.0    21\n",
       "5.0     21\n",
       "40.0    21\n",
       "18.0    21\n",
       "43.0    21\n",
       "53.0    21\n",
       "58.0    20\n",
       "57.0    20\n",
       "45.0    20\n",
       "48.0    20\n",
       "2.0     20\n",
       "21.0    19\n",
       "56.0    19\n",
       "27.0    19\n",
       "9.0     18\n",
       "54.0    18\n",
       "47.0    18\n",
       "20.0    18\n",
       "34.0    18\n",
       "35.0    18\n",
       "3.0     18\n",
       "33.0    18\n",
       "51.0    17\n",
       "10.0    17\n",
       "55.0    16\n",
       "25.0    16\n",
       "17.0    16\n",
       "49.0    15\n",
       "28.0    15\n",
       "24.0    15\n",
       "30.0    15\n",
       "38.0    15\n",
       "15.0    15\n",
       "37.0    15\n",
       "16.0    15\n",
       "7.0     14\n",
       "4.0     14\n",
       "44.0    14\n",
       "19.0    14\n",
       "32.0    14\n",
       "59.0    13\n",
       "41.0    13\n",
       "1.0     13\n",
       "0.0     12\n",
       "23.0    12\n",
       "39.0    12\n",
       "22.0    11\n",
       "13.0    11\n",
       "42.0    11\n",
       "52.0    10\n",
       "46.0    10\n",
       "8.0      9\n",
       "26.0     9\n",
       "11.0     6\n",
       "Name: time, dtype: int64"
      ]
     },
     "execution_count": 48,
     "metadata": {},
     "output_type": "execute_result"
    }
   ],
   "source": [
    "log.time.dt.minute.value_counts() #Подсчет уникальных значений минут из 'time'"
   ]
  },
  {
   "cell_type": "code",
   "execution_count": 49,
   "metadata": {},
   "outputs": [
    {
     "data": {
      "text/plain": [
       "4.0    170\n",
       "2.0    259\n",
       "3.0    264\n",
       "1.0    292\n",
       "Name: time, dtype: int64"
      ]
     },
     "execution_count": 49,
     "metadata": {},
     "output_type": "execute_result"
    }
   ],
   "source": [
    "log.time.dt.month.value_counts(ascending = True)"
   ]
  },
  {
   "cell_type": "code",
   "execution_count": 69,
   "metadata": {},
   "outputs": [
    {
     "data": {
      "text/plain": [
       "283"
      ]
     },
     "execution_count": 69,
     "metadata": {},
     "output_type": "execute_result"
    }
   ],
   "source": [
    "new_log4 = log.time.dt.dayofweek\n",
    "new_log4[(new_log4 == 5.0) | (new_log4 == 6.0)].value_counts().sum()"
   ]
  },
  {
   "cell_type": "code",
   "execution_count": 67,
   "metadata": {},
   "outputs": [
    {
     "data": {
      "text/plain": [
       "5.0    152\n",
       "2.0    150\n",
       "1.0    150\n",
       "0.0    135\n",
       "4.0    135\n",
       "3.0    132\n",
       "6.0    131\n",
       "Name: time, dtype: int64"
      ]
     },
     "execution_count": 67,
     "metadata": {},
     "output_type": "execute_result"
    }
   ],
   "source": [
    "new_log4.value_counts()"
   ]
  },
  {
   "cell_type": "code",
   "execution_count": 169,
   "metadata": {},
   "outputs": [],
   "source": [
    "def time_to_call():\n",
    "    if x >=0 and x <=5:\n",
    "        return 'ночь'\n",
    "    elif x>= 6 and x<=11:\n",
    "        return 'утро'\n",
    "    elif x>= 12 and x<=17:\n",
    "        return 'день'\n",
    "    else:\n",
    "        return 'вечер'"
   ]
  },
  {
   "cell_type": "code",
   "execution_count": 194,
   "metadata": {},
   "outputs": [
    {
     "ename": "TypeError",
     "evalue": "time_to_call() takes 0 positional arguments but 1 was given",
     "output_type": "error",
     "traceback": [
      "\u001b[1;31m---------------------------------------------------------------------------\u001b[0m",
      "\u001b[1;31mTypeError\u001b[0m                                 Traceback (most recent call last)",
      "\u001b[1;32m<ipython-input-194-b8a67f62ebe5>\u001b[0m in \u001b[0;36m<module>\u001b[1;34m\u001b[0m\n\u001b[0;32m      1\u001b[0m \u001b[0mlog\u001b[0m \u001b[1;33m=\u001b[0m \u001b[0mlog\u001b[0m\u001b[1;33m.\u001b[0m\u001b[0mdropna\u001b[0m\u001b[1;33m(\u001b[0m\u001b[0msubset\u001b[0m \u001b[1;33m=\u001b[0m \u001b[1;33m[\u001b[0m\u001b[1;34m'time'\u001b[0m\u001b[1;33m]\u001b[0m\u001b[1;33m,\u001b[0m \u001b[0maxis\u001b[0m \u001b[1;33m=\u001b[0m \u001b[1;36m0\u001b[0m\u001b[1;33m)\u001b[0m\u001b[1;33m\u001b[0m\u001b[1;33m\u001b[0m\u001b[0m\n\u001b[1;32m----> 2\u001b[1;33m \u001b[0mlog\u001b[0m\u001b[1;33m[\u001b[0m\u001b[1;34m'time_of_day'\u001b[0m\u001b[1;33m]\u001b[0m \u001b[1;33m=\u001b[0m \u001b[0mlog\u001b[0m\u001b[1;33m.\u001b[0m\u001b[0mtime\u001b[0m\u001b[1;33m.\u001b[0m\u001b[0mapply\u001b[0m\u001b[1;33m(\u001b[0m\u001b[0mtime_to_call\u001b[0m\u001b[1;33m(\u001b[0m\u001b[0mlog\u001b[0m\u001b[1;33m.\u001b[0m\u001b[0mtime\u001b[0m\u001b[1;33m)\u001b[0m\u001b[1;33m)\u001b[0m\u001b[1;33m\u001b[0m\u001b[1;33m\u001b[0m\u001b[0m\n\u001b[0m\u001b[0;32m      3\u001b[0m \u001b[0mlog\u001b[0m\u001b[1;33m.\u001b[0m\u001b[0mtime\u001b[0m\u001b[1;33m\u001b[0m\u001b[1;33m\u001b[0m\u001b[0m\n",
      "\u001b[1;31mTypeError\u001b[0m: time_to_call() takes 0 positional arguments but 1 was given"
     ]
    }
   ],
   "source": [
    "log = log.dropna(subset = ['time'], axis = 0)\n",
    "log['time_of_day'] = log.time.apply(time_to_call(log.time))\n",
    "log.time"
   ]
  },
  {
   "cell_type": "code",
   "execution_count": 195,
   "metadata": {},
   "outputs": [
    {
     "ename": "TypeError",
     "evalue": "time_to_call() takes 0 positional arguments but 1 was given",
     "output_type": "error",
     "traceback": [
      "\u001b[1;31m---------------------------------------------------------------------------\u001b[0m",
      "\u001b[1;31mTypeError\u001b[0m                                 Traceback (most recent call last)",
      "\u001b[1;32m<ipython-input-195-ba6950d9da8c>\u001b[0m in \u001b[0;36m<module>\u001b[1;34m\u001b[0m\n\u001b[1;32m----> 1\u001b[1;33m \u001b[0mtime_to_call\u001b[0m\u001b[1;33m(\u001b[0m\u001b[0mlog\u001b[0m\u001b[1;33m.\u001b[0m\u001b[0mtime\u001b[0m\u001b[1;33m)\u001b[0m\u001b[1;33m\u001b[0m\u001b[1;33m\u001b[0m\u001b[0m\n\u001b[0m",
      "\u001b[1;31mTypeError\u001b[0m: time_to_call() takes 0 positional arguments but 1 was given"
     ]
    }
   ],
   "source": [
    "time_to_call(log.time)"
   ]
  },
  {
   "cell_type": "code",
   "execution_count": 196,
   "metadata": {},
   "outputs": [
    {
     "ename": "TypeError",
     "evalue": "time_to_call() takes 0 positional arguments but 1 was given",
     "output_type": "error",
     "traceback": [
      "\u001b[1;31m---------------------------------------------------------------------------\u001b[0m",
      "\u001b[1;31mTypeError\u001b[0m                                 Traceback (most recent call last)",
      "\u001b[1;32m<ipython-input-196-f392a79b9787>\u001b[0m in \u001b[0;36m<module>\u001b[1;34m\u001b[0m\n\u001b[1;32m----> 1\u001b[1;33m \u001b[0mlog\u001b[0m\u001b[1;33m.\u001b[0m\u001b[0mtime\u001b[0m\u001b[1;33m.\u001b[0m\u001b[0mdt\u001b[0m\u001b[1;33m.\u001b[0m\u001b[0mhour\u001b[0m\u001b[1;33m.\u001b[0m\u001b[0mapply\u001b[0m\u001b[1;33m(\u001b[0m\u001b[0mtime_to_call\u001b[0m\u001b[1;33m(\u001b[0m\u001b[0mlog\u001b[0m\u001b[1;33m.\u001b[0m\u001b[0mtime\u001b[0m\u001b[1;33m)\u001b[0m\u001b[1;33m)\u001b[0m\u001b[1;33m\u001b[0m\u001b[1;33m\u001b[0m\u001b[0m\n\u001b[0m",
      "\u001b[1;31mTypeError\u001b[0m: time_to_call() takes 0 positional arguments but 1 was given"
     ]
    }
   ],
   "source": [
    "log.time.dt.hour.apply(time_to_call(log.time))"
   ]
  },
  {
   "cell_type": "code",
   "execution_count": 138,
   "metadata": {},
   "outputs": [
    {
     "data": {
      "text/plain": [
       "вечер    227\n",
       "день     240\n",
       "утро     253\n",
       "ночь     265\n",
       "Name: time, dtype: int64"
      ]
     },
     "execution_count": 138,
     "metadata": {},
     "output_type": "execute_result"
    }
   ],
   "source": [
    "log.new_column = log.time.dt.hour\n",
    "log.new_column = log.new_column.apply(time_to_call)\n",
    "log.new_column.value_counts(ascending = True)"
   ]
  },
  {
   "cell_type": "code",
   "execution_count": 189,
   "metadata": {},
   "outputs": [
    {
     "data": {
      "text/plain": [
       "0      14.0\n",
       "1      14.0\n",
       "2      16.0\n",
       "3      17.0\n",
       "4      21.0\n",
       "       ... \n",
       "995     9.0\n",
       "996     NaN\n",
       "997     NaN\n",
       "998     NaN\n",
       "999     NaN\n",
       "Name: hour, Length: 1000, dtype: float64"
      ]
     },
     "execution_count": 189,
     "metadata": {},
     "output_type": "execute_result"
    }
   ],
   "source": [
    "log = pd.read_csv('log.xls', header = None)\n",
    "log.columns = ['user_id', 'time', 'bet', 'win']\n",
    "log = log.dropna(axis=0)\n",
    "log['time'] = log['time'].str.replace('[', '')\n",
    "log['time'] = pd.to_datetime(log['time'], format = '%Y-%m-%d')\n",
    "log['hour'] = log.time.dt.hour\n",
    "log['hour']"
   ]
  },
  {
   "cell_type": "code",
   "execution_count": 4,
   "metadata": {},
   "outputs": [],
   "source": [
    "log = pd.read_csv('log.xls', header = None)\n",
    "log.columns = ['user_id', 'time', 'bet', 'win']\n",
    "log['time'] = log['time'].str.replace('[', '')\n",
    "log['time'] = pd.to_datetime(log['time'], format = '%Y-%m-%d')\n",
    "log['hour'] = log.time.dt.hour"
   ]
  },
  {
   "cell_type": "code",
   "execution_count": 5,
   "metadata": {},
   "outputs": [
    {
     "data": {
      "text/html": [
       "<div>\n",
       "<style scoped>\n",
       "    .dataframe tbody tr th:only-of-type {\n",
       "        vertical-align: middle;\n",
       "    }\n",
       "\n",
       "    .dataframe tbody tr th {\n",
       "        vertical-align: top;\n",
       "    }\n",
       "\n",
       "    .dataframe thead th {\n",
       "        text-align: right;\n",
       "    }\n",
       "</style>\n",
       "<table border=\"1\" class=\"dataframe\">\n",
       "  <thead>\n",
       "    <tr style=\"text-align: right;\">\n",
       "      <th></th>\n",
       "      <th>user_id</th>\n",
       "      <th>time</th>\n",
       "      <th>bet</th>\n",
       "      <th>win</th>\n",
       "      <th>hour</th>\n",
       "      <th>net</th>\n",
       "    </tr>\n",
       "  </thead>\n",
       "  <tbody>\n",
       "    <tr>\n",
       "      <th>0</th>\n",
       "      <td>Запись пользователя № - user_919</td>\n",
       "      <td>2019-01-01 14:06:51</td>\n",
       "      <td>0.0</td>\n",
       "      <td>0.0</td>\n",
       "      <td>14.0</td>\n",
       "      <td>0.0</td>\n",
       "    </tr>\n",
       "    <tr>\n",
       "      <th>1</th>\n",
       "      <td>Запись пользователя № - user_973</td>\n",
       "      <td>2019-01-01 14:51:16</td>\n",
       "      <td>0.0</td>\n",
       "      <td>0.0</td>\n",
       "      <td>14.0</td>\n",
       "      <td>0.0</td>\n",
       "    </tr>\n",
       "    <tr>\n",
       "      <th>2</th>\n",
       "      <td>Запись пользователя № - user_903</td>\n",
       "      <td>2019-01-01 16:31:16</td>\n",
       "      <td>0.0</td>\n",
       "      <td>0.0</td>\n",
       "      <td>16.0</td>\n",
       "      <td>0.0</td>\n",
       "    </tr>\n",
       "    <tr>\n",
       "      <th>3</th>\n",
       "      <td>Запись пользователя № - user_954</td>\n",
       "      <td>2019-01-01 17:17:51</td>\n",
       "      <td>0.0</td>\n",
       "      <td>0.0</td>\n",
       "      <td>17.0</td>\n",
       "      <td>0.0</td>\n",
       "    </tr>\n",
       "    <tr>\n",
       "      <th>4</th>\n",
       "      <td>Запись пользователя № - user_954</td>\n",
       "      <td>2019-01-01 21:31:18</td>\n",
       "      <td>0.0</td>\n",
       "      <td>0.0</td>\n",
       "      <td>21.0</td>\n",
       "      <td>0.0</td>\n",
       "    </tr>\n",
       "    <tr>\n",
       "      <th>...</th>\n",
       "      <td>...</td>\n",
       "      <td>...</td>\n",
       "      <td>...</td>\n",
       "      <td>...</td>\n",
       "      <td>...</td>\n",
       "      <td>...</td>\n",
       "    </tr>\n",
       "    <tr>\n",
       "      <th>995</th>\n",
       "      <td>Запись пользователя № - user_984</td>\n",
       "      <td>2019-04-20 09:59:58</td>\n",
       "      <td>9754.0</td>\n",
       "      <td>0.0</td>\n",
       "      <td>9.0</td>\n",
       "      <td>-9754.0</td>\n",
       "    </tr>\n",
       "    <tr>\n",
       "      <th>996</th>\n",
       "      <td>#error</td>\n",
       "      <td>NaT</td>\n",
       "      <td>10054.0</td>\n",
       "      <td>29265.0</td>\n",
       "      <td>NaN</td>\n",
       "      <td>19211.0</td>\n",
       "    </tr>\n",
       "    <tr>\n",
       "      <th>997</th>\n",
       "      <td>#error</td>\n",
       "      <td>NaT</td>\n",
       "      <td>10454.0</td>\n",
       "      <td>0.0</td>\n",
       "      <td>NaN</td>\n",
       "      <td>-10454.0</td>\n",
       "    </tr>\n",
       "    <tr>\n",
       "      <th>998</th>\n",
       "      <td>#error</td>\n",
       "      <td>NaT</td>\n",
       "      <td>1000.0</td>\n",
       "      <td>0.0</td>\n",
       "      <td>NaN</td>\n",
       "      <td>-1000.0</td>\n",
       "    </tr>\n",
       "    <tr>\n",
       "      <th>999</th>\n",
       "      <td>#error</td>\n",
       "      <td>NaT</td>\n",
       "      <td>10754.0</td>\n",
       "      <td>0.0</td>\n",
       "      <td>NaN</td>\n",
       "      <td>-10754.0</td>\n",
       "    </tr>\n",
       "  </tbody>\n",
       "</table>\n",
       "<p>1000 rows × 6 columns</p>\n",
       "</div>"
      ],
      "text/plain": [
       "                              user_id                time      bet      win  \\\n",
       "0    Запись пользователя № - user_919 2019-01-01 14:06:51      0.0      0.0   \n",
       "1    Запись пользователя № - user_973 2019-01-01 14:51:16      0.0      0.0   \n",
       "2    Запись пользователя № - user_903 2019-01-01 16:31:16      0.0      0.0   \n",
       "3    Запись пользователя № - user_954 2019-01-01 17:17:51      0.0      0.0   \n",
       "4    Запись пользователя № - user_954 2019-01-01 21:31:18      0.0      0.0   \n",
       "..                                ...                 ...      ...      ...   \n",
       "995  Запись пользователя № - user_984 2019-04-20 09:59:58   9754.0      0.0   \n",
       "996                            #error                 NaT  10054.0  29265.0   \n",
       "997                            #error                 NaT  10454.0      0.0   \n",
       "998                            #error                 NaT   1000.0      0.0   \n",
       "999                            #error                 NaT  10754.0      0.0   \n",
       "\n",
       "     hour      net  \n",
       "0    14.0      0.0  \n",
       "1    14.0      0.0  \n",
       "2    16.0      0.0  \n",
       "3    17.0      0.0  \n",
       "4    21.0      0.0  \n",
       "..    ...      ...  \n",
       "995   9.0  -9754.0  \n",
       "996   NaN  19211.0  \n",
       "997   NaN -10454.0  \n",
       "998   NaN  -1000.0  \n",
       "999   NaN -10754.0  \n",
       "\n",
       "[1000 rows x 6 columns]"
      ]
     },
     "execution_count": 5,
     "metadata": {},
     "output_type": "execute_result"
    }
   ],
   "source": [
    "log.bet = log.bet.fillna(0) #заполнение столбца значением \"0\" вместо NaN (None)\n",
    "log.win = log.win.fillna(0)\n",
    "log['net'] = log.win - log.bet\n",
    "log"
   ]
  },
  {
   "cell_type": "code",
   "execution_count": 226,
   "metadata": {},
   "outputs": [
    {
     "data": {
      "text/plain": [
       "14     1841921.0\n",
       "29     8198222.0\n",
       "151       4649.0\n",
       "189       4467.0\n",
       "205       4019.0\n",
       "         ...    \n",
       "981       6235.0\n",
       "986      19518.0\n",
       "987      21080.0\n",
       "991       6127.0\n",
       "996      19211.0\n",
       "Length: 138, dtype: float64"
      ]
     },
     "execution_count": 226,
     "metadata": {},
     "output_type": "execute_result"
    }
   ],
   "source": [
    "log.net[log.net > 0] # расчет положительного выигрыша"
   ]
  },
  {
   "cell_type": "code",
   "execution_count": 227,
   "metadata": {},
   "outputs": [
    {
     "data": {
      "text/plain": [
       "80253.0"
      ]
     },
     "execution_count": 227,
     "metadata": {},
     "output_type": "execute_result"
    }
   ],
   "source": [
    "round(log.net[log.net > 0].mean(), 0)"
   ]
  },
  {
   "cell_type": "code",
   "execution_count": 228,
   "metadata": {},
   "outputs": [
    {
     "data": {
      "text/plain": [
       "5347.0"
      ]
     },
     "execution_count": 228,
     "metadata": {},
     "output_type": "execute_result"
    }
   ],
   "source": [
    "round(log.net[log.net > 0].median(), 0)"
   ]
  },
  {
   "cell_type": "code",
   "execution_count": 230,
   "metadata": {},
   "outputs": [
    {
     "data": {
      "text/plain": [
       "48.5"
      ]
     },
     "execution_count": 230,
     "metadata": {},
     "output_type": "execute_result"
    }
   ],
   "source": [
    "round((100 * log.bet[log.bet > 0].count() / log.bet.count()), 1) #расчет процента, сделавших ставку среди всех пришедших"
   ]
  },
  {
   "cell_type": "code",
   "execution_count": 233,
   "metadata": {},
   "outputs": [
    {
     "data": {
      "text/plain": [
       "6785"
      ]
     },
     "execution_count": 233,
     "metadata": {},
     "output_type": "execute_result"
    }
   ],
   "source": [
    "int(log.bet[log.bet > 0].mean()) #расчет средней ставки с отбросом дробной части без округления"
   ]
  },
  {
   "cell_type": "code",
   "execution_count": 236,
   "metadata": {},
   "outputs": [
    {
     "data": {
      "text/plain": [
       "20421"
      ]
     },
     "execution_count": 236,
     "metadata": {},
     "output_type": "execute_result"
    }
   ],
   "source": [
    "int(log.net[log.net != 0].mean())"
   ]
  },
  {
   "cell_type": "code",
   "execution_count": 237,
   "metadata": {},
   "outputs": [
    {
     "data": {
      "text/plain": [
       "-3372"
      ]
     },
     "execution_count": 237,
     "metadata": {},
     "output_type": "execute_result"
    }
   ],
   "source": [
    "int(log.net[log.net < 0].mean())"
   ]
  },
  {
   "cell_type": "code",
   "execution_count": 246,
   "metadata": {},
   "outputs": [
    {
     "name": "stdout",
     "output_type": "stream",
     "text": [
      "Процент выигравших = 13.8 Процент проигравших = 34.7\n"
     ]
    }
   ],
   "source": [
    "won = round(100 * (log.net[log.net > 0].count() / log.net.count()), 1)\n",
    "lose = round(100 * (log.net[log.net < 0].count() / log.net.count()), 1)\n",
    "print('Процент выигравших = {} Процент проигравших = {}'.format(won,lose) )"
   ]
  },
  {
   "cell_type": "code",
   "execution_count": 274,
   "metadata": {},
   "outputs": [
    {
     "data": {
      "text/plain": [
       "48"
      ]
     },
     "execution_count": 274,
     "metadata": {},
     "output_type": "execute_result"
    }
   ],
   "source": [
    "pre_min_bet_amount = log.bet[log.bet > 0].min()\n",
    "min_bet_amount = log.bet[log.bet == pre_min_bet_amount].count()\n",
    "min_bet_amount"
   ]
  },
  {
   "cell_type": "code",
   "execution_count": 11,
   "metadata": {},
   "outputs": [
    {
     "name": "stderr",
     "output_type": "stream",
     "text": [
      "C:\\Users\\stepn\\anaconda3\\lib\\site-packages\\pandas\\core\\generic.py:5303: SettingWithCopyWarning: \n",
      "A value is trying to be set on a copy of a slice from a DataFrame.\n",
      "Try using .loc[row_indexer,col_indexer] = value instead\n",
      "\n",
      "See the caveats in the documentation: https://pandas.pydata.org/pandas-docs/stable/user_guide/indexing.html#returning-a-view-versus-a-copy\n",
      "  self[name] = value\n"
     ]
    }
   ],
   "source": [
    "# Приведем признак user_id к одному формату в обоих датасетах  \n",
    "us = pd.read_csv('users.xls', encoding = 'koi8_r', sep = '\\t')\n",
    "us.columns = ['user_id', 'mail', 'geo']\n",
    "us.user_id = us.user_id.apply(lambda x: x.lower())\n",
    "# Избавимся от ошибок в user_id  \n",
    "log = log[log.user_id != '#error']  \n",
    "log.user_id = log.user_id.str.split(' - ').apply(lambda x: x[1])  "
   ]
  },
  {
   "cell_type": "code",
   "execution_count": 13,
   "metadata": {},
   "outputs": [
    {
     "data": {
      "text/plain": [
       "(     user_id                      mail          geo\n",
       " 0   user_943       Accumanst@gmail.com       Ижевск\n",
       " 1   user_908         Advismowr@mail.ru       Ижевск\n",
       " 2   user_962           Anachso@ukr.net    Краснодар\n",
       " 3   user_973          Antecia@inbox.ru        Пермь\n",
       " 4   user_902        Balliaryva@ukr.net          NaN\n",
       " ..       ...                       ...          ...\n",
       " 95  user_959  UpdatesCurious@yahoo.com       Тюмень\n",
       " 96  user_901        V2artierso@mail.ru  Арзангелтск\n",
       " 97  user_970          Vashoterlo@bk.ru      Воронеж\n",
       " 98  user_965       Visuareda@yahoo.com      Воронеж\n",
       " 99  user_921              Aavast@ya.ru       Ижевск\n",
       " \n",
       " [100 rows x 3 columns],\n",
       "       user_id                time      bet     win  hour      net\n",
       " 0    user_919 2019-01-01 14:06:51      0.0     0.0  14.0      0.0\n",
       " 1    user_973 2019-01-01 14:51:16      0.0     0.0  14.0      0.0\n",
       " 2    user_903 2019-01-01 16:31:16      0.0     0.0  16.0      0.0\n",
       " 3    user_954 2019-01-01 17:17:51      0.0     0.0  17.0      0.0\n",
       " 4    user_954 2019-01-01 21:31:18      0.0     0.0  21.0      0.0\n",
       " ..        ...                 ...      ...     ...   ...      ...\n",
       " 991  user_965 2019-04-20 12:55:41    800.0  6927.0  12.0   6127.0\n",
       " 992  user_967 2019-04-20 14:59:36  10154.0     0.0  14.0 -10154.0\n",
       " 993  user_973 2019-04-20 17:09:56  10254.0     0.0  17.0 -10254.0\n",
       " 994  user_977 2019-04-20 18:10:07  10354.0     0.0  18.0 -10354.0\n",
       " 995  user_984 2019-04-20 09:59:58   9754.0     0.0   9.0  -9754.0\n",
       " \n",
       " [985 rows x 6 columns])"
      ]
     },
     "execution_count": 13,
     "metadata": {},
     "output_type": "execute_result"
    }
   ],
   "source": [
    "us, log"
   ]
  },
  {
   "cell_type": "code",
   "execution_count": 17,
   "metadata": {},
   "outputs": [
    {
     "data": {
      "text/html": [
       "<div>\n",
       "<style scoped>\n",
       "    .dataframe tbody tr th:only-of-type {\n",
       "        vertical-align: middle;\n",
       "    }\n",
       "\n",
       "    .dataframe tbody tr th {\n",
       "        vertical-align: top;\n",
       "    }\n",
       "\n",
       "    .dataframe thead th {\n",
       "        text-align: right;\n",
       "    }\n",
       "</style>\n",
       "<table border=\"1\" class=\"dataframe\">\n",
       "  <thead>\n",
       "    <tr style=\"text-align: right;\">\n",
       "      <th></th>\n",
       "      <th>user_id</th>\n",
       "      <th>time</th>\n",
       "      <th>bet</th>\n",
       "      <th>win</th>\n",
       "      <th>hour</th>\n",
       "      <th>net</th>\n",
       "      <th>mail</th>\n",
       "      <th>geo</th>\n",
       "    </tr>\n",
       "  </thead>\n",
       "  <tbody>\n",
       "    <tr>\n",
       "      <th>0</th>\n",
       "      <td>user_919</td>\n",
       "      <td>2019-01-01 14:06:51</td>\n",
       "      <td>0.0</td>\n",
       "      <td>0.0</td>\n",
       "      <td>14.0</td>\n",
       "      <td>0.0</td>\n",
       "      <td>Chikkaverle@icloud.com</td>\n",
       "      <td>Хабаровск</td>\n",
       "    </tr>\n",
       "    <tr>\n",
       "      <th>1</th>\n",
       "      <td>user_919</td>\n",
       "      <td>2019-01-30 10:06:00</td>\n",
       "      <td>0.0</td>\n",
       "      <td>0.0</td>\n",
       "      <td>10.0</td>\n",
       "      <td>0.0</td>\n",
       "      <td>Chikkaverle@icloud.com</td>\n",
       "      <td>Хабаровск</td>\n",
       "    </tr>\n",
       "    <tr>\n",
       "      <th>2</th>\n",
       "      <td>user_919</td>\n",
       "      <td>2019-02-05 14:33:44</td>\n",
       "      <td>0.0</td>\n",
       "      <td>0.0</td>\n",
       "      <td>14.0</td>\n",
       "      <td>0.0</td>\n",
       "      <td>Chikkaverle@icloud.com</td>\n",
       "      <td>Хабаровск</td>\n",
       "    </tr>\n",
       "    <tr>\n",
       "      <th>3</th>\n",
       "      <td>user_919</td>\n",
       "      <td>2019-02-14 11:38:05</td>\n",
       "      <td>0.0</td>\n",
       "      <td>0.0</td>\n",
       "      <td>11.0</td>\n",
       "      <td>0.0</td>\n",
       "      <td>Chikkaverle@icloud.com</td>\n",
       "      <td>Хабаровск</td>\n",
       "    </tr>\n",
       "    <tr>\n",
       "      <th>4</th>\n",
       "      <td>user_919</td>\n",
       "      <td>2019-03-02 04:23:36</td>\n",
       "      <td>300.0</td>\n",
       "      <td>0.0</td>\n",
       "      <td>4.0</td>\n",
       "      <td>-300.0</td>\n",
       "      <td>Chikkaverle@icloud.com</td>\n",
       "      <td>Хабаровск</td>\n",
       "    </tr>\n",
       "    <tr>\n",
       "      <th>...</th>\n",
       "      <td>...</td>\n",
       "      <td>...</td>\n",
       "      <td>...</td>\n",
       "      <td>...</td>\n",
       "      <td>...</td>\n",
       "      <td>...</td>\n",
       "      <td>...</td>\n",
       "      <td>...</td>\n",
       "    </tr>\n",
       "    <tr>\n",
       "      <th>970</th>\n",
       "      <td>user_932</td>\n",
       "      <td>2019-02-24 22:40:06</td>\n",
       "      <td>0.0</td>\n",
       "      <td>0.0</td>\n",
       "      <td>22.0</td>\n",
       "      <td>0.0</td>\n",
       "      <td>BraceWalker@bk.ru</td>\n",
       "      <td>Красноярск</td>\n",
       "    </tr>\n",
       "    <tr>\n",
       "      <th>971</th>\n",
       "      <td>user_932</td>\n",
       "      <td>2019-03-15 10:56:14</td>\n",
       "      <td>0.0</td>\n",
       "      <td>0.0</td>\n",
       "      <td>10.0</td>\n",
       "      <td>0.0</td>\n",
       "      <td>BraceWalker@bk.ru</td>\n",
       "      <td>Красноярск</td>\n",
       "    </tr>\n",
       "    <tr>\n",
       "      <th>972</th>\n",
       "      <td>user_932</td>\n",
       "      <td>2019-03-18 10:13:24</td>\n",
       "      <td>0.0</td>\n",
       "      <td>0.0</td>\n",
       "      <td>10.0</td>\n",
       "      <td>0.0</td>\n",
       "      <td>BraceWalker@bk.ru</td>\n",
       "      <td>Красноярск</td>\n",
       "    </tr>\n",
       "    <tr>\n",
       "      <th>973</th>\n",
       "      <td>user_932</td>\n",
       "      <td>2019-03-27 12:18:24</td>\n",
       "      <td>0.0</td>\n",
       "      <td>0.0</td>\n",
       "      <td>12.0</td>\n",
       "      <td>0.0</td>\n",
       "      <td>BraceWalker@bk.ru</td>\n",
       "      <td>Красноярск</td>\n",
       "    </tr>\n",
       "    <tr>\n",
       "      <th>974</th>\n",
       "      <td>user_932</td>\n",
       "      <td>2019-04-18 14:55:26</td>\n",
       "      <td>700.0</td>\n",
       "      <td>6640.0</td>\n",
       "      <td>14.0</td>\n",
       "      <td>5940.0</td>\n",
       "      <td>BraceWalker@bk.ru</td>\n",
       "      <td>Красноярск</td>\n",
       "    </tr>\n",
       "  </tbody>\n",
       "</table>\n",
       "<p>975 rows × 8 columns</p>\n",
       "</div>"
      ],
      "text/plain": [
       "      user_id                time    bet     win  hour     net  \\\n",
       "0    user_919 2019-01-01 14:06:51    0.0     0.0  14.0     0.0   \n",
       "1    user_919 2019-01-30 10:06:00    0.0     0.0  10.0     0.0   \n",
       "2    user_919 2019-02-05 14:33:44    0.0     0.0  14.0     0.0   \n",
       "3    user_919 2019-02-14 11:38:05    0.0     0.0  11.0     0.0   \n",
       "4    user_919 2019-03-02 04:23:36  300.0     0.0   4.0  -300.0   \n",
       "..        ...                 ...    ...     ...   ...     ...   \n",
       "970  user_932 2019-02-24 22:40:06    0.0     0.0  22.0     0.0   \n",
       "971  user_932 2019-03-15 10:56:14    0.0     0.0  10.0     0.0   \n",
       "972  user_932 2019-03-18 10:13:24    0.0     0.0  10.0     0.0   \n",
       "973  user_932 2019-03-27 12:18:24    0.0     0.0  12.0     0.0   \n",
       "974  user_932 2019-04-18 14:55:26  700.0  6640.0  14.0  5940.0   \n",
       "\n",
       "                       mail         geo  \n",
       "0    Chikkaverle@icloud.com   Хабаровск  \n",
       "1    Chikkaverle@icloud.com   Хабаровск  \n",
       "2    Chikkaverle@icloud.com   Хабаровск  \n",
       "3    Chikkaverle@icloud.com   Хабаровск  \n",
       "4    Chikkaverle@icloud.com   Хабаровск  \n",
       "..                      ...         ...  \n",
       "970       BraceWalker@bk.ru  Красноярск  \n",
       "971       BraceWalker@bk.ru  Красноярск  \n",
       "972       BraceWalker@bk.ru  Красноярск  \n",
       "973       BraceWalker@bk.ru  Красноярск  \n",
       "974       BraceWalker@bk.ru  Красноярск  \n",
       "\n",
       "[975 rows x 8 columns]"
      ]
     },
     "execution_count": 17,
     "metadata": {},
     "output_type": "execute_result"
    }
   ],
   "source": [
    "df = pd.merge(log, us, on = 'user_id')\n",
    "df"
   ]
  },
  {
   "cell_type": "code",
   "execution_count": 27,
   "metadata": {},
   "outputs": [
    {
     "data": {
      "text/plain": [
       "1986.0"
      ]
     },
     "execution_count": 27,
     "metadata": {},
     "output_type": "execute_result"
    }
   ],
   "source": [
    "df.groupby('user_id').net.sum().median() #Медиана баланса по каждому пользователю"
   ]
  },
  {
   "cell_type": "code",
   "execution_count": 32,
   "metadata": {},
   "outputs": [
    {
     "data": {
      "text/plain": [
       "4.7"
      ]
     },
     "execution_count": 32,
     "metadata": {},
     "output_type": "execute_result"
    }
   ],
   "source": [
    "group = df[df.bet > 0].groupby('user_id').bet.count() #Среднее количество раз, когда человек приходит и делает ставку (?)\n",
    "group.sum()/ len(group)"
   ]
  },
  {
   "cell_type": "code",
   "execution_count": 50,
   "metadata": {},
   "outputs": [
    {
     "data": {
      "text/plain": [
       "Timedelta('46 days 06:54:48')"
      ]
     },
     "execution_count": 50,
     "metadata": {},
     "output_type": "execute_result"
    }
   ],
   "source": [
    "#Мин. время между первым посещением и первой ставкой (включает отриц. значения, ответ д.б. на 1 больше)\n",
    "delta_time = df[df.bet > 0].groupby('user_id').time.min() - df[df.bet == 0].groupby('user_id').time.min()     \n",
    "delta_time_result = delta_time.sum()/len(delta_time)\n",
    "delta_time_result"
   ]
  },
  {
   "cell_type": "code",
   "execution_count": 64,
   "metadata": {},
   "outputs": [
    {
     "data": {
      "text/plain": [
       "geo\n",
       "Москва             11959741.0\n",
       "Воронеж              184338.0\n",
       "Санкт-Петербург      151007.0\n",
       "Казань                97806.0\n",
       "Ярославль             97441.0\n",
       "Ижевск                84895.0\n",
       "Красноярск            84767.0\n",
       "Арзангелтск           74375.0\n",
       "Пермь                 67734.0\n",
       "Хабаровск             65459.0\n",
       "Краснодар             62718.0\n",
       "Ставрополь            46003.0\n",
       "Екатеринбург          36682.0\n",
       "Тюмень                 4701.0\n",
       "Name: win, dtype: float64"
      ]
     },
     "execution_count": 64,
     "metadata": {},
     "output_type": "execute_result"
    }
   ],
   "source": [
    "lucky_cities = df[df.win > 0].groupby('geo').win.sum().sort_values(ascending = False)\n",
    "lucky_cities"
   ]
  },
  {
   "cell_type": "code",
   "execution_count": 70,
   "metadata": {},
   "outputs": [
    {
     "data": {
      "text/plain": [
       "127"
      ]
     },
     "execution_count": 70,
     "metadata": {},
     "output_type": "execute_result"
    }
   ],
   "source": [
    "mean_bet_min = df[df.bet > 0].groupby('geo').bet.mean().min()\n",
    "mean_bet_max = df[df.bet > 0].groupby('geo').bet.mean().max()\n",
    "int(mean_bet_max/mean_bet_min)"
   ]
  },
  {
   "cell_type": "code",
   "execution_count": 73,
   "metadata": {},
   "outputs": [
    {
     "data": {
      "text/plain": [
       "geo\n",
       "Арзангелтск         96\n",
       "Воронеж             88\n",
       "Екатеринбург        49\n",
       "Ижевск              61\n",
       "Казань              66\n",
       "Краснодар           86\n",
       "Красноярск          56\n",
       "Москва              61\n",
       "Пермь               55\n",
       "Санкт-Петербург    115\n",
       "Ставрополь          36\n",
       "Тюмень              32\n",
       "Хабаровск           60\n",
       "Ярославль           89\n",
       "Name: user_id, dtype: int64"
      ]
     },
     "execution_count": 73,
     "metadata": {},
     "output_type": "execute_result"
    }
   ],
   "source": [
    "sample2 = df.groupby('geo').user_id.count()\n",
    "sample2"
   ]
  },
  {
   "cell_type": "code",
   "execution_count": null,
   "metadata": {},
   "outputs": [],
   "source": []
  }
 ],
 "metadata": {
  "kernelspec": {
   "display_name": "Python 3",
   "language": "python",
   "name": "python3"
  },
  "language_info": {
   "codemirror_mode": {
    "name": "ipython",
    "version": 3
   },
   "file_extension": ".py",
   "mimetype": "text/x-python",
   "name": "python",
   "nbconvert_exporter": "python",
   "pygments_lexer": "ipython3",
   "version": "3.7.6"
  }
 },
 "nbformat": 4,
 "nbformat_minor": 4
}
