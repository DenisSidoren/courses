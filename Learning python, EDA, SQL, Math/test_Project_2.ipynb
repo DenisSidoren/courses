{
 "cells": [
  {
   "cell_type": "code",
   "execution_count": 4,
   "metadata": {},
   "outputs": [],
   "source": [
    "import pandas as pd\n",
    "import matplotlib.pyplot as plt\n",
    "import seaborn as sns\n",
    "from itertools import combinations\n",
    "from scipy.stats import ttest_ind\n",
    "\n",
    "pd.set_option('display.max_rows', 50) # показывать больше строк\n",
    "pd.set_option('display.max_columns', 50) # показывать больше колонок\n",
    "\n",
    "cacao = pd.read_csv('cacao_flavors.xls')"
   ]
  },
  {
   "cell_type": "code",
   "execution_count": 6,
   "metadata": {},
   "outputs": [
    {
     "data": {
      "text/html": [
       "<div>\n",
       "<style scoped>\n",
       "    .dataframe tbody tr th:only-of-type {\n",
       "        vertical-align: middle;\n",
       "    }\n",
       "\n",
       "    .dataframe tbody tr th {\n",
       "        vertical-align: top;\n",
       "    }\n",
       "\n",
       "    .dataframe thead th {\n",
       "        text-align: right;\n",
       "    }\n",
       "</style>\n",
       "<table border=\"1\" class=\"dataframe\">\n",
       "  <thead>\n",
       "    <tr style=\"text-align: right;\">\n",
       "      <th></th>\n",
       "      <th>Bar id</th>\n",
       "      <th>Company \\n(Maker-if known)</th>\n",
       "      <th>Specific Bean Origin\\nor Bar Name</th>\n",
       "      <th>REF</th>\n",
       "      <th>Review\\nDate</th>\n",
       "      <th>Cocoa\\nPercent</th>\n",
       "      <th>Company\\nLocation</th>\n",
       "      <th>Rating</th>\n",
       "      <th>Bean\\nType</th>\n",
       "      <th>Broad Bean\\nOrigin</th>\n",
       "    </tr>\n",
       "  </thead>\n",
       "  <tbody>\n",
       "    <tr>\n",
       "      <th>0</th>\n",
       "      <td>1</td>\n",
       "      <td>A. Morin</td>\n",
       "      <td>Agua Grande</td>\n",
       "      <td>1876</td>\n",
       "      <td>2016</td>\n",
       "      <td>63%</td>\n",
       "      <td>France</td>\n",
       "      <td>11.50</td>\n",
       "      <td></td>\n",
       "      <td>Sao Tome</td>\n",
       "    </tr>\n",
       "    <tr>\n",
       "      <th>1</th>\n",
       "      <td>2</td>\n",
       "      <td>A. Morin</td>\n",
       "      <td>Kpime</td>\n",
       "      <td>1676</td>\n",
       "      <td>2015</td>\n",
       "      <td>70%</td>\n",
       "      <td>France</td>\n",
       "      <td>2.75</td>\n",
       "      <td></td>\n",
       "      <td>Togo</td>\n",
       "    </tr>\n",
       "    <tr>\n",
       "      <th>2</th>\n",
       "      <td>3</td>\n",
       "      <td>A. Morin</td>\n",
       "      <td>Atsane</td>\n",
       "      <td>1676</td>\n",
       "      <td>2015</td>\n",
       "      <td>670%</td>\n",
       "      <td>France</td>\n",
       "      <td>3.00</td>\n",
       "      <td></td>\n",
       "      <td>Togo</td>\n",
       "    </tr>\n",
       "    <tr>\n",
       "      <th>3</th>\n",
       "      <td>4</td>\n",
       "      <td>A. Morin</td>\n",
       "      <td>Akata</td>\n",
       "      <td>1680</td>\n",
       "      <td>2015</td>\n",
       "      <td>70%</td>\n",
       "      <td>France</td>\n",
       "      <td>3.50</td>\n",
       "      <td></td>\n",
       "      <td>Togo</td>\n",
       "    </tr>\n",
       "    <tr>\n",
       "      <th>4</th>\n",
       "      <td>5</td>\n",
       "      <td>A. Morin</td>\n",
       "      <td>Quilla</td>\n",
       "      <td>1704</td>\n",
       "      <td>2015</td>\n",
       "      <td>70%</td>\n",
       "      <td>France</td>\n",
       "      <td>3.50</td>\n",
       "      <td></td>\n",
       "      <td>Peru</td>\n",
       "    </tr>\n",
       "    <tr>\n",
       "      <th>5</th>\n",
       "      <td>6</td>\n",
       "      <td>A. Morin</td>\n",
       "      <td>Carenero</td>\n",
       "      <td>1315</td>\n",
       "      <td>2014</td>\n",
       "      <td>70%</td>\n",
       "      <td>France</td>\n",
       "      <td>2.75</td>\n",
       "      <td>Criollo</td>\n",
       "      <td>Venezuela</td>\n",
       "    </tr>\n",
       "    <tr>\n",
       "      <th>6</th>\n",
       "      <td>7</td>\n",
       "      <td>A. Morin</td>\n",
       "      <td>Cuba</td>\n",
       "      <td>1315</td>\n",
       "      <td>2014</td>\n",
       "      <td>70%</td>\n",
       "      <td>France</td>\n",
       "      <td>3.50</td>\n",
       "      <td></td>\n",
       "      <td>Cuba</td>\n",
       "    </tr>\n",
       "    <tr>\n",
       "      <th>7</th>\n",
       "      <td>8</td>\n",
       "      <td>A. Morin</td>\n",
       "      <td>Sur del Lago</td>\n",
       "      <td>1315</td>\n",
       "      <td>2014</td>\n",
       "      <td>70%</td>\n",
       "      <td>France</td>\n",
       "      <td>11.50</td>\n",
       "      <td>Criollo</td>\n",
       "      <td>Venezuela</td>\n",
       "    </tr>\n",
       "    <tr>\n",
       "      <th>8</th>\n",
       "      <td>9</td>\n",
       "      <td></td>\n",
       "      <td>Puerto Cabello</td>\n",
       "      <td>1319</td>\n",
       "      <td>2014</td>\n",
       "      <td>70%</td>\n",
       "      <td>France</td>\n",
       "      <td>3.75</td>\n",
       "      <td>Criollo</td>\n",
       "      <td>Venezuela</td>\n",
       "    </tr>\n",
       "    <tr>\n",
       "      <th>9</th>\n",
       "      <td>10</td>\n",
       "      <td>A. Morin</td>\n",
       "      <td>Pablino</td>\n",
       "      <td>1319</td>\n",
       "      <td>2014</td>\n",
       "      <td>70%</td>\n",
       "      <td>France</td>\n",
       "      <td>4.00</td>\n",
       "      <td></td>\n",
       "      <td>Peru</td>\n",
       "    </tr>\n",
       "  </tbody>\n",
       "</table>\n",
       "</div>"
      ],
      "text/plain": [
       "   Bar id Company \\n(Maker-if known) Specific Bean Origin\\nor Bar Name   REF  \\\n",
       "0       1                   A. Morin                       Agua Grande  1876   \n",
       "1       2                   A. Morin                             Kpime  1676   \n",
       "2       3                   A. Morin                            Atsane  1676   \n",
       "3       4                   A. Morin                             Akata  1680   \n",
       "4       5                   A. Morin                            Quilla  1704   \n",
       "5       6                   A. Morin                          Carenero  1315   \n",
       "6       7                   A. Morin                              Cuba  1315   \n",
       "7       8                   A. Morin                      Sur del Lago  1315   \n",
       "8       9                                               Puerto Cabello  1319   \n",
       "9      10                   A. Morin                           Pablino  1319   \n",
       "\n",
       "   Review\\nDate Cocoa\\nPercent Company\\nLocation  Rating Bean\\nType  \\\n",
       "0          2016            63%            France   11.50              \n",
       "1          2015            70%            France    2.75              \n",
       "2          2015           670%            France    3.00              \n",
       "3          2015            70%            France    3.50              \n",
       "4          2015            70%            France    3.50              \n",
       "5          2014            70%            France    2.75    Criollo   \n",
       "6          2014            70%            France    3.50              \n",
       "7          2014            70%            France   11.50    Criollo   \n",
       "8          2014            70%            France    3.75    Criollo   \n",
       "9          2014            70%            France    4.00              \n",
       "\n",
       "  Broad Bean\\nOrigin  \n",
       "0           Sao Tome  \n",
       "1               Togo  \n",
       "2               Togo  \n",
       "3               Togo  \n",
       "4               Peru  \n",
       "5          Venezuela  \n",
       "6               Cuba  \n",
       "7          Venezuela  \n",
       "8          Venezuela  \n",
       "9               Peru  "
      ]
     },
     "metadata": {},
     "output_type": "display_data"
    },
    {
     "name": "stdout",
     "output_type": "stream",
     "text": [
      "<class 'pandas.core.frame.DataFrame'>\n",
      "RangeIndex: 1795 entries, 0 to 1794\n",
      "Data columns (total 10 columns):\n",
      " #   Column                            Non-Null Count  Dtype  \n",
      "---  ------                            --------------  -----  \n",
      " 0   Bar id                            1795 non-null   int64  \n",
      " 1   Company \n",
      "(Maker-if known)         1795 non-null   object \n",
      " 2   Specific Bean Origin\n",
      "or Bar Name  1795 non-null   object \n",
      " 3   REF                               1795 non-null   int64  \n",
      " 4   Review\n",
      "Date                       1795 non-null   int64  \n",
      " 5   Cocoa\n",
      "Percent                     1795 non-null   object \n",
      " 6   Company\n",
      "Location                  1795 non-null   object \n",
      " 7   Rating                            1795 non-null   float64\n",
      " 8   Bean\n",
      "Type                         1794 non-null   object \n",
      " 9   Broad Bean\n",
      "Origin                 1794 non-null   object \n",
      "dtypes: float64(1), int64(3), object(6)\n",
      "memory usage: 140.4+ KB\n"
     ]
    }
   ],
   "source": [
    "display(cacao.head(10))\n",
    "cacao.info() "
   ]
  },
  {
   "cell_type": "code",
   "execution_count": 7,
   "metadata": {},
   "outputs": [],
   "source": [
    "cacao.columns = ['bar_id', 'company',\n",
    "       'specific_origin', 'ref', 'review_date',\n",
    "       'cocoa_percent', 'company_location', 'rating', 'bean_type',\n",
    "       'broad_origin']"
   ]
  },
  {
   "cell_type": "code",
   "execution_count": 6,
   "metadata": {},
   "outputs": [
    {
     "data": {
      "text/html": [
       "<div>\n",
       "<style scoped>\n",
       "    .dataframe tbody tr th:only-of-type {\n",
       "        vertical-align: middle;\n",
       "    }\n",
       "\n",
       "    .dataframe tbody tr th {\n",
       "        vertical-align: top;\n",
       "    }\n",
       "\n",
       "    .dataframe thead th {\n",
       "        text-align: right;\n",
       "    }\n",
       "</style>\n",
       "<table border=\"1\" class=\"dataframe\">\n",
       "  <thead>\n",
       "    <tr style=\"text-align: right;\">\n",
       "      <th></th>\n",
       "      <th>bar_id</th>\n",
       "      <th>company</th>\n",
       "      <th>specific_origin</th>\n",
       "      <th>ref</th>\n",
       "      <th>review_date</th>\n",
       "      <th>cocoa_percent</th>\n",
       "      <th>company_location</th>\n",
       "      <th>rating</th>\n",
       "      <th>bean_type</th>\n",
       "      <th>broad_origin</th>\n",
       "    </tr>\n",
       "  </thead>\n",
       "  <tbody>\n",
       "    <tr>\n",
       "      <th>0</th>\n",
       "      <td>1</td>\n",
       "      <td>A. Morin</td>\n",
       "      <td>Agua Grande</td>\n",
       "      <td>1876</td>\n",
       "      <td>2016</td>\n",
       "      <td>63%</td>\n",
       "      <td>France</td>\n",
       "      <td>11.50</td>\n",
       "      <td></td>\n",
       "      <td>Sao Tome</td>\n",
       "    </tr>\n",
       "    <tr>\n",
       "      <th>1</th>\n",
       "      <td>2</td>\n",
       "      <td>A. Morin</td>\n",
       "      <td>Kpime</td>\n",
       "      <td>1676</td>\n",
       "      <td>2015</td>\n",
       "      <td>70%</td>\n",
       "      <td>France</td>\n",
       "      <td>2.75</td>\n",
       "      <td></td>\n",
       "      <td>Togo</td>\n",
       "    </tr>\n",
       "    <tr>\n",
       "      <th>2</th>\n",
       "      <td>3</td>\n",
       "      <td>A. Morin</td>\n",
       "      <td>Atsane</td>\n",
       "      <td>1676</td>\n",
       "      <td>2015</td>\n",
       "      <td>670%</td>\n",
       "      <td>France</td>\n",
       "      <td>3.00</td>\n",
       "      <td></td>\n",
       "      <td>Togo</td>\n",
       "    </tr>\n",
       "    <tr>\n",
       "      <th>3</th>\n",
       "      <td>4</td>\n",
       "      <td>A. Morin</td>\n",
       "      <td>Akata</td>\n",
       "      <td>1680</td>\n",
       "      <td>2015</td>\n",
       "      <td>70%</td>\n",
       "      <td>France</td>\n",
       "      <td>3.50</td>\n",
       "      <td></td>\n",
       "      <td>Togo</td>\n",
       "    </tr>\n",
       "    <tr>\n",
       "      <th>4</th>\n",
       "      <td>5</td>\n",
       "      <td>A. Morin</td>\n",
       "      <td>Quilla</td>\n",
       "      <td>1704</td>\n",
       "      <td>2015</td>\n",
       "      <td>70%</td>\n",
       "      <td>France</td>\n",
       "      <td>3.50</td>\n",
       "      <td></td>\n",
       "      <td>Peru</td>\n",
       "    </tr>\n",
       "  </tbody>\n",
       "</table>\n",
       "</div>"
      ],
      "text/plain": [
       "   bar_id   company specific_origin   ref  review_date cocoa_percent  \\\n",
       "0       1  A. Morin     Agua Grande  1876         2016           63%   \n",
       "1       2  A. Morin           Kpime  1676         2015           70%   \n",
       "2       3  A. Morin          Atsane  1676         2015          670%   \n",
       "3       4  A. Morin           Akata  1680         2015           70%   \n",
       "4       5  A. Morin          Quilla  1704         2015           70%   \n",
       "\n",
       "  company_location  rating bean_type broad_origin  \n",
       "0           France   11.50               Sao Tome  \n",
       "1           France    2.75                   Togo  \n",
       "2           France    3.00                   Togo  \n",
       "3           France    3.50                   Togo  \n",
       "4           France    3.50                   Peru  "
      ]
     },
     "execution_count": 6,
     "metadata": {},
     "output_type": "execute_result"
    }
   ],
   "source": [
    "cacao.head()"
   ]
  },
  {
   "cell_type": "code",
   "execution_count": 8,
   "metadata": {},
   "outputs": [
    {
     "name": "stdout",
     "output_type": "stream",
     "text": [
      "1795\n"
     ]
    },
    {
     "data": {
      "text/plain": [
       "[<matplotlib.lines.Line2D at 0x1e39c29f4c8>]"
      ]
     },
     "execution_count": 8,
     "metadata": {},
     "output_type": "execute_result"
    },
    {
     "data": {
      "image/png": "[encoded data removed]",
      "text/plain": [
       "<Figure size 432x288 with 1 Axes>"
      ]
     },
     "metadata": {
      "needs_background": "light"
     },
     "output_type": "display_data"
    }
   ],
   "source": [
    "print(cacao.bar_id.nunique())\n",
    "plt.plot(cacao.bar_id)"
   ]
  },
  {
   "cell_type": "code",
   "execution_count": 9,
   "metadata": {},
   "outputs": [],
   "source": [
    "cacao.drop(['bar_id'], inplace = True, axis = 1)"
   ]
  },
  {
   "cell_type": "code",
   "execution_count": 9,
   "metadata": {},
   "outputs": [
    {
     "data": {
      "text/html": [
       "<div>\n",
       "<style scoped>\n",
       "    .dataframe tbody tr th:only-of-type {\n",
       "        vertical-align: middle;\n",
       "    }\n",
       "\n",
       "    .dataframe tbody tr th {\n",
       "        vertical-align: top;\n",
       "    }\n",
       "\n",
       "    .dataframe thead th {\n",
       "        text-align: right;\n",
       "    }\n",
       "</style>\n",
       "<table border=\"1\" class=\"dataframe\">\n",
       "  <thead>\n",
       "    <tr style=\"text-align: right;\">\n",
       "      <th></th>\n",
       "      <th>company</th>\n",
       "      <th>specific_origin</th>\n",
       "      <th>ref</th>\n",
       "      <th>review_date</th>\n",
       "      <th>cocoa_percent</th>\n",
       "      <th>company_location</th>\n",
       "      <th>rating</th>\n",
       "      <th>bean_type</th>\n",
       "      <th>broad_origin</th>\n",
       "    </tr>\n",
       "  </thead>\n",
       "  <tbody>\n",
       "    <tr>\n",
       "      <th>0</th>\n",
       "      <td>A. Morin</td>\n",
       "      <td>Agua Grande</td>\n",
       "      <td>1876</td>\n",
       "      <td>2016</td>\n",
       "      <td>63%</td>\n",
       "      <td>France</td>\n",
       "      <td>11.50</td>\n",
       "      <td></td>\n",
       "      <td>Sao Tome</td>\n",
       "    </tr>\n",
       "    <tr>\n",
       "      <th>1</th>\n",
       "      <td>A. Morin</td>\n",
       "      <td>Kpime</td>\n",
       "      <td>1676</td>\n",
       "      <td>2015</td>\n",
       "      <td>70%</td>\n",
       "      <td>France</td>\n",
       "      <td>2.75</td>\n",
       "      <td></td>\n",
       "      <td>Togo</td>\n",
       "    </tr>\n",
       "    <tr>\n",
       "      <th>2</th>\n",
       "      <td>A. Morin</td>\n",
       "      <td>Atsane</td>\n",
       "      <td>1676</td>\n",
       "      <td>2015</td>\n",
       "      <td>670%</td>\n",
       "      <td>France</td>\n",
       "      <td>3.00</td>\n",
       "      <td></td>\n",
       "      <td>Togo</td>\n",
       "    </tr>\n",
       "    <tr>\n",
       "      <th>3</th>\n",
       "      <td>A. Morin</td>\n",
       "      <td>Akata</td>\n",
       "      <td>1680</td>\n",
       "      <td>2015</td>\n",
       "      <td>70%</td>\n",
       "      <td>France</td>\n",
       "      <td>3.50</td>\n",
       "      <td></td>\n",
       "      <td>Togo</td>\n",
       "    </tr>\n",
       "    <tr>\n",
       "      <th>4</th>\n",
       "      <td>A. Morin</td>\n",
       "      <td>Quilla</td>\n",
       "      <td>1704</td>\n",
       "      <td>2015</td>\n",
       "      <td>70%</td>\n",
       "      <td>France</td>\n",
       "      <td>3.50</td>\n",
       "      <td></td>\n",
       "      <td>Peru</td>\n",
       "    </tr>\n",
       "  </tbody>\n",
       "</table>\n",
       "</div>"
      ],
      "text/plain": [
       "    company specific_origin   ref  review_date cocoa_percent company_location  \\\n",
       "0  A. Morin     Agua Grande  1876         2016           63%           France   \n",
       "1  A. Morin           Kpime  1676         2015           70%           France   \n",
       "2  A. Morin          Atsane  1676         2015          670%           France   \n",
       "3  A. Morin           Akata  1680         2015           70%           France   \n",
       "4  A. Morin          Quilla  1704         2015           70%           France   \n",
       "\n",
       "   rating bean_type broad_origin  \n",
       "0   11.50               Sao Tome  \n",
       "1    2.75                   Togo  \n",
       "2    3.00                   Togo  \n",
       "3    3.50                   Togo  \n",
       "4    3.50                   Peru  "
      ]
     },
     "execution_count": 9,
     "metadata": {},
     "output_type": "execute_result"
    }
   ],
   "source": [
    "cacao.head()"
   ]
  },
  {
   "cell_type": "code",
   "execution_count": 10,
   "metadata": {},
   "outputs": [
    {
     "data": {
      "text/html": [
       "<div>\n",
       "<style scoped>\n",
       "    .dataframe tbody tr th:only-of-type {\n",
       "        vertical-align: middle;\n",
       "    }\n",
       "\n",
       "    .dataframe tbody tr th {\n",
       "        vertical-align: top;\n",
       "    }\n",
       "\n",
       "    .dataframe thead th {\n",
       "        text-align: right;\n",
       "    }\n",
       "</style>\n",
       "<table border=\"1\" class=\"dataframe\">\n",
       "  <thead>\n",
       "    <tr style=\"text-align: right;\">\n",
       "      <th></th>\n",
       "      <th>company</th>\n",
       "    </tr>\n",
       "  </thead>\n",
       "  <tbody>\n",
       "    <tr>\n",
       "      <th></th>\n",
       "      <td>99</td>\n",
       "    </tr>\n",
       "    <tr>\n",
       "      <th>Soma</th>\n",
       "      <td>45</td>\n",
       "    </tr>\n",
       "    <tr>\n",
       "      <th>Bonnat</th>\n",
       "      <td>26</td>\n",
       "    </tr>\n",
       "    <tr>\n",
       "      <th>Fresco</th>\n",
       "      <td>26</td>\n",
       "    </tr>\n",
       "    <tr>\n",
       "      <th>Pralus</th>\n",
       "      <td>25</td>\n",
       "    </tr>\n",
       "    <tr>\n",
       "      <th>...</th>\n",
       "      <td>...</td>\n",
       "    </tr>\n",
       "    <tr>\n",
       "      <th>Vietcacao (A. Morin)</th>\n",
       "      <td>1</td>\n",
       "    </tr>\n",
       "    <tr>\n",
       "      <th>Britarev</th>\n",
       "      <td>1</td>\n",
       "    </tr>\n",
       "    <tr>\n",
       "      <th>Tobago Estate (Pralus)</th>\n",
       "      <td>1</td>\n",
       "    </tr>\n",
       "    <tr>\n",
       "      <th>Tan Ban Skrati</th>\n",
       "      <td>1</td>\n",
       "    </tr>\n",
       "    <tr>\n",
       "      <th>To'ak (Ecuatoriana)</th>\n",
       "      <td>1</td>\n",
       "    </tr>\n",
       "  </tbody>\n",
       "</table>\n",
       "<p>408 rows × 1 columns</p>\n",
       "</div>"
      ],
      "text/plain": [
       "                        company\n",
       "                             99\n",
       "Soma                         45\n",
       "Bonnat                       26\n",
       "Fresco                       26\n",
       "Pralus                       25\n",
       "...                         ...\n",
       "Vietcacao (A. Morin)          1\n",
       "Britarev                      1\n",
       "Tobago Estate (Pralus)        1\n",
       "Tan Ban Skrati                1\n",
       "To'ak (Ecuatoriana)           1\n",
       "\n",
       "[408 rows x 1 columns]"
      ]
     },
     "execution_count": 10,
     "metadata": {},
     "output_type": "execute_result"
    }
   ],
   "source": [
    "pd.DataFrame(cacao.company.value_counts())"
   ]
  },
  {
   "cell_type": "code",
   "execution_count": 11,
   "metadata": {},
   "outputs": [],
   "source": [
    "cacao.company = cacao.company.apply(lambda x: None if x.strip() == '' else x)"
   ]
  },
  {
   "cell_type": "code",
   "execution_count": 12,
   "metadata": {},
   "outputs": [
    {
     "data": {
      "text/html": [
       "<div>\n",
       "<style scoped>\n",
       "    .dataframe tbody tr th:only-of-type {\n",
       "        vertical-align: middle;\n",
       "    }\n",
       "\n",
       "    .dataframe tbody tr th {\n",
       "        vertical-align: top;\n",
       "    }\n",
       "\n",
       "    .dataframe thead th {\n",
       "        text-align: right;\n",
       "    }\n",
       "</style>\n",
       "<table border=\"1\" class=\"dataframe\">\n",
       "  <thead>\n",
       "    <tr style=\"text-align: right;\">\n",
       "      <th></th>\n",
       "      <th>company</th>\n",
       "    </tr>\n",
       "  </thead>\n",
       "  <tbody>\n",
       "    <tr>\n",
       "      <th>Soma</th>\n",
       "      <td>45</td>\n",
       "    </tr>\n",
       "    <tr>\n",
       "      <th>Fresco</th>\n",
       "      <td>26</td>\n",
       "    </tr>\n",
       "    <tr>\n",
       "      <th>Bonnat</th>\n",
       "      <td>26</td>\n",
       "    </tr>\n",
       "    <tr>\n",
       "      <th>Pralus</th>\n",
       "      <td>25</td>\n",
       "    </tr>\n",
       "    <tr>\n",
       "      <th>Domori</th>\n",
       "      <td>22</td>\n",
       "    </tr>\n",
       "    <tr>\n",
       "      <th>...</th>\n",
       "      <td>...</td>\n",
       "    </tr>\n",
       "    <tr>\n",
       "      <th>Britarev</th>\n",
       "      <td>1</td>\n",
       "    </tr>\n",
       "    <tr>\n",
       "      <th>Tobago Estate (Pralus)</th>\n",
       "      <td>1</td>\n",
       "    </tr>\n",
       "    <tr>\n",
       "      <th>Tan Ban Skrati</th>\n",
       "      <td>1</td>\n",
       "    </tr>\n",
       "    <tr>\n",
       "      <th>Nugali</th>\n",
       "      <td>1</td>\n",
       "    </tr>\n",
       "    <tr>\n",
       "      <th>To'ak (Ecuatoriana)</th>\n",
       "      <td>1</td>\n",
       "    </tr>\n",
       "  </tbody>\n",
       "</table>\n",
       "<p>407 rows × 1 columns</p>\n",
       "</div>"
      ],
      "text/plain": [
       "                        company\n",
       "Soma                         45\n",
       "Fresco                       26\n",
       "Bonnat                       26\n",
       "Pralus                       25\n",
       "Domori                       22\n",
       "...                         ...\n",
       "Britarev                      1\n",
       "Tobago Estate (Pralus)        1\n",
       "Tan Ban Skrati                1\n",
       "Nugali                        1\n",
       "To'ak (Ecuatoriana)           1\n",
       "\n",
       "[407 rows x 1 columns]"
      ]
     },
     "metadata": {},
     "output_type": "display_data"
    }
   ],
   "source": [
    "display(pd.DataFrame(cacao.company.value_counts()))"
   ]
  },
  {
   "cell_type": "code",
   "execution_count": 26,
   "metadata": {},
   "outputs": [
    {
     "name": "stdout",
     "output_type": "stream",
     "text": [
      "Значений, встретившихся в столбце более 10 раз: 30\n"
     ]
    }
   ],
   "source": [
    "print(\"Значений, встретившихся в столбце более 10 раз:\"#Число 10 взято для ориентира, можно брать другое\n",
    "      , (cacao.company.value_counts()>10).sum())"
   ]
  },
  {
   "cell_type": "code",
   "execution_count": 27,
   "metadata": {},
   "outputs": [
    {
     "name": "stdout",
     "output_type": "stream",
     "text": [
      "<class 'pandas.core.frame.DataFrame'>\n",
      "RangeIndex: 1795 entries, 0 to 1794\n",
      "Data columns (total 1 columns):\n",
      " #   Column   Non-Null Count  Dtype \n",
      "---  ------   --------------  ----- \n",
      " 0   company  1696 non-null   object\n",
      "dtypes: object(1)\n",
      "memory usage: 14.1+ KB\n"
     ]
    }
   ],
   "source": [
    "cacao.loc[:, ['company']].info()"
   ]
  },
  {
   "cell_type": "code",
   "execution_count": 13,
   "metadata": {},
   "outputs": [],
   "source": [
    "cacao.specific_origin.value_counts()\n",
    "cacao.specific_origin = cacao.specific_origin.apply(lambda x: None if x.strip() == '' else x)"
   ]
  },
  {
   "cell_type": "code",
   "execution_count": 14,
   "metadata": {},
   "outputs": [
    {
     "data": {
      "text/plain": [
       "15"
      ]
     },
     "metadata": {},
     "output_type": "display_data"
    }
   ],
   "source": [
    "display((cacao.specific_origin.value_counts() > 10).sum())"
   ]
  },
  {
   "cell_type": "code",
   "execution_count": 36,
   "metadata": {},
   "outputs": [
    {
     "data": {
      "text/plain": [
       "count    1795.000000\n",
       "mean     1035.904735\n",
       "std       552.886365\n",
       "min         5.000000\n",
       "25%       576.000000\n",
       "50%      1069.000000\n",
       "75%      1502.000000\n",
       "max      1952.000000\n",
       "Name: ref, dtype: float64"
      ]
     },
     "execution_count": 36,
     "metadata": {},
     "output_type": "execute_result"
    },
    {
     "data": {
      "image/png": "[encoded data removed]",
      "text/plain": [
       "<Figure size 432x288 with 1 Axes>"
      ]
     },
     "metadata": {
      "needs_background": "light"
     },
     "output_type": "display_data"
    }
   ],
   "source": [
    "cacao.ref.hist()\n",
    "cacao.ref.describe()"
   ]
  },
  {
   "cell_type": "code",
   "execution_count": 37,
   "metadata": {},
   "outputs": [
    {
     "data": {
      "text/plain": [
       "count    1795.000000\n",
       "mean     2012.325348\n",
       "std         2.927210\n",
       "min      2006.000000\n",
       "25%      2010.000000\n",
       "50%      2013.000000\n",
       "75%      2015.000000\n",
       "max      2017.000000\n",
       "Name: review_date, dtype: float64"
      ]
     },
     "execution_count": 37,
     "metadata": {},
     "output_type": "execute_result"
    },
    {
     "data": {
      "image/png": "[encoded data removed]",
      "text/plain": [
       "<Figure size 432x288 with 1 Axes>"
      ]
     },
     "metadata": {
      "needs_background": "light"
     },
     "output_type": "display_data"
    }
   ],
   "source": [
    "cacao.review_date.hist()\n",
    "cacao.review_date.describe()"
   ]
  },
  {
   "cell_type": "code",
   "execution_count": 15,
   "metadata": {},
   "outputs": [],
   "source": [
    "cacao.cocoa_percent = cacao.cocoa_percent.apply(lambda x: float(x.replace('%', '')))"
   ]
  },
  {
   "cell_type": "code",
   "execution_count": 16,
   "metadata": {},
   "outputs": [
    {
     "data": {
      "text/plain": [
       "<matplotlib.axes._subplots.AxesSubplot at 0x1e39c225e48>"
      ]
     },
     "execution_count": 16,
     "metadata": {},
     "output_type": "execute_result"
    },
    {
     "data": {
      "image/png": "[encoded data removed]",
      "text/plain": [
       "<Figure size 432x288 with 1 Axes>"
      ]
     },
     "metadata": {
      "needs_background": "light"
     },
     "output_type": "display_data"
    }
   ],
   "source": [
    "cacao.boxplot(column = 'cocoa_percent')"
   ]
  },
  {
   "cell_type": "code",
   "execution_count": 17,
   "metadata": {},
   "outputs": [
    {
     "data": {
      "text/plain": [
       "count    1795.000000\n",
       "mean       75.932312\n",
       "std        44.475981\n",
       "min        42.000000\n",
       "25%        70.000000\n",
       "50%        70.000000\n",
       "75%        75.000000\n",
       "max       682.000000\n",
       "Name: cocoa_percent, dtype: float64"
      ]
     },
     "execution_count": 17,
     "metadata": {},
     "output_type": "execute_result"
    }
   ],
   "source": [
    "cacao.cocoa_percent.describe()"
   ]
  },
  {
   "cell_type": "code",
   "execution_count": 18,
   "metadata": {},
   "outputs": [
    {
     "name": "stdout",
     "output_type": "stream",
     "text": [
      "25-й перцентиль: 70.0, 75-й перцентиль: 75.0, IQR: 5.0,  Границы выбросов: [62.5, 82.5].\n"
     ]
    },
    {
     "data": {
      "image/png": "[encoded data removed]",
      "text/plain": [
       "<Figure size 432x288 with 1 Axes>"
      ]
     },
     "metadata": {
      "needs_background": "light"
     },
     "output_type": "display_data"
    }
   ],
   "source": [
    "IQR = cacao.cocoa_percent.quantile(0.75) - cacao.cocoa_percent.quantile(0.25)\n",
    "perc25 = cacao.cocoa_percent.quantile(0.25)\n",
    "perc75 = cacao.cocoa_percent.quantile(0.75)\n",
    " \n",
    "print(\n",
    "'25-й перцентиль: {},'.format(perc25),\n",
    "'75-й перцентиль: {},'.format(perc75),\n",
    "\"IQR: {}, \".format(IQR),\n",
    "\"Границы выбросов: [{f}, {l}].\".format(f=perc25 - 1.5*IQR, l=perc75 + 1.5*IQR))\n",
    " \n",
    "cacao.cocoa_percent.loc[cacao.cocoa_percent.between(\n",
    "perc25 - 1.5*IQR,\n",
    "perc75 + 1.5*IQR)].hist(bins = 16, range = (40, 100), label = 'IQR')\n",
    " \n",
    "cacao.cocoa_percent.loc[cacao.cocoa_percent <= 100].hist(\n",
    "alpha = 0.5, bins = 16, range = (40, 100), label = 'Здравый смысл')\n",
    " \n",
    "plt.legend();"
   ]
  },
  {
   "cell_type": "code",
   "execution_count": 19,
   "metadata": {},
   "outputs": [],
   "source": [
    "cacao = cacao.loc[cacao.cocoa_percent <= 100]"
   ]
  },
  {
   "cell_type": "code",
   "execution_count": 47,
   "metadata": {},
   "outputs": [
    {
     "data": {
      "text/html": [
       "<div>\n",
       "<style scoped>\n",
       "    .dataframe tbody tr th:only-of-type {\n",
       "        vertical-align: middle;\n",
       "    }\n",
       "\n",
       "    .dataframe tbody tr th {\n",
       "        vertical-align: top;\n",
       "    }\n",
       "\n",
       "    .dataframe thead th {\n",
       "        text-align: right;\n",
       "    }\n",
       "</style>\n",
       "<table border=\"1\" class=\"dataframe\">\n",
       "  <thead>\n",
       "    <tr style=\"text-align: right;\">\n",
       "      <th></th>\n",
       "      <th>company</th>\n",
       "      <th>specific_origin</th>\n",
       "      <th>ref</th>\n",
       "      <th>review_date</th>\n",
       "      <th>cocoa_percent</th>\n",
       "      <th>company_location</th>\n",
       "      <th>rating</th>\n",
       "      <th>bean_type</th>\n",
       "      <th>broad_origin</th>\n",
       "    </tr>\n",
       "  </thead>\n",
       "  <tbody>\n",
       "    <tr>\n",
       "      <th>0</th>\n",
       "      <td>A. Morin</td>\n",
       "      <td>Agua Grande</td>\n",
       "      <td>1876</td>\n",
       "      <td>2016</td>\n",
       "      <td>63.0</td>\n",
       "      <td>France</td>\n",
       "      <td>11.50</td>\n",
       "      <td></td>\n",
       "      <td>Sao Tome</td>\n",
       "    </tr>\n",
       "    <tr>\n",
       "      <th>1</th>\n",
       "      <td>A. Morin</td>\n",
       "      <td>Kpime</td>\n",
       "      <td>1676</td>\n",
       "      <td>2015</td>\n",
       "      <td>70.0</td>\n",
       "      <td>France</td>\n",
       "      <td>2.75</td>\n",
       "      <td></td>\n",
       "      <td>Togo</td>\n",
       "    </tr>\n",
       "    <tr>\n",
       "      <th>3</th>\n",
       "      <td>A. Morin</td>\n",
       "      <td>Akata</td>\n",
       "      <td>1680</td>\n",
       "      <td>2015</td>\n",
       "      <td>70.0</td>\n",
       "      <td>France</td>\n",
       "      <td>3.50</td>\n",
       "      <td></td>\n",
       "      <td>Togo</td>\n",
       "    </tr>\n",
       "    <tr>\n",
       "      <th>4</th>\n",
       "      <td>A. Morin</td>\n",
       "      <td>Quilla</td>\n",
       "      <td>1704</td>\n",
       "      <td>2015</td>\n",
       "      <td>70.0</td>\n",
       "      <td>France</td>\n",
       "      <td>3.50</td>\n",
       "      <td></td>\n",
       "      <td>Peru</td>\n",
       "    </tr>\n",
       "    <tr>\n",
       "      <th>5</th>\n",
       "      <td>A. Morin</td>\n",
       "      <td>Carenero</td>\n",
       "      <td>1315</td>\n",
       "      <td>2014</td>\n",
       "      <td>70.0</td>\n",
       "      <td>France</td>\n",
       "      <td>2.75</td>\n",
       "      <td>Criollo</td>\n",
       "      <td>Venezuela</td>\n",
       "    </tr>\n",
       "    <tr>\n",
       "      <th>...</th>\n",
       "      <td>...</td>\n",
       "      <td>...</td>\n",
       "      <td>...</td>\n",
       "      <td>...</td>\n",
       "      <td>...</td>\n",
       "      <td>...</td>\n",
       "      <td>...</td>\n",
       "      <td>...</td>\n",
       "      <td>...</td>\n",
       "    </tr>\n",
       "    <tr>\n",
       "      <th>1790</th>\n",
       "      <td>Zotter</td>\n",
       "      <td>Peru</td>\n",
       "      <td>647</td>\n",
       "      <td>2011</td>\n",
       "      <td>70.0</td>\n",
       "      <td>Austria</td>\n",
       "      <td>3.75</td>\n",
       "      <td></td>\n",
       "      <td>Peru</td>\n",
       "    </tr>\n",
       "    <tr>\n",
       "      <th>1791</th>\n",
       "      <td>Zotter</td>\n",
       "      <td>Congo</td>\n",
       "      <td>749</td>\n",
       "      <td>2011</td>\n",
       "      <td>65.0</td>\n",
       "      <td>Austria</td>\n",
       "      <td>3.00</td>\n",
       "      <td>Forastero</td>\n",
       "      <td>Congo</td>\n",
       "    </tr>\n",
       "    <tr>\n",
       "      <th>1792</th>\n",
       "      <td>Zotter</td>\n",
       "      <td>Kerala State</td>\n",
       "      <td>749</td>\n",
       "      <td>2011</td>\n",
       "      <td>65.0</td>\n",
       "      <td>Austria</td>\n",
       "      <td>3.50</td>\n",
       "      <td>Forastero</td>\n",
       "      <td>India</td>\n",
       "    </tr>\n",
       "    <tr>\n",
       "      <th>1793</th>\n",
       "      <td>Zotter</td>\n",
       "      <td>Kerala State</td>\n",
       "      <td>781</td>\n",
       "      <td>2011</td>\n",
       "      <td>62.0</td>\n",
       "      <td>Austria</td>\n",
       "      <td>3.25</td>\n",
       "      <td></td>\n",
       "      <td>India</td>\n",
       "    </tr>\n",
       "    <tr>\n",
       "      <th>1794</th>\n",
       "      <td>Zotter</td>\n",
       "      <td>Brazil, Mitzi Blue</td>\n",
       "      <td>486</td>\n",
       "      <td>2010</td>\n",
       "      <td>65.0</td>\n",
       "      <td>Austria</td>\n",
       "      <td>3.00</td>\n",
       "      <td></td>\n",
       "      <td>Brazil</td>\n",
       "    </tr>\n",
       "  </tbody>\n",
       "</table>\n",
       "<p>1776 rows × 9 columns</p>\n",
       "</div>"
      ],
      "text/plain": [
       "       company     specific_origin   ref  review_date  cocoa_percent  \\\n",
       "0     A. Morin         Agua Grande  1876         2016           63.0   \n",
       "1     A. Morin               Kpime  1676         2015           70.0   \n",
       "3     A. Morin               Akata  1680         2015           70.0   \n",
       "4     A. Morin              Quilla  1704         2015           70.0   \n",
       "5     A. Morin            Carenero  1315         2014           70.0   \n",
       "...        ...                 ...   ...          ...            ...   \n",
       "1790    Zotter                Peru   647         2011           70.0   \n",
       "1791    Zotter               Congo   749         2011           65.0   \n",
       "1792    Zotter        Kerala State   749         2011           65.0   \n",
       "1793    Zotter        Kerala State   781         2011           62.0   \n",
       "1794    Zotter  Brazil, Mitzi Blue   486         2010           65.0   \n",
       "\n",
       "     company_location  rating  bean_type broad_origin  \n",
       "0              France   11.50                Sao Tome  \n",
       "1              France    2.75                    Togo  \n",
       "3              France    3.50                    Togo  \n",
       "4              France    3.50                    Peru  \n",
       "5              France    2.75    Criollo    Venezuela  \n",
       "...               ...     ...        ...          ...  \n",
       "1790          Austria    3.75                    Peru  \n",
       "1791          Austria    3.00  Forastero        Congo  \n",
       "1792          Austria    3.50  Forastero        India  \n",
       "1793          Austria    3.25                   India  \n",
       "1794          Austria    3.00                  Brazil  \n",
       "\n",
       "[1776 rows x 9 columns]"
      ]
     },
     "execution_count": 47,
     "metadata": {},
     "output_type": "execute_result"
    }
   ],
   "source": [
    "cacao"
   ]
  },
  {
   "cell_type": "code",
   "execution_count": 48,
   "metadata": {},
   "outputs": [
    {
     "data": {
      "text/plain": [
       "0        France\n",
       "1        France\n",
       "3        France\n",
       "4        France\n",
       "5        France\n",
       "         ...   \n",
       "1790    Austria\n",
       "1791    Austria\n",
       "1792    Austria\n",
       "1793    Austria\n",
       "1794    Austria\n",
       "Name: company_location, Length: 1776, dtype: object"
      ]
     },
     "execution_count": 48,
     "metadata": {},
     "output_type": "execute_result"
    }
   ],
   "source": [
    "cacao.company_location"
   ]
  },
  {
   "cell_type": "code",
   "execution_count": 20,
   "metadata": {},
   "outputs": [
    {
     "data": {
      "text/html": [
       "<div>\n",
       "<style scoped>\n",
       "    .dataframe tbody tr th:only-of-type {\n",
       "        vertical-align: middle;\n",
       "    }\n",
       "\n",
       "    .dataframe tbody tr th {\n",
       "        vertical-align: top;\n",
       "    }\n",
       "\n",
       "    .dataframe thead th {\n",
       "        text-align: right;\n",
       "    }\n",
       "</style>\n",
       "<table border=\"1\" class=\"dataframe\">\n",
       "  <thead>\n",
       "    <tr style=\"text-align: right;\">\n",
       "      <th></th>\n",
       "      <th>company_location</th>\n",
       "    </tr>\n",
       "  </thead>\n",
       "  <tbody>\n",
       "    <tr>\n",
       "      <th>U.S.A.</th>\n",
       "      <td>756</td>\n",
       "    </tr>\n",
       "    <tr>\n",
       "      <th>France</th>\n",
       "      <td>155</td>\n",
       "    </tr>\n",
       "    <tr>\n",
       "      <th>Canada</th>\n",
       "      <td>124</td>\n",
       "    </tr>\n",
       "    <tr>\n",
       "      <th>U.K.</th>\n",
       "      <td>94</td>\n",
       "    </tr>\n",
       "    <tr>\n",
       "      <th>Italy</th>\n",
       "      <td>63</td>\n",
       "    </tr>\n",
       "    <tr>\n",
       "      <th>...</th>\n",
       "      <td>...</td>\n",
       "    </tr>\n",
       "    <tr>\n",
       "      <th>Martinique</th>\n",
       "      <td>1</td>\n",
       "    </tr>\n",
       "    <tr>\n",
       "      <th>Ghana</th>\n",
       "      <td>1</td>\n",
       "    </tr>\n",
       "    <tr>\n",
       "      <th>Eucador</th>\n",
       "      <td>1</td>\n",
       "    </tr>\n",
       "    <tr>\n",
       "      <th>Russia</th>\n",
       "      <td>1</td>\n",
       "    </tr>\n",
       "    <tr>\n",
       "      <th>Wales</th>\n",
       "      <td>1</td>\n",
       "    </tr>\n",
       "  </tbody>\n",
       "</table>\n",
       "<p>60 rows × 1 columns</p>\n",
       "</div>"
      ],
      "text/plain": [
       "            company_location\n",
       "U.S.A.                   756\n",
       "France                   155\n",
       "Canada                   124\n",
       "U.K.                      94\n",
       "Italy                     63\n",
       "...                      ...\n",
       "Martinique                 1\n",
       "Ghana                      1\n",
       "Eucador                    1\n",
       "Russia                     1\n",
       "Wales                      1\n",
       "\n",
       "[60 rows x 1 columns]"
      ]
     },
     "metadata": {},
     "output_type": "display_data"
    },
    {
     "name": "stdout",
     "output_type": "stream",
     "text": [
      "Значений, встретившихся в столбце более 10 раз: 22\n",
      "<class 'pandas.core.frame.DataFrame'>\n",
      "Int64Index: 1776 entries, 0 to 1794\n",
      "Data columns (total 1 columns):\n",
      " #   Column            Non-Null Count  Dtype \n",
      "---  ------            --------------  ----- \n",
      " 0   company_location  1776 non-null   object\n",
      "dtypes: object(1)\n",
      "memory usage: 27.8+ KB\n"
     ]
    }
   ],
   "source": [
    "display(pd.DataFrame(cacao.company_location.value_counts()))\n",
    "print(\"Значений, встретившихся в столбце более 10 раз:\", (cacao.company_location.value_counts()>10).sum())\n",
    "cacao.loc[:, ['company_location']].info()"
   ]
  },
  {
   "cell_type": "code",
   "execution_count": 50,
   "metadata": {},
   "outputs": [
    {
     "data": {
      "text/plain": [
       "0       11.50\n",
       "1        2.75\n",
       "3        3.50\n",
       "4        3.50\n",
       "5        2.75\n",
       "        ...  \n",
       "1790     3.75\n",
       "1791     3.00\n",
       "1792     3.50\n",
       "1793     3.25\n",
       "1794     3.00\n",
       "Name: rating, Length: 1776, dtype: float64"
      ]
     },
     "execution_count": 50,
     "metadata": {},
     "output_type": "execute_result"
    }
   ],
   "source": [
    "cacao.rating"
   ]
  },
  {
   "cell_type": "code",
   "execution_count": 51,
   "metadata": {},
   "outputs": [
    {
     "data": {
      "text/plain": [
       "count    1776.000000\n",
       "mean        3.425816\n",
       "std         1.759007\n",
       "min         1.000000\n",
       "25%         3.000000\n",
       "50%         3.250000\n",
       "75%         3.500000\n",
       "max        19.750000\n",
       "Name: rating, dtype: float64"
      ]
     },
     "execution_count": 51,
     "metadata": {},
     "output_type": "execute_result"
    },
    {
     "data": {
      "image/png": "[encoded data removed]",
      "text/plain": [
       "<Figure size 432x288 with 1 Axes>"
      ]
     },
     "metadata": {
      "needs_background": "light"
     },
     "output_type": "display_data"
    }
   ],
   "source": [
    "cacao.rating.hist()\n",
    "cacao.rating.describe()"
   ]
  },
  {
   "cell_type": "code",
   "execution_count": 21,
   "metadata": {},
   "outputs": [
    {
     "name": "stdout",
     "output_type": "stream",
     "text": [
      "25-й перцентиль: 3.0, 75-й перцентиль: 3.5, IQR: 0.5,  Границы выбросов: [2.25, 4.25].\n"
     ]
    },
    {
     "data": {
      "image/png": "[encoded data removed]",
      "text/plain": [
       "<Figure size 432x288 with 1 Axes>"
      ]
     },
     "metadata": {
      "needs_background": "light"
     },
     "output_type": "display_data"
    }
   ],
   "source": [
    "IQR = cacao.rating.quantile(0.75) - cacao.rating.quantile(0.25)\n",
    "perc25 = cacao.rating.quantile(0.25)\n",
    "perc75 = cacao.rating.quantile(0.75)\n",
    "print('25-й перцентиль: {},'.format(perc25), '75-й перцентиль: {},'.format(perc75), \"IQR: {}, \".format(IQR), \"Границы выбросов: [{f}, {l}].\".format(f=perc25 - 1.5*IQR, l=perc75 + 1.5*IQR))\n",
    " \n",
    "cacao.rating.loc[cacao.rating.between(perc25 - 1.5*IQR, perc75 + 1.5*IQR)].hist(bins = 10, range = (0, 10), label = 'IQR')\n",
    " \n",
    "plt.legend();"
   ]
  },
  {
   "cell_type": "code",
   "execution_count": 22,
   "metadata": {},
   "outputs": [],
   "source": [
    "cacao = cacao.loc[cacao.rating.between(perc25 - 1.5*IQR, perc75 + 1.5*IQR)]"
   ]
  },
  {
   "cell_type": "code",
   "execution_count": 23,
   "metadata": {},
   "outputs": [],
   "source": [
    "cacao.bean_type = cacao.bean_type.astype(str).apply(lambda x: None if x.strip() == '' else x)"
   ]
  },
  {
   "cell_type": "code",
   "execution_count": 24,
   "metadata": {},
   "outputs": [
    {
     "data": {
      "text/html": [
       "<div>\n",
       "<style scoped>\n",
       "    .dataframe tbody tr th:only-of-type {\n",
       "        vertical-align: middle;\n",
       "    }\n",
       "\n",
       "    .dataframe tbody tr th {\n",
       "        vertical-align: top;\n",
       "    }\n",
       "\n",
       "    .dataframe thead th {\n",
       "        text-align: right;\n",
       "    }\n",
       "</style>\n",
       "<table border=\"1\" class=\"dataframe\">\n",
       "  <thead>\n",
       "    <tr style=\"text-align: right;\">\n",
       "      <th></th>\n",
       "      <th>bean_type</th>\n",
       "    </tr>\n",
       "  </thead>\n",
       "  <tbody>\n",
       "    <tr>\n",
       "      <th>Trinitario</th>\n",
       "      <td>401</td>\n",
       "    </tr>\n",
       "    <tr>\n",
       "      <th>Criollo</th>\n",
       "      <td>147</td>\n",
       "    </tr>\n",
       "    <tr>\n",
       "      <th>Forastero</th>\n",
       "      <td>81</td>\n",
       "    </tr>\n",
       "    <tr>\n",
       "      <th>Forastero (Nacional)</th>\n",
       "      <td>50</td>\n",
       "    </tr>\n",
       "    <tr>\n",
       "      <th>Criollo, Trinitario</th>\n",
       "      <td>37</td>\n",
       "    </tr>\n",
       "    <tr>\n",
       "      <th>Blend</th>\n",
       "      <td>36</td>\n",
       "    </tr>\n",
       "    <tr>\n",
       "      <th>Forastero (Arriba)</th>\n",
       "      <td>30</td>\n",
       "    </tr>\n",
       "    <tr>\n",
       "      <th>Criollo (Porcelana)</th>\n",
       "      <td>10</td>\n",
       "    </tr>\n",
       "    <tr>\n",
       "      <th>Trinitario, Criollo</th>\n",
       "      <td>9</td>\n",
       "    </tr>\n",
       "    <tr>\n",
       "      <th>Forastero (Parazinho)</th>\n",
       "      <td>8</td>\n",
       "    </tr>\n",
       "    <tr>\n",
       "      <th>Forastero (Arriba) ASS</th>\n",
       "      <td>5</td>\n",
       "    </tr>\n",
       "    <tr>\n",
       "      <th>EET</th>\n",
       "      <td>3</td>\n",
       "    </tr>\n",
       "    <tr>\n",
       "      <th>Matina</th>\n",
       "      <td>3</td>\n",
       "    </tr>\n",
       "    <tr>\n",
       "      <th>Nacional (Arriba)</th>\n",
       "      <td>3</td>\n",
       "    </tr>\n",
       "    <tr>\n",
       "      <th>Beniano</th>\n",
       "      <td>3</td>\n",
       "    </tr>\n",
       "    <tr>\n",
       "      <th>Amazon mix</th>\n",
       "      <td>2</td>\n",
       "    </tr>\n",
       "    <tr>\n",
       "      <th>Criollo, Forastero</th>\n",
       "      <td>2</td>\n",
       "    </tr>\n",
       "    <tr>\n",
       "      <th>Trinitario (85% Criollo)</th>\n",
       "      <td>2</td>\n",
       "    </tr>\n",
       "    <tr>\n",
       "      <th>Forastero (Catongo)</th>\n",
       "      <td>2</td>\n",
       "    </tr>\n",
       "    <tr>\n",
       "      <th>Criollo (Amarru)</th>\n",
       "      <td>2</td>\n",
       "    </tr>\n",
       "    <tr>\n",
       "      <th>Nacional</th>\n",
       "      <td>2</td>\n",
       "    </tr>\n",
       "    <tr>\n",
       "      <th>Trinitario, Forastero</th>\n",
       "      <td>2</td>\n",
       "    </tr>\n",
       "    <tr>\n",
       "      <th>Amazon, ICS</th>\n",
       "      <td>2</td>\n",
       "    </tr>\n",
       "    <tr>\n",
       "      <th>Criollo (Ocumare 61)</th>\n",
       "      <td>2</td>\n",
       "    </tr>\n",
       "    <tr>\n",
       "      <th>Criollo (Wild)</th>\n",
       "      <td>1</td>\n",
       "    </tr>\n",
       "    <tr>\n",
       "      <th>Trinitario, Nacional</th>\n",
       "      <td>1</td>\n",
       "    </tr>\n",
       "    <tr>\n",
       "      <th>CCN51</th>\n",
       "      <td>1</td>\n",
       "    </tr>\n",
       "    <tr>\n",
       "      <th>Forastero (Arriba) ASSS</th>\n",
       "      <td>1</td>\n",
       "    </tr>\n",
       "    <tr>\n",
       "      <th>Criollo, +</th>\n",
       "      <td>1</td>\n",
       "    </tr>\n",
       "    <tr>\n",
       "      <th>Trinitario (Amelonado)</th>\n",
       "      <td>1</td>\n",
       "    </tr>\n",
       "    <tr>\n",
       "      <th>Criollo (Ocumare)</th>\n",
       "      <td>1</td>\n",
       "    </tr>\n",
       "    <tr>\n",
       "      <th>Forastero (Amelonado)</th>\n",
       "      <td>1</td>\n",
       "    </tr>\n",
       "    <tr>\n",
       "      <th>Blend-Forastero,Criollo</th>\n",
       "      <td>1</td>\n",
       "    </tr>\n",
       "    <tr>\n",
       "      <th>nan</th>\n",
       "      <td>1</td>\n",
       "    </tr>\n",
       "    <tr>\n",
       "      <th>Forastero, Trinitario</th>\n",
       "      <td>1</td>\n",
       "    </tr>\n",
       "    <tr>\n",
       "      <th>Amazon</th>\n",
       "      <td>1</td>\n",
       "    </tr>\n",
       "    <tr>\n",
       "      <th>Trinitario (Scavina)</th>\n",
       "      <td>1</td>\n",
       "    </tr>\n",
       "    <tr>\n",
       "      <th>Criollo (Ocumare 67)</th>\n",
       "      <td>1</td>\n",
       "    </tr>\n",
       "    <tr>\n",
       "      <th>Forastero(Arriba, CCN)</th>\n",
       "      <td>1</td>\n",
       "    </tr>\n",
       "    <tr>\n",
       "      <th>Criollo (Ocumare 77)</th>\n",
       "      <td>1</td>\n",
       "    </tr>\n",
       "    <tr>\n",
       "      <th>Trinitario, TCGA</th>\n",
       "      <td>1</td>\n",
       "    </tr>\n",
       "  </tbody>\n",
       "</table>\n",
       "</div>"
      ],
      "text/plain": [
       "                          bean_type\n",
       "Trinitario                      401\n",
       "Criollo                         147\n",
       "Forastero                        81\n",
       "Forastero (Nacional)             50\n",
       "Criollo, Trinitario              37\n",
       "Blend                            36\n",
       "Forastero (Arriba)               30\n",
       "Criollo (Porcelana)              10\n",
       "Trinitario, Criollo               9\n",
       "Forastero (Parazinho)             8\n",
       "Forastero (Arriba) ASS            5\n",
       "EET                               3\n",
       "Matina                            3\n",
       "Nacional (Arriba)                 3\n",
       "Beniano                           3\n",
       "Amazon mix                        2\n",
       "Criollo, Forastero                2\n",
       "Trinitario (85% Criollo)          2\n",
       "Forastero (Catongo)               2\n",
       "Criollo (Amarru)                  2\n",
       "Nacional                          2\n",
       "Trinitario, Forastero             2\n",
       "Amazon, ICS                       2\n",
       "Criollo (Ocumare 61)              2\n",
       "Criollo (Wild)                    1\n",
       "Trinitario, Nacional              1\n",
       "CCN51                             1\n",
       "Forastero (Arriba) ASSS           1\n",
       "Criollo, +                        1\n",
       "Trinitario (Amelonado)            1\n",
       "Criollo (Ocumare)                 1\n",
       "Forastero (Amelonado)             1\n",
       "Blend-Forastero,Criollo           1\n",
       "nan                               1\n",
       "Forastero, Trinitario             1\n",
       "Amazon                            1\n",
       "Trinitario (Scavina)              1\n",
       "Criollo (Ocumare 67)              1\n",
       "Forastero(Arriba, CCN)            1\n",
       "Criollo (Ocumare 77)              1\n",
       "Trinitario, TCGA                  1"
      ]
     },
     "metadata": {},
     "output_type": "display_data"
    },
    {
     "name": "stdout",
     "output_type": "stream",
     "text": [
      "Значений, встретившихся в столбце более 10 раз: 7\n",
      "Уникальных значений: 41\n",
      "<class 'pandas.core.frame.DataFrame'>\n",
      "Int64Index: 1690 entries, 1 to 1794\n",
      "Data columns (total 1 columns):\n",
      " #   Column     Non-Null Count  Dtype \n",
      "---  ------     --------------  ----- \n",
      " 0   bean_type  861 non-null    object\n",
      "dtypes: object(1)\n",
      "memory usage: 26.4+ KB\n"
     ]
    }
   ],
   "source": [
    "display(pd.DataFrame(cacao.bean_type.value_counts()))\n",
    "print(\"Значений, встретившихся в столбце более 10 раз:\", (cacao.bean_type.value_counts()>10).sum())\n",
    "print(\"Уникальных значений:\", cacao.bean_type.nunique())\n",
    "cacao.loc[:, ['bean_type']].info()"
   ]
  },
  {
   "cell_type": "code",
   "execution_count": 25,
   "metadata": {},
   "outputs": [],
   "source": [
    "cacao.bean_type = cacao.bean_type.apply(lambda x: None if pd.isnull(x) else None if x == 'nan' \n",
    "                      else x if '(' not in x else x[:x.find('(')].strip())"
   ]
  },
  {
   "cell_type": "code",
   "execution_count": 26,
   "metadata": {},
   "outputs": [
    {
     "data": {
      "text/html": [
       "<div>\n",
       "<style scoped>\n",
       "    .dataframe tbody tr th:only-of-type {\n",
       "        vertical-align: middle;\n",
       "    }\n",
       "\n",
       "    .dataframe tbody tr th {\n",
       "        vertical-align: top;\n",
       "    }\n",
       "\n",
       "    .dataframe thead th {\n",
       "        text-align: right;\n",
       "    }\n",
       "</style>\n",
       "<table border=\"1\" class=\"dataframe\">\n",
       "  <thead>\n",
       "    <tr style=\"text-align: right;\">\n",
       "      <th></th>\n",
       "      <th>bean_type</th>\n",
       "    </tr>\n",
       "  </thead>\n",
       "  <tbody>\n",
       "    <tr>\n",
       "      <th>Trinitario</th>\n",
       "      <td>405</td>\n",
       "    </tr>\n",
       "    <tr>\n",
       "      <th>Forastero</th>\n",
       "      <td>179</td>\n",
       "    </tr>\n",
       "    <tr>\n",
       "      <th>Criollo</th>\n",
       "      <td>165</td>\n",
       "    </tr>\n",
       "    <tr>\n",
       "      <th>Criollo, Trinitario</th>\n",
       "      <td>37</td>\n",
       "    </tr>\n",
       "    <tr>\n",
       "      <th>Blend</th>\n",
       "      <td>36</td>\n",
       "    </tr>\n",
       "    <tr>\n",
       "      <th>Trinitario, Criollo</th>\n",
       "      <td>9</td>\n",
       "    </tr>\n",
       "    <tr>\n",
       "      <th>Nacional</th>\n",
       "      <td>5</td>\n",
       "    </tr>\n",
       "    <tr>\n",
       "      <th>EET</th>\n",
       "      <td>3</td>\n",
       "    </tr>\n",
       "    <tr>\n",
       "      <th>Beniano</th>\n",
       "      <td>3</td>\n",
       "    </tr>\n",
       "    <tr>\n",
       "      <th>Matina</th>\n",
       "      <td>3</td>\n",
       "    </tr>\n",
       "    <tr>\n",
       "      <th>Amazon, ICS</th>\n",
       "      <td>2</td>\n",
       "    </tr>\n",
       "    <tr>\n",
       "      <th>Amazon mix</th>\n",
       "      <td>2</td>\n",
       "    </tr>\n",
       "    <tr>\n",
       "      <th>Criollo, Forastero</th>\n",
       "      <td>2</td>\n",
       "    </tr>\n",
       "    <tr>\n",
       "      <th>Trinitario, Forastero</th>\n",
       "      <td>2</td>\n",
       "    </tr>\n",
       "    <tr>\n",
       "      <th>Blend-Forastero,Criollo</th>\n",
       "      <td>1</td>\n",
       "    </tr>\n",
       "    <tr>\n",
       "      <th>Trinitario, TCGA</th>\n",
       "      <td>1</td>\n",
       "    </tr>\n",
       "    <tr>\n",
       "      <th>Trinitario, Nacional</th>\n",
       "      <td>1</td>\n",
       "    </tr>\n",
       "    <tr>\n",
       "      <th>Criollo, +</th>\n",
       "      <td>1</td>\n",
       "    </tr>\n",
       "    <tr>\n",
       "      <th>CCN51</th>\n",
       "      <td>1</td>\n",
       "    </tr>\n",
       "    <tr>\n",
       "      <th>Amazon</th>\n",
       "      <td>1</td>\n",
       "    </tr>\n",
       "    <tr>\n",
       "      <th>Forastero, Trinitario</th>\n",
       "      <td>1</td>\n",
       "    </tr>\n",
       "  </tbody>\n",
       "</table>\n",
       "</div>"
      ],
      "text/plain": [
       "                         bean_type\n",
       "Trinitario                     405\n",
       "Forastero                      179\n",
       "Criollo                        165\n",
       "Criollo, Trinitario             37\n",
       "Blend                           36\n",
       "Trinitario, Criollo              9\n",
       "Nacional                         5\n",
       "EET                              3\n",
       "Beniano                          3\n",
       "Matina                           3\n",
       "Amazon, ICS                      2\n",
       "Amazon mix                       2\n",
       "Criollo, Forastero               2\n",
       "Trinitario, Forastero            2\n",
       "Blend-Forastero,Criollo          1\n",
       "Trinitario, TCGA                 1\n",
       "Trinitario, Nacional             1\n",
       "Criollo, +                       1\n",
       "CCN51                            1\n",
       "Amazon                           1\n",
       "Forastero, Trinitario            1"
      ]
     },
     "metadata": {},
     "output_type": "display_data"
    },
    {
     "name": "stdout",
     "output_type": "stream",
     "text": [
      "Значений, встретившихся в столбце более 10 раз: 5\n",
      "Уникальных значений: 21\n",
      "<class 'pandas.core.frame.DataFrame'>\n",
      "Int64Index: 1690 entries, 1 to 1794\n",
      "Data columns (total 1 columns):\n",
      " #   Column     Non-Null Count  Dtype \n",
      "---  ------     --------------  ----- \n",
      " 0   bean_type  860 non-null    object\n",
      "dtypes: object(1)\n",
      "memory usage: 26.4+ KB\n"
     ]
    }
   ],
   "source": [
    "display(pd.DataFrame(cacao.bean_type.value_counts()))\n",
    "print(\"Значений, встретившихся в столбце более 10 раз:\", (cacao.bean_type.value_counts()>10).sum())\n",
    "print(\"Уникальных значений:\", cacao.bean_type.nunique())\n",
    "cacao.loc[:, ['bean_type']].info()"
   ]
  },
  {
   "cell_type": "code",
   "execution_count": 27,
   "metadata": {},
   "outputs": [
    {
     "name": "stdout",
     "output_type": "stream",
     "text": [
      "<class 'pandas.core.frame.DataFrame'>\n",
      "Int64Index: 1690 entries, 1 to 1794\n",
      "Data columns (total 1 columns):\n",
      " #   Column        Non-Null Count  Dtype \n",
      "---  ------        --------------  ----- \n",
      " 0   broad_origin  1689 non-null   object\n",
      "dtypes: object(1)\n",
      "memory usage: 26.4+ KB\n"
     ]
    },
    {
     "data": {
      "text/plain": [
       "None"
      ]
     },
     "metadata": {},
     "output_type": "display_data"
    }
   ],
   "source": [
    "display(cacao.loc[:, ['broad_origin']].info())"
   ]
  },
  {
   "cell_type": "code",
   "execution_count": 28,
   "metadata": {},
   "outputs": [],
   "source": [
    "cacao.broad_origin = cacao.broad_origin.astype(str).apply(lambda x: None if x.strip() == '' else x)"
   ]
  },
  {
   "cell_type": "code",
   "execution_count": 29,
   "metadata": {},
   "outputs": [
    {
     "name": "stdout",
     "output_type": "stream",
     "text": [
      "Venezuela                202\n",
      "Ecuador                  179\n",
      "Peru                     159\n",
      "Madagascar               138\n",
      "Dominican Republic       135\n",
      "                        ... \n",
      "Indonesia, Ghana           1\n",
      "Peru, Mad., Dom. Rep.      1\n",
      "Peru, Belize               1\n",
      "Venezuela, Trinidad        1\n",
      "Venezuela, Java            1\n",
      "Name: broad_origin, Length: 97, dtype: int64\n",
      "Значений, встретившихся в столбце более 10 раз: 25\n"
     ]
    }
   ],
   "source": [
    "print(cacao.broad_origin.value_counts())\n",
    "print(\"Значений, встретившихся в столбце более 10 раз:\", (cacao.broad_origin.value_counts()> 10).sum())"
   ]
  },
  {
   "cell_type": "code",
   "execution_count": 30,
   "metadata": {},
   "outputs": [],
   "source": [
    "def fix_countries(x):\n",
    "    if pd.isnull(x):\n",
    "        return x\n",
    "    if x == 'nan':\n",
    "        return None\n",
    "    x = x.replace(' ', '')\n",
    "    x = x.replace('/', ',') # Venezuela/ Ghana\n",
    "    x = x.replace('&', ',')\n",
    "    if '(' in x:\n",
    "        x = x[:x.find('(')] #Peru(SMartin,Pangoa,nacional)\n",
    "    x = x.replace('Guat.', 'Guatemala')\n",
    "    \n",
    "    if 'Ven' in x and 'Venezuela' not in x:\n",
    "        x = x.replace('Venez', 'Venezuela') #Venez,Africa,Brasil,Peru,Mex\n",
    "        x = x.replace('Ven,', 'Venezuela,') #Ven, Trinidad, Ecuador\n",
    "        x = x.replace('Ven.', 'Venezuela') #Ven., Trinidad, Mad.\n",
    "        if 'Ven' in x and 'Venezuela' not in x:\n",
    "            x = x.replace('Ven', 'Venezuela')\n",
    "        \n",
    "    x = x.replace('Dom.Rep.', 'DomincanRepublic')\n",
    "    x = x.replace('DR', 'DomincanRepublic')\n",
    "    x = x.replace('Dom.Rep', 'DomincanRepublic')\n",
    "    x = x.replace('D.R.', 'DomincanRepublic')\n",
    "    x = x.replace('DominicanRep.', 'DomincanRepublic')\n",
    "    x = x.replace('Domin.Rep', 'DomincanRepublic')\n",
    "    x = x.replace('Domin.Re', 'DomincanRepublic')\n",
    "    \n",
    "    if 'Jam' in x and 'Jamaica' not in x:\n",
    "        x = x.replace('Jam', 'Jamaica')\n",
    "        \n",
    "    if 'Mad.' in x and 'Madagascar' not in x:\n",
    "        x = x.replace('Mad.', 'Madagascar')\n",
    "    elif 'Mad' in x and 'Madagascar' not in x:\n",
    "        x = x.replace('Mad', 'Madagascar')\n",
    "    elif 'Ma' in x and 'Madagascar' not in x:\n",
    "        x = x.replace('Ma', 'Madagascar')\n",
    "        \n",
    "    if 'Hait' in x and 'Haiti' not in x:\n",
    "        x = x.replace('Hait', 'Haiti')\n",
    "        \n",
    "    if 'Per' in x and 'Peru'  not in x:\n",
    "        x = x.replace('Per', 'Peru')\n",
    "    \n",
    "    x = x.replace('Nic.', 'Nicaragua')\n",
    "\n",
    "    x = x.replace('Gre.', 'Grenada')\n",
    "    \n",
    "    x = x.replace('PNG', 'PapuaNewGuinea')\n",
    "    \n",
    "    if 'Mex' in x and 'Mexico' not in x:\n",
    "        x = x.replace('Mex', 'Mexico')\n",
    "        \n",
    "    x = x.replace('Haw.', 'Hawaii')\n",
    "    \n",
    "    x = x.replace('Ecuad.', 'Ecuador')\n",
    "    x = x.replace('Ecu.', 'Ecuador')\n",
    "    \n",
    "    return x"
   ]
  },
  {
   "cell_type": "code",
   "execution_count": 31,
   "metadata": {},
   "outputs": [],
   "source": [
    "cacao.broad_origin = cacao.broad_origin.apply(fix_countries).sort_values()"
   ]
  },
  {
   "cell_type": "code",
   "execution_count": 32,
   "metadata": {},
   "outputs": [
    {
     "data": {
      "text/html": [
       "<div>\n",
       "<style scoped>\n",
       "    .dataframe tbody tr th:only-of-type {\n",
       "        vertical-align: middle;\n",
       "    }\n",
       "\n",
       "    .dataframe tbody tr th {\n",
       "        vertical-align: top;\n",
       "    }\n",
       "\n",
       "    .dataframe thead th {\n",
       "        text-align: right;\n",
       "    }\n",
       "</style>\n",
       "<table border=\"1\" class=\"dataframe\">\n",
       "  <thead>\n",
       "    <tr style=\"text-align: right;\">\n",
       "      <th></th>\n",
       "      <th>broad_origin</th>\n",
       "    </tr>\n",
       "  </thead>\n",
       "  <tbody>\n",
       "    <tr>\n",
       "      <th>Venezuela</th>\n",
       "      <td>202</td>\n",
       "    </tr>\n",
       "    <tr>\n",
       "      <th>Ecuador</th>\n",
       "      <td>179</td>\n",
       "    </tr>\n",
       "    <tr>\n",
       "      <th>Peru</th>\n",
       "      <td>160</td>\n",
       "    </tr>\n",
       "    <tr>\n",
       "      <th>Madagascar</th>\n",
       "      <td>138</td>\n",
       "    </tr>\n",
       "    <tr>\n",
       "      <th>DominicanRepublic</th>\n",
       "      <td>135</td>\n",
       "    </tr>\n",
       "    <tr>\n",
       "      <th>...</th>\n",
       "      <td>...</td>\n",
       "    </tr>\n",
       "    <tr>\n",
       "      <th>Trinidad-Tobago</th>\n",
       "      <td>1</td>\n",
       "    </tr>\n",
       "    <tr>\n",
       "      <th>DomincanRepublic,Ecuador,Peru</th>\n",
       "      <td>1</td>\n",
       "    </tr>\n",
       "    <tr>\n",
       "      <th>Gabon</th>\n",
       "      <td>1</td>\n",
       "    </tr>\n",
       "    <tr>\n",
       "      <th>PapuaNewGuinea,Vanuatu,Madagascar</th>\n",
       "      <td>1</td>\n",
       "    </tr>\n",
       "    <tr>\n",
       "      <th>Nigeria</th>\n",
       "      <td>1</td>\n",
       "    </tr>\n",
       "  </tbody>\n",
       "</table>\n",
       "<p>93 rows × 1 columns</p>\n",
       "</div>"
      ],
      "text/plain": [
       "                                   broad_origin\n",
       "Venezuela                                   202\n",
       "Ecuador                                     179\n",
       "Peru                                        160\n",
       "Madagascar                                  138\n",
       "DominicanRepublic                           135\n",
       "...                                         ...\n",
       "Trinidad-Tobago                               1\n",
       "DomincanRepublic,Ecuador,Peru                 1\n",
       "Gabon                                         1\n",
       "PapuaNewGuinea,Vanuatu,Madagascar             1\n",
       "Nigeria                                       1\n",
       "\n",
       "[93 rows x 1 columns]"
      ]
     },
     "metadata": {},
     "output_type": "display_data"
    },
    {
     "name": "stdout",
     "output_type": "stream",
     "text": [
      "Значений, упомянутых более 10 раз: 25\n",
      "Уникальных значений: 93\n",
      "<class 'pandas.core.frame.DataFrame'>\n",
      "Int64Index: 1690 entries, 1 to 1794\n",
      "Data columns (total 1 columns):\n",
      " #   Column        Non-Null Count  Dtype \n",
      "---  ------        --------------  ----- \n",
      " 0   broad_origin  1630 non-null   object\n",
      "dtypes: object(1)\n",
      "memory usage: 26.4+ KB\n"
     ]
    }
   ],
   "source": [
    "display(pd.DataFrame(cacao.broad_origin.value_counts()))\n",
    "print('Значений, упомянутых более 10 раз:', (cacao.broad_origin.value_counts()>10).sum())\n",
    "print(\"Уникальных значений:\", cacao.broad_origin.nunique())\n",
    "cacao.loc[:, ['broad_origin']].info()"
   ]
  },
  {
   "cell_type": "code",
   "execution_count": 33,
   "metadata": {},
   "outputs": [
    {
     "data": {
      "text/plain": [
       "<seaborn.axisgrid.PairGrid at 0x1e39c4dedc8>"
      ]
     },
     "execution_count": 33,
     "metadata": {},
     "output_type": "execute_result"
    },
    {
     "data": {
      "image/png": "[encoded data removed]",
      "text/plain": [
       "<Figure size 720x720 with 20 Axes>"
      ]
     },
     "metadata": {
      "needs_background": "light"
     },
     "output_type": "display_data"
    }
   ],
   "source": [
    "sns.pairplot(cacao, kind = 'reg')"
   ]
  },
  {
   "cell_type": "code",
   "execution_count": 34,
   "metadata": {},
   "outputs": [
    {
     "data": {
      "text/html": [
       "<div>\n",
       "<style scoped>\n",
       "    .dataframe tbody tr th:only-of-type {\n",
       "        vertical-align: middle;\n",
       "    }\n",
       "\n",
       "    .dataframe tbody tr th {\n",
       "        vertical-align: top;\n",
       "    }\n",
       "\n",
       "    .dataframe thead th {\n",
       "        text-align: right;\n",
       "    }\n",
       "</style>\n",
       "<table border=\"1\" class=\"dataframe\">\n",
       "  <thead>\n",
       "    <tr style=\"text-align: right;\">\n",
       "      <th></th>\n",
       "      <th>ref</th>\n",
       "      <th>review_date</th>\n",
       "      <th>cocoa_percent</th>\n",
       "      <th>rating</th>\n",
       "    </tr>\n",
       "  </thead>\n",
       "  <tbody>\n",
       "    <tr>\n",
       "      <th>ref</th>\n",
       "      <td>1.000000</td>\n",
       "      <td>0.984913</td>\n",
       "      <td>0.083765</td>\n",
       "      <td>0.016189</td>\n",
       "    </tr>\n",
       "    <tr>\n",
       "      <th>review_date</th>\n",
       "      <td>0.984913</td>\n",
       "      <td>1.000000</td>\n",
       "      <td>0.086523</td>\n",
       "      <td>0.006703</td>\n",
       "    </tr>\n",
       "    <tr>\n",
       "      <th>cocoa_percent</th>\n",
       "      <td>0.083765</td>\n",
       "      <td>0.086523</td>\n",
       "      <td>1.000000</td>\n",
       "      <td>-0.078156</td>\n",
       "    </tr>\n",
       "    <tr>\n",
       "      <th>rating</th>\n",
       "      <td>0.016189</td>\n",
       "      <td>0.006703</td>\n",
       "      <td>-0.078156</td>\n",
       "      <td>1.000000</td>\n",
       "    </tr>\n",
       "  </tbody>\n",
       "</table>\n",
       "</div>"
      ],
      "text/plain": [
       "                    ref  review_date  cocoa_percent    rating\n",
       "ref            1.000000     0.984913       0.083765  0.016189\n",
       "review_date    0.984913     1.000000       0.086523  0.006703\n",
       "cocoa_percent  0.083765     0.086523       1.000000 -0.078156\n",
       "rating         0.016189     0.006703      -0.078156  1.000000"
      ]
     },
     "execution_count": 34,
     "metadata": {},
     "output_type": "execute_result"
    }
   ],
   "source": [
    "cacao.corr()"
   ]
  },
  {
   "cell_type": "code",
   "execution_count": 47,
   "metadata": {},
   "outputs": [],
   "source": [
    "def get_boxplot(column):\n",
    "    fig, ax = plt.subplots(figsize = (14, 4))\n",
    "    sns.boxplot(x=column, y='rating', \n",
    "                data=cacao.loc[cacao.loc[:, column].isin(cacao.loc[:, column].value_counts().index[:10])],\n",
    "               ax=ax)\n",
    "    plt.xticks(rotation=45)\n",
    "    ax.set_title('Boxplot for ' + column)\n",
    "    plt.show()"
   ]
  },
  {
   "cell_type": "code",
   "execution_count": 48,
   "metadata": {},
   "outputs": [
    {
     "data": {
      "image/png": "[encoded data removed]",
      "text/plain": [
       "<Figure size 1008x288 with 1 Axes>"
      ]
     },
     "metadata": {
      "needs_background": "light"
     },
     "output_type": "display_data"
    },
    {
     "data": {
      "image/png": "[encoded data removed]",
      "text/plain": [
       "<Figure size 1008x288 with 1 Axes>"
      ]
     },
     "metadata": {
      "needs_background": "light"
     },
     "output_type": "display_data"
    },
    {
     "data": {
      "image/png": "[encoded data removed]",
      "text/plain": [
       "<Figure size 1008x288 with 1 Axes>"
      ]
     },
     "metadata": {
      "needs_background": "light"
     },
     "output_type": "display_data"
    },
    {
     "data": {
      "image/png": "[encoded data removed]",
      "text/plain": [
       "<Figure size 1008x288 with 1 Axes>"
      ]
     },
     "metadata": {
      "needs_background": "light"
     },
     "output_type": "display_data"
    },
    {
     "data": {
      "image/png": "[encoded data removed]",
      "text/plain": [
       "<Figure size 1008x288 with 1 Axes>"
      ]
     },
     "metadata": {
      "needs_background": "light"
     },
     "output_type": "display_data"
    }
   ],
   "source": [
    "for col in ['company', 'specific_origin', 'company_location', 'bean_type', 'broad_origin']:\n",
    "    get_boxplot(col)"
   ]
  },
  {
   "cell_type": "code",
   "execution_count": 98,
   "metadata": {},
   "outputs": [],
   "source": [
    "def get_stat_dif(column):\n",
    "    cols = cacao.loc[:, column].value_counts().index[:10]\n",
    "    combinations_all = list(combinations(cols, 2))\n",
    "    for comb in combinations_all:\n",
    "        if ttest_ind(cacao.loc[cacao.loc[:, column] == comb[0], 'rating'], \n",
    "                        cacao.loc[cacao.loc[:, column] == comb[1], 'rating']).pvalue \\\n",
    "            <= 0.05/len(combinations_all): # Учли поправку Бонферони\n",
    "            print('Найдены статистически значимые различия для колонки', column)\n",
    "            break"
   ]
  },
  {
   "cell_type": "code",
   "execution_count": 99,
   "metadata": {},
   "outputs": [
    {
     "name": "stdout",
     "output_type": "stream",
     "text": [
      "Найдены статистически значимые различия для колонки company\n",
      "Найдены статистически значимые различия для колонки specific_origin\n",
      "Найдены статистически значимые различия для колонки company_location\n"
     ]
    }
   ],
   "source": [
    "for col in ['company', 'specific_origin', 'company_location', 'bean_type', 'broad_origin']:\n",
    "    get_stat_dif(col)"
   ]
  },
  {
   "cell_type": "code",
   "execution_count": 100,
   "metadata": {},
   "outputs": [
    {
     "data": {
      "text/html": [
       "<div>\n",
       "<style scoped>\n",
       "    .dataframe tbody tr th:only-of-type {\n",
       "        vertical-align: middle;\n",
       "    }\n",
       "\n",
       "    .dataframe tbody tr th {\n",
       "        vertical-align: top;\n",
       "    }\n",
       "\n",
       "    .dataframe thead th {\n",
       "        text-align: right;\n",
       "    }\n",
       "</style>\n",
       "<table border=\"1\" class=\"dataframe\">\n",
       "  <thead>\n",
       "    <tr style=\"text-align: right;\">\n",
       "      <th></th>\n",
       "      <th>company</th>\n",
       "      <th>specific_origin</th>\n",
       "      <th>company_location</th>\n",
       "      <th>review_date</th>\n",
       "      <th>cocoa_percent</th>\n",
       "    </tr>\n",
       "  </thead>\n",
       "  <tbody>\n",
       "    <tr>\n",
       "      <th>1</th>\n",
       "      <td>A. Morin</td>\n",
       "      <td>Kpime</td>\n",
       "      <td>France</td>\n",
       "      <td>2015</td>\n",
       "      <td>70.0</td>\n",
       "    </tr>\n",
       "    <tr>\n",
       "      <th>3</th>\n",
       "      <td>A. Morin</td>\n",
       "      <td>Akata</td>\n",
       "      <td>France</td>\n",
       "      <td>2015</td>\n",
       "      <td>70.0</td>\n",
       "    </tr>\n",
       "    <tr>\n",
       "      <th>4</th>\n",
       "      <td>A. Morin</td>\n",
       "      <td>Quilla</td>\n",
       "      <td>France</td>\n",
       "      <td>2015</td>\n",
       "      <td>70.0</td>\n",
       "    </tr>\n",
       "    <tr>\n",
       "      <th>5</th>\n",
       "      <td>A. Morin</td>\n",
       "      <td>Carenero</td>\n",
       "      <td>France</td>\n",
       "      <td>2014</td>\n",
       "      <td>70.0</td>\n",
       "    </tr>\n",
       "    <tr>\n",
       "      <th>6</th>\n",
       "      <td>A. Morin</td>\n",
       "      <td>Cuba</td>\n",
       "      <td>France</td>\n",
       "      <td>2014</td>\n",
       "      <td>70.0</td>\n",
       "    </tr>\n",
       "  </tbody>\n",
       "</table>\n",
       "</div>"
      ],
      "text/plain": [
       "    company specific_origin company_location  review_date  cocoa_percent\n",
       "1  A. Morin           Kpime           France         2015           70.0\n",
       "3  A. Morin           Akata           France         2015           70.0\n",
       "4  A. Morin          Quilla           France         2015           70.0\n",
       "5  A. Morin        Carenero           France         2014           70.0\n",
       "6  A. Morin            Cuba           France         2014           70.0"
      ]
     },
     "execution_count": 100,
     "metadata": {},
     "output_type": "execute_result"
    }
   ],
   "source": [
    "cacao_for_model = cacao.loc[:, ['company', 'specific_origin', 'company_location', 'review_date', 'cocoa_percent']]\n",
    "cacao_for_model.head()"
   ]
  },
  {
   "cell_type": "code",
   "execution_count": 101,
   "metadata": {},
   "outputs": [
    {
     "data": {
      "text/html": [
       "<div>\n",
       "<style scoped>\n",
       "    .dataframe tbody tr th:only-of-type {\n",
       "        vertical-align: middle;\n",
       "    }\n",
       "\n",
       "    .dataframe tbody tr th {\n",
       "        vertical-align: top;\n",
       "    }\n",
       "\n",
       "    .dataframe thead th {\n",
       "        text-align: right;\n",
       "    }\n",
       "</style>\n",
       "<table border=\"1\" class=\"dataframe\">\n",
       "  <thead>\n",
       "    <tr style=\"text-align: right;\">\n",
       "      <th></th>\n",
       "      <th>company</th>\n",
       "      <th>specific_origin</th>\n",
       "      <th>ref</th>\n",
       "      <th>review_date</th>\n",
       "      <th>cocoa_percent</th>\n",
       "      <th>company_location</th>\n",
       "      <th>rating</th>\n",
       "      <th>bean_type</th>\n",
       "      <th>broad_origin</th>\n",
       "    </tr>\n",
       "  </thead>\n",
       "  <tbody>\n",
       "    <tr>\n",
       "      <th>1</th>\n",
       "      <td>A. Morin</td>\n",
       "      <td>Kpime</td>\n",
       "      <td>1676</td>\n",
       "      <td>2015</td>\n",
       "      <td>70.0</td>\n",
       "      <td>France</td>\n",
       "      <td>2.75</td>\n",
       "      <td>None</td>\n",
       "      <td>Togo</td>\n",
       "    </tr>\n",
       "    <tr>\n",
       "      <th>3</th>\n",
       "      <td>A. Morin</td>\n",
       "      <td>Akata</td>\n",
       "      <td>1680</td>\n",
       "      <td>2015</td>\n",
       "      <td>70.0</td>\n",
       "      <td>France</td>\n",
       "      <td>3.50</td>\n",
       "      <td>None</td>\n",
       "      <td>Togo</td>\n",
       "    </tr>\n",
       "    <tr>\n",
       "      <th>4</th>\n",
       "      <td>A. Morin</td>\n",
       "      <td>Quilla</td>\n",
       "      <td>1704</td>\n",
       "      <td>2015</td>\n",
       "      <td>70.0</td>\n",
       "      <td>France</td>\n",
       "      <td>3.50</td>\n",
       "      <td>None</td>\n",
       "      <td>Peru</td>\n",
       "    </tr>\n",
       "    <tr>\n",
       "      <th>5</th>\n",
       "      <td>A. Morin</td>\n",
       "      <td>Carenero</td>\n",
       "      <td>1315</td>\n",
       "      <td>2014</td>\n",
       "      <td>70.0</td>\n",
       "      <td>France</td>\n",
       "      <td>2.75</td>\n",
       "      <td>Criollo</td>\n",
       "      <td>Venezuela</td>\n",
       "    </tr>\n",
       "    <tr>\n",
       "      <th>6</th>\n",
       "      <td>A. Morin</td>\n",
       "      <td>Cuba</td>\n",
       "      <td>1315</td>\n",
       "      <td>2014</td>\n",
       "      <td>70.0</td>\n",
       "      <td>France</td>\n",
       "      <td>3.50</td>\n",
       "      <td>None</td>\n",
       "      <td>Cuba</td>\n",
       "    </tr>\n",
       "    <tr>\n",
       "      <th>...</th>\n",
       "      <td>...</td>\n",
       "      <td>...</td>\n",
       "      <td>...</td>\n",
       "      <td>...</td>\n",
       "      <td>...</td>\n",
       "      <td>...</td>\n",
       "      <td>...</td>\n",
       "      <td>...</td>\n",
       "      <td>...</td>\n",
       "    </tr>\n",
       "    <tr>\n",
       "      <th>1790</th>\n",
       "      <td>Zotter</td>\n",
       "      <td>Peru</td>\n",
       "      <td>647</td>\n",
       "      <td>2011</td>\n",
       "      <td>70.0</td>\n",
       "      <td>Austria</td>\n",
       "      <td>3.75</td>\n",
       "      <td>None</td>\n",
       "      <td>Peru</td>\n",
       "    </tr>\n",
       "    <tr>\n",
       "      <th>1791</th>\n",
       "      <td>Zotter</td>\n",
       "      <td>Congo</td>\n",
       "      <td>749</td>\n",
       "      <td>2011</td>\n",
       "      <td>65.0</td>\n",
       "      <td>Austria</td>\n",
       "      <td>3.00</td>\n",
       "      <td>Forastero</td>\n",
       "      <td>Congo</td>\n",
       "    </tr>\n",
       "    <tr>\n",
       "      <th>1792</th>\n",
       "      <td>Zotter</td>\n",
       "      <td>Kerala State</td>\n",
       "      <td>749</td>\n",
       "      <td>2011</td>\n",
       "      <td>65.0</td>\n",
       "      <td>Austria</td>\n",
       "      <td>3.50</td>\n",
       "      <td>Forastero</td>\n",
       "      <td>India</td>\n",
       "    </tr>\n",
       "    <tr>\n",
       "      <th>1793</th>\n",
       "      <td>Zotter</td>\n",
       "      <td>Kerala State</td>\n",
       "      <td>781</td>\n",
       "      <td>2011</td>\n",
       "      <td>62.0</td>\n",
       "      <td>Austria</td>\n",
       "      <td>3.25</td>\n",
       "      <td>None</td>\n",
       "      <td>India</td>\n",
       "    </tr>\n",
       "    <tr>\n",
       "      <th>1794</th>\n",
       "      <td>Zotter</td>\n",
       "      <td>Brazil, Mitzi Blue</td>\n",
       "      <td>486</td>\n",
       "      <td>2010</td>\n",
       "      <td>65.0</td>\n",
       "      <td>Austria</td>\n",
       "      <td>3.00</td>\n",
       "      <td>None</td>\n",
       "      <td>Brazil</td>\n",
       "    </tr>\n",
       "  </tbody>\n",
       "</table>\n",
       "<p>1690 rows × 9 columns</p>\n",
       "</div>"
      ],
      "text/plain": [
       "       company     specific_origin   ref  review_date  cocoa_percent  \\\n",
       "1     A. Morin               Kpime  1676         2015           70.0   \n",
       "3     A. Morin               Akata  1680         2015           70.0   \n",
       "4     A. Morin              Quilla  1704         2015           70.0   \n",
       "5     A. Morin            Carenero  1315         2014           70.0   \n",
       "6     A. Morin                Cuba  1315         2014           70.0   \n",
       "...        ...                 ...   ...          ...            ...   \n",
       "1790    Zotter                Peru   647         2011           70.0   \n",
       "1791    Zotter               Congo   749         2011           65.0   \n",
       "1792    Zotter        Kerala State   749         2011           65.0   \n",
       "1793    Zotter        Kerala State   781         2011           62.0   \n",
       "1794    Zotter  Brazil, Mitzi Blue   486         2010           65.0   \n",
       "\n",
       "     company_location  rating  bean_type broad_origin  \n",
       "1              France    2.75       None         Togo  \n",
       "3              France    3.50       None         Togo  \n",
       "4              France    3.50       None         Peru  \n",
       "5              France    2.75    Criollo    Venezuela  \n",
       "6              France    3.50       None         Cuba  \n",
       "...               ...     ...        ...          ...  \n",
       "1790          Austria    3.75       None         Peru  \n",
       "1791          Austria    3.00  Forastero        Congo  \n",
       "1792          Austria    3.50  Forastero        India  \n",
       "1793          Austria    3.25       None        India  \n",
       "1794          Austria    3.00       None       Brazil  \n",
       "\n",
       "[1690 rows x 9 columns]"
      ]
     },
     "execution_count": 101,
     "metadata": {},
     "output_type": "execute_result"
    }
   ],
   "source": [
    "cacao"
   ]
  },
  {
   "cell_type": "code",
   "execution_count": 49,
   "metadata": {},
   "outputs": [
    {
     "name": "stdout",
     "output_type": "stream",
     "text": [
      "Collecting package metadata (current_repodata.json): ...working... done\n",
      "Solving environment: ...working... done\n",
      "\n",
      "## Package Plan ##\n",
      "\n",
      "  environment location: C:\\Users\\stepn\\anaconda3\n",
      "\n",
      "  added / updated specs:\n",
      "    - jupyter_contrib_nbextensions\n",
      "\n",
      "\n",
      "The following packages will be downloaded:\n",
      "\n",
      "    package                    |            build\n",
      "    ---------------------------|-----------------\n",
      "    conda-4.9.2                |   py37h03978a9_0         3.0 MB  conda-forge\n",
      "    jupyter_contrib_core-0.3.3 |             py_2          15 KB  conda-forge\n",
      "    jupyter_contrib_nbextensions-0.5.1|   py37hc8dfbb8_1        19.5 MB  conda-forge\n",
      "    jupyter_highlight_selected_word-0.2.0|py37hc8dfbb8_1002          15 KB  conda-forge\n",
      "    jupyter_latex_envs-1.4.6   |py37hc8dfbb8_1001         666 KB  conda-forge\n",
      "    jupyter_nbextensions_configurator-0.4.1|   py37hc8dfbb8_2         491 KB  conda-forge\n",
      "    python_abi-3.7             |          1_cp37m           4 KB  conda-forge\n",
      "    ------------------------------------------------------------\n",
      "                                           Total:        23.7 MB\n",
      "\n",
      "The following NEW packages will be INSTALLED:\n",
      "\n",
      "  jupyter_contrib_c~ conda-forge/noarch::jupyter_contrib_core-0.3.3-py_2\n",
      "  jupyter_contrib_n~ conda-forge/win-64::jupyter_contrib_nbextensions-0.5.1-py37hc8dfbb8_1\n",
      "  jupyter_highlight~ conda-forge/win-64::jupyter_highlight_selected_word-0.2.0-py37hc8dfbb8_1002\n",
      "  jupyter_latex_envs conda-forge/win-64::jupyter_latex_envs-1.4.6-py37hc8dfbb8_1001\n",
      "  jupyter_nbextensi~ conda-forge/win-64::jupyter_nbextensions_configurator-0.4.1-py37hc8dfbb8_2\n",
      "  python_abi         conda-forge/win-64::python_abi-3.7-1_cp37m\n",
      "\n",
      "The following packages will be UPDATED:\n",
      "\n",
      "  conda                       pkgs/main::conda-4.8.2-py37_0 --> conda-forge::conda-4.9.2-py37h03978a9_0\n",
      "\n",
      "\n",
      "\n",
      "Downloading and Extracting Packages\n",
      "\n",
      "conda-4.9.2          | 3.0 MB    |            |   0% \n",
      "conda-4.9.2          | 3.0 MB    |            |   1% \n",
      "conda-4.9.2          | 3.0 MB    | ##5        |  26% \n",
      "conda-4.9.2          | 3.0 MB    | ######8    |  68% \n",
      "conda-4.9.2          | 3.0 MB    | ########## | 100% \n",
      "\n",
      "python_abi-3.7       | 4 KB      |            |   0% \n",
      "python_abi-3.7       | 4 KB      | ########## | 100% \n",
      "\n",
      "jupyter_contrib_core | 15 KB     |            |   0% \n",
      "jupyter_contrib_core | 15 KB     | ########## | 100% \n",
      "\n",
      "jupyter_highlight_se | 15 KB     |            |   0% \n",
      "jupyter_highlight_se | 15 KB     | ########## | 100% \n",
      "\n",
      "jupyter_contrib_nbex | 19.5 MB   |            |   0% \n",
      "jupyter_contrib_nbex | 19.5 MB   | 2          |   3% \n",
      "jupyter_contrib_nbex | 19.5 MB   | 9          |  10% \n",
      "jupyter_contrib_nbex | 19.5 MB   | #6         |  16% \n",
      "jupyter_contrib_nbex | 19.5 MB   | ##2        |  22% \n",
      "jupyter_contrib_nbex | 19.5 MB   | ##7        |  27% \n",
      "jupyter_contrib_nbex | 19.5 MB   | ###2       |  32% \n",
      "jupyter_contrib_nbex | 19.5 MB   | ###6       |  37% \n",
      "jupyter_contrib_nbex | 19.5 MB   | ####2      |  42% \n",
      "jupyter_contrib_nbex | 19.5 MB   | ####8      |  49% \n",
      "jupyter_contrib_nbex | 19.5 MB   | #####5     |  55% \n",
      "jupyter_contrib_nbex | 19.5 MB   | ######1    |  62% \n",
      "jupyter_contrib_nbex | 19.5 MB   | ######8    |  69% \n",
      "jupyter_contrib_nbex | 19.5 MB   | #######5   |  75% \n",
      "jupyter_contrib_nbex | 19.5 MB   | ########1  |  82% \n",
      "jupyter_contrib_nbex | 19.5 MB   | ########8  |  88% \n",
      "jupyter_contrib_nbex | 19.5 MB   | #########4 |  95% \n",
      "jupyter_contrib_nbex | 19.5 MB   | ########## | 100% \n",
      "\n",
      "jupyter_nbextensions | 491 KB    |            |   0% \n",
      "jupyter_nbextensions | 491 KB    | 3          |   3% \n",
      "jupyter_nbextensions | 491 KB    | ########## | 100% \n",
      "\n",
      "jupyter_latex_envs-1 | 666 KB    |            |   0% \n",
      "jupyter_latex_envs-1 | 666 KB    | ###6       |  36% \n",
      "jupyter_latex_envs-1 | 666 KB    | ########## | 100% \n",
      "Preparing transaction: ...working... done\n",
      "Verifying transaction: ...working... done\n",
      "Executing transaction: ...working... b''\n",
      "b''\n",
      "b'Enabling: jupyter_nbextensions_configurator\\n- Writing config: C:\\\\Users\\\\stepn\\\\anaconda3\\\\etc\\\\jupyter\\n    - Validating...\\n      jupyter_nbextensions_configurator 0.4.1 ok\\nEnabling notebook nbextension nbextensions_configurator/config_menu/main...\\nEnabling tree nbextension nbextensions_configurator/tree_tab/main...\\n'\n",
      "b'[I 11:41:36 InstallContribNbextensionsApp] jupyter contrib nbextension install --sys-prefix\\n[I 11:41:36 InstallContribNbextensionsApp] Installing jupyter_contrib_nbextensions nbextension files to jupyter data directory\\n[I 11:41:37 InstallContribNbextensionsApp] Installing C:\\\\Users\\\\stepn\\\\anaconda3\\\\lib\\\\site-packages\\\\jupyter_contrib_nbextensions\\\\nbextensions\\\\addbefore -> addbefore\\n[I 11:41:37 InstallContribNbextensionsApp] Making directory: C:\\\\Users\\\\stepn\\\\anaconda3\\\\share\\\\jupyter\\\\nbextensions\\\\addbefore\\\\\\n[I 11:41:37 InstallContribNbextensionsApp] Copying: C:\\\\Users\\\\stepn\\\\anaconda3\\\\lib\\\\site-packages\\\\jupyter_contrib_nbextensions\\\\nbextensions\\\\addbefore\\\\addbefore.yaml -> C:\\\\Users\\\\stepn\\\\anaconda3\\\\share\\\\jupyter\\\\nbextensions\\\\addbefore\\\\addbefore.yaml\\n[I 11:41:37 InstallContribNbextensionsApp] Copying: C:\\\\Users\\\\stepn\\\\anaconda3\\\\lib\\\\site-packages\\\\jupyter_contrib_nbextensions\\\\nbextensions\\\\addbefore\\\\icon.png -> C:\\\\Users\\\\stepn\\\\anaconda3\\\\share\\\\jupyter\\\\nbextensions\\\\addbefore\\\\icon.png\\n[I 11:41:37 InstallContribNbextensionsApp] Copying: C:\\\\Users\\\\stepn\\\\anaconda3\\\\lib\\\\site-packages\\\\jupyter_contrib_nbextensions\\\\nbextensions\\\\addbefore\\\\main.js -> C:\\\\Users\\\\stepn\\\\anaconda3\\\\share\\\\jupyter\\\\nbextensions\\\\addbefore\\\\main.js\\n[I 11:41:37 InstallContribNbextensionsApp] Copying: C:\\\\Users\\\\stepn\\\\anaconda3\\\\lib\\\\site-packages\\\\jupyter_contrib_nbextensions\\\\nbextensions\\\\addbefore\\\\readme.md -> C:\\\\Users\\\\stepn\\\\anaconda3\\\\share\\\\jupyter\\\\nbextensions\\\\addbefore\\\\readme.md\\n[I 11:41:37 InstallContribNbextensionsApp] - Validating: ok\\n[I 11:41:37 InstallContribNbextensionsApp] Installing C:\\\\Users\\\\stepn\\\\anaconda3\\\\lib\\\\site-packages\\\\jupyter_contrib_nbextensions\\\\nbextensions\\\\autosavetime -> autosavetime\\n[I 11:41:37 InstallContribNbextensionsApp] Making directory: C:\\\\Users\\\\stepn\\\\anaconda3\\\\share\\\\jupyter\\\\nbextensions\\\\autosavetime\\\\\\n[I 11:41:37 InstallContribNbextensionsApp] Copying: C:\\\\Users\\\\stepn\\\\anaconda3\\\\lib\\\\site-packages\\\\jupyter_contrib_nbextensions\\\\nbextensions\\\\autosavetime\\\\autosavetime.yaml -> C:\\\\Users\\\\stepn\\\\anaconda3\\\\share\\\\jupyter\\\\nbextensions\\\\autosavetime\\\\autosavetime.yaml\\n[I 11:41:37 InstallContribNbextensionsApp] Copying: C:\\\\Users\\\\stepn\\\\anaconda3\\\\lib\\\\site-packages\\\\jupyter_contrib_nbextensions\\\\nbextensions\\\\autosavetime\\\\icon.png -> C:\\\\Users\\\\stepn\\\\anaconda3\\\\share\\\\jupyter\\\\nbextensions\\\\autosavetime\\\\icon.png\\n[I 11:41:37 InstallContribNbextensionsApp] Copying: C:\\\\Users\\\\stepn\\\\anaconda3\\\\lib\\\\site-packages\\\\jupyter_contrib_nbextensions\\\\nbextensions\\\\autosavetime\\\\main.js -> C:\\\\Users\\\\stepn\\\\anaconda3\\\\share\\\\jupyter\\\\nbextensions\\\\autosavetime\\\\main.js\\n[I 11:41:37 InstallContribNbextensionsApp] Copying: C:\\\\Users\\\\stepn\\\\anaconda3\\\\lib\\\\site-packages\\\\jupyter_contrib_nbextensions\\\\nbextensions\\\\autosavetime\\\\README.md -> C:\\\\Users\\\\stepn\\\\anaconda3\\\\share\\\\jupyter\\\\nbextensions\\\\autosavetime\\\\README.md\\n[I 11:41:37 InstallContribNbextensionsApp] - Validating: ok\\n[I 11:41:37 InstallContribNbextensionsApp] Installing C:\\\\Users\\\\stepn\\\\anaconda3\\\\lib\\\\site-packages\\\\jupyter_contrib_nbextensions\\\\nbextensions\\\\autoscroll -> autoscroll\\n[I 11:41:37 InstallContribNbextensionsApp] Making directory: C:\\\\Users\\\\stepn\\\\anaconda3\\\\share\\\\jupyter\\\\nbextensions\\\\autoscroll\\\\\\n[I 11:41:37 InstallContribNbextensionsApp] Copying: C:\\\\Users\\\\stepn\\\\anaconda3\\\\lib\\\\site-packages\\\\jupyter_contrib_nbextensions\\\\nbextensions\\\\autoscroll\\\\autoscroll.yaml -> C:\\\\Users\\\\stepn\\\\anaconda3\\\\share\\\\jupyter\\\\nbextensions\\\\autoscroll\\\\autoscroll.yaml\\n[I 11:41:37 InstallContribNbextensionsApp] Copying: C:\\\\Users\\\\stepn\\\\anaconda3\\\\lib\\\\site-packages\\\\jupyter_contrib_nbextensions\\\\nbextensions\\\\autoscroll\\\\icon.png -> C:\\\\Users\\\\stepn\\\\anaconda3\\\\share\\\\jupyter\\\\nbextensions\\\\autoscroll\\\\icon.png\\n[I 11:41:37 InstallContribNbextensionsApp] Copying: C:\\\\Users\\\\stepn\\\\anaconda3\\\\lib\\\\site-packages\\\\jupyter_contrib_nbextensions\\\\nbextensions\\\\autoscroll\\\\main.js -> C:\\\\Users\\\\stepn\\\\anaconda3\\\\share\\\\jupyter\\\\nbextensions\\\\autoscroll\\\\main.js\\n[I 11:41:37 InstallContribNbextensionsApp] Copying: C:\\\\Users\\\\stepn\\\\anaconda3\\\\lib\\\\site-packages\\\\jupyter_contrib_nbextensions\\\\nbextensions\\\\autoscroll\\\\README.md -> C:\\\\Users\\\\stepn\\\\anaconda3\\\\share\\\\jupyter\\\\nbextensions\\\\autoscroll\\\\README.md\\n[I 11:41:37 InstallContribNbextensionsApp] - Validating: ok\\n[I 11:41:37 InstallContribNbextensionsApp] Installing C:\\\\Users\\\\stepn\\\\anaconda3\\\\lib\\\\site-packages\\\\jupyter_contrib_nbextensions\\\\nbextensions\\\\cell_filter -> cell_filter\\n[I 11:41:37 InstallContribNbextensionsApp] Making directory: C:\\\\Users\\\\stepn\\\\anaconda3\\\\share\\\\jupyter\\\\nbextensions\\\\cell_filter\\\\\\n[I 11:41:37 InstallContribNbextensionsApp] Copying: C:\\\\Users\\\\stepn\\\\anaconda3\\\\lib\\\\site-packages\\\\jupyter_contrib_nbextensions\\\\nbextensions\\\\cell_filter\\\\cell_filter.js -> C:\\\\Users\\\\stepn\\\\anaconda3\\\\share\\\\jupyter\\\\nbextensions\\\\cell_filter\\\\cell_filter.js\\n[I 11:41:37 InstallContribNbextensionsApp] Copying: C:\\\\Users\\\\stepn\\\\anaconda3\\\\lib\\\\site-packages\\\\jupyter_contrib_nbextensions\\\\nbextensions\\\\cell_filter\\\\cell_filter.yml -> C:\\\\Users\\\\stepn\\\\anaconda3\\\\share\\\\jupyter\\\\nbextensions\\\\cell_filter\\\\cell_filter.yml\\n[I 11:41:37 InstallContribNbextensionsApp] Copying: C:\\\\Users\\\\stepn\\\\anaconda3\\\\lib\\\\site-packages\\\\jupyter_contrib_nbextensions\\\\nbextensions\\\\cell_filter\\\\README.md -> C:\\\\Users\\\\stepn\\\\anaconda3\\\\share\\\\jupyter\\\\nbextensions\\\\cell_filter\\\\README.md\\n[I 11:41:37 InstallContribNbextensionsApp] - Validating: ok\\n[I 11:41:37 InstallContribNbextensionsApp] Installing C:\\\\Users\\\\stepn\\\\anaconda3\\\\lib\\\\site-packages\\\\jupyter_contrib_nbextensions\\\\nbextensions\\\\codefolding -> codefolding\\n[I 11:41:37 InstallContribNbextensionsApp] Making directory: C:\\\\Users\\\\stepn\\\\anaconda3\\\\share\\\\jupyter\\\\nbextensions\\\\codefolding\\\\\\n[I 11:41:37 InstallContribNbextensionsApp] Copying: C:\\\\Users\\\\stepn\\\\anaconda3\\\\lib\\\\site-packages\\\\jupyter_contrib_nbextensions\\\\nbextensions\\\\codefolding\\\\codefolding.yaml -> C:\\\\Users\\\\stepn\\\\anaconda3\\\\share\\\\jupyter\\\\nbextensions\\\\codefolding\\\\codefolding.yaml\\n[I 11:41:37 InstallContribNbextensionsApp] Copying: C:\\\\Users\\\\stepn\\\\anaconda3\\\\lib\\\\site-packages\\\\jupyter_contrib_nbextensions\\\\nbextensions\\\\codefolding\\\\codefolding_editor.png -> C:\\\\Users\\\\stepn\\\\anaconda3\\\\share\\\\jupyter\\\\nbextensions\\\\codefolding\\\\codefolding_editor.png\\n[I 11:41:37 InstallContribNbextensionsApp] Copying: C:\\\\Users\\\\stepn\\\\anaconda3\\\\lib\\\\site-packages\\\\jupyter_contrib_nbextensions\\\\nbextensions\\\\codefolding\\\\codefolding_editor.yaml -> C:\\\\Users\\\\stepn\\\\anaconda3\\\\share\\\\jupyter\\\\nbextensions\\\\codefolding\\\\codefolding_editor.yaml\\n[I 11:41:37 InstallContribNbextensionsApp] Copying: C:\\\\Users\\\\stepn\\\\anaconda3\\\\lib\\\\site-packages\\\\jupyter_contrib_nbextensions\\\\nbextensions\\\\codefolding\\\\codefolding_firstline_folded.png -> C:\\\\Users\\\\stepn\\\\anaconda3\\\\share\\\\jupyter\\\\nbextensions\\\\codefolding\\\\codefolding_firstline_folded.png\\n[I 11:41:37 InstallContribNbextensionsApp] Copying: C:\\\\Users\\\\stepn\\\\anaconda3\\\\lib\\\\site-packages\\\\jupyter_contrib_nbextensions\\\\nbextensions\\\\codefolding\\\\codefolding_firstline_unfolded.png -> C:\\\\Users\\\\stepn\\\\anaconda3\\\\share\\\\jupyter\\\\nbextensions\\\\codefolding\\\\codefolding_firstline_unfolded.png\\n[I 11:41:37 InstallContribNbextensionsApp] Copying: C:\\\\Users\\\\stepn\\\\anaconda3\\\\lib\\\\site-packages\\\\jupyter_contrib_nbextensions\\\\nbextensions\\\\codefolding\\\\codefolding_indent_folded_1.png -> C:\\\\Users\\\\stepn\\\\anaconda3\\\\share\\\\jupyter\\\\nbextensions\\\\codefolding\\\\codefolding_indent_folded_1.png\\n[I 11:41:37 InstallContribNbextensionsApp] Copying: C:\\\\Users\\\\stepn\\\\anaconda3\\\\lib\\\\site-packages\\\\jupyter_contrib_nbextensions\\\\nbextensions\\\\codefolding\\\\codefolding_indent_folded_2.png -> C:\\\\Users\\\\stepn\\\\anaconda3\\\\share\\\\jupyter\\\\nbextensions\\\\codefolding\\\\codefolding_indent_folded_2.png\\n[I 11:41:37 InstallContribNbextensionsApp] Copying: C:\\\\Users\\\\stepn\\\\anaconda3\\\\lib\\\\site-packages\\\\jupyter_contrib_nbextensions\\\\nbextensions\\\\codefolding\\\\codefolding_indent_unfolded.png -> C:\\\\Users\\\\stepn\\\\anaconda3\\\\share\\\\jupyter\\\\nbextensions\\\\codefolding\\\\codefolding_indent_unfolded.png\\n[I 11:41:37 InstallContribNbextensionsApp] Copying: C:\\\\Users\\\\stepn\\\\anaconda3\\\\lib\\\\site-packages\\\\jupyter_contrib_nbextensions\\\\nbextensions\\\\codefolding\\\\edit.js -> C:\\\\Users\\\\stepn\\\\anaconda3\\\\share\\\\jupyter\\\\nbextensions\\\\codefolding\\\\edit.js\\n[I 11:41:37 InstallContribNbextensionsApp] Copying: C:\\\\Users\\\\stepn\\\\anaconda3\\\\lib\\\\site-packages\\\\jupyter_contrib_nbextensions\\\\nbextensions\\\\codefolding\\\\firstline-fold.js -> C:\\\\Users\\\\stepn\\\\anaconda3\\\\share\\\\jupyter\\\\nbextensions\\\\codefolding\\\\firstline-fold.js\\n[I 11:41:37 InstallContribNbextensionsApp] Copying: C:\\\\Users\\\\stepn\\\\anaconda3\\\\lib\\\\site-packages\\\\jupyter_contrib_nbextensions\\\\nbextensions\\\\codefolding\\\\foldgutter.css -> C:\\\\Users\\\\stepn\\\\anaconda3\\\\share\\\\jupyter\\\\nbextensions\\\\codefolding\\\\foldgutter.css\\n[I 11:41:37 InstallContribNbextensionsApp] Copying: C:\\\\Users\\\\stepn\\\\anaconda3\\\\lib\\\\site-packages\\\\jupyter_contrib_nbextensions\\\\nbextensions\\\\codefolding\\\\icon.png -> C:\\\\Users\\\\stepn\\\\anaconda3\\\\share\\\\jupyter\\\\nbextensions\\\\codefolding\\\\icon.png\\n[I 11:41:37 InstallContribNbextensionsApp] Copying: C:\\\\Users\\\\stepn\\\\anaconda3\\\\lib\\\\site-packages\\\\jupyter_contrib_nbextensions\\\\nbextensions\\\\codefolding\\\\magic-fold.js -> C:\\\\Users\\\\stepn\\\\anaconda3\\\\share\\\\jupyter\\\\nbextensions\\\\codefolding\\\\magic-fold.js\\n[I 11:41:37 InstallContribNbextensionsApp] Copying: C:\\\\Users\\\\stepn\\\\anaconda3\\\\lib\\\\site-packages\\\\jupyter_contrib_nbextensions\\\\nbextensions\\\\codefolding\\\\magic-folded.png -> C:\\\\Users\\\\stepn\\\\anaconda3\\\\share\\\\jupyter\\\\nbextensions\\\\codefolding\\\\magic-folded.png\\n[I 11:41:37 InstallContribNbextensionsApp] Copying: C:\\\\Users\\\\stepn\\\\anaconda3\\\\lib\\\\site-packages\\\\jupyter_contrib_nbextensions\\\\nbextensions\\\\codefolding\\\\magic-unfolded.png -> C:\\\\Users\\\\stepn\\\\anaconda3\\\\share\\\\jupyter\\\\nbextensions\\\\codefolding\\\\magic-unfolded.png\\n[I 11:41:37 InstallContribNbextensionsApp] Copying: C:\\\\Users\\\\stepn\\\\anaconda3\\\\lib\\\\site-packages\\\\jupyter_contrib_nbextensions\\\\nbextensions\\\\codefolding\\\\main.js -> C:\\\\Users\\\\stepn\\\\anaconda3\\\\share\\\\jupyter\\\\nbextensions\\\\codefolding\\\\main.js\\n[I 11:41:37 InstallContribNbextensionsApp] Copying: C:\\\\Users\\\\stepn\\\\anaconda3\\\\lib\\\\site-packages\\\\jupyter_contrib_nbextensions\\\\nbextensions\\\\codefolding\\\\readme.md -> C:\\\\Users\\\\stepn\\\\anaconda3\\\\share\\\\jupyter\\\\nbextensions\\\\codefolding\\\\readme.md\\n[I 11:41:37 InstallContribNbextensionsApp] - Validating: ok\\n[I 11:41:37 InstallContribNbextensionsApp] Installing C:\\\\Users\\\\stepn\\\\anaconda3\\\\lib\\\\site-packages\\\\jupyter_contrib_nbextensions\\\\nbextensions\\\\codefolding -> codefolding\\n[I 11:41:37 InstallContribNbextensionsApp] Up to date: C:\\\\Users\\\\stepn\\\\anaconda3\\\\share\\\\jupyter\\\\nbextensions\\\\codefolding\\\\codefolding.yaml\\n[I 11:41:37 InstallContribNbextensionsApp] Up to date: C:\\\\Users\\\\stepn\\\\anaconda3\\\\share\\\\jupyter\\\\nbextensions\\\\codefolding\\\\codefolding_editor.png\\n[I 11:41:37 InstallContribNbextensionsApp] Up to date: C:\\\\Users\\\\stepn\\\\anaconda3\\\\share\\\\jupyter\\\\nbextensions\\\\codefolding\\\\codefolding_editor.yaml\\n[I 11:41:37 InstallContribNbextensionsApp] Up to date: C:\\\\Users\\\\stepn\\\\anaconda3\\\\share\\\\jupyter\\\\nbextensions\\\\codefolding\\\\codefolding_firstline_folded.png\\n[I 11:41:37 InstallContribNbextensionsApp] Up to date: C:\\\\Users\\\\stepn\\\\anaconda3\\\\share\\\\jupyter\\\\nbextensions\\\\codefolding\\\\codefolding_firstline_unfolded.png\\n[I 11:41:37 InstallContribNbextensionsApp] Up to date: C:\\\\Users\\\\stepn\\\\anaconda3\\\\share\\\\jupyter\\\\nbextensions\\\\codefolding\\\\codefolding_indent_folded_1.png\\n[I 11:41:37 InstallContribNbextensionsApp] Up to date: C:\\\\Users\\\\stepn\\\\anaconda3\\\\share\\\\jupyter\\\\nbextensions\\\\codefolding\\\\codefolding_indent_folded_2.png\\n[I 11:41:37 InstallContribNbextensionsApp] Up to date: C:\\\\Users\\\\stepn\\\\anaconda3\\\\share\\\\jupyter\\\\nbextensions\\\\codefolding\\\\codefolding_indent_unfolded.png\\n[I 11:41:37 InstallContribNbextensionsApp] Up to date: C:\\\\Users\\\\stepn\\\\anaconda3\\\\share\\\\jupyter\\\\nbextensions\\\\codefolding\\\\edit.js\\n[I 11:41:37 InstallContribNbextensionsApp] Up to date: C:\\\\Users\\\\stepn\\\\anaconda3\\\\share\\\\jupyter\\\\nbextensions\\\\codefolding\\\\firstline-fold.js\\n[I 11:41:37 InstallContribNbextensionsApp] Up to date: C:\\\\Users\\\\stepn\\\\anaconda3\\\\share\\\\jupyter\\\\nbextensions\\\\codefolding\\\\foldgutter.css\\n[I 11:41:37 InstallContribNbextensionsApp] Up to date: C:\\\\Users\\\\stepn\\\\anaconda3\\\\share\\\\jupyter\\\\nbextensions\\\\codefolding\\\\icon.png\\n[I 11:41:37 InstallContribNbextensionsApp] Up to date: C:\\\\Users\\\\stepn\\\\anaconda3\\\\share\\\\jupyter\\\\nbextensions\\\\codefolding\\\\magic-fold.js\\n[I 11:41:37 InstallContribNbextensionsApp] Up to date: C:\\\\Users\\\\stepn\\\\anaconda3\\\\share\\\\jupyter\\\\nbextensions\\\\codefolding\\\\magic-folded.png\\n[I 11:41:37 InstallContribNbextensionsApp] Up to date: C:\\\\Users\\\\stepn\\\\anaconda3\\\\share\\\\jupyter\\\\nbextensions\\\\codefolding\\\\magic-unfolded.png\\n[I 11:41:37 InstallContribNbextensionsApp] Up to date: C:\\\\Users\\\\stepn\\\\anaconda3\\\\share\\\\jupyter\\\\nbextensions\\\\codefolding\\\\main.js\\n[I 11:41:37 InstallContribNbextensionsApp] Up to date: C:\\\\Users\\\\stepn\\\\anaconda3\\\\share\\\\jupyter\\\\nbextensions\\\\codefolding\\\\readme.md\\n[I 11:41:37 InstallContribNbextensionsApp] - Validating: ok\\n[I 11:41:37 InstallContribNbextensionsApp] Installing C:\\\\Users\\\\stepn\\\\anaconda3\\\\lib\\\\site-packages\\\\jupyter_contrib_nbextensions\\\\nbextensions\\\\codemirror_mode_extensions -> codemirror_mode_extensions\\n[I 11:41:37 InstallContribNbextensionsApp] Making directory: C:\\\\Users\\\\stepn\\\\anaconda3\\\\share\\\\jupyter\\\\nbextensions\\\\codemirror_mode_extensions\\\\\\n[I 11:41:37 InstallContribNbextensionsApp] Copying: C:\\\\Users\\\\stepn\\\\anaconda3\\\\lib\\\\site-packages\\\\jupyter_contrib_nbextensions\\\\nbextensions\\\\codemirror_mode_extensions\\\\codemirror_mode_extensions.yaml -> C:\\\\Users\\\\stepn\\\\anaconda3\\\\share\\\\jupyter\\\\nbextensions\\\\codemirror_mode_extensions\\\\codemirror_mode_extensions.yaml\\n[I 11:41:37 InstallContribNbextensionsApp] Copying: C:\\\\Users\\\\stepn\\\\anaconda3\\\\lib\\\\site-packages\\\\jupyter_contrib_nbextensions\\\\nbextensions\\\\codemirror_mode_extensions\\\\main.js -> C:\\\\Users\\\\stepn\\\\anaconda3\\\\share\\\\jupyter\\\\nbextensions\\\\codemirror_mode_extensions\\\\main.js\\n[I 11:41:37 InstallContribNbextensionsApp] - Validating: ok\\n[I 11:41:37 InstallContribNbextensionsApp] Installing C:\\\\Users\\\\stepn\\\\anaconda3\\\\lib\\\\site-packages\\\\jupyter_contrib_nbextensions\\\\nbextensions\\\\code_font_size -> code_font_size\\n[I 11:41:37 InstallContribNbextensionsApp] Making directory: C:\\\\Users\\\\stepn\\\\anaconda3\\\\share\\\\jupyter\\\\nbextensions\\\\code_font_size\\\\\\n[I 11:41:37 InstallContribNbextensionsApp] Copying: C:\\\\Users\\\\stepn\\\\anaconda3\\\\lib\\\\site-packages\\\\jupyter_contrib_nbextensions\\\\nbextensions\\\\code_font_size\\\\code_font_size.js -> C:\\\\Users\\\\stepn\\\\anaconda3\\\\share\\\\jupyter\\\\nbextensions\\\\code_font_size\\\\code_font_size.js\\n[I 11:41:37 InstallContribNbextensionsApp] Copying: C:\\\\Users\\\\stepn\\\\anaconda3\\\\lib\\\\site-packages\\\\jupyter_contrib_nbextensions\\\\nbextensions\\\\code_font_size\\\\code_font_size.yaml -> C:\\\\Users\\\\stepn\\\\anaconda3\\\\share\\\\jupyter\\\\nbextensions\\\\code_font_size\\\\code_font_size.yaml\\n[I 11:41:37 InstallContribNbextensionsApp] Copying: C:\\\\Users\\\\stepn\\\\anaconda3\\\\lib\\\\site-packages\\\\jupyter_contrib_nbextensions\\\\nbextensions\\\\code_font_size\\\\README.md -> C:\\\\Users\\\\stepn\\\\anaconda3\\\\share\\\\jupyter\\\\nbextensions\\\\code_font_size\\\\README.md\\n[I 11:41:37 InstallContribNbextensionsApp] - Validating: ok\\n[I 11:41:37 InstallContribNbextensionsApp] Installing C:\\\\Users\\\\stepn\\\\anaconda3\\\\lib\\\\site-packages\\\\jupyter_contrib_nbextensions\\\\nbextensions\\\\code_prettify -> code_prettify\\n[I 11:41:37 InstallContribNbextensionsApp] Making directory: C:\\\\Users\\\\stepn\\\\anaconda3\\\\share\\\\jupyter\\\\nbextensions\\\\code_prettify\\\\\\n[I 11:41:37 InstallContribNbextensionsApp] Copying: C:\\\\Users\\\\stepn\\\\anaconda3\\\\lib\\\\site-packages\\\\jupyter_contrib_nbextensions\\\\nbextensions\\\\code_prettify\\\\2to3.js -> C:\\\\Users\\\\stepn\\\\anaconda3\\\\share\\\\jupyter\\\\nbextensions\\\\code_prettify\\\\2to3.js\\n[I 11:41:37 InstallContribNbextensionsApp] Copying: C:\\\\Users\\\\stepn\\\\anaconda3\\\\lib\\\\site-packages\\\\jupyter_contrib_nbextensions\\\\nbextensions\\\\code_prettify\\\\2to3.yaml -> C:\\\\Users\\\\stepn\\\\anaconda3\\\\share\\\\jupyter\\\\nbextensions\\\\code_prettify\\\\2to3.yaml\\n[I 11:41:37 InstallContribNbextensionsApp] Copying: C:\\\\Users\\\\stepn\\\\anaconda3\\\\lib\\\\site-packages\\\\jupyter_contrib_nbextensions\\\\nbextensions\\\\code_prettify\\\\autopep8.js -> C:\\\\Users\\\\stepn\\\\anaconda3\\\\share\\\\jupyter\\\\nbextensions\\\\code_prettify\\\\autopep8.js\\n[I 11:41:37 InstallContribNbextensionsApp] Copying: C:\\\\Users\\\\stepn\\\\anaconda3\\\\lib\\\\site-packages\\\\jupyter_contrib_nbextensions\\\\nbextensions\\\\code_prettify\\\\autopep8.yaml -> C:\\\\Users\\\\stepn\\\\anaconda3\\\\share\\\\jupyter\\\\nbextensions\\\\code_prettify\\\\autopep8.yaml\\n[I 11:41:37 InstallContribNbextensionsApp] Copying: C:\\\\Users\\\\stepn\\\\anaconda3\\\\lib\\\\site-packages\\\\jupyter_contrib_nbextensions\\\\nbextensions\\\\code_prettify\\\\code_prettify.js -> C:\\\\Users\\\\stepn\\\\anaconda3\\\\share\\\\jupyter\\\\nbextensions\\\\code_prettify\\\\code_prettify.js\\n[I 11:41:37 InstallContribNbextensionsApp] Copying: C:\\\\Users\\\\stepn\\\\anaconda3\\\\lib\\\\site-packages\\\\jupyter_contrib_nbextensions\\\\nbextensions\\\\code_prettify\\\\code_prettify.yaml -> C:\\\\Users\\\\stepn\\\\anaconda3\\\\share\\\\jupyter\\\\nbextensions\\\\code_prettify\\\\code_prettify.yaml\\n[I 11:41:37 InstallContribNbextensionsApp] Copying: C:\\\\Users\\\\stepn\\\\anaconda3\\\\lib\\\\site-packages\\\\jupyter_contrib_nbextensions\\\\nbextensions\\\\code_prettify\\\\demo-jv.gif -> C:\\\\Users\\\\stepn\\\\anaconda3\\\\share\\\\jupyter\\\\nbextensions\\\\code_prettify\\\\demo-jv.gif\\n[I 11:41:37 InstallContribNbextensionsApp] Copying: C:\\\\Users\\\\stepn\\\\anaconda3\\\\lib\\\\site-packages\\\\jupyter_contrib_nbextensions\\\\nbextensions\\\\code_prettify\\\\demo-py.gif -> C:\\\\Users\\\\stepn\\\\anaconda3\\\\share\\\\jupyter\\\\nbextensions\\\\code_prettify\\\\demo-py.gif\\n[I 11:41:37 InstallContribNbextensionsApp] Copying: C:\\\\Users\\\\stepn\\\\anaconda3\\\\lib\\\\site-packages\\\\jupyter_contrib_nbextensions\\\\nbextensions\\\\code_prettify\\\\demo-R.gif -> C:\\\\Users\\\\stepn\\\\anaconda3\\\\share\\\\jupyter\\\\nbextensions\\\\code_prettify\\\\demo-R.gif\\n[I 11:41:37 InstallContribNbextensionsApp] Copying: C:\\\\Users\\\\stepn\\\\anaconda3\\\\lib\\\\site-packages\\\\jupyter_contrib_nbextensions\\\\nbextensions\\\\code_prettify\\\\demo_2to3.gif -> C:\\\\Users\\\\stepn\\\\anaconda3\\\\share\\\\jupyter\\\\nbextensions\\\\code_prettify\\\\demo_2to3.gif\\n[I 11:41:37 InstallContribNbextensionsApp] Copying: C:\\\\Users\\\\stepn\\\\anaconda3\\\\lib\\\\site-packages\\\\jupyter_contrib_nbextensions\\\\nbextensions\\\\code_prettify\\\\isort.js -> C:\\\\Users\\\\stepn\\\\anaconda3\\\\share\\\\jupyter\\\\nbextensions\\\\code_prettify\\\\isort.js\\n[I 11:41:37 InstallContribNbextensionsApp] Copying: C:\\\\Users\\\\stepn\\\\anaconda3\\\\lib\\\\site-packages\\\\jupyter_contrib_nbextensions\\\\nbextensions\\\\code_prettify\\\\isort.yaml -> C:\\\\Users\\\\stepn\\\\anaconda3\\\\share\\\\jupyter\\\\nbextensions\\\\code_prettify\\\\isort.yaml\\n[I 11:41:37 InstallContribNbextensionsApp] Copying: C:\\\\Users\\\\stepn\\\\anaconda3\\\\lib\\\\site-packages\\\\jupyter_contrib_nbextensions\\\\nbextensions\\\\code_prettify\\\\kernel_exec_on_cell.js -> C:\\\\Users\\\\stepn\\\\anaconda3\\\\share\\\\jupyter\\\\nbextensions\\\\code_prettify\\\\kernel_exec_on_cell.js\\n[I 11:41:37 InstallContribNbextensionsApp] Copying: C:\\\\Users\\\\stepn\\\\anaconda3\\\\lib\\\\site-packages\\\\jupyter_contrib_nbextensions\\\\nbextensions\\\\code_prettify\\\\README.md -> C:\\\\Users\\\\stepn\\\\anaconda3\\\\share\\\\jupyter\\\\nbextensions\\\\code_prettify\\\\README.md\\n[I 11:41:37 InstallContribNbextensionsApp] Copying: C:\\\\Users\\\\stepn\\\\anaconda3\\\\lib\\\\site-packages\\\\jupyter_contrib_nbextensions\\\\nbextensions\\\\code_prettify\\\\README_2to3.md -> C:\\\\Users\\\\stepn\\\\anaconda3\\\\share\\\\jupyter\\\\nbextensions\\\\code_prettify\\\\README_2to3.md\\n[I 11:41:37 InstallContribNbextensionsApp] Copying: C:\\\\Users\\\\stepn\\\\anaconda3\\\\lib\\\\site-packages\\\\jupyter_contrib_nbextensions\\\\nbextensions\\\\code_prettify\\\\README_autopep8.md -> C:\\\\Users\\\\stepn\\\\anaconda3\\\\share\\\\jupyter\\\\nbextensions\\\\code_prettify\\\\README_autopep8.md\\n[I 11:41:37 InstallContribNbextensionsApp] Copying: C:\\\\Users\\\\stepn\\\\anaconda3\\\\lib\\\\site-packages\\\\jupyter_contrib_nbextensions\\\\nbextensions\\\\code_prettify\\\\README_code_prettify.md -> C:\\\\Users\\\\stepn\\\\anaconda3\\\\share\\\\jupyter\\\\nbextensions\\\\code_prettify\\\\README_code_prettify.md\\n[I 11:41:37 InstallContribNbextensionsApp] Copying: C:\\\\Users\\\\stepn\\\\anaconda3\\\\lib\\\\site-packages\\\\jupyter_contrib_nbextensions\\\\nbextensions\\\\code_prettify\\\\README_isort.md -> C:\\\\Users\\\\stepn\\\\anaconda3\\\\share\\\\jupyter\\\\nbextensions\\\\code_prettify\\\\README_isort.md\\n[I 11:41:37 InstallContribNbextensionsApp] - Validating: ok\\n[I 11:41:37 InstallContribNbextensionsApp] Installing C:\\\\Users\\\\stepn\\\\anaconda3\\\\lib\\\\site-packages\\\\jupyter_contrib_nbextensions\\\\nbextensions\\\\code_prettify -> code_prettify\\n[I 11:41:37 InstallContribNbextensionsApp] Up to date: C:\\\\Users\\\\stepn\\\\anaconda3\\\\share\\\\jupyter\\\\nbextensions\\\\code_prettify\\\\2to3.js\\n[I 11:41:37 InstallContribNbextensionsApp] Up to date: C:\\\\Users\\\\stepn\\\\anaconda3\\\\share\\\\jupyter\\\\nbextensions\\\\code_prettify\\\\2to3.yaml\\n[I 11:41:37 InstallContribNbextensionsApp] Up to date: C:\\\\Users\\\\stepn\\\\anaconda3\\\\share\\\\jupyter\\\\nbextensions\\\\code_prettify\\\\autopep8.js\\n[I 11:41:37 InstallContribNbextensionsApp] Up to date: C:\\\\Users\\\\stepn\\\\anaconda3\\\\share\\\\jupyter\\\\nbextensions\\\\code_prettify\\\\autopep8.yaml\\n[I 11:41:37 InstallContribNbextensionsApp] Up to date: C:\\\\Users\\\\stepn\\\\anaconda3\\\\share\\\\jupyter\\\\nbextensions\\\\code_prettify\\\\code_prettify.js\\n[I 11:41:37 InstallContribNbextensionsApp] Up to date: C:\\\\Users\\\\stepn\\\\anaconda3\\\\share\\\\jupyter\\\\nbextensions\\\\code_prettify\\\\code_prettify.yaml\\n[I 11:41:37 InstallContribNbextensionsApp] Up to date: C:\\\\Users\\\\stepn\\\\anaconda3\\\\share\\\\jupyter\\\\nbextensions\\\\code_prettify\\\\demo-jv.gif\\n[I 11:41:37 InstallContribNbextensionsApp] Up to date: C:\\\\Users\\\\stepn\\\\anaconda3\\\\share\\\\jupyter\\\\nbextensions\\\\code_prettify\\\\demo-py.gif\\n[I 11:41:37 InstallContribNbextensionsApp] Up to date: C:\\\\Users\\\\stepn\\\\anaconda3\\\\share\\\\jupyter\\\\nbextensions\\\\code_prettify\\\\demo-R.gif\\n[I 11:41:37 InstallContribNbextensionsApp] Up to date: C:\\\\Users\\\\stepn\\\\anaconda3\\\\share\\\\jupyter\\\\nbextensions\\\\code_prettify\\\\demo_2to3.gif\\n[I 11:41:37 InstallContribNbextensionsApp] Up to date: C:\\\\Users\\\\stepn\\\\anaconda3\\\\share\\\\jupyter\\\\nbextensions\\\\code_prettify\\\\isort.js\\n[I 11:41:37 InstallContribNbextensionsApp] Up to date: C:\\\\Users\\\\stepn\\\\anaconda3\\\\share\\\\jupyter\\\\nbextensions\\\\code_prettify\\\\isort.yaml\\n[I 11:41:37 InstallContribNbextensionsApp] Up to date: C:\\\\Users\\\\stepn\\\\anaconda3\\\\share\\\\jupyter\\\\nbextensions\\\\code_prettify\\\\kernel_exec_on_cell.js\\n[I 11:41:37 InstallContribNbextensionsApp] Up to date: C:\\\\Users\\\\stepn\\\\anaconda3\\\\share\\\\jupyter\\\\nbextensions\\\\code_prettify\\\\README.md\\n[I 11:41:37 InstallContribNbextensionsApp] Up to date: C:\\\\Users\\\\stepn\\\\anaconda3\\\\share\\\\jupyter\\\\nbextensions\\\\code_prettify\\\\README_2to3.md\\n[I 11:41:37 InstallContribNbextensionsApp] Up to date: C:\\\\Users\\\\stepn\\\\anaconda3\\\\share\\\\jupyter\\\\nbextensions\\\\code_prettify\\\\README_autopep8.md\\n[I 11:41:37 InstallContribNbextensionsApp] Up to date: C:\\\\Users\\\\stepn\\\\anaconda3\\\\share\\\\jupyter\\\\nbextensions\\\\code_prettify\\\\README_code_prettify.md\\n[I 11:41:37 InstallContribNbextensionsApp] Up to date: C:\\\\Users\\\\stepn\\\\anaconda3\\\\share\\\\jupyter\\\\nbextensions\\\\code_prettify\\\\README_isort.md\\n[I 11:41:37 InstallContribNbextensionsApp] - Validating: ok\\n[I 11:41:37 InstallContribNbextensionsApp] Installing C:\\\\Users\\\\stepn\\\\anaconda3\\\\lib\\\\site-packages\\\\jupyter_contrib_nbextensions\\\\nbextensions\\\\code_prettify -> code_prettify\\n[I 11:41:37 InstallContribNbextensionsApp] Up to date: C:\\\\Users\\\\stepn\\\\anaconda3\\\\share\\\\jupyter\\\\nbextensions\\\\code_prettify\\\\2to3.js\\n[I 11:41:37 InstallContribNbextensionsApp] Up to date: C:\\\\Users\\\\stepn\\\\anaconda3\\\\share\\\\jupyter\\\\nbextensions\\\\code_prettify\\\\2to3.yaml\\n[I 11:41:37 InstallContribNbextensionsApp] Up to date: C:\\\\Users\\\\stepn\\\\anaconda3\\\\share\\\\jupyter\\\\nbextensions\\\\code_prettify\\\\autopep8.js\\n[I 11:41:37 InstallContribNbextensionsApp] Up to date: C:\\\\Users\\\\stepn\\\\anaconda3\\\\share\\\\jupyter\\\\nbextensions\\\\code_prettify\\\\autopep8.yaml\\n[I 11:41:37 InstallContribNbextensionsApp] Up to date: C:\\\\Users\\\\stepn\\\\anaconda3\\\\share\\\\jupyter\\\\nbextensions\\\\code_prettify\\\\code_prettify.js\\n[I 11:41:37 InstallContribNbextensionsApp] Up to date: C:\\\\Users\\\\stepn\\\\anaconda3\\\\share\\\\jupyter\\\\nbextensions\\\\code_prettify\\\\code_prettify.yaml\\n[I 11:41:37 InstallContribNbextensionsApp] Up to date: C:\\\\Users\\\\stepn\\\\anaconda3\\\\share\\\\jupyter\\\\nbextensions\\\\code_prettify\\\\demo-jv.gif\\n[I 11:41:37 InstallContribNbextensionsApp] Up to date: C:\\\\Users\\\\stepn\\\\anaconda3\\\\share\\\\jupyter\\\\nbextensions\\\\code_prettify\\\\demo-py.gif\\n[I 11:41:37 InstallContribNbextensionsApp] Up to date: C:\\\\Users\\\\stepn\\\\anaconda3\\\\share\\\\jupyter\\\\nbextensions\\\\code_prettify\\\\demo-R.gif\\n[I 11:41:37 InstallContribNbextensionsApp] Up to date: C:\\\\Users\\\\stepn\\\\anaconda3\\\\share\\\\jupyter\\\\nbextensions\\\\code_prettify\\\\demo_2to3.gif\\n[I 11:41:37 InstallContribNbextensionsApp] Up to date: C:\\\\Users\\\\stepn\\\\anaconda3\\\\share\\\\jupyter\\\\nbextensions\\\\code_prettify\\\\isort.js\\n[I 11:41:37 InstallContribNbextensionsApp] Up to date: C:\\\\Users\\\\stepn\\\\anaconda3\\\\share\\\\jupyter\\\\nbextensions\\\\code_prettify\\\\isort.yaml\\n[I 11:41:37 InstallContribNbextensionsApp] Up to date: C:\\\\Users\\\\stepn\\\\anaconda3\\\\share\\\\jupyter\\\\nbextensions\\\\code_prettify\\\\kernel_exec_on_cell.js\\n[I 11:41:37 InstallContribNbextensionsApp] Up to date: C:\\\\Users\\\\stepn\\\\anaconda3\\\\share\\\\jupyter\\\\nbextensions\\\\code_prettify\\\\README.md\\n[I 11:41:37 InstallContribNbextensionsApp] Up to date: C:\\\\Users\\\\stepn\\\\anaconda3\\\\share\\\\jupyter\\\\nbextensions\\\\code_prettify\\\\README_2to3.md\\n[I 11:41:37 InstallContribNbextensionsApp] Up to date: C:\\\\Users\\\\stepn\\\\anaconda3\\\\share\\\\jupyter\\\\nbextensions\\\\code_prettify\\\\README_autopep8.md\\n[I 11:41:37 InstallContribNbextensionsApp] Up to date: C:\\\\Users\\\\stepn\\\\anaconda3\\\\share\\\\jupyter\\\\nbextensions\\\\code_prettify\\\\README_code_prettify.md\\n[I 11:41:37 InstallContribNbextensionsApp] Up to date: C:\\\\Users\\\\stepn\\\\anaconda3\\\\share\\\\jupyter\\\\nbextensions\\\\code_prettify\\\\README_isort.md\\n[I 11:41:37 InstallContribNbextensionsApp] - Validating: ok\\n[I 11:41:37 InstallContribNbextensionsApp] Installing C:\\\\Users\\\\stepn\\\\anaconda3\\\\lib\\\\site-packages\\\\jupyter_contrib_nbextensions\\\\nbextensions\\\\code_prettify -> code_prettify\\n[I 11:41:37 InstallContribNbextensionsApp] Up to date: C:\\\\Users\\\\stepn\\\\anaconda3\\\\share\\\\jupyter\\\\nbextensions\\\\code_prettify\\\\2to3.js\\n[I 11:41:37 InstallContribNbextensionsApp] Up to date: C:\\\\Users\\\\stepn\\\\anaconda3\\\\share\\\\jupyter\\\\nbextensions\\\\code_prettify\\\\2to3.yaml\\n[I 11:41:37 InstallContribNbextensionsApp] Up to date: C:\\\\Users\\\\stepn\\\\anaconda3\\\\share\\\\jupyter\\\\nbextensions\\\\code_prettify\\\\autopep8.js\\n[I 11:41:37 InstallContribNbextensionsApp] Up to date: C:\\\\Users\\\\stepn\\\\anaconda3\\\\share\\\\jupyter\\\\nbextensions\\\\code_prettify\\\\autopep8.yaml\\n[I 11:41:37 InstallContribNbextensionsApp] Up to date: C:\\\\Users\\\\stepn\\\\anaconda3\\\\share\\\\jupyter\\\\nbextensions\\\\code_prettify\\\\code_prettify.js\\n[I 11:41:37 InstallContribNbextensionsApp] Up to date: C:\\\\Users\\\\stepn\\\\anaconda3\\\\share\\\\jupyter\\\\nbextensions\\\\code_prettify\\\\code_prettify.yaml\\n[I 11:41:37 InstallContribNbextensionsApp] Up to date: C:\\\\Users\\\\stepn\\\\anaconda3\\\\share\\\\jupyter\\\\nbextensions\\\\code_prettify\\\\demo-jv.gif\\n[I 11:41:37 InstallContribNbextensionsApp] Up to date: C:\\\\Users\\\\stepn\\\\anaconda3\\\\share\\\\jupyter\\\\nbextensions\\\\code_prettify\\\\demo-py.gif\\n[I 11:41:37 InstallContribNbextensionsApp] Up to date: C:\\\\Users\\\\stepn\\\\anaconda3\\\\share\\\\jupyter\\\\nbextensions\\\\code_prettify\\\\demo-R.gif\\n[I 11:41:37 InstallContribNbextensionsApp] Up to date: C:\\\\Users\\\\stepn\\\\anaconda3\\\\share\\\\jupyter\\\\nbextensions\\\\code_prettify\\\\demo_2to3.gif\\n[I 11:41:37 InstallContribNbextensionsApp] Up to date: C:\\\\Users\\\\stepn\\\\anaconda3\\\\share\\\\jupyter\\\\nbextensions\\\\code_prettify\\\\isort.js\\n[I 11:41:37 InstallContribNbextensionsApp] Up to date: C:\\\\Users\\\\stepn\\\\anaconda3\\\\share\\\\jupyter\\\\nbextensions\\\\code_prettify\\\\isort.yaml\\n[I 11:41:37 InstallContribNbextensionsApp] Up to date: C:\\\\Users\\\\stepn\\\\anaconda3\\\\share\\\\jupyter\\\\nbextensions\\\\code_prettify\\\\kernel_exec_on_cell.js\\n[I 11:41:37 InstallContribNbextensionsApp] Up to date: C:\\\\Users\\\\stepn\\\\anaconda3\\\\share\\\\jupyter\\\\nbextensions\\\\code_prettify\\\\README.md\\n[I 11:41:37 InstallContribNbextensionsApp] Up to date: C:\\\\Users\\\\stepn\\\\anaconda3\\\\share\\\\jupyter\\\\nbextensions\\\\code_prettify\\\\README_2to3.md\\n[I 11:41:37 InstallContribNbextensionsApp] Up to date: C:\\\\Users\\\\stepn\\\\anaconda3\\\\share\\\\jupyter\\\\nbextensions\\\\code_prettify\\\\README_autopep8.md\\n[I 11:41:37 InstallContribNbextensionsApp] Up to date: C:\\\\Users\\\\stepn\\\\anaconda3\\\\share\\\\jupyter\\\\nbextensions\\\\code_prettify\\\\README_code_prettify.md\\n[I 11:41:37 InstallContribNbextensionsApp] Up to date: C:\\\\Users\\\\stepn\\\\anaconda3\\\\share\\\\jupyter\\\\nbextensions\\\\code_prettify\\\\README_isort.md\\n[I 11:41:37 InstallContribNbextensionsApp] - Validating: ok\\n[I 11:41:37 InstallContribNbextensionsApp] Installing C:\\\\Users\\\\stepn\\\\anaconda3\\\\lib\\\\site-packages\\\\jupyter_contrib_nbextensions\\\\nbextensions\\\\collapsible_headings -> collapsible_headings\\n[I 11:41:37 InstallContribNbextensionsApp] Making directory: C:\\\\Users\\\\stepn\\\\anaconda3\\\\share\\\\jupyter\\\\nbextensions\\\\collapsible_headings\\\\\\n[I 11:41:37 InstallContribNbextensionsApp] Copying: C:\\\\Users\\\\stepn\\\\anaconda3\\\\lib\\\\site-packages\\\\jupyter_contrib_nbextensions\\\\nbextensions\\\\collapsible_headings\\\\collapsible_headings.yaml -> C:\\\\Users\\\\stepn\\\\anaconda3\\\\share\\\\jupyter\\\\nbextensions\\\\collapsible_headings\\\\collapsible_headings.yaml\\n[I 11:41:37 InstallContribNbextensionsApp] Copying: C:\\\\Users\\\\stepn\\\\anaconda3\\\\lib\\\\site-packages\\\\jupyter_contrib_nbextensions\\\\nbextensions\\\\collapsible_headings\\\\icon.png -> C:\\\\Users\\\\stepn\\\\anaconda3\\\\share\\\\jupyter\\\\nbextensions\\\\collapsible_headings\\\\icon.png\\n[I 11:41:37 InstallContribNbextensionsApp] Copying: C:\\\\Users\\\\stepn\\\\anaconda3\\\\lib\\\\site-packages\\\\jupyter_contrib_nbextensions\\\\nbextensions\\\\collapsible_headings\\\\main.css -> C:\\\\Users\\\\stepn\\\\anaconda3\\\\share\\\\jupyter\\\\nbextensions\\\\collapsible_headings\\\\main.css\\n[I 11:41:37 InstallContribNbextensionsApp] Copying: C:\\\\Users\\\\stepn\\\\anaconda3\\\\lib\\\\site-packages\\\\jupyter_contrib_nbextensions\\\\nbextensions\\\\collapsible_headings\\\\main.js -> C:\\\\Users\\\\stepn\\\\anaconda3\\\\share\\\\jupyter\\\\nbextensions\\\\collapsible_headings\\\\main.js\\n[I 11:41:37 InstallContribNbextensionsApp] Copying: C:\\\\Users\\\\stepn\\\\anaconda3\\\\lib\\\\site-packages\\\\jupyter_contrib_nbextensions\\\\nbextensions\\\\collapsible_headings\\\\readme.md -> C:\\\\Users\\\\stepn\\\\anaconda3\\\\share\\\\jupyter\\\\nbextensions\\\\collapsible_headings\\\\readme.md\\n[I 11:41:37 InstallContribNbextensionsApp] Copying: C:\\\\Users\\\\stepn\\\\anaconda3\\\\lib\\\\site-packages\\\\jupyter_contrib_nbextensions\\\\nbextensions\\\\collapsible_headings\\\\screenshot.png -> C:\\\\Users\\\\stepn\\\\anaconda3\\\\share\\\\jupyter\\\\nbextensions\\\\collapsible_headings\\\\screenshot.png\\n[I 11:41:37 InstallContribNbextensionsApp] - Validating: ok\\n[I 11:41:37 InstallContribNbextensionsApp] Installing C:\\\\Users\\\\stepn\\\\anaconda3\\\\lib\\\\site-packages\\\\jupyter_contrib_nbextensions\\\\nbextensions\\\\comment-uncomment -> comment-uncomment\\n[I 11:41:37 InstallContribNbextensionsApp] Making directory: C:\\\\Users\\\\stepn\\\\anaconda3\\\\share\\\\jupyter\\\\nbextensions\\\\comment-uncomment\\\\\\n[I 11:41:37 InstallContribNbextensionsApp] Copying: C:\\\\Users\\\\stepn\\\\anaconda3\\\\lib\\\\site-packages\\\\jupyter_contrib_nbextensions\\\\nbextensions\\\\comment-uncomment\\\\comment-uncomment.yaml -> C:\\\\Users\\\\stepn\\\\anaconda3\\\\share\\\\jupyter\\\\nbextensions\\\\comment-uncomment\\\\comment-uncomment.yaml\\n[I 11:41:37 InstallContribNbextensionsApp] Copying: C:\\\\Users\\\\stepn\\\\anaconda3\\\\lib\\\\site-packages\\\\jupyter_contrib_nbextensions\\\\nbextensions\\\\comment-uncomment\\\\icon.png -> C:\\\\Users\\\\stepn\\\\anaconda3\\\\share\\\\jupyter\\\\nbextensions\\\\comment-uncomment\\\\icon.png\\n[I 11:41:37 InstallContribNbextensionsApp] Copying: C:\\\\Users\\\\stepn\\\\anaconda3\\\\lib\\\\site-packages\\\\jupyter_contrib_nbextensions\\\\nbextensions\\\\comment-uncomment\\\\main.js -> C:\\\\Users\\\\stepn\\\\anaconda3\\\\share\\\\jupyter\\\\nbextensions\\\\comment-uncomment\\\\main.js\\n[I 11:41:37 InstallContribNbextensionsApp] Copying: C:\\\\Users\\\\stepn\\\\anaconda3\\\\lib\\\\site-packages\\\\jupyter_contrib_nbextensions\\\\nbextensions\\\\comment-uncomment\\\\readme.md -> C:\\\\Users\\\\stepn\\\\anaconda3\\\\share\\\\jupyter\\\\nbextensions\\\\comment-uncomment\\\\readme.md\\n[I 11:41:37 InstallContribNbextensionsApp] - Validating: ok\\n[I 11:41:37 InstallContribNbextensionsApp] Installing C:\\\\Users\\\\stepn\\\\anaconda3\\\\lib\\\\site-packages\\\\jupyter_contrib_nbextensions\\\\nbextensions\\\\contrib_nbextensions_help_item -> contrib_nbextensions_help_item\\n[I 11:41:37 InstallContribNbextensionsApp] Making directory: C:\\\\Users\\\\stepn\\\\anaconda3\\\\share\\\\jupyter\\\\nbextensions\\\\contrib_nbextensions_help_item\\\\\\n[I 11:41:37 InstallContribNbextensionsApp] Copying: C:\\\\Users\\\\stepn\\\\anaconda3\\\\lib\\\\site-packages\\\\jupyter_contrib_nbextensions\\\\nbextensions\\\\contrib_nbextensions_help_item\\\\contrib_nbextensions_help_item.yaml -> C:\\\\Users\\\\stepn\\\\anaconda3\\\\share\\\\jupyter\\\\nbextensions\\\\contrib_nbextensions_help_item\\\\contrib_nbextensions_help_item.yaml\\n[I 11:41:37 InstallContribNbextensionsApp] Copying: C:\\\\Users\\\\stepn\\\\anaconda3\\\\lib\\\\site-packages\\\\jupyter_contrib_nbextensions\\\\nbextensions\\\\contrib_nbextensions_help_item\\\\main.js -> C:\\\\Users\\\\stepn\\\\anaconda3\\\\share\\\\jupyter\\\\nbextensions\\\\contrib_nbextensions_help_item\\\\main.js\\n[I 11:41:37 InstallContribNbextensionsApp] Copying: C:\\\\Users\\\\stepn\\\\anaconda3\\\\lib\\\\site-packages\\\\jupyter_contrib_nbextensions\\\\nbextensions\\\\contrib_nbextensions_help_item\\\\README.md -> C:\\\\Users\\\\stepn\\\\anaconda3\\\\share\\\\jupyter\\\\nbextensions\\\\contrib_nbextensions_help_item\\\\README.md\\n[I 11:41:37 InstallContribNbextensionsApp] - Validating: ok\\n[I 11:41:37 InstallContribNbextensionsApp] Installing C:\\\\Users\\\\stepn\\\\anaconda3\\\\lib\\\\site-packages\\\\jupyter_contrib_nbextensions\\\\nbextensions\\\\datestamper -> datestamper\\n[I 11:41:37 InstallContribNbextensionsApp] Making directory: C:\\\\Users\\\\stepn\\\\anaconda3\\\\share\\\\jupyter\\\\nbextensions\\\\datestamper\\\\\\n[I 11:41:37 InstallContribNbextensionsApp] Copying: C:\\\\Users\\\\stepn\\\\anaconda3\\\\lib\\\\site-packages\\\\jupyter_contrib_nbextensions\\\\nbextensions\\\\datestamper\\\\icon.png -> C:\\\\Users\\\\stepn\\\\anaconda3\\\\share\\\\jupyter\\\\nbextensions\\\\datestamper\\\\icon.png\\n[I 11:41:37 InstallContribNbextensionsApp] Copying: C:\\\\Users\\\\stepn\\\\anaconda3\\\\lib\\\\site-packages\\\\jupyter_contrib_nbextensions\\\\nbextensions\\\\datestamper\\\\main.js -> C:\\\\Users\\\\stepn\\\\anaconda3\\\\share\\\\jupyter\\\\nbextensions\\\\datestamper\\\\main.js\\n[I 11:41:37 InstallContribNbextensionsApp] Copying: C:\\\\Users\\\\stepn\\\\anaconda3\\\\lib\\\\site-packages\\\\jupyter_contrib_nbextensions\\\\nbextensions\\\\datestamper\\\\main.yaml -> C:\\\\Users\\\\stepn\\\\anaconda3\\\\share\\\\jupyter\\\\nbextensions\\\\datestamper\\\\main.yaml\\n[I 11:41:37 InstallContribNbextensionsApp] Copying: C:\\\\Users\\\\stepn\\\\anaconda3\\\\lib\\\\site-packages\\\\jupyter_contrib_nbextensions\\\\nbextensions\\\\datestamper\\\\readme.md -> C:\\\\Users\\\\stepn\\\\anaconda3\\\\share\\\\jupyter\\\\nbextensions\\\\datestamper\\\\readme.md\\n[I 11:41:37 InstallContribNbextensionsApp] - Validating: ok\\n[I 11:41:37 InstallContribNbextensionsApp] Installing C:\\\\Users\\\\stepn\\\\anaconda3\\\\lib\\\\site-packages\\\\jupyter_contrib_nbextensions\\\\nbextensions\\\\equation-numbering -> equation-numbering\\n[I 11:41:37 InstallContribNbextensionsApp] Making directory: C:\\\\Users\\\\stepn\\\\anaconda3\\\\share\\\\jupyter\\\\nbextensions\\\\equation-numbering\\\\\\n[I 11:41:37 InstallContribNbextensionsApp] Copying: C:\\\\Users\\\\stepn\\\\anaconda3\\\\lib\\\\site-packages\\\\jupyter_contrib_nbextensions\\\\nbextensions\\\\equation-numbering\\\\button.png -> C:\\\\Users\\\\stepn\\\\anaconda3\\\\share\\\\jupyter\\\\nbextensions\\\\equation-numbering\\\\button.png\\n[I 11:41:37 InstallContribNbextensionsApp] Copying: C:\\\\Users\\\\stepn\\\\anaconda3\\\\lib\\\\site-packages\\\\jupyter_contrib_nbextensions\\\\nbextensions\\\\equation-numbering\\\\icon.png -> C:\\\\Users\\\\stepn\\\\anaconda3\\\\share\\\\jupyter\\\\nbextensions\\\\equation-numbering\\\\icon.png\\n[I 11:41:37 InstallContribNbextensionsApp] Copying: C:\\\\Users\\\\stepn\\\\anaconda3\\\\lib\\\\site-packages\\\\jupyter_contrib_nbextensions\\\\nbextensions\\\\equation-numbering\\\\info.yaml -> C:\\\\Users\\\\stepn\\\\anaconda3\\\\share\\\\jupyter\\\\nbextensions\\\\equation-numbering\\\\info.yaml\\n[I 11:41:37 InstallContribNbextensionsApp] Copying: C:\\\\Users\\\\stepn\\\\anaconda3\\\\lib\\\\site-packages\\\\jupyter_contrib_nbextensions\\\\nbextensions\\\\equation-numbering\\\\main.js -> C:\\\\Users\\\\stepn\\\\anaconda3\\\\share\\\\jupyter\\\\nbextensions\\\\equation-numbering\\\\main.js\\n[I 11:41:37 InstallContribNbextensionsApp] Copying: C:\\\\Users\\\\stepn\\\\anaconda3\\\\lib\\\\site-packages\\\\jupyter_contrib_nbextensions\\\\nbextensions\\\\equation-numbering\\\\readme.md -> C:\\\\Users\\\\stepn\\\\anaconda3\\\\share\\\\jupyter\\\\nbextensions\\\\equation-numbering\\\\readme.md\\n[I 11:41:37 InstallContribNbextensionsApp] - Validating: ok\\n[I 11:41:37 InstallContribNbextensionsApp] Installing C:\\\\Users\\\\stepn\\\\anaconda3\\\\lib\\\\site-packages\\\\jupyter_contrib_nbextensions\\\\nbextensions\\\\execute_time -> execute_time\\n[I 11:41:37 InstallContribNbextensionsApp] Making directory: C:\\\\Users\\\\stepn\\\\anaconda3\\\\share\\\\jupyter\\\\nbextensions\\\\execute_time\\\\\\n[I 11:41:37 InstallContribNbextensionsApp] Copying: C:\\\\Users\\\\stepn\\\\anaconda3\\\\lib\\\\site-packages\\\\jupyter_contrib_nbextensions\\\\nbextensions\\\\execute_time\\\\ExecuteTime.css -> C:\\\\Users\\\\stepn\\\\anaconda3\\\\share\\\\jupyter\\\\nbextensions\\\\execute_time\\\\ExecuteTime.css\\n[I 11:41:37 InstallContribNbextensionsApp] Copying: C:\\\\Users\\\\stepn\\\\anaconda3\\\\lib\\\\site-packages\\\\jupyter_contrib_nbextensions\\\\nbextensions\\\\execute_time\\\\ExecuteTime.js -> C:\\\\Users\\\\stepn\\\\anaconda3\\\\share\\\\jupyter\\\\nbextensions\\\\execute_time\\\\ExecuteTime.js\\n[I 11:41:37 InstallContribNbextensionsApp] Copying: C:\\\\Users\\\\stepn\\\\anaconda3\\\\lib\\\\site-packages\\\\jupyter_contrib_nbextensions\\\\nbextensions\\\\execute_time\\\\ExecuteTime.yaml -> C:\\\\Users\\\\stepn\\\\anaconda3\\\\share\\\\jupyter\\\\nbextensions\\\\execute_time\\\\ExecuteTime.yaml\\n[I 11:41:37 InstallContribNbextensionsApp] Copying: C:\\\\Users\\\\stepn\\\\anaconda3\\\\lib\\\\site-packages\\\\jupyter_contrib_nbextensions\\\\nbextensions\\\\execute_time\\\\execution-timings-box.png -> C:\\\\Users\\\\stepn\\\\anaconda3\\\\share\\\\jupyter\\\\nbextensions\\\\execute_time\\\\execution-timings-box.png\\n[I 11:41:37 InstallContribNbextensionsApp] Copying: C:\\\\Users\\\\stepn\\\\anaconda3\\\\lib\\\\site-packages\\\\jupyter_contrib_nbextensions\\\\nbextensions\\\\execute_time\\\\execution-timings-menu.png -> C:\\\\Users\\\\stepn\\\\anaconda3\\\\share\\\\jupyter\\\\nbextensions\\\\execute_time\\\\execution-timings-menu.png\\n[I 11:41:37 InstallContribNbextensionsApp] Copying: C:\\\\Users\\\\stepn\\\\anaconda3\\\\lib\\\\site-packages\\\\jupyter_contrib_nbextensions\\\\nbextensions\\\\execute_time\\\\icon.png -> C:\\\\Users\\\\stepn\\\\anaconda3\\\\share\\\\jupyter\\\\nbextensions\\\\execute_time\\\\icon.png\\n[I 11:41:37 InstallContribNbextensionsApp] Copying: C:\\\\Users\\\\stepn\\\\anaconda3\\\\lib\\\\site-packages\\\\jupyter_contrib_nbextensions\\\\nbextensions\\\\execute_time\\\\readme.md -> C:\\\\Users\\\\stepn\\\\anaconda3\\\\share\\\\jupyter\\\\nbextensions\\\\execute_time\\\\readme.md\\n[I 11:41:37 InstallContribNbextensionsApp] - Validating: ok\\n[I 11:41:37 InstallContribNbextensionsApp] Installing C:\\\\Users\\\\stepn\\\\anaconda3\\\\lib\\\\site-packages\\\\jupyter_contrib_nbextensions\\\\nbextensions\\\\execution_dependencies -> execution_dependencies\\n[I 11:41:37 InstallContribNbextensionsApp] Making directory: C:\\\\Users\\\\stepn\\\\anaconda3\\\\share\\\\jupyter\\\\nbextensions\\\\execution_dependencies\\\\\\n[I 11:41:37 InstallContribNbextensionsApp] Copying: C:\\\\Users\\\\stepn\\\\anaconda3\\\\lib\\\\site-packages\\\\jupyter_contrib_nbextensions\\\\nbextensions\\\\execution_dependencies\\\\execution_dependencies.js -> C:\\\\Users\\\\stepn\\\\anaconda3\\\\share\\\\jupyter\\\\nbextensions\\\\execution_dependencies\\\\execution_dependencies.js\\n[I 11:41:37 InstallContribNbextensionsApp] Copying: C:\\\\Users\\\\stepn\\\\anaconda3\\\\lib\\\\site-packages\\\\jupyter_contrib_nbextensions\\\\nbextensions\\\\execution_dependencies\\\\execution_dependencies.yml -> C:\\\\Users\\\\stepn\\\\anaconda3\\\\share\\\\jupyter\\\\nbextensions\\\\execution_dependencies\\\\execution_dependencies.yml\\n[I 11:41:37 InstallContribNbextensionsApp] Copying: C:\\\\Users\\\\stepn\\\\anaconda3\\\\lib\\\\site-packages\\\\jupyter_contrib_nbextensions\\\\nbextensions\\\\execution_dependencies\\\\README.md -> C:\\\\Users\\\\stepn\\\\anaconda3\\\\share\\\\jupyter\\\\nbextensions\\\\execution_dependencies\\\\README.md\\n[I 11:41:37 InstallContribNbextensionsApp] - Validating: ok\\n[I 11:41:37 InstallContribNbextensionsApp] Installing C:\\\\Users\\\\stepn\\\\anaconda3\\\\lib\\\\site-packages\\\\jupyter_contrib_nbextensions\\\\nbextensions\\\\exercise -> exercise\\n[I 11:41:37 InstallContribNbextensionsApp] Making directory: C:\\\\Users\\\\stepn\\\\anaconda3\\\\share\\\\jupyter\\\\nbextensions\\\\exercise\\\\\\n[I 11:41:37 InstallContribNbextensionsApp] Copying: C:\\\\Users\\\\stepn\\\\anaconda3\\\\lib\\\\site-packages\\\\jupyter_contrib_nbextensions\\\\nbextensions\\\\exercise\\\\exercise.yaml -> C:\\\\Users\\\\stepn\\\\anaconda3\\\\share\\\\jupyter\\\\nbextensions\\\\exercise\\\\exercise.yaml\\n[I 11:41:37 InstallContribNbextensionsApp] Copying: C:\\\\Users\\\\stepn\\\\anaconda3\\\\lib\\\\site-packages\\\\jupyter_contrib_nbextensions\\\\nbextensions\\\\exercise\\\\history.md -> C:\\\\Users\\\\stepn\\\\anaconda3\\\\share\\\\jupyter\\\\nbextensions\\\\exercise\\\\history.md\\n[I 11:41:37 InstallContribNbextensionsApp] Copying: C:\\\\Users\\\\stepn\\\\anaconda3\\\\lib\\\\site-packages\\\\jupyter_contrib_nbextensions\\\\nbextensions\\\\exercise\\\\icon.png -> C:\\\\Users\\\\stepn\\\\anaconda3\\\\share\\\\jupyter\\\\nbextensions\\\\exercise\\\\icon.png\\n[I 11:41:37 InstallContribNbextensionsApp] Copying: C:\\\\Users\\\\stepn\\\\anaconda3\\\\lib\\\\site-packages\\\\jupyter_contrib_nbextensions\\\\nbextensions\\\\exercise\\\\image.gif -> C:\\\\Users\\\\stepn\\\\anaconda3\\\\share\\\\jupyter\\\\nbextensions\\\\exercise\\\\image.gif\\n[I 11:41:37 InstallContribNbextensionsApp] Copying: C:\\\\Users\\\\stepn\\\\anaconda3\\\\lib\\\\site-packages\\\\jupyter_contrib_nbextensions\\\\nbextensions\\\\exercise\\\\main.css -> C:\\\\Users\\\\stepn\\\\anaconda3\\\\share\\\\jupyter\\\\nbextensions\\\\exercise\\\\main.css\\n[I 11:41:37 InstallContribNbextensionsApp] Copying: C:\\\\Users\\\\stepn\\\\anaconda3\\\\lib\\\\site-packages\\\\jupyter_contrib_nbextensions\\\\nbextensions\\\\exercise\\\\main.js -> C:\\\\Users\\\\stepn\\\\anaconda3\\\\share\\\\jupyter\\\\nbextensions\\\\exercise\\\\main.js\\n[I 11:41:37 InstallContribNbextensionsApp] Copying: C:\\\\Users\\\\stepn\\\\anaconda3\\\\lib\\\\site-packages\\\\jupyter_contrib_nbextensions\\\\nbextensions\\\\exercise\\\\readme.md -> C:\\\\Users\\\\stepn\\\\anaconda3\\\\share\\\\jupyter\\\\nbextensions\\\\exercise\\\\readme.md\\n[I 11:41:37 InstallContribNbextensionsApp] - Validating: ok\\n[I 11:41:37 InstallContribNbextensionsApp] Installing C:\\\\Users\\\\stepn\\\\anaconda3\\\\lib\\\\site-packages\\\\jupyter_contrib_nbextensions\\\\nbextensions\\\\exercise2 -> exercise2\\n[I 11:41:37 InstallContribNbextensionsApp] Making directory: C:\\\\Users\\\\stepn\\\\anaconda3\\\\share\\\\jupyter\\\\nbextensions\\\\exercise2\\\\\\n[I 11:41:37 InstallContribNbextensionsApp] Copying: C:\\\\Users\\\\stepn\\\\anaconda3\\\\lib\\\\site-packages\\\\jupyter_contrib_nbextensions\\\\nbextensions\\\\exercise2\\\\exercise2.yaml -> C:\\\\Users\\\\stepn\\\\anaconda3\\\\share\\\\jupyter\\\\nbextensions\\\\exercise2\\\\exercise2.yaml\\n[I 11:41:37 InstallContribNbextensionsApp] Copying: C:\\\\Users\\\\stepn\\\\anaconda3\\\\lib\\\\site-packages\\\\jupyter_contrib_nbextensions\\\\nbextensions\\\\exercise2\\\\icon.png -> C:\\\\Users\\\\stepn\\\\anaconda3\\\\share\\\\jupyter\\\\nbextensions\\\\exercise2\\\\icon.png\\n[I 11:41:37 InstallContribNbextensionsApp] Copying: C:\\\\Users\\\\stepn\\\\anaconda3\\\\lib\\\\site-packages\\\\jupyter_contrib_nbextensions\\\\nbextensions\\\\exercise2\\\\image.gif -> C:\\\\Users\\\\stepn\\\\anaconda3\\\\share\\\\jupyter\\\\nbextensions\\\\exercise2\\\\image.gif\\n[I 11:41:37 InstallContribNbextensionsApp] Copying: C:\\\\Users\\\\stepn\\\\anaconda3\\\\lib\\\\site-packages\\\\jupyter_contrib_nbextensions\\\\nbextensions\\\\exercise2\\\\main.css -> C:\\\\Users\\\\stepn\\\\anaconda3\\\\share\\\\jupyter\\\\nbextensions\\\\exercise2\\\\main.css\\n[I 11:41:37 InstallContribNbextensionsApp] Copying: C:\\\\Users\\\\stepn\\\\anaconda3\\\\lib\\\\site-packages\\\\jupyter_contrib_nbextensions\\\\nbextensions\\\\exercise2\\\\main.js -> C:\\\\Users\\\\stepn\\\\anaconda3\\\\share\\\\jupyter\\\\nbextensions\\\\exercise2\\\\main.js\\n[I 11:41:37 InstallContribNbextensionsApp] Copying: C:\\\\Users\\\\stepn\\\\anaconda3\\\\lib\\\\site-packages\\\\jupyter_contrib_nbextensions\\\\nbextensions\\\\exercise2\\\\readme.md -> C:\\\\Users\\\\stepn\\\\anaconda3\\\\share\\\\jupyter\\\\nbextensions\\\\exercise2\\\\readme.md\\n[I 11:41:37 InstallContribNbextensionsApp] - Validating: ok\\n[I 11:41:37 InstallContribNbextensionsApp] Installing C:\\\\Users\\\\stepn\\\\anaconda3\\\\lib\\\\site-packages\\\\jupyter_contrib_nbextensions\\\\nbextensions\\\\export_embedded -> export_embedded\\n[I 11:41:37 InstallContribNbextensionsApp] Making directory: C:\\\\Users\\\\stepn\\\\anaconda3\\\\share\\\\jupyter\\\\nbextensions\\\\export_embedded\\\\\\n[I 11:41:37 InstallContribNbextensionsApp] Copying: C:\\\\Users\\\\stepn\\\\anaconda3\\\\lib\\\\site-packages\\\\jupyter_contrib_nbextensions\\\\nbextensions\\\\export_embedded\\\\export_embedded.yaml -> C:\\\\Users\\\\stepn\\\\anaconda3\\\\share\\\\jupyter\\\\nbextensions\\\\export_embedded\\\\export_embedded.yaml\\n[I 11:41:37 InstallContribNbextensionsApp] Copying: C:\\\\Users\\\\stepn\\\\anaconda3\\\\lib\\\\site-packages\\\\jupyter_contrib_nbextensions\\\\nbextensions\\\\export_embedded\\\\icon.png -> C:\\\\Users\\\\stepn\\\\anaconda3\\\\share\\\\jupyter\\\\nbextensions\\\\export_embedded\\\\icon.png\\n[I 11:41:37 InstallContribNbextensionsApp] Copying: C:\\\\Users\\\\stepn\\\\anaconda3\\\\lib\\\\site-packages\\\\jupyter_contrib_nbextensions\\\\nbextensions\\\\export_embedded\\\\main.js -> C:\\\\Users\\\\stepn\\\\anaconda3\\\\share\\\\jupyter\\\\nbextensions\\\\export_embedded\\\\main.js\\n[I 11:41:37 InstallContribNbextensionsApp] Copying: C:\\\\Users\\\\stepn\\\\anaconda3\\\\lib\\\\site-packages\\\\jupyter_contrib_nbextensions\\\\nbextensions\\\\export_embedded\\\\readme.md -> C:\\\\Users\\\\stepn\\\\anaconda3\\\\share\\\\jupyter\\\\nbextensions\\\\export_embedded\\\\readme.md\\n[I 11:41:37 InstallContribNbextensionsApp] - Validating: ok\\n[I 11:41:37 InstallContribNbextensionsApp] Installing C:\\\\Users\\\\stepn\\\\anaconda3\\\\lib\\\\site-packages\\\\jupyter_contrib_nbextensions\\\\nbextensions\\\\freeze -> freeze\\n[I 11:41:37 InstallContribNbextensionsApp] Making directory: C:\\\\Users\\\\stepn\\\\anaconda3\\\\share\\\\jupyter\\\\nbextensions\\\\freeze\\\\\\n[I 11:41:37 InstallContribNbextensionsApp] Copying: C:\\\\Users\\\\stepn\\\\anaconda3\\\\lib\\\\site-packages\\\\jupyter_contrib_nbextensions\\\\nbextensions\\\\freeze\\\\config.yaml -> C:\\\\Users\\\\stepn\\\\anaconda3\\\\share\\\\jupyter\\\\nbextensions\\\\freeze\\\\config.yaml\\n[I 11:41:37 InstallContribNbextensionsApp] Copying: C:\\\\Users\\\\stepn\\\\anaconda3\\\\lib\\\\site-packages\\\\jupyter_contrib_nbextensions\\\\nbextensions\\\\freeze\\\\icon.png -> C:\\\\Users\\\\stepn\\\\anaconda3\\\\share\\\\jupyter\\\\nbextensions\\\\freeze\\\\icon.png\\n[I 11:41:37 InstallContribNbextensionsApp] Copying: C:\\\\Users\\\\stepn\\\\anaconda3\\\\lib\\\\site-packages\\\\jupyter_contrib_nbextensions\\\\nbextensions\\\\freeze\\\\main.js -> C:\\\\Users\\\\stepn\\\\anaconda3\\\\share\\\\jupyter\\\\nbextensions\\\\freeze\\\\main.js\\n[I 11:41:37 InstallContribNbextensionsApp] Copying: C:\\\\Users\\\\stepn\\\\anaconda3\\\\lib\\\\site-packages\\\\jupyter_contrib_nbextensions\\\\nbextensions\\\\freeze\\\\readme.md -> C:\\\\Users\\\\stepn\\\\anaconda3\\\\share\\\\jupyter\\\\nbextensions\\\\freeze\\\\readme.md\\n[I 11:41:37 InstallContribNbextensionsApp] - Validating: ok\\n[I 11:41:37 InstallContribNbextensionsApp] Installing C:\\\\Users\\\\stepn\\\\anaconda3\\\\lib\\\\site-packages\\\\jupyter_contrib_nbextensions\\\\nbextensions\\\\gist_it -> gist_it\\n[I 11:41:37 InstallContribNbextensionsApp] Making directory: C:\\\\Users\\\\stepn\\\\anaconda3\\\\share\\\\jupyter\\\\nbextensions\\\\gist_it\\\\\\n[I 11:41:37 InstallContribNbextensionsApp] Copying: C:\\\\Users\\\\stepn\\\\anaconda3\\\\lib\\\\site-packages\\\\jupyter_contrib_nbextensions\\\\nbextensions\\\\gist_it\\\\gist_it.yaml -> C:\\\\Users\\\\stepn\\\\anaconda3\\\\share\\\\jupyter\\\\nbextensions\\\\gist_it\\\\gist_it.yaml\\n[I 11:41:37 InstallContribNbextensionsApp] Copying: C:\\\\Users\\\\stepn\\\\anaconda3\\\\lib\\\\site-packages\\\\jupyter_contrib_nbextensions\\\\nbextensions\\\\gist_it\\\\icon.png -> C:\\\\Users\\\\stepn\\\\anaconda3\\\\share\\\\jupyter\\\\nbextensions\\\\gist_it\\\\icon.png\\n[I 11:41:37 InstallContribNbextensionsApp] Copying: C:\\\\Users\\\\stepn\\\\anaconda3\\\\lib\\\\site-packages\\\\jupyter_contrib_nbextensions\\\\nbextensions\\\\gist_it\\\\main.js -> C:\\\\Users\\\\stepn\\\\anaconda3\\\\share\\\\jupyter\\\\nbextensions\\\\gist_it\\\\main.js\\n[I 11:41:37 InstallContribNbextensionsApp] Copying: C:\\\\Users\\\\stepn\\\\anaconda3\\\\lib\\\\site-packages\\\\jupyter_contrib_nbextensions\\\\nbextensions\\\\gist_it\\\\readme.md -> C:\\\\Users\\\\stepn\\\\anaconda3\\\\share\\\\jupyter\\\\nbextensions\\\\gist_it\\\\readme.md\\n[I 11:41:37 InstallContribNbextensionsApp] - Validating: ok\\n[I 11:41:37 InstallContribNbextensionsApp] Installing C:\\\\Users\\\\stepn\\\\anaconda3\\\\lib\\\\site-packages\\\\jupyter_contrib_nbextensions\\\\nbextensions\\\\help_panel -> help_panel\\n[I 11:41:37 InstallContribNbextensionsApp] Making directory: C:\\\\Users\\\\stepn\\\\anaconda3\\\\share\\\\jupyter\\\\nbextensions\\\\help_panel\\\\\\n[I 11:41:37 InstallContribNbextensionsApp] Copying: C:\\\\Users\\\\stepn\\\\anaconda3\\\\lib\\\\site-packages\\\\jupyter_contrib_nbextensions\\\\nbextensions\\\\help_panel\\\\help_panel.css -> C:\\\\Users\\\\stepn\\\\anaconda3\\\\share\\\\jupyter\\\\nbextensions\\\\help_panel\\\\help_panel.css\\n[I 11:41:37 InstallContribNbextensionsApp] Copying: C:\\\\Users\\\\stepn\\\\anaconda3\\\\lib\\\\site-packages\\\\jupyter_contrib_nbextensions\\\\nbextensions\\\\help_panel\\\\help_panel.js -> C:\\\\Users\\\\stepn\\\\anaconda3\\\\share\\\\jupyter\\\\nbextensions\\\\help_panel\\\\help_panel.js\\n[I 11:41:37 InstallContribNbextensionsApp] Copying: C:\\\\Users\\\\stepn\\\\anaconda3\\\\lib\\\\site-packages\\\\jupyter_contrib_nbextensions\\\\nbextensions\\\\help_panel\\\\help_panel.yaml -> C:\\\\Users\\\\stepn\\\\anaconda3\\\\share\\\\jupyter\\\\nbextensions\\\\help_panel\\\\help_panel.yaml\\n[I 11:41:37 InstallContribNbextensionsApp] Copying: C:\\\\Users\\\\stepn\\\\anaconda3\\\\lib\\\\site-packages\\\\jupyter_contrib_nbextensions\\\\nbextensions\\\\help_panel\\\\help_panel_ext.png -> C:\\\\Users\\\\stepn\\\\anaconda3\\\\share\\\\jupyter\\\\nbextensions\\\\help_panel\\\\help_panel_ext.png\\n[I 11:41:37 InstallContribNbextensionsApp] Copying: C:\\\\Users\\\\stepn\\\\anaconda3\\\\lib\\\\site-packages\\\\jupyter_contrib_nbextensions\\\\nbextensions\\\\help_panel\\\\help_panel_ext_fullscreen.png -> C:\\\\Users\\\\stepn\\\\anaconda3\\\\share\\\\jupyter\\\\nbextensions\\\\help_panel\\\\help_panel_ext_fullscreen.png\\n[I 11:41:37 InstallContribNbextensionsApp] Copying: C:\\\\Users\\\\stepn\\\\anaconda3\\\\lib\\\\site-packages\\\\jupyter_contrib_nbextensions\\\\nbextensions\\\\help_panel\\\\icon.png -> C:\\\\Users\\\\stepn\\\\anaconda3\\\\share\\\\jupyter\\\\nbextensions\\\\help_panel\\\\icon.png\\n[I 11:41:37 InstallContribNbextensionsApp] Copying: C:\\\\Users\\\\stepn\\\\anaconda3\\\\lib\\\\site-packages\\\\jupyter_contrib_nbextensions\\\\nbextensions\\\\help_panel\\\\readme.md -> C:\\\\Users\\\\stepn\\\\anaconda3\\\\share\\\\jupyter\\\\nbextensions\\\\help_panel\\\\readme.md\\n[I 11:41:37 InstallContribNbextensionsApp] Making directory: C:\\\\Users\\\\stepn\\\\anaconda3\\\\share\\\\jupyter\\\\nbextensions\\\\help_panel\\\\img\\n[I 11:41:37 InstallContribNbextensionsApp] Copying: C:\\\\Users\\\\stepn\\\\anaconda3\\\\lib\\\\site-packages\\\\jupyter_contrib_nbextensions\\\\nbextensions\\\\help_panel\\\\img\\\\handle-v.png -> C:\\\\Users\\\\stepn\\\\anaconda3\\\\share\\\\jupyter\\\\nbextensions\\\\help_panel\\\\img\\\\handle-v.png\\n[I 11:41:37 InstallContribNbextensionsApp] - Validating: ok\\n[I 11:41:37 InstallContribNbextensionsApp] Installing C:\\\\Users\\\\stepn\\\\anaconda3\\\\lib\\\\site-packages\\\\jupyter_contrib_nbextensions\\\\nbextensions\\\\hide_header -> hide_header\\n[I 11:41:37 InstallContribNbextensionsApp] Making directory: C:\\\\Users\\\\stepn\\\\anaconda3\\\\share\\\\jupyter\\\\nbextensions\\\\hide_header\\\\\\n[I 11:41:37 InstallContribNbextensionsApp] Copying: C:\\\\Users\\\\stepn\\\\anaconda3\\\\lib\\\\site-packages\\\\jupyter_contrib_nbextensions\\\\nbextensions\\\\hide_header\\\\hide_header.yaml -> C:\\\\Users\\\\stepn\\\\anaconda3\\\\share\\\\jupyter\\\\nbextensions\\\\hide_header\\\\hide_header.yaml\\n[I 11:41:37 InstallContribNbextensionsApp] Copying: C:\\\\Users\\\\stepn\\\\anaconda3\\\\lib\\\\site-packages\\\\jupyter_contrib_nbextensions\\\\nbextensions\\\\hide_header\\\\main.js -> C:\\\\Users\\\\stepn\\\\anaconda3\\\\share\\\\jupyter\\\\nbextensions\\\\hide_header\\\\main.js\\n[I 11:41:37 InstallContribNbextensionsApp] Copying: C:\\\\Users\\\\stepn\\\\anaconda3\\\\lib\\\\site-packages\\\\jupyter_contrib_nbextensions\\\\nbextensions\\\\hide_header\\\\README.md -> C:\\\\Users\\\\stepn\\\\anaconda3\\\\share\\\\jupyter\\\\nbextensions\\\\hide_header\\\\README.md\\n[I 11:41:37 InstallContribNbextensionsApp] - Validating: ok\\n[I 11:41:37 InstallContribNbextensionsApp] Installing C:\\\\Users\\\\stepn\\\\anaconda3\\\\lib\\\\site-packages\\\\jupyter_contrib_nbextensions\\\\nbextensions\\\\hide_input -> hide_input\\n[I 11:41:37 InstallContribNbextensionsApp] Making directory: C:\\\\Users\\\\stepn\\\\anaconda3\\\\share\\\\jupyter\\\\nbextensions\\\\hide_input\\\\\\n[I 11:41:37 InstallContribNbextensionsApp] Copying: C:\\\\Users\\\\stepn\\\\anaconda3\\\\lib\\\\site-packages\\\\jupyter_contrib_nbextensions\\\\nbextensions\\\\hide_input\\\\hide-input.yaml -> C:\\\\Users\\\\stepn\\\\anaconda3\\\\share\\\\jupyter\\\\nbextensions\\\\hide_input\\\\hide-input.yaml\\n[I 11:41:37 InstallContribNbextensionsApp] Copying: C:\\\\Users\\\\stepn\\\\anaconda3\\\\lib\\\\site-packages\\\\jupyter_contrib_nbextensions\\\\nbextensions\\\\hide_input\\\\icon.png -> C:\\\\Users\\\\stepn\\\\anaconda3\\\\share\\\\jupyter\\\\nbextensions\\\\hide_input\\\\icon.png\\n[I 11:41:37 InstallContribNbextensionsApp] Copying: C:\\\\Users\\\\stepn\\\\anaconda3\\\\lib\\\\site-packages\\\\jupyter_contrib_nbextensions\\\\nbextensions\\\\hide_input\\\\main.js -> C:\\\\Users\\\\stepn\\\\anaconda3\\\\share\\\\jupyter\\\\nbextensions\\\\hide_input\\\\main.js\\n[I 11:41:37 InstallContribNbextensionsApp] Copying: C:\\\\Users\\\\stepn\\\\anaconda3\\\\lib\\\\site-packages\\\\jupyter_contrib_nbextensions\\\\nbextensions\\\\hide_input\\\\readme.md -> C:\\\\Users\\\\stepn\\\\anaconda3\\\\share\\\\jupyter\\\\nbextensions\\\\hide_input\\\\readme.md\\n[I 11:41:37 InstallContribNbextensionsApp] - Validating: ok\\n[I 11:41:37 InstallContribNbextensionsApp] Installing C:\\\\Users\\\\stepn\\\\anaconda3\\\\lib\\\\site-packages\\\\jupyter_contrib_nbextensions\\\\nbextensions\\\\hide_input_all -> hide_input_all\\n[I 11:41:37 InstallContribNbextensionsApp] Making directory: C:\\\\Users\\\\stepn\\\\anaconda3\\\\share\\\\jupyter\\\\nbextensions\\\\hide_input_all\\\\\\n[I 11:41:37 InstallContribNbextensionsApp] Copying: C:\\\\Users\\\\stepn\\\\anaconda3\\\\lib\\\\site-packages\\\\jupyter_contrib_nbextensions\\\\nbextensions\\\\hide_input_all\\\\hide_input_all.yaml -> C:\\\\Users\\\\stepn\\\\anaconda3\\\\share\\\\jupyter\\\\nbextensions\\\\hide_input_all\\\\hide_input_all.yaml\\n[I 11:41:37 InstallContribNbextensionsApp] Copying: C:\\\\Users\\\\stepn\\\\anaconda3\\\\lib\\\\site-packages\\\\jupyter_contrib_nbextensions\\\\nbextensions\\\\hide_input_all\\\\hide_input_all_hide.png -> C:\\\\Users\\\\stepn\\\\anaconda3\\\\share\\\\jupyter\\\\nbextensions\\\\hide_input_all\\\\hide_input_all_hide.png\\n[I 11:41:37 InstallContribNbextensionsApp] Copying: C:\\\\Users\\\\stepn\\\\anaconda3\\\\lib\\\\site-packages\\\\jupyter_contrib_nbextensions\\\\nbextensions\\\\hide_input_all\\\\hide_input_all_show.png -> C:\\\\Users\\\\stepn\\\\anaconda3\\\\share\\\\jupyter\\\\nbextensions\\\\hide_input_all\\\\hide_input_all_show.png\\n[I 11:41:37 InstallContribNbextensionsApp] Copying: C:\\\\Users\\\\stepn\\\\anaconda3\\\\lib\\\\site-packages\\\\jupyter_contrib_nbextensions\\\\nbextensions\\\\hide_input_all\\\\icon.png -> C:\\\\Users\\\\stepn\\\\anaconda3\\\\share\\\\jupyter\\\\nbextensions\\\\hide_input_all\\\\icon.png\\n[I 11:41:37 InstallContribNbextensionsApp] Copying: C:\\\\Users\\\\stepn\\\\anaconda3\\\\lib\\\\site-packages\\\\jupyter_contrib_nbextensions\\\\nbextensions\\\\hide_input_all\\\\main.js -> C:\\\\Users\\\\stepn\\\\anaconda3\\\\share\\\\jupyter\\\\nbextensions\\\\hide_input_all\\\\main.js\\n[I 11:41:37 InstallContribNbextensionsApp] Copying: C:\\\\Users\\\\stepn\\\\anaconda3\\\\lib\\\\site-packages\\\\jupyter_contrib_nbextensions\\\\nbextensions\\\\hide_input_all\\\\readme.md -> C:\\\\Users\\\\stepn\\\\anaconda3\\\\share\\\\jupyter\\\\nbextensions\\\\hide_input_all\\\\readme.md\\n[I 11:41:37 InstallContribNbextensionsApp] - Validating: ok\\n[I 11:41:37 InstallContribNbextensionsApp] Installing C:\\\\Users\\\\stepn\\\\anaconda3\\\\lib\\\\site-packages\\\\jupyter_contrib_nbextensions\\\\nbextensions\\\\highlighter -> highlighter\\n[I 11:41:37 InstallContribNbextensionsApp] Making directory: C:\\\\Users\\\\stepn\\\\anaconda3\\\\share\\\\jupyter\\\\nbextensions\\\\highlighter\\\\\\n[I 11:41:37 InstallContribNbextensionsApp] Copying: C:\\\\Users\\\\stepn\\\\anaconda3\\\\lib\\\\site-packages\\\\jupyter_contrib_nbextensions\\\\nbextensions\\\\highlighter\\\\demo_highlighter.html -> C:\\\\Users\\\\stepn\\\\anaconda3\\\\share\\\\jupyter\\\\nbextensions\\\\highlighter\\\\demo_highlighter.html\\n[I 11:41:37 InstallContribNbextensionsApp] Copying: C:\\\\Users\\\\stepn\\\\anaconda3\\\\lib\\\\site-packages\\\\jupyter_contrib_nbextensions\\\\nbextensions\\\\highlighter\\\\demo_highlighter.ipynb -> C:\\\\Users\\\\stepn\\\\anaconda3\\\\share\\\\jupyter\\\\nbextensions\\\\highlighter\\\\demo_highlighter.ipynb\\n[I 11:41:37 InstallContribNbextensionsApp] Copying: C:\\\\Users\\\\stepn\\\\anaconda3\\\\lib\\\\site-packages\\\\jupyter_contrib_nbextensions\\\\nbextensions\\\\highlighter\\\\export_highlights.html -> C:\\\\Users\\\\stepn\\\\anaconda3\\\\share\\\\jupyter\\\\nbextensions\\\\highlighter\\\\export_highlights.html\\n[I 11:41:37 InstallContribNbextensionsApp] Copying: C:\\\\Users\\\\stepn\\\\anaconda3\\\\lib\\\\site-packages\\\\jupyter_contrib_nbextensions\\\\nbextensions\\\\highlighter\\\\export_highlights.ipynb -> C:\\\\Users\\\\stepn\\\\anaconda3\\\\share\\\\jupyter\\\\nbextensions\\\\highlighter\\\\export_highlights.ipynb\\n[I 11:41:37 InstallContribNbextensionsApp] Copying: C:\\\\Users\\\\stepn\\\\anaconda3\\\\lib\\\\site-packages\\\\jupyter_contrib_nbextensions\\\\nbextensions\\\\highlighter\\\\export_highlights.pdf -> C:\\\\Users\\\\stepn\\\\anaconda3\\\\share\\\\jupyter\\\\nbextensions\\\\highlighter\\\\export_highlights.pdf\\n[I 11:41:37 InstallContribNbextensionsApp] Copying: C:\\\\Users\\\\stepn\\\\anaconda3\\\\lib\\\\site-packages\\\\jupyter_contrib_nbextensions\\\\nbextensions\\\\highlighter\\\\export_highlights.tex -> C:\\\\Users\\\\stepn\\\\anaconda3\\\\share\\\\jupyter\\\\nbextensions\\\\highlighter\\\\export_highlights.tex\\n[I 11:41:37 InstallContribNbextensionsApp] Copying: C:\\\\Users\\\\stepn\\\\anaconda3\\\\lib\\\\site-packages\\\\jupyter_contrib_nbextensions\\\\nbextensions\\\\highlighter\\\\highlighter.css -> C:\\\\Users\\\\stepn\\\\anaconda3\\\\share\\\\jupyter\\\\nbextensions\\\\highlighter\\\\highlighter.css\\n[I 11:41:37 InstallContribNbextensionsApp] Copying: C:\\\\Users\\\\stepn\\\\anaconda3\\\\lib\\\\site-packages\\\\jupyter_contrib_nbextensions\\\\nbextensions\\\\highlighter\\\\highlighter.js -> C:\\\\Users\\\\stepn\\\\anaconda3\\\\share\\\\jupyter\\\\nbextensions\\\\highlighter\\\\highlighter.js\\n[I 11:41:37 InstallContribNbextensionsApp] Copying: C:\\\\Users\\\\stepn\\\\anaconda3\\\\lib\\\\site-packages\\\\jupyter_contrib_nbextensions\\\\nbextensions\\\\highlighter\\\\highlighter.yaml -> C:\\\\Users\\\\stepn\\\\anaconda3\\\\share\\\\jupyter\\\\nbextensions\\\\highlighter\\\\highlighter.yaml\\n[I 11:41:37 InstallContribNbextensionsApp] Copying: C:\\\\Users\\\\stepn\\\\anaconda3\\\\lib\\\\site-packages\\\\jupyter_contrib_nbextensions\\\\nbextensions\\\\highlighter\\\\icon.png -> C:\\\\Users\\\\stepn\\\\anaconda3\\\\share\\\\jupyter\\\\nbextensions\\\\highlighter\\\\icon.png\\n[I 11:41:37 InstallContribNbextensionsApp] Copying: C:\\\\Users\\\\stepn\\\\anaconda3\\\\lib\\\\site-packages\\\\jupyter_contrib_nbextensions\\\\nbextensions\\\\highlighter\\\\image.gif -> C:\\\\Users\\\\stepn\\\\anaconda3\\\\share\\\\jupyter\\\\nbextensions\\\\highlighter\\\\image.gif\\n[I 11:41:37 InstallContribNbextensionsApp] Copying: C:\\\\Users\\\\stepn\\\\anaconda3\\\\lib\\\\site-packages\\\\jupyter_contrib_nbextensions\\\\nbextensions\\\\highlighter\\\\readme.md -> C:\\\\Users\\\\stepn\\\\anaconda3\\\\share\\\\jupyter\\\\nbextensions\\\\highlighter\\\\readme.md\\n[I 11:41:37 InstallContribNbextensionsApp] Copying: C:\\\\Users\\\\stepn\\\\anaconda3\\\\lib\\\\site-packages\\\\jupyter_contrib_nbextensions\\\\nbextensions\\\\highlighter\\\\tst_highlights.html -> C:\\\\Users\\\\stepn\\\\anaconda3\\\\share\\\\jupyter\\\\nbextensions\\\\highlighter\\\\tst_highlights.html\\n[I 11:41:37 InstallContribNbextensionsApp] Copying: C:\\\\Users\\\\stepn\\\\anaconda3\\\\lib\\\\site-packages\\\\jupyter_contrib_nbextensions\\\\nbextensions\\\\highlighter\\\\tst_highlights.ipynb -> C:\\\\Users\\\\stepn\\\\anaconda3\\\\share\\\\jupyter\\\\nbextensions\\\\highlighter\\\\tst_highlights.ipynb\\n[I 11:41:37 InstallContribNbextensionsApp] Copying: C:\\\\Users\\\\stepn\\\\anaconda3\\\\lib\\\\site-packages\\\\jupyter_contrib_nbextensions\\\\nbextensions\\\\highlighter\\\\tst_highlights.pdf -> C:\\\\Users\\\\stepn\\\\anaconda3\\\\share\\\\jupyter\\\\nbextensions\\\\highlighter\\\\tst_highlights.pdf\\n[I 11:41:37 InstallContribNbextensionsApp] Copying: C:\\\\Users\\\\stepn\\\\anaconda3\\\\lib\\\\site-packages\\\\jupyter_contrib_nbextensions\\\\nbextensions\\\\highlighter\\\\tst_highlights.tex -> C:\\\\Users\\\\stepn\\\\anaconda3\\\\share\\\\jupyter\\\\nbextensions\\\\highlighter\\\\tst_highlights.tex\\n[I 11:41:37 InstallContribNbextensionsApp] - Validating: ok\\n[I 11:41:37 InstallContribNbextensionsApp] Installing C:\\\\Users\\\\stepn\\\\anaconda3\\\\lib\\\\site-packages\\\\jupyter_contrib_nbextensions\\\\nbextensions\\\\hinterland -> hinterland\\n[I 11:41:37 InstallContribNbextensionsApp] Making directory: C:\\\\Users\\\\stepn\\\\anaconda3\\\\share\\\\jupyter\\\\nbextensions\\\\hinterland\\\\\\n[I 11:41:37 InstallContribNbextensionsApp] Copying: C:\\\\Users\\\\stepn\\\\anaconda3\\\\lib\\\\site-packages\\\\jupyter_contrib_nbextensions\\\\nbextensions\\\\hinterland\\\\hinterland.js -> C:\\\\Users\\\\stepn\\\\anaconda3\\\\share\\\\jupyter\\\\nbextensions\\\\hinterland\\\\hinterland.js\\n[I 11:41:37 InstallContribNbextensionsApp] Copying: C:\\\\Users\\\\stepn\\\\anaconda3\\\\lib\\\\site-packages\\\\jupyter_contrib_nbextensions\\\\nbextensions\\\\hinterland\\\\hinterland.yaml -> C:\\\\Users\\\\stepn\\\\anaconda3\\\\share\\\\jupyter\\\\nbextensions\\\\hinterland\\\\hinterland.yaml\\n[I 11:41:37 InstallContribNbextensionsApp] Copying: C:\\\\Users\\\\stepn\\\\anaconda3\\\\lib\\\\site-packages\\\\jupyter_contrib_nbextensions\\\\nbextensions\\\\hinterland\\\\README.md -> C:\\\\Users\\\\stepn\\\\anaconda3\\\\share\\\\jupyter\\\\nbextensions\\\\hinterland\\\\README.md\\n[I 11:41:37 InstallContribNbextensionsApp] - Validating: ok\\n[I 11:41:37 InstallContribNbextensionsApp] Installing C:\\\\Users\\\\stepn\\\\anaconda3\\\\lib\\\\site-packages\\\\jupyter_contrib_nbextensions\\\\nbextensions\\\\init_cell -> init_cell\\n[I 11:41:37 InstallContribNbextensionsApp] Making directory: C:\\\\Users\\\\stepn\\\\anaconda3\\\\share\\\\jupyter\\\\nbextensions\\\\init_cell\\\\\\n[I 11:41:37 InstallContribNbextensionsApp] Copying: C:\\\\Users\\\\stepn\\\\anaconda3\\\\lib\\\\site-packages\\\\jupyter_contrib_nbextensions\\\\nbextensions\\\\init_cell\\\\cell_toolbar_menu.png -> C:\\\\Users\\\\stepn\\\\anaconda3\\\\share\\\\jupyter\\\\nbextensions\\\\init_cell\\\\cell_toolbar_menu.png\\n[I 11:41:37 InstallContribNbextensionsApp] Copying: C:\\\\Users\\\\stepn\\\\anaconda3\\\\lib\\\\site-packages\\\\jupyter_contrib_nbextensions\\\\nbextensions\\\\init_cell\\\\icon.png -> C:\\\\Users\\\\stepn\\\\anaconda3\\\\share\\\\jupyter\\\\nbextensions\\\\init_cell\\\\icon.png\\n[I 11:41:37 InstallContribNbextensionsApp] Copying: C:\\\\Users\\\\stepn\\\\anaconda3\\\\lib\\\\site-packages\\\\jupyter_contrib_nbextensions\\\\nbextensions\\\\init_cell\\\\init_cell.yaml -> C:\\\\Users\\\\stepn\\\\anaconda3\\\\share\\\\jupyter\\\\nbextensions\\\\init_cell\\\\init_cell.yaml\\n[I 11:41:37 InstallContribNbextensionsApp] Copying: C:\\\\Users\\\\stepn\\\\anaconda3\\\\lib\\\\site-packages\\\\jupyter_contrib_nbextensions\\\\nbextensions\\\\init_cell\\\\main.js -> C:\\\\Users\\\\stepn\\\\anaconda3\\\\share\\\\jupyter\\\\nbextensions\\\\init_cell\\\\main.js\\n[I 11:41:37 InstallContribNbextensionsApp] Copying: C:\\\\Users\\\\stepn\\\\anaconda3\\\\lib\\\\site-packages\\\\jupyter_contrib_nbextensions\\\\nbextensions\\\\init_cell\\\\README.md -> C:\\\\Users\\\\stepn\\\\anaconda3\\\\share\\\\jupyter\\\\nbextensions\\\\init_cell\\\\README.md\\n[I 11:41:37 InstallContribNbextensionsApp] - Validating: ok\\n[I 11:41:37 InstallContribNbextensionsApp] Installing C:\\\\Users\\\\stepn\\\\anaconda3\\\\lib\\\\site-packages\\\\jupyter_contrib_nbextensions\\\\nbextensions\\\\keyboard_shortcut_editor -> keyboard_shortcut_editor\\n[I 11:41:37 InstallContribNbextensionsApp] Making directory: C:\\\\Users\\\\stepn\\\\anaconda3\\\\share\\\\jupyter\\\\nbextensions\\\\keyboard_shortcut_editor\\\\\\n[I 11:41:37 InstallContribNbextensionsApp] Copying: C:\\\\Users\\\\stepn\\\\anaconda3\\\\lib\\\\site-packages\\\\jupyter_contrib_nbextensions\\\\nbextensions\\\\keyboard_shortcut_editor\\\\icon.png -> C:\\\\Users\\\\stepn\\\\anaconda3\\\\share\\\\jupyter\\\\nbextensions\\\\keyboard_shortcut_editor\\\\icon.png\\n[I 11:41:37 InstallContribNbextensionsApp] Copying: C:\\\\Users\\\\stepn\\\\anaconda3\\\\lib\\\\site-packages\\\\jupyter_contrib_nbextensions\\\\nbextensions\\\\keyboard_shortcut_editor\\\\keyboard_shortcut_editor.yaml -> C:\\\\Users\\\\stepn\\\\anaconda3\\\\share\\\\jupyter\\\\nbextensions\\\\keyboard_shortcut_editor\\\\keyboard_shortcut_editor.yaml\\n[I 11:41:37 InstallContribNbextensionsApp] Copying: C:\\\\Users\\\\stepn\\\\anaconda3\\\\lib\\\\site-packages\\\\jupyter_contrib_nbextensions\\\\nbextensions\\\\keyboard_shortcut_editor\\\\kse_components.js -> C:\\\\Users\\\\stepn\\\\anaconda3\\\\share\\\\jupyter\\\\nbextensions\\\\keyboard_shortcut_editor\\\\kse_components.js\\n[I 11:41:37 InstallContribNbextensionsApp] Copying: C:\\\\Users\\\\stepn\\\\anaconda3\\\\lib\\\\site-packages\\\\jupyter_contrib_nbextensions\\\\nbextensions\\\\keyboard_shortcut_editor\\\\main.css -> C:\\\\Users\\\\stepn\\\\anaconda3\\\\share\\\\jupyter\\\\nbextensions\\\\keyboard_shortcut_editor\\\\main.css\\n[I 11:41:37 InstallContribNbextensionsApp] Copying: C:\\\\Users\\\\stepn\\\\anaconda3\\\\lib\\\\site-packages\\\\jupyter_contrib_nbextensions\\\\nbextensions\\\\keyboard_shortcut_editor\\\\main.js -> C:\\\\Users\\\\stepn\\\\anaconda3\\\\share\\\\jupyter\\\\nbextensions\\\\keyboard_shortcut_editor\\\\main.js\\n[I 11:41:37 InstallContribNbextensionsApp] Copying: C:\\\\Users\\\\stepn\\\\anaconda3\\\\lib\\\\site-packages\\\\jupyter_contrib_nbextensions\\\\nbextensions\\\\keyboard_shortcut_editor\\\\quickhelp_shim.js -> C:\\\\Users\\\\stepn\\\\anaconda3\\\\share\\\\jupyter\\\\nbextensions\\\\keyboard_shortcut_editor\\\\quickhelp_shim.js\\n[I 11:41:37 InstallContribNbextensionsApp] Copying: C:\\\\Users\\\\stepn\\\\anaconda3\\\\lib\\\\site-packages\\\\jupyter_contrib_nbextensions\\\\nbextensions\\\\keyboard_shortcut_editor\\\\README.md -> C:\\\\Users\\\\stepn\\\\anaconda3\\\\share\\\\jupyter\\\\nbextensions\\\\keyboard_shortcut_editor\\\\README.md\\n[I 11:41:37 InstallContribNbextensionsApp] Copying: C:\\\\Users\\\\stepn\\\\anaconda3\\\\lib\\\\site-packages\\\\jupyter_contrib_nbextensions\\\\nbextensions\\\\keyboard_shortcut_editor\\\\readme_add_new_link.png -> C:\\\\Users\\\\stepn\\\\anaconda3\\\\share\\\\jupyter\\\\nbextensions\\\\keyboard_shortcut_editor\\\\readme_add_new_link.png\\n[I 11:41:37 InstallContribNbextensionsApp] Copying: C:\\\\Users\\\\stepn\\\\anaconda3\\\\lib\\\\site-packages\\\\jupyter_contrib_nbextensions\\\\nbextensions\\\\keyboard_shortcut_editor\\\\readme_add_new_select_action.png -> C:\\\\Users\\\\stepn\\\\anaconda3\\\\share\\\\jupyter\\\\nbextensions\\\\keyboard_shortcut_editor\\\\readme_add_new_select_action.png\\n[I 11:41:37 InstallContribNbextensionsApp] Copying: C:\\\\Users\\\\stepn\\\\anaconda3\\\\lib\\\\site-packages\\\\jupyter_contrib_nbextensions\\\\nbextensions\\\\keyboard_shortcut_editor\\\\readme_comma.png -> C:\\\\Users\\\\stepn\\\\anaconda3\\\\share\\\\jupyter\\\\nbextensions\\\\keyboard_shortcut_editor\\\\readme_comma.png\\n[I 11:41:37 InstallContribNbextensionsApp] Copying: C:\\\\Users\\\\stepn\\\\anaconda3\\\\lib\\\\site-packages\\\\jupyter_contrib_nbextensions\\\\nbextensions\\\\keyboard_shortcut_editor\\\\readme_conflict.png -> C:\\\\Users\\\\stepn\\\\anaconda3\\\\share\\\\jupyter\\\\nbextensions\\\\keyboard_shortcut_editor\\\\readme_conflict.png\\n[I 11:41:37 InstallContribNbextensionsApp] Copying: C:\\\\Users\\\\stepn\\\\anaconda3\\\\lib\\\\site-packages\\\\jupyter_contrib_nbextensions\\\\nbextensions\\\\keyboard_shortcut_editor\\\\readme_dropdown.png -> C:\\\\Users\\\\stepn\\\\anaconda3\\\\share\\\\jupyter\\\\nbextensions\\\\keyboard_shortcut_editor\\\\readme_dropdown.png\\n[I 11:41:37 InstallContribNbextensionsApp] Copying: C:\\\\Users\\\\stepn\\\\anaconda3\\\\lib\\\\site-packages\\\\jupyter_contrib_nbextensions\\\\nbextensions\\\\keyboard_shortcut_editor\\\\readme_menu_item.png -> C:\\\\Users\\\\stepn\\\\anaconda3\\\\share\\\\jupyter\\\\nbextensions\\\\keyboard_shortcut_editor\\\\readme_menu_item.png\\n[I 11:41:37 InstallContribNbextensionsApp] Copying: C:\\\\Users\\\\stepn\\\\anaconda3\\\\lib\\\\site-packages\\\\jupyter_contrib_nbextensions\\\\nbextensions\\\\keyboard_shortcut_editor\\\\readme_reset_disabled.png -> C:\\\\Users\\\\stepn\\\\anaconda3\\\\share\\\\jupyter\\\\nbextensions\\\\keyboard_shortcut_editor\\\\readme_reset_disabled.png\\n[I 11:41:37 InstallContribNbextensionsApp] Copying: C:\\\\Users\\\\stepn\\\\anaconda3\\\\lib\\\\site-packages\\\\jupyter_contrib_nbextensions\\\\nbextensions\\\\keyboard_shortcut_editor\\\\readme_shortcut_editor_blank.png -> C:\\\\Users\\\\stepn\\\\anaconda3\\\\share\\\\jupyter\\\\nbextensions\\\\keyboard_shortcut_editor\\\\readme_shortcut_editor_blank.png\\n[I 11:41:37 InstallContribNbextensionsApp] Copying: C:\\\\Users\\\\stepn\\\\anaconda3\\\\lib\\\\site-packages\\\\jupyter_contrib_nbextensions\\\\nbextensions\\\\keyboard_shortcut_editor\\\\readme_shortcut_editor_success.png -> C:\\\\Users\\\\stepn\\\\anaconda3\\\\share\\\\jupyter\\\\nbextensions\\\\keyboard_shortcut_editor\\\\readme_shortcut_editor_success.png\\n[I 11:41:37 InstallContribNbextensionsApp] Copying: C:\\\\Users\\\\stepn\\\\anaconda3\\\\lib\\\\site-packages\\\\jupyter_contrib_nbextensions\\\\nbextensions\\\\keyboard_shortcut_editor\\\\readme_undefined_key.png -> C:\\\\Users\\\\stepn\\\\anaconda3\\\\share\\\\jupyter\\\\nbextensions\\\\keyboard_shortcut_editor\\\\readme_undefined_key.png\\n[I 11:41:37 InstallContribNbextensionsApp] - Validating: ok\\n[I 11:41:37 InstallContribNbextensionsApp] Installing C:\\\\Users\\\\stepn\\\\anaconda3\\\\lib\\\\site-packages\\\\jupyter_contrib_nbextensions\\\\nbextensions\\\\limit_output -> limit_output\\n[I 11:41:37 InstallContribNbextensionsApp] Making directory: C:\\\\Users\\\\stepn\\\\anaconda3\\\\share\\\\jupyter\\\\nbextensions\\\\limit_output\\\\\\n[I 11:41:37 InstallContribNbextensionsApp] Copying: C:\\\\Users\\\\stepn\\\\anaconda3\\\\lib\\\\site-packages\\\\jupyter_contrib_nbextensions\\\\nbextensions\\\\limit_output\\\\icon.png -> C:\\\\Users\\\\stepn\\\\anaconda3\\\\share\\\\jupyter\\\\nbextensions\\\\limit_output\\\\icon.png\\n[I 11:41:37 InstallContribNbextensionsApp] Copying: C:\\\\Users\\\\stepn\\\\anaconda3\\\\lib\\\\site-packages\\\\jupyter_contrib_nbextensions\\\\nbextensions\\\\limit_output\\\\limit-output.yaml -> C:\\\\Users\\\\stepn\\\\anaconda3\\\\share\\\\jupyter\\\\nbextensions\\\\limit_output\\\\limit-output.yaml\\n[I 11:41:37 InstallContribNbextensionsApp] Copying: C:\\\\Users\\\\stepn\\\\anaconda3\\\\lib\\\\site-packages\\\\jupyter_contrib_nbextensions\\\\nbextensions\\\\limit_output\\\\main.js -> C:\\\\Users\\\\stepn\\\\anaconda3\\\\share\\\\jupyter\\\\nbextensions\\\\limit_output\\\\main.js\\n[I 11:41:37 InstallContribNbextensionsApp] Copying: C:\\\\Users\\\\stepn\\\\anaconda3\\\\lib\\\\site-packages\\\\jupyter_contrib_nbextensions\\\\nbextensions\\\\limit_output\\\\readme.md -> C:\\\\Users\\\\stepn\\\\anaconda3\\\\share\\\\jupyter\\\\nbextensions\\\\limit_output\\\\readme.md\\n[I 11:41:37 InstallContribNbextensionsApp] - Validating: ok\\n[I 11:41:37 InstallContribNbextensionsApp] Installing C:\\\\Users\\\\stepn\\\\anaconda3\\\\lib\\\\site-packages\\\\jupyter_contrib_nbextensions\\\\nbextensions\\\\livemdpreview -> livemdpreview\\n[I 11:41:37 InstallContribNbextensionsApp] Making directory: C:\\\\Users\\\\stepn\\\\anaconda3\\\\share\\\\jupyter\\\\nbextensions\\\\livemdpreview\\\\\\n[I 11:41:37 InstallContribNbextensionsApp] Copying: C:\\\\Users\\\\stepn\\\\anaconda3\\\\lib\\\\site-packages\\\\jupyter_contrib_nbextensions\\\\nbextensions\\\\livemdpreview\\\\livemdpreview.js -> C:\\\\Users\\\\stepn\\\\anaconda3\\\\share\\\\jupyter\\\\nbextensions\\\\livemdpreview\\\\livemdpreview.js\\n[I 11:41:37 InstallContribNbextensionsApp] Copying: C:\\\\Users\\\\stepn\\\\anaconda3\\\\lib\\\\site-packages\\\\jupyter_contrib_nbextensions\\\\nbextensions\\\\livemdpreview\\\\livemdpreview.yml -> C:\\\\Users\\\\stepn\\\\anaconda3\\\\share\\\\jupyter\\\\nbextensions\\\\livemdpreview\\\\livemdpreview.yml\\n[I 11:41:37 InstallContribNbextensionsApp] - Validating: ok\\n[I 11:41:37 InstallContribNbextensionsApp] Installing C:\\\\Users\\\\stepn\\\\anaconda3\\\\lib\\\\site-packages\\\\jupyter_contrib_nbextensions\\\\nbextensions\\\\load_tex_macros -> load_tex_macros\\n[I 11:41:37 InstallContribNbextensionsApp] Making directory: C:\\\\Users\\\\stepn\\\\anaconda3\\\\share\\\\jupyter\\\\nbextensions\\\\load_tex_macros\\\\\\n[I 11:41:37 InstallContribNbextensionsApp] Copying: C:\\\\Users\\\\stepn\\\\anaconda3\\\\lib\\\\site-packages\\\\jupyter_contrib_nbextensions\\\\nbextensions\\\\load_tex_macros\\\\icon.png -> C:\\\\Users\\\\stepn\\\\anaconda3\\\\share\\\\jupyter\\\\nbextensions\\\\load_tex_macros\\\\icon.png\\n[I 11:41:37 InstallContribNbextensionsApp] Copying: C:\\\\Users\\\\stepn\\\\anaconda3\\\\lib\\\\site-packages\\\\jupyter_contrib_nbextensions\\\\nbextensions\\\\load_tex_macros\\\\load_tex_macros.yaml -> C:\\\\Users\\\\stepn\\\\anaconda3\\\\share\\\\jupyter\\\\nbextensions\\\\load_tex_macros\\\\load_tex_macros.yaml\\n[I 11:41:37 InstallContribNbextensionsApp] Copying: C:\\\\Users\\\\stepn\\\\anaconda3\\\\lib\\\\site-packages\\\\jupyter_contrib_nbextensions\\\\nbextensions\\\\load_tex_macros\\\\main.js -> C:\\\\Users\\\\stepn\\\\anaconda3\\\\share\\\\jupyter\\\\nbextensions\\\\load_tex_macros\\\\main.js\\n[I 11:41:37 InstallContribNbextensionsApp] Copying: C:\\\\Users\\\\stepn\\\\anaconda3\\\\lib\\\\site-packages\\\\jupyter_contrib_nbextensions\\\\nbextensions\\\\load_tex_macros\\\\readme.md -> C:\\\\Users\\\\stepn\\\\anaconda3\\\\share\\\\jupyter\\\\nbextensions\\\\load_tex_macros\\\\readme.md\\n[I 11:41:37 InstallContribNbextensionsApp] - Validating: ok\\n[I 11:41:37 InstallContribNbextensionsApp] Installing C:\\\\Users\\\\stepn\\\\anaconda3\\\\lib\\\\site-packages\\\\jupyter_contrib_nbextensions\\\\nbextensions\\\\move_selected_cells -> move_selected_cells\\n[I 11:41:37 InstallContribNbextensionsApp] Making directory: C:\\\\Users\\\\stepn\\\\anaconda3\\\\share\\\\jupyter\\\\nbextensions\\\\move_selected_cells\\\\\\n[I 11:41:37 InstallContribNbextensionsApp] Copying: C:\\\\Users\\\\stepn\\\\anaconda3\\\\lib\\\\site-packages\\\\jupyter_contrib_nbextensions\\\\nbextensions\\\\move_selected_cells\\\\main.js -> C:\\\\Users\\\\stepn\\\\anaconda3\\\\share\\\\jupyter\\\\nbextensions\\\\move_selected_cells\\\\main.js\\n[I 11:41:37 InstallContribNbextensionsApp] Copying: C:\\\\Users\\\\stepn\\\\anaconda3\\\\lib\\\\site-packages\\\\jupyter_contrib_nbextensions\\\\nbextensions\\\\move_selected_cells\\\\move_selected_cells.yaml -> C:\\\\Users\\\\stepn\\\\anaconda3\\\\share\\\\jupyter\\\\nbextensions\\\\move_selected_cells\\\\move_selected_cells.yaml\\n[I 11:41:37 InstallContribNbextensionsApp] Copying: C:\\\\Users\\\\stepn\\\\anaconda3\\\\lib\\\\site-packages\\\\jupyter_contrib_nbextensions\\\\nbextensions\\\\move_selected_cells\\\\README.md -> C:\\\\Users\\\\stepn\\\\anaconda3\\\\share\\\\jupyter\\\\nbextensions\\\\move_selected_cells\\\\README.md\\n[I 11:41:37 InstallContribNbextensionsApp] - Validating: ok\\n[I 11:41:37 InstallContribNbextensionsApp] Installing C:\\\\Users\\\\stepn\\\\anaconda3\\\\lib\\\\site-packages\\\\jupyter_contrib_nbextensions\\\\nbextensions\\\\navigation-hotkeys -> navigation-hotkeys\\n[I 11:41:37 InstallContribNbextensionsApp] Making directory: C:\\\\Users\\\\stepn\\\\anaconda3\\\\share\\\\jupyter\\\\nbextensions\\\\navigation-hotkeys\\\\\\n[I 11:41:37 InstallContribNbextensionsApp] Copying: C:\\\\Users\\\\stepn\\\\anaconda3\\\\lib\\\\site-packages\\\\jupyter_contrib_nbextensions\\\\nbextensions\\\\navigation-hotkeys\\\\hotkeys.yaml -> C:\\\\Users\\\\stepn\\\\anaconda3\\\\share\\\\jupyter\\\\nbextensions\\\\navigation-hotkeys\\\\hotkeys.yaml\\n[I 11:41:37 InstallContribNbextensionsApp] Copying: C:\\\\Users\\\\stepn\\\\anaconda3\\\\lib\\\\site-packages\\\\jupyter_contrib_nbextensions\\\\nbextensions\\\\navigation-hotkeys\\\\icon.png -> C:\\\\Users\\\\stepn\\\\anaconda3\\\\share\\\\jupyter\\\\nbextensions\\\\navigation-hotkeys\\\\icon.png\\n[I 11:41:37 InstallContribNbextensionsApp] Copying: C:\\\\Users\\\\stepn\\\\anaconda3\\\\lib\\\\site-packages\\\\jupyter_contrib_nbextensions\\\\nbextensions\\\\navigation-hotkeys\\\\main.js -> C:\\\\Users\\\\stepn\\\\anaconda3\\\\share\\\\jupyter\\\\nbextensions\\\\navigation-hotkeys\\\\main.js\\n[I 11:41:37 InstallContribNbextensionsApp] Copying: C:\\\\Users\\\\stepn\\\\anaconda3\\\\lib\\\\site-packages\\\\jupyter_contrib_nbextensions\\\\nbextensions\\\\navigation-hotkeys\\\\readme.md -> C:\\\\Users\\\\stepn\\\\anaconda3\\\\share\\\\jupyter\\\\nbextensions\\\\navigation-hotkeys\\\\readme.md\\n[I 11:41:37 InstallContribNbextensionsApp] - Validating: ok\\n[I 11:41:37 InstallContribNbextensionsApp] Installing C:\\\\Users\\\\stepn\\\\anaconda3\\\\lib\\\\site-packages\\\\jupyter_contrib_nbextensions\\\\nbextensions\\\\nbTranslate -> nbTranslate\\n[I 11:41:37 InstallContribNbextensionsApp] Making directory: C:\\\\Users\\\\stepn\\\\anaconda3\\\\share\\\\jupyter\\\\nbextensions\\\\nbTranslate\\\\\\n[I 11:41:37 InstallContribNbextensionsApp] Copying: C:\\\\Users\\\\stepn\\\\anaconda3\\\\lib\\\\site-packages\\\\jupyter_contrib_nbextensions\\\\nbextensions\\\\nbTranslate\\\\demo1.gif -> C:\\\\Users\\\\stepn\\\\anaconda3\\\\share\\\\jupyter\\\\nbextensions\\\\nbTranslate\\\\demo1.gif\\n[I 11:41:37 InstallContribNbextensionsApp] Copying: C:\\\\Users\\\\stepn\\\\anaconda3\\\\lib\\\\site-packages\\\\jupyter_contrib_nbextensions\\\\nbextensions\\\\nbTranslate\\\\demo2.gif -> C:\\\\Users\\\\stepn\\\\anaconda3\\\\share\\\\jupyter\\\\nbextensions\\\\nbTranslate\\\\demo2.gif\\n[I 11:41:37 InstallContribNbextensionsApp] Copying: C:\\\\Users\\\\stepn\\\\anaconda3\\\\lib\\\\site-packages\\\\jupyter_contrib_nbextensions\\\\nbextensions\\\\nbTranslate\\\\languages.js -> C:\\\\Users\\\\stepn\\\\anaconda3\\\\share\\\\jupyter\\\\nbextensions\\\\nbTranslate\\\\languages.js\\n[I 11:41:37 InstallContribNbextensionsApp] Copying: C:\\\\Users\\\\stepn\\\\anaconda3\\\\lib\\\\site-packages\\\\jupyter_contrib_nbextensions\\\\nbextensions\\\\nbTranslate\\\\main.js -> C:\\\\Users\\\\stepn\\\\anaconda3\\\\share\\\\jupyter\\\\nbextensions\\\\nbTranslate\\\\main.js\\n[I 11:41:37 InstallContribNbextensionsApp] Copying: C:\\\\Users\\\\stepn\\\\anaconda3\\\\lib\\\\site-packages\\\\jupyter_contrib_nbextensions\\\\nbextensions\\\\nbTranslate\\\\mutils.js -> C:\\\\Users\\\\stepn\\\\anaconda3\\\\share\\\\jupyter\\\\nbextensions\\\\nbTranslate\\\\mutils.js\\n[I 11:41:37 InstallContribNbextensionsApp] Copying: C:\\\\Users\\\\stepn\\\\anaconda3\\\\lib\\\\site-packages\\\\jupyter_contrib_nbextensions\\\\nbextensions\\\\nbTranslate\\\\nbTranslate.js -> C:\\\\Users\\\\stepn\\\\anaconda3\\\\share\\\\jupyter\\\\nbextensions\\\\nbTranslate\\\\nbTranslate.js\\n[I 11:41:37 InstallContribNbextensionsApp] Copying: C:\\\\Users\\\\stepn\\\\anaconda3\\\\lib\\\\site-packages\\\\jupyter_contrib_nbextensions\\\\nbextensions\\\\nbTranslate\\\\nbTranslate.yaml -> C:\\\\Users\\\\stepn\\\\anaconda3\\\\share\\\\jupyter\\\\nbextensions\\\\nbTranslate\\\\nbTranslate.yaml\\n[I 11:41:37 InstallContribNbextensionsApp] Copying: C:\\\\Users\\\\stepn\\\\anaconda3\\\\lib\\\\site-packages\\\\jupyter_contrib_nbextensions\\\\nbextensions\\\\nbTranslate\\\\README.md -> C:\\\\Users\\\\stepn\\\\anaconda3\\\\share\\\\jupyter\\\\nbextensions\\\\nbTranslate\\\\README.md\\n[I 11:41:37 InstallContribNbextensionsApp] - Validating: ok\\n[I 11:41:37 InstallContribNbextensionsApp] Installing C:\\\\Users\\\\stepn\\\\anaconda3\\\\lib\\\\site-packages\\\\jupyter_contrib_nbextensions\\\\nbextensions\\\\notify -> notify\\n[I 11:41:37 InstallContribNbextensionsApp] Making directory: C:\\\\Users\\\\stepn\\\\anaconda3\\\\share\\\\jupyter\\\\nbextensions\\\\notify\\\\\\n[I 11:41:37 InstallContribNbextensionsApp] Copying: C:\\\\Users\\\\stepn\\\\anaconda3\\\\lib\\\\site-packages\\\\jupyter_contrib_nbextensions\\\\nbextensions\\\\notify\\\\notification.png -> C:\\\\Users\\\\stepn\\\\anaconda3\\\\share\\\\jupyter\\\\nbextensions\\\\notify\\\\notification.png\\n[I 11:41:37 InstallContribNbextensionsApp] Copying: C:\\\\Users\\\\stepn\\\\anaconda3\\\\lib\\\\site-packages\\\\jupyter_contrib_nbextensions\\\\nbextensions\\\\notify\\\\notify.js -> C:\\\\Users\\\\stepn\\\\anaconda3\\\\share\\\\jupyter\\\\nbextensions\\\\notify\\\\notify.js\\n[I 11:41:37 InstallContribNbextensionsApp] Copying: C:\\\\Users\\\\stepn\\\\anaconda3\\\\lib\\\\site-packages\\\\jupyter_contrib_nbextensions\\\\nbextensions\\\\notify\\\\notify.mp3 -> C:\\\\Users\\\\stepn\\\\anaconda3\\\\share\\\\jupyter\\\\nbextensions\\\\notify\\\\notify.mp3\\n[I 11:41:37 InstallContribNbextensionsApp] Copying: C:\\\\Users\\\\stepn\\\\anaconda3\\\\lib\\\\site-packages\\\\jupyter_contrib_nbextensions\\\\nbextensions\\\\notify\\\\notify.yaml -> C:\\\\Users\\\\stepn\\\\anaconda3\\\\share\\\\jupyter\\\\nbextensions\\\\notify\\\\notify.yaml\\n[I 11:41:37 InstallContribNbextensionsApp] Copying: C:\\\\Users\\\\stepn\\\\anaconda3\\\\lib\\\\site-packages\\\\jupyter_contrib_nbextensions\\\\nbextensions\\\\notify\\\\readme.md -> C:\\\\Users\\\\stepn\\\\anaconda3\\\\share\\\\jupyter\\\\nbextensions\\\\notify\\\\readme.md\\n[I 11:41:37 InstallContribNbextensionsApp] - Validating: ok\\n[I 11:41:37 InstallContribNbextensionsApp] Installing C:\\\\Users\\\\stepn\\\\anaconda3\\\\lib\\\\site-packages\\\\jupyter_contrib_nbextensions\\\\nbextensions\\\\printview -> printview\\n[I 11:41:37 InstallContribNbextensionsApp] Making directory: C:\\\\Users\\\\stepn\\\\anaconda3\\\\share\\\\jupyter\\\\nbextensions\\\\printview\\\\\\n[I 11:41:37 InstallContribNbextensionsApp] Copying: C:\\\\Users\\\\stepn\\\\anaconda3\\\\lib\\\\site-packages\\\\jupyter_contrib_nbextensions\\\\nbextensions\\\\printview\\\\icon.png -> C:\\\\Users\\\\stepn\\\\anaconda3\\\\share\\\\jupyter\\\\nbextensions\\\\printview\\\\icon.png\\n[I 11:41:37 InstallContribNbextensionsApp] Copying: C:\\\\Users\\\\stepn\\\\anaconda3\\\\lib\\\\site-packages\\\\jupyter_contrib_nbextensions\\\\nbextensions\\\\printview\\\\main.js -> C:\\\\Users\\\\stepn\\\\anaconda3\\\\share\\\\jupyter\\\\nbextensions\\\\printview\\\\main.js\\n[I 11:41:37 InstallContribNbextensionsApp] Copying: C:\\\\Users\\\\stepn\\\\anaconda3\\\\lib\\\\site-packages\\\\jupyter_contrib_nbextensions\\\\nbextensions\\\\printview\\\\printview-button.png -> C:\\\\Users\\\\stepn\\\\anaconda3\\\\share\\\\jupyter\\\\nbextensions\\\\printview\\\\printview-button.png\\n[I 11:41:37 InstallContribNbextensionsApp] Copying: C:\\\\Users\\\\stepn\\\\anaconda3\\\\lib\\\\site-packages\\\\jupyter_contrib_nbextensions\\\\nbextensions\\\\printview\\\\printview.yaml -> C:\\\\Users\\\\stepn\\\\anaconda3\\\\share\\\\jupyter\\\\nbextensions\\\\printview\\\\printview.yaml\\n[I 11:41:37 InstallContribNbextensionsApp] Copying: C:\\\\Users\\\\stepn\\\\anaconda3\\\\lib\\\\site-packages\\\\jupyter_contrib_nbextensions\\\\nbextensions\\\\printview\\\\readme.md -> C:\\\\Users\\\\stepn\\\\anaconda3\\\\share\\\\jupyter\\\\nbextensions\\\\printview\\\\readme.md\\n[I 11:41:37 InstallContribNbextensionsApp] - Validating: ok\\n[I 11:41:37 InstallContribNbextensionsApp] Installing C:\\\\Users\\\\stepn\\\\anaconda3\\\\lib\\\\site-packages\\\\jupyter_contrib_nbextensions\\\\nbextensions\\\\python-markdown -> python-markdown\\n[I 11:41:37 InstallContribNbextensionsApp] Making directory: C:\\\\Users\\\\stepn\\\\anaconda3\\\\share\\\\jupyter\\\\nbextensions\\\\python-markdown\\\\\\n[I 11:41:37 InstallContribNbextensionsApp] Copying: C:\\\\Users\\\\stepn\\\\anaconda3\\\\lib\\\\site-packages\\\\jupyter_contrib_nbextensions\\\\nbextensions\\\\python-markdown\\\\main.css -> C:\\\\Users\\\\stepn\\\\anaconda3\\\\share\\\\jupyter\\\\nbextensions\\\\python-markdown\\\\main.css\\n[I 11:41:37 InstallContribNbextensionsApp] Copying: C:\\\\Users\\\\stepn\\\\anaconda3\\\\lib\\\\site-packages\\\\jupyter_contrib_nbextensions\\\\nbextensions\\\\python-markdown\\\\main.js -> C:\\\\Users\\\\stepn\\\\anaconda3\\\\share\\\\jupyter\\\\nbextensions\\\\python-markdown\\\\main.js\\n[I 11:41:37 InstallContribNbextensionsApp] Copying: C:\\\\Users\\\\stepn\\\\anaconda3\\\\lib\\\\site-packages\\\\jupyter_contrib_nbextensions\\\\nbextensions\\\\python-markdown\\\\python-markdown-post.png -> C:\\\\Users\\\\stepn\\\\anaconda3\\\\share\\\\jupyter\\\\nbextensions\\\\python-markdown\\\\python-markdown-post.png\\n[I 11:41:37 InstallContribNbextensionsApp] Copying: C:\\\\Users\\\\stepn\\\\anaconda3\\\\lib\\\\site-packages\\\\jupyter_contrib_nbextensions\\\\nbextensions\\\\python-markdown\\\\python-markdown-pre.png -> C:\\\\Users\\\\stepn\\\\anaconda3\\\\share\\\\jupyter\\\\nbextensions\\\\python-markdown\\\\python-markdown-pre.png\\n[I 11:41:37 InstallContribNbextensionsApp] Copying: C:\\\\Users\\\\stepn\\\\anaconda3\\\\lib\\\\site-packages\\\\jupyter_contrib_nbextensions\\\\nbextensions\\\\python-markdown\\\\python-markdown.png -> C:\\\\Users\\\\stepn\\\\anaconda3\\\\share\\\\jupyter\\\\nbextensions\\\\python-markdown\\\\python-markdown.png\\n[I 11:41:37 InstallContribNbextensionsApp] Copying: C:\\\\Users\\\\stepn\\\\anaconda3\\\\lib\\\\site-packages\\\\jupyter_contrib_nbextensions\\\\nbextensions\\\\python-markdown\\\\python-markdown.yaml -> C:\\\\Users\\\\stepn\\\\anaconda3\\\\share\\\\jupyter\\\\nbextensions\\\\python-markdown\\\\python-markdown.yaml\\n[I 11:41:37 InstallContribNbextensionsApp] Copying: C:\\\\Users\\\\stepn\\\\anaconda3\\\\lib\\\\site-packages\\\\jupyter_contrib_nbextensions\\\\nbextensions\\\\python-markdown\\\\readme.md -> C:\\\\Users\\\\stepn\\\\anaconda3\\\\share\\\\jupyter\\\\nbextensions\\\\python-markdown\\\\readme.md\\n[I 11:41:37 InstallContribNbextensionsApp] Copying: C:\\\\Users\\\\stepn\\\\anaconda3\\\\lib\\\\site-packages\\\\jupyter_contrib_nbextensions\\\\nbextensions\\\\python-markdown\\\\trusted.png -> C:\\\\Users\\\\stepn\\\\anaconda3\\\\share\\\\jupyter\\\\nbextensions\\\\python-markdown\\\\trusted.png\\n[I 11:41:37 InstallContribNbextensionsApp] Copying: C:\\\\Users\\\\stepn\\\\anaconda3\\\\lib\\\\site-packages\\\\jupyter_contrib_nbextensions\\\\nbextensions\\\\python-markdown\\\\untrusted.png -> C:\\\\Users\\\\stepn\\\\anaconda3\\\\share\\\\jupyter\\\\nbextensions\\\\python-markdown\\\\untrusted.png\\n[I 11:41:37 InstallContribNbextensionsApp] - Validating: ok\\n[I 11:41:37 InstallContribNbextensionsApp] Installing C:\\\\Users\\\\stepn\\\\anaconda3\\\\lib\\\\site-packages\\\\jupyter_contrib_nbextensions\\\\nbextensions\\\\qtconsole -> qtconsole\\n[I 11:41:37 InstallContribNbextensionsApp] Making directory: C:\\\\Users\\\\stepn\\\\anaconda3\\\\share\\\\jupyter\\\\nbextensions\\\\qtconsole\\\\\\n[I 11:41:37 InstallContribNbextensionsApp] Copying: C:\\\\Users\\\\stepn\\\\anaconda3\\\\lib\\\\site-packages\\\\jupyter_contrib_nbextensions\\\\nbextensions\\\\qtconsole\\\\qtconsole.js -> C:\\\\Users\\\\stepn\\\\anaconda3\\\\share\\\\jupyter\\\\nbextensions\\\\qtconsole\\\\qtconsole.js\\n[I 11:41:37 InstallContribNbextensionsApp] Copying: C:\\\\Users\\\\stepn\\\\anaconda3\\\\lib\\\\site-packages\\\\jupyter_contrib_nbextensions\\\\nbextensions\\\\qtconsole\\\\qtconsole.yaml -> C:\\\\Users\\\\stepn\\\\anaconda3\\\\share\\\\jupyter\\\\nbextensions\\\\qtconsole\\\\qtconsole.yaml\\n[I 11:41:37 InstallContribNbextensionsApp] Copying: C:\\\\Users\\\\stepn\\\\anaconda3\\\\lib\\\\site-packages\\\\jupyter_contrib_nbextensions\\\\nbextensions\\\\qtconsole\\\\README.md -> C:\\\\Users\\\\stepn\\\\anaconda3\\\\share\\\\jupyter\\\\nbextensions\\\\qtconsole\\\\README.md\\n[I 11:41:37 InstallContribNbextensionsApp] - Validating: ok\\n[I 11:41:37 InstallContribNbextensionsApp] Installing C:\\\\Users\\\\stepn\\\\anaconda3\\\\lib\\\\site-packages\\\\jupyter_contrib_nbextensions\\\\nbextensions\\\\rubberband -> rubberband\\n[I 11:41:37 InstallContribNbextensionsApp] Making directory: C:\\\\Users\\\\stepn\\\\anaconda3\\\\share\\\\jupyter\\\\nbextensions\\\\rubberband\\\\\\n[I 11:41:37 InstallContribNbextensionsApp] Copying: C:\\\\Users\\\\stepn\\\\anaconda3\\\\lib\\\\site-packages\\\\jupyter_contrib_nbextensions\\\\nbextensions\\\\rubberband\\\\icon.png -> C:\\\\Users\\\\stepn\\\\anaconda3\\\\share\\\\jupyter\\\\nbextensions\\\\rubberband\\\\icon.png\\n[I 11:41:37 InstallContribNbextensionsApp] Copying: C:\\\\Users\\\\stepn\\\\anaconda3\\\\lib\\\\site-packages\\\\jupyter_contrib_nbextensions\\\\nbextensions\\\\rubberband\\\\main.css -> C:\\\\Users\\\\stepn\\\\anaconda3\\\\share\\\\jupyter\\\\nbextensions\\\\rubberband\\\\main.css\\n[I 11:41:37 InstallContribNbextensionsApp] Copying: C:\\\\Users\\\\stepn\\\\anaconda3\\\\lib\\\\site-packages\\\\jupyter_contrib_nbextensions\\\\nbextensions\\\\rubberband\\\\main.js -> C:\\\\Users\\\\stepn\\\\anaconda3\\\\share\\\\jupyter\\\\nbextensions\\\\rubberband\\\\main.js\\n[I 11:41:37 InstallContribNbextensionsApp] Copying: C:\\\\Users\\\\stepn\\\\anaconda3\\\\lib\\\\site-packages\\\\jupyter_contrib_nbextensions\\\\nbextensions\\\\rubberband\\\\readme.md -> C:\\\\Users\\\\stepn\\\\anaconda3\\\\share\\\\jupyter\\\\nbextensions\\\\rubberband\\\\readme.md\\n[I 11:41:37 InstallContribNbextensionsApp] Copying: C:\\\\Users\\\\stepn\\\\anaconda3\\\\lib\\\\site-packages\\\\jupyter_contrib_nbextensions\\\\nbextensions\\\\rubberband\\\\rubberband.yaml -> C:\\\\Users\\\\stepn\\\\anaconda3\\\\share\\\\jupyter\\\\nbextensions\\\\rubberband\\\\rubberband.yaml\\n[I 11:41:37 InstallContribNbextensionsApp] - Validating: ok\\n[I 11:41:37 InstallContribNbextensionsApp] Installing C:\\\\Users\\\\stepn\\\\anaconda3\\\\lib\\\\site-packages\\\\jupyter_contrib_nbextensions\\\\nbextensions\\\\ruler -> ruler\\n[I 11:41:37 InstallContribNbextensionsApp] Making directory: C:\\\\Users\\\\stepn\\\\anaconda3\\\\share\\\\jupyter\\\\nbextensions\\\\ruler\\\\\\n[I 11:41:37 InstallContribNbextensionsApp] Copying: C:\\\\Users\\\\stepn\\\\anaconda3\\\\lib\\\\site-packages\\\\jupyter_contrib_nbextensions\\\\nbextensions\\\\ruler\\\\edit.js -> C:\\\\Users\\\\stepn\\\\anaconda3\\\\share\\\\jupyter\\\\nbextensions\\\\ruler\\\\edit.js\\n[I 11:41:37 InstallContribNbextensionsApp] Copying: C:\\\\Users\\\\stepn\\\\anaconda3\\\\lib\\\\site-packages\\\\jupyter_contrib_nbextensions\\\\nbextensions\\\\ruler\\\\icon.png -> C:\\\\Users\\\\stepn\\\\anaconda3\\\\share\\\\jupyter\\\\nbextensions\\\\ruler\\\\icon.png\\n[I 11:41:37 InstallContribNbextensionsApp] Copying: C:\\\\Users\\\\stepn\\\\anaconda3\\\\lib\\\\site-packages\\\\jupyter_contrib_nbextensions\\\\nbextensions\\\\ruler\\\\main.js -> C:\\\\Users\\\\stepn\\\\anaconda3\\\\share\\\\jupyter\\\\nbextensions\\\\ruler\\\\main.js\\n[I 11:41:37 InstallContribNbextensionsApp] Copying: C:\\\\Users\\\\stepn\\\\anaconda3\\\\lib\\\\site-packages\\\\jupyter_contrib_nbextensions\\\\nbextensions\\\\ruler\\\\readme.md -> C:\\\\Users\\\\stepn\\\\anaconda3\\\\share\\\\jupyter\\\\nbextensions\\\\ruler\\\\readme.md\\n[I 11:41:37 InstallContribNbextensionsApp] Copying: C:\\\\Users\\\\stepn\\\\anaconda3\\\\lib\\\\site-packages\\\\jupyter_contrib_nbextensions\\\\nbextensions\\\\ruler\\\\ruler.yaml -> C:\\\\Users\\\\stepn\\\\anaconda3\\\\share\\\\jupyter\\\\nbextensions\\\\ruler\\\\ruler.yaml\\n[I 11:41:37 InstallContribNbextensionsApp] Copying: C:\\\\Users\\\\stepn\\\\anaconda3\\\\lib\\\\site-packages\\\\jupyter_contrib_nbextensions\\\\nbextensions\\\\ruler\\\\ruler_editor.yaml -> C:\\\\Users\\\\stepn\\\\anaconda3\\\\share\\\\jupyter\\\\nbextensions\\\\ruler\\\\ruler_editor.yaml\\n[I 11:41:37 InstallContribNbextensionsApp] - Validating: ok\\n[I 11:41:37 InstallContribNbextensionsApp] Installing C:\\\\Users\\\\stepn\\\\anaconda3\\\\lib\\\\site-packages\\\\jupyter_contrib_nbextensions\\\\nbextensions\\\\ruler -> ruler\\n[I 11:41:37 InstallContribNbextensionsApp] Up to date: C:\\\\Users\\\\stepn\\\\anaconda3\\\\share\\\\jupyter\\\\nbextensions\\\\ruler\\\\edit.js\\n[I 11:41:37 InstallContribNbextensionsApp] Up to date: C:\\\\Users\\\\stepn\\\\anaconda3\\\\share\\\\jupyter\\\\nbextensions\\\\ruler\\\\icon.png\\n[I 11:41:37 InstallContribNbextensionsApp] Up to date: C:\\\\Users\\\\stepn\\\\anaconda3\\\\share\\\\jupyter\\\\nbextensions\\\\ruler\\\\main.js\\n[I 11:41:37 InstallContribNbextensionsApp] Up to date: C:\\\\Users\\\\stepn\\\\anaconda3\\\\share\\\\jupyter\\\\nbextensions\\\\ruler\\\\readme.md\\n[I 11:41:37 InstallContribNbextensionsApp] Up to date: C:\\\\Users\\\\stepn\\\\anaconda3\\\\share\\\\jupyter\\\\nbextensions\\\\ruler\\\\ruler.yaml\\n[I 11:41:37 InstallContribNbextensionsApp] Up to date: C:\\\\Users\\\\stepn\\\\anaconda3\\\\share\\\\jupyter\\\\nbextensions\\\\ruler\\\\ruler_editor.yaml\\n[I 11:41:37 InstallContribNbextensionsApp] - Validating: ok\\n[I 11:41:37 InstallContribNbextensionsApp] Installing C:\\\\Users\\\\stepn\\\\anaconda3\\\\lib\\\\site-packages\\\\jupyter_contrib_nbextensions\\\\nbextensions\\\\runtools -> runtools\\n[I 11:41:37 InstallContribNbextensionsApp] Making directory: C:\\\\Users\\\\stepn\\\\anaconda3\\\\share\\\\jupyter\\\\nbextensions\\\\runtools\\\\\\n[I 11:41:37 InstallContribNbextensionsApp] Copying: C:\\\\Users\\\\stepn\\\\anaconda3\\\\lib\\\\site-packages\\\\jupyter_contrib_nbextensions\\\\nbextensions\\\\runtools\\\\annotations.odg -> C:\\\\Users\\\\stepn\\\\anaconda3\\\\share\\\\jupyter\\\\nbextensions\\\\runtools\\\\annotations.odg\\n[I 11:41:37 InstallContribNbextensionsApp] Copying: C:\\\\Users\\\\stepn\\\\anaconda3\\\\lib\\\\site-packages\\\\jupyter_contrib_nbextensions\\\\nbextensions\\\\runtools\\\\cellstate.js -> C:\\\\Users\\\\stepn\\\\anaconda3\\\\share\\\\jupyter\\\\nbextensions\\\\runtools\\\\cellstate.js\\n[I 11:41:37 InstallContribNbextensionsApp] Copying: C:\\\\Users\\\\stepn\\\\anaconda3\\\\lib\\\\site-packages\\\\jupyter_contrib_nbextensions\\\\nbextensions\\\\runtools\\\\demo.gif -> C:\\\\Users\\\\stepn\\\\anaconda3\\\\share\\\\jupyter\\\\nbextensions\\\\runtools\\\\demo.gif\\n[I 11:41:37 InstallContribNbextensionsApp] Copying: C:\\\\Users\\\\stepn\\\\anaconda3\\\\lib\\\\site-packages\\\\jupyter_contrib_nbextensions\\\\nbextensions\\\\runtools\\\\gutter.css -> C:\\\\Users\\\\stepn\\\\anaconda3\\\\share\\\\jupyter\\\\nbextensions\\\\runtools\\\\gutter.css\\n[I 11:41:37 InstallContribNbextensionsApp] Copying: C:\\\\Users\\\\stepn\\\\anaconda3\\\\lib\\\\site-packages\\\\jupyter_contrib_nbextensions\\\\nbextensions\\\\runtools\\\\icon.png -> C:\\\\Users\\\\stepn\\\\anaconda3\\\\share\\\\jupyter\\\\nbextensions\\\\runtools\\\\icon.png\\n[I 11:41:37 InstallContribNbextensionsApp] Copying: C:\\\\Users\\\\stepn\\\\anaconda3\\\\lib\\\\site-packages\\\\jupyter_contrib_nbextensions\\\\nbextensions\\\\runtools\\\\main.css -> C:\\\\Users\\\\stepn\\\\anaconda3\\\\share\\\\jupyter\\\\nbextensions\\\\runtools\\\\main.css\\n[I 11:41:37 InstallContribNbextensionsApp] Copying: C:\\\\Users\\\\stepn\\\\anaconda3\\\\lib\\\\site-packages\\\\jupyter_contrib_nbextensions\\\\nbextensions\\\\runtools\\\\main.js -> C:\\\\Users\\\\stepn\\\\anaconda3\\\\share\\\\jupyter\\\\nbextensions\\\\runtools\\\\main.js\\n[I 11:41:37 InstallContribNbextensionsApp] Copying: C:\\\\Users\\\\stepn\\\\anaconda3\\\\lib\\\\site-packages\\\\jupyter_contrib_nbextensions\\\\nbextensions\\\\runtools\\\\readme.md -> C:\\\\Users\\\\stepn\\\\anaconda3\\\\share\\\\jupyter\\\\nbextensions\\\\runtools\\\\readme.md\\n[I 11:41:37 InstallContribNbextensionsApp] Copying: C:\\\\Users\\\\stepn\\\\anaconda3\\\\lib\\\\site-packages\\\\jupyter_contrib_nbextensions\\\\nbextensions\\\\runtools\\\\runtools.yaml -> C:\\\\Users\\\\stepn\\\\anaconda3\\\\share\\\\jupyter\\\\nbextensions\\\\runtools\\\\runtools.yaml\\n[I 11:41:37 InstallContribNbextensionsApp] Copying: C:\\\\Users\\\\stepn\\\\anaconda3\\\\lib\\\\site-packages\\\\jupyter_contrib_nbextensions\\\\nbextensions\\\\runtools\\\\runtools_execute.png -> C:\\\\Users\\\\stepn\\\\anaconda3\\\\share\\\\jupyter\\\\nbextensions\\\\runtools\\\\runtools_execute.png\\n[I 11:41:37 InstallContribNbextensionsApp] Copying: C:\\\\Users\\\\stepn\\\\anaconda3\\\\lib\\\\site-packages\\\\jupyter_contrib_nbextensions\\\\nbextensions\\\\runtools\\\\runtools_lock.png -> C:\\\\Users\\\\stepn\\\\anaconda3\\\\share\\\\jupyter\\\\nbextensions\\\\runtools\\\\runtools_lock.png\\n[I 11:41:37 InstallContribNbextensionsApp] Copying: C:\\\\Users\\\\stepn\\\\anaconda3\\\\lib\\\\site-packages\\\\jupyter_contrib_nbextensions\\\\nbextensions\\\\runtools\\\\runtools_marker.png -> C:\\\\Users\\\\stepn\\\\anaconda3\\\\share\\\\jupyter\\\\nbextensions\\\\runtools\\\\runtools_marker.png\\n[I 11:41:37 InstallContribNbextensionsApp] Copying: C:\\\\Users\\\\stepn\\\\anaconda3\\\\lib\\\\site-packages\\\\jupyter_contrib_nbextensions\\\\nbextensions\\\\runtools\\\\runtools_nb.png -> C:\\\\Users\\\\stepn\\\\anaconda3\\\\share\\\\jupyter\\\\nbextensions\\\\runtools\\\\runtools_nb.png\\n[I 11:41:37 InstallContribNbextensionsApp] Copying: C:\\\\Users\\\\stepn\\\\anaconda3\\\\lib\\\\site-packages\\\\jupyter_contrib_nbextensions\\\\nbextensions\\\\runtools\\\\runtools_show_hide.png -> C:\\\\Users\\\\stepn\\\\anaconda3\\\\share\\\\jupyter\\\\nbextensions\\\\runtools\\\\runtools_show_hide.png\\n[I 11:41:37 InstallContribNbextensionsApp] - Validating: ok\\n[I 11:41:37 InstallContribNbextensionsApp] Installing C:\\\\Users\\\\stepn\\\\anaconda3\\\\lib\\\\site-packages\\\\jupyter_contrib_nbextensions\\\\nbextensions\\\\scratchpad -> scratchpad\\n[I 11:41:37 InstallContribNbextensionsApp] Making directory: C:\\\\Users\\\\stepn\\\\anaconda3\\\\share\\\\jupyter\\\\nbextensions\\\\scratchpad\\\\\\n[I 11:41:37 InstallContribNbextensionsApp] Copying: C:\\\\Users\\\\stepn\\\\anaconda3\\\\lib\\\\site-packages\\\\jupyter_contrib_nbextensions\\\\nbextensions\\\\scratchpad\\\\demo.gif -> C:\\\\Users\\\\stepn\\\\anaconda3\\\\share\\\\jupyter\\\\nbextensions\\\\scratchpad\\\\demo.gif\\n[I 11:41:37 InstallContribNbextensionsApp] Copying: C:\\\\Users\\\\stepn\\\\anaconda3\\\\lib\\\\site-packages\\\\jupyter_contrib_nbextensions\\\\nbextensions\\\\scratchpad\\\\LICENSE -> C:\\\\Users\\\\stepn\\\\anaconda3\\\\share\\\\jupyter\\\\nbextensions\\\\scratchpad\\\\LICENSE\\n[I 11:41:37 InstallContribNbextensionsApp] Copying: C:\\\\Users\\\\stepn\\\\anaconda3\\\\lib\\\\site-packages\\\\jupyter_contrib_nbextensions\\\\nbextensions\\\\scratchpad\\\\main.js -> C:\\\\Users\\\\stepn\\\\anaconda3\\\\share\\\\jupyter\\\\nbextensions\\\\scratchpad\\\\main.js\\n[I 11:41:37 InstallContribNbextensionsApp] Copying: C:\\\\Users\\\\stepn\\\\anaconda3\\\\lib\\\\site-packages\\\\jupyter_contrib_nbextensions\\\\nbextensions\\\\scratchpad\\\\README.md -> C:\\\\Users\\\\stepn\\\\anaconda3\\\\share\\\\jupyter\\\\nbextensions\\\\scratchpad\\\\README.md\\n[I 11:41:37 InstallContribNbextensionsApp] Copying: C:\\\\Users\\\\stepn\\\\anaconda3\\\\lib\\\\site-packages\\\\jupyter_contrib_nbextensions\\\\nbextensions\\\\scratchpad\\\\scratchpad.css -> C:\\\\Users\\\\stepn\\\\anaconda3\\\\share\\\\jupyter\\\\nbextensions\\\\scratchpad\\\\scratchpad.css\\n[I 11:41:37 InstallContribNbextensionsApp] Copying: C:\\\\Users\\\\stepn\\\\anaconda3\\\\lib\\\\site-packages\\\\jupyter_contrib_nbextensions\\\\nbextensions\\\\scratchpad\\\\scratchpad.yaml -> C:\\\\Users\\\\stepn\\\\anaconda3\\\\share\\\\jupyter\\\\nbextensions\\\\scratchpad\\\\scratchpad.yaml\\n[I 11:41:37 InstallContribNbextensionsApp] - Validating: ok\\n[I 11:41:37 InstallContribNbextensionsApp] Installing C:\\\\Users\\\\stepn\\\\anaconda3\\\\lib\\\\site-packages\\\\jupyter_contrib_nbextensions\\\\nbextensions\\\\scroll_down -> scroll_down\\n[I 11:41:37 InstallContribNbextensionsApp] Making directory: C:\\\\Users\\\\stepn\\\\anaconda3\\\\share\\\\jupyter\\\\nbextensions\\\\scroll_down\\\\\\n[I 11:41:37 InstallContribNbextensionsApp] Copying: C:\\\\Users\\\\stepn\\\\anaconda3\\\\lib\\\\site-packages\\\\jupyter_contrib_nbextensions\\\\nbextensions\\\\scroll_down\\\\config.yaml -> C:\\\\Users\\\\stepn\\\\anaconda3\\\\share\\\\jupyter\\\\nbextensions\\\\scroll_down\\\\config.yaml\\n[I 11:41:37 InstallContribNbextensionsApp] Copying: C:\\\\Users\\\\stepn\\\\anaconda3\\\\lib\\\\site-packages\\\\jupyter_contrib_nbextensions\\\\nbextensions\\\\scroll_down\\\\icon.png -> C:\\\\Users\\\\stepn\\\\anaconda3\\\\share\\\\jupyter\\\\nbextensions\\\\scroll_down\\\\icon.png\\n[I 11:41:37 InstallContribNbextensionsApp] Copying: C:\\\\Users\\\\stepn\\\\anaconda3\\\\lib\\\\site-packages\\\\jupyter_contrib_nbextensions\\\\nbextensions\\\\scroll_down\\\\main.js -> C:\\\\Users\\\\stepn\\\\anaconda3\\\\share\\\\jupyter\\\\nbextensions\\\\scroll_down\\\\main.js\\n[I 11:41:37 InstallContribNbextensionsApp] Copying: C:\\\\Users\\\\stepn\\\\anaconda3\\\\lib\\\\site-packages\\\\jupyter_contrib_nbextensions\\\\nbextensions\\\\scroll_down\\\\readme.md -> C:\\\\Users\\\\stepn\\\\anaconda3\\\\share\\\\jupyter\\\\nbextensions\\\\scroll_down\\\\readme.md\\n[I 11:41:37 InstallContribNbextensionsApp] - Validating: ok\\n[I 11:41:37 InstallContribNbextensionsApp] Installing C:\\\\Users\\\\stepn\\\\anaconda3\\\\lib\\\\site-packages\\\\jupyter_contrib_nbextensions\\\\nbextensions\\\\select_keymap -> select_keymap\\n[I 11:41:37 InstallContribNbextensionsApp] Making directory: C:\\\\Users\\\\stepn\\\\anaconda3\\\\share\\\\jupyter\\\\nbextensions\\\\select_keymap\\\\\\n[I 11:41:37 InstallContribNbextensionsApp] Copying: C:\\\\Users\\\\stepn\\\\anaconda3\\\\lib\\\\site-packages\\\\jupyter_contrib_nbextensions\\\\nbextensions\\\\select_keymap\\\\main.js -> C:\\\\Users\\\\stepn\\\\anaconda3\\\\share\\\\jupyter\\\\nbextensions\\\\select_keymap\\\\main.js\\n[I 11:41:37 InstallContribNbextensionsApp] Copying: C:\\\\Users\\\\stepn\\\\anaconda3\\\\lib\\\\site-packages\\\\jupyter_contrib_nbextensions\\\\nbextensions\\\\select_keymap\\\\README.md -> C:\\\\Users\\\\stepn\\\\anaconda3\\\\share\\\\jupyter\\\\nbextensions\\\\select_keymap\\\\README.md\\n[I 11:41:37 InstallContribNbextensionsApp] Copying: C:\\\\Users\\\\stepn\\\\anaconda3\\\\lib\\\\site-packages\\\\jupyter_contrib_nbextensions\\\\nbextensions\\\\select_keymap\\\\select_keymap.png -> C:\\\\Users\\\\stepn\\\\anaconda3\\\\share\\\\jupyter\\\\nbextensions\\\\select_keymap\\\\select_keymap.png\\n[I 11:41:37 InstallContribNbextensionsApp] Copying: C:\\\\Users\\\\stepn\\\\anaconda3\\\\lib\\\\site-packages\\\\jupyter_contrib_nbextensions\\\\nbextensions\\\\select_keymap\\\\select_keymap.yaml -> C:\\\\Users\\\\stepn\\\\anaconda3\\\\share\\\\jupyter\\\\nbextensions\\\\select_keymap\\\\select_keymap.yaml\\n[I 11:41:37 InstallContribNbextensionsApp] - Validating: ok\\n[I 11:41:37 InstallContribNbextensionsApp] Installing C:\\\\Users\\\\stepn\\\\anaconda3\\\\lib\\\\site-packages\\\\jupyter_contrib_nbextensions\\\\nbextensions\\\\skill -> skill\\n[I 11:41:37 InstallContribNbextensionsApp] Making directory: C:\\\\Users\\\\stepn\\\\anaconda3\\\\share\\\\jupyter\\\\nbextensions\\\\skill\\\\\\n[I 11:41:37 InstallContribNbextensionsApp] Copying: C:\\\\Users\\\\stepn\\\\anaconda3\\\\lib\\\\site-packages\\\\jupyter_contrib_nbextensions\\\\nbextensions\\\\skill\\\\main.js -> C:\\\\Users\\\\stepn\\\\anaconda3\\\\share\\\\jupyter\\\\nbextensions\\\\skill\\\\main.js\\n[I 11:41:37 InstallContribNbextensionsApp] Copying: C:\\\\Users\\\\stepn\\\\anaconda3\\\\lib\\\\site-packages\\\\jupyter_contrib_nbextensions\\\\nbextensions\\\\skill\\\\README.md -> C:\\\\Users\\\\stepn\\\\anaconda3\\\\share\\\\jupyter\\\\nbextensions\\\\skill\\\\README.md\\n[I 11:41:37 InstallContribNbextensionsApp] Copying: C:\\\\Users\\\\stepn\\\\anaconda3\\\\lib\\\\site-packages\\\\jupyter_contrib_nbextensions\\\\nbextensions\\\\skill\\\\skill.js -> C:\\\\Users\\\\stepn\\\\anaconda3\\\\share\\\\jupyter\\\\nbextensions\\\\skill\\\\skill.js\\n[I 11:41:37 InstallContribNbextensionsApp] Copying: C:\\\\Users\\\\stepn\\\\anaconda3\\\\lib\\\\site-packages\\\\jupyter_contrib_nbextensions\\\\nbextensions\\\\skill\\\\skill.yaml -> C:\\\\Users\\\\stepn\\\\anaconda3\\\\share\\\\jupyter\\\\nbextensions\\\\skill\\\\skill.yaml\\n[I 11:41:37 InstallContribNbextensionsApp] - Validating: ok\\n[I 11:41:37 InstallContribNbextensionsApp] Installing C:\\\\Users\\\\stepn\\\\anaconda3\\\\lib\\\\site-packages\\\\jupyter_contrib_nbextensions\\\\nbextensions\\\\skip-traceback -> skip-traceback\\n[I 11:41:37 InstallContribNbextensionsApp] Making directory: C:\\\\Users\\\\stepn\\\\anaconda3\\\\share\\\\jupyter\\\\nbextensions\\\\skip-traceback\\\\\\n[I 11:41:37 InstallContribNbextensionsApp] Copying: C:\\\\Users\\\\stepn\\\\anaconda3\\\\lib\\\\site-packages\\\\jupyter_contrib_nbextensions\\\\nbextensions\\\\skip-traceback\\\\icon.png -> C:\\\\Users\\\\stepn\\\\anaconda3\\\\share\\\\jupyter\\\\nbextensions\\\\skip-traceback\\\\icon.png\\n[I 11:41:37 InstallContribNbextensionsApp] Copying: C:\\\\Users\\\\stepn\\\\anaconda3\\\\lib\\\\site-packages\\\\jupyter_contrib_nbextensions\\\\nbextensions\\\\skip-traceback\\\\main.js -> C:\\\\Users\\\\stepn\\\\anaconda3\\\\share\\\\jupyter\\\\nbextensions\\\\skip-traceback\\\\main.js\\n[I 11:41:37 InstallContribNbextensionsApp] Copying: C:\\\\Users\\\\stepn\\\\anaconda3\\\\lib\\\\site-packages\\\\jupyter_contrib_nbextensions\\\\nbextensions\\\\skip-traceback\\\\readme.md -> C:\\\\Users\\\\stepn\\\\anaconda3\\\\share\\\\jupyter\\\\nbextensions\\\\skip-traceback\\\\readme.md\\n[I 11:41:37 InstallContribNbextensionsApp] Copying: C:\\\\Users\\\\stepn\\\\anaconda3\\\\lib\\\\site-packages\\\\jupyter_contrib_nbextensions\\\\nbextensions\\\\skip-traceback\\\\skip-traceback.png -> C:\\\\Users\\\\stepn\\\\anaconda3\\\\share\\\\jupyter\\\\nbextensions\\\\skip-traceback\\\\skip-traceback.png\\n[I 11:41:37 InstallContribNbextensionsApp] Copying: C:\\\\Users\\\\stepn\\\\anaconda3\\\\lib\\\\site-packages\\\\jupyter_contrib_nbextensions\\\\nbextensions\\\\skip-traceback\\\\skip-traceback.yaml -> C:\\\\Users\\\\stepn\\\\anaconda3\\\\share\\\\jupyter\\\\nbextensions\\\\skip-traceback\\\\skip-traceback.yaml\\n[I 11:41:37 InstallContribNbextensionsApp] Copying: C:\\\\Users\\\\stepn\\\\anaconda3\\\\lib\\\\site-packages\\\\jupyter_contrib_nbextensions\\\\nbextensions\\\\skip-traceback\\\\traceback.png -> C:\\\\Users\\\\stepn\\\\anaconda3\\\\share\\\\jupyter\\\\nbextensions\\\\skip-traceback\\\\traceback.png\\n[I 11:41:37 InstallContribNbextensionsApp] - Validating: ok\\n[I 11:41:37 InstallContribNbextensionsApp] Installing C:\\\\Users\\\\stepn\\\\anaconda3\\\\lib\\\\site-packages\\\\jupyter_contrib_nbextensions\\\\nbextensions\\\\snippets -> snippets\\n[I 11:41:37 InstallContribNbextensionsApp] Making directory: C:\\\\Users\\\\stepn\\\\anaconda3\\\\share\\\\jupyter\\\\nbextensions\\\\snippets\\\\\\n[I 11:41:37 InstallContribNbextensionsApp] Copying: C:\\\\Users\\\\stepn\\\\anaconda3\\\\lib\\\\site-packages\\\\jupyter_contrib_nbextensions\\\\nbextensions\\\\snippets\\\\main.js -> C:\\\\Users\\\\stepn\\\\anaconda3\\\\share\\\\jupyter\\\\nbextensions\\\\snippets\\\\main.js\\n[I 11:41:37 InstallContribNbextensionsApp] Copying: C:\\\\Users\\\\stepn\\\\anaconda3\\\\lib\\\\site-packages\\\\jupyter_contrib_nbextensions\\\\nbextensions\\\\snippets\\\\README.md -> C:\\\\Users\\\\stepn\\\\anaconda3\\\\share\\\\jupyter\\\\nbextensions\\\\snippets\\\\README.md\\n[I 11:41:37 InstallContribNbextensionsApp] Copying: C:\\\\Users\\\\stepn\\\\anaconda3\\\\lib\\\\site-packages\\\\jupyter_contrib_nbextensions\\\\nbextensions\\\\snippets\\\\snippets-demo.gif -> C:\\\\Users\\\\stepn\\\\anaconda3\\\\share\\\\jupyter\\\\nbextensions\\\\snippets\\\\snippets-demo.gif\\n[I 11:41:37 InstallContribNbextensionsApp] Copying: C:\\\\Users\\\\stepn\\\\anaconda3\\\\lib\\\\site-packages\\\\jupyter_contrib_nbextensions\\\\nbextensions\\\\snippets\\\\snippets.json -> C:\\\\Users\\\\stepn\\\\anaconda3\\\\share\\\\jupyter\\\\nbextensions\\\\snippets\\\\snippets.json\\n[I 11:41:37 InstallContribNbextensionsApp] Copying: C:\\\\Users\\\\stepn\\\\anaconda3\\\\lib\\\\site-packages\\\\jupyter_contrib_nbextensions\\\\nbextensions\\\\snippets\\\\snippets.yaml -> C:\\\\Users\\\\stepn\\\\anaconda3\\\\share\\\\jupyter\\\\nbextensions\\\\snippets\\\\snippets.yaml\\n[I 11:41:37 InstallContribNbextensionsApp] - Validating: ok\\n[I 11:41:37 InstallContribNbextensionsApp] Installing C:\\\\Users\\\\stepn\\\\anaconda3\\\\lib\\\\site-packages\\\\jupyter_contrib_nbextensions\\\\nbextensions\\\\snippets_menu -> snippets_menu\\n[I 11:41:37 InstallContribNbextensionsApp] Making directory: C:\\\\Users\\\\stepn\\\\anaconda3\\\\share\\\\jupyter\\\\nbextensions\\\\snippets_menu\\\\\\n[I 11:41:37 InstallContribNbextensionsApp] Copying: C:\\\\Users\\\\stepn\\\\anaconda3\\\\lib\\\\site-packages\\\\jupyter_contrib_nbextensions\\\\nbextensions\\\\snippets_menu\\\\config.yaml -> C:\\\\Users\\\\stepn\\\\anaconda3\\\\share\\\\jupyter\\\\nbextensions\\\\snippets_menu\\\\config.yaml\\n[I 11:41:37 InstallContribNbextensionsApp] Copying: C:\\\\Users\\\\stepn\\\\anaconda3\\\\lib\\\\site-packages\\\\jupyter_contrib_nbextensions\\\\nbextensions\\\\snippets_menu\\\\examples_for_custom.js -> C:\\\\Users\\\\stepn\\\\anaconda3\\\\share\\\\jupyter\\\\nbextensions\\\\snippets_menu\\\\examples_for_custom.js\\n[I 11:41:37 InstallContribNbextensionsApp] Copying: C:\\\\Users\\\\stepn\\\\anaconda3\\\\lib\\\\site-packages\\\\jupyter_contrib_nbextensions\\\\nbextensions\\\\snippets_menu\\\\main.js -> C:\\\\Users\\\\stepn\\\\anaconda3\\\\share\\\\jupyter\\\\nbextensions\\\\snippets_menu\\\\main.js\\n[I 11:41:37 InstallContribNbextensionsApp] Copying: C:\\\\Users\\\\stepn\\\\anaconda3\\\\lib\\\\site-packages\\\\jupyter_contrib_nbextensions\\\\nbextensions\\\\snippets_menu\\\\readme.md -> C:\\\\Users\\\\stepn\\\\anaconda3\\\\share\\\\jupyter\\\\nbextensions\\\\snippets_menu\\\\readme.md\\n[I 11:41:37 InstallContribNbextensionsApp] Copying: C:\\\\Users\\\\stepn\\\\anaconda3\\\\lib\\\\site-packages\\\\jupyter_contrib_nbextensions\\\\nbextensions\\\\snippets_menu\\\\screenshot1.png -> C:\\\\Users\\\\stepn\\\\anaconda3\\\\share\\\\jupyter\\\\nbextensions\\\\snippets_menu\\\\screenshot1.png\\n[I 11:41:37 InstallContribNbextensionsApp] Copying: C:\\\\Users\\\\stepn\\\\anaconda3\\\\lib\\\\site-packages\\\\jupyter_contrib_nbextensions\\\\nbextensions\\\\snippets_menu\\\\screenshot2.png -> C:\\\\Users\\\\stepn\\\\anaconda3\\\\share\\\\jupyter\\\\nbextensions\\\\snippets_menu\\\\screenshot2.png\\n[I 11:41:37 InstallContribNbextensionsApp] Copying: C:\\\\Users\\\\stepn\\\\anaconda3\\\\lib\\\\site-packages\\\\jupyter_contrib_nbextensions\\\\nbextensions\\\\snippets_menu\\\\screenshot3.png -> C:\\\\Users\\\\stepn\\\\anaconda3\\\\share\\\\jupyter\\\\nbextensions\\\\snippets_menu\\\\screenshot3.png\\n[I 11:41:37 InstallContribNbextensionsApp] Copying: C:\\\\Users\\\\stepn\\\\anaconda3\\\\lib\\\\site-packages\\\\jupyter_contrib_nbextensions\\\\nbextensions\\\\snippets_menu\\\\snippets_menu.css -> C:\\\\Users\\\\stepn\\\\anaconda3\\\\share\\\\jupyter\\\\nbextensions\\\\snippets_menu\\\\snippets_menu.css\\n[I 11:41:37 InstallContribNbextensionsApp] Copying: C:\\\\Users\\\\stepn\\\\anaconda3\\\\lib\\\\site-packages\\\\jupyter_contrib_nbextensions\\\\nbextensions\\\\snippets_menu\\\\snippets_submenu_markdown.js -> C:\\\\Users\\\\stepn\\\\anaconda3\\\\share\\\\jupyter\\\\nbextensions\\\\snippets_menu\\\\snippets_submenu_markdown.js\\n[I 11:41:37 InstallContribNbextensionsApp] Copying: C:\\\\Users\\\\stepn\\\\anaconda3\\\\lib\\\\site-packages\\\\jupyter_contrib_nbextensions\\\\nbextensions\\\\snippets_menu\\\\snippets_submenu_python.js -> C:\\\\Users\\\\stepn\\\\anaconda3\\\\share\\\\jupyter\\\\nbextensions\\\\snippets_menu\\\\snippets_submenu_python.js\\n[I 11:41:37 InstallContribNbextensionsApp] Copying: C:\\\\Users\\\\stepn\\\\anaconda3\\\\lib\\\\site-packages\\\\jupyter_contrib_nbextensions\\\\nbextensions\\\\snippets_menu\\\\thumbnail.png -> C:\\\\Users\\\\stepn\\\\anaconda3\\\\share\\\\jupyter\\\\nbextensions\\\\snippets_menu\\\\thumbnail.png\\n[I 11:41:37 InstallContribNbextensionsApp] Making directory: C:\\\\Users\\\\stepn\\\\anaconda3\\\\share\\\\jupyter\\\\nbextensions\\\\snippets_menu\\\\snippets_submenus_python\\n[I 11:41:37 InstallContribNbextensionsApp] Copying: C:\\\\Users\\\\stepn\\\\anaconda3\\\\lib\\\\site-packages\\\\jupyter_contrib_nbextensions\\\\nbextensions\\\\snippets_menu\\\\snippets_submenus_python\\\\astropy.js -> C:\\\\Users\\\\stepn\\\\anaconda3\\\\share\\\\jupyter\\\\nbextensions\\\\snippets_menu\\\\snippets_submenus_python\\\\astropy.js\\n[I 11:41:37 InstallContribNbextensionsApp] Copying: C:\\\\Users\\\\stepn\\\\anaconda3\\\\lib\\\\site-packages\\\\jupyter_contrib_nbextensions\\\\nbextensions\\\\snippets_menu\\\\snippets_submenus_python\\\\h5py.js -> C:\\\\Users\\\\stepn\\\\anaconda3\\\\share\\\\jupyter\\\\nbextensions\\\\snippets_menu\\\\snippets_submenus_python\\\\h5py.js\\n[I 11:41:37 InstallContribNbextensionsApp] Copying: C:\\\\Users\\\\stepn\\\\anaconda3\\\\lib\\\\site-packages\\\\jupyter_contrib_nbextensions\\\\nbextensions\\\\snippets_menu\\\\snippets_submenus_python\\\\matplotlib.js -> C:\\\\Users\\\\stepn\\\\anaconda3\\\\share\\\\jupyter\\\\nbextensions\\\\snippets_menu\\\\snippets_submenus_python\\\\matplotlib.js\\n[I 11:41:37 InstallContribNbextensionsApp] Copying: C:\\\\Users\\\\stepn\\\\anaconda3\\\\lib\\\\site-packages\\\\jupyter_contrib_nbextensions\\\\nbextensions\\\\snippets_menu\\\\snippets_submenus_python\\\\numba.js -> C:\\\\Users\\\\stepn\\\\anaconda3\\\\share\\\\jupyter\\\\nbextensions\\\\snippets_menu\\\\snippets_submenus_python\\\\numba.js\\n[I 11:41:37 InstallContribNbextensionsApp] Copying: C:\\\\Users\\\\stepn\\\\anaconda3\\\\lib\\\\site-packages\\\\jupyter_contrib_nbextensions\\\\nbextensions\\\\snippets_menu\\\\snippets_submenus_python\\\\numpy.js -> C:\\\\Users\\\\stepn\\\\anaconda3\\\\share\\\\jupyter\\\\nbextensions\\\\snippets_menu\\\\snippets_submenus_python\\\\numpy.js\\n[I 11:41:37 InstallContribNbextensionsApp] Copying: C:\\\\Users\\\\stepn\\\\anaconda3\\\\lib\\\\site-packages\\\\jupyter_contrib_nbextensions\\\\nbextensions\\\\snippets_menu\\\\snippets_submenus_python\\\\numpy_polynomial.js -> C:\\\\Users\\\\stepn\\\\anaconda3\\\\share\\\\jupyter\\\\nbextensions\\\\snippets_menu\\\\snippets_submenus_python\\\\numpy_polynomial.js\\n[I 11:41:37 InstallContribNbextensionsApp] Copying: C:\\\\Users\\\\stepn\\\\anaconda3\\\\lib\\\\site-packages\\\\jupyter_contrib_nbextensions\\\\nbextensions\\\\snippets_menu\\\\snippets_submenus_python\\\\numpy_ufuncs.js -> C:\\\\Users\\\\stepn\\\\anaconda3\\\\share\\\\jupyter\\\\nbextensions\\\\snippets_menu\\\\snippets_submenus_python\\\\numpy_ufuncs.js\\n[I 11:41:37 InstallContribNbextensionsApp] Copying: C:\\\\Users\\\\stepn\\\\anaconda3\\\\lib\\\\site-packages\\\\jupyter_contrib_nbextensions\\\\nbextensions\\\\snippets_menu\\\\snippets_submenus_python\\\\pandas.js -> C:\\\\Users\\\\stepn\\\\anaconda3\\\\share\\\\jupyter\\\\nbextensions\\\\snippets_menu\\\\snippets_submenus_python\\\\pandas.js\\n[I 11:41:37 InstallContribNbextensionsApp] Copying: C:\\\\Users\\\\stepn\\\\anaconda3\\\\lib\\\\site-packages\\\\jupyter_contrib_nbextensions\\\\nbextensions\\\\snippets_menu\\\\snippets_submenus_python\\\\python.js -> C:\\\\Users\\\\stepn\\\\anaconda3\\\\share\\\\jupyter\\\\nbextensions\\\\snippets_menu\\\\snippets_submenus_python\\\\python.js\\n[I 11:41:37 InstallContribNbextensionsApp] Copying: C:\\\\Users\\\\stepn\\\\anaconda3\\\\lib\\\\site-packages\\\\jupyter_contrib_nbextensions\\\\nbextensions\\\\snippets_menu\\\\snippets_submenus_python\\\\python_regex.js -> C:\\\\Users\\\\stepn\\\\anaconda3\\\\share\\\\jupyter\\\\nbextensions\\\\snippets_menu\\\\snippets_submenus_python\\\\python_regex.js\\n[I 11:41:37 InstallContribNbextensionsApp] Copying: C:\\\\Users\\\\stepn\\\\anaconda3\\\\lib\\\\site-packages\\\\jupyter_contrib_nbextensions\\\\nbextensions\\\\snippets_menu\\\\snippets_submenus_python\\\\scipy.js -> C:\\\\Users\\\\stepn\\\\anaconda3\\\\share\\\\jupyter\\\\nbextensions\\\\snippets_menu\\\\snippets_submenus_python\\\\scipy.js\\n[I 11:41:37 InstallContribNbextensionsApp] Copying: C:\\\\Users\\\\stepn\\\\anaconda3\\\\lib\\\\site-packages\\\\jupyter_contrib_nbextensions\\\\nbextensions\\\\snippets_menu\\\\snippets_submenus_python\\\\scipy_constants.js -> C:\\\\Users\\\\stepn\\\\anaconda3\\\\share\\\\jupyter\\\\nbextensions\\\\snippets_menu\\\\snippets_submenus_python\\\\scipy_constants.js\\n[I 11:41:37 InstallContribNbextensionsApp] Copying: C:\\\\Users\\\\stepn\\\\anaconda3\\\\lib\\\\site-packages\\\\jupyter_contrib_nbextensions\\\\nbextensions\\\\snippets_menu\\\\snippets_submenus_python\\\\scipy_special.js -> C:\\\\Users\\\\stepn\\\\anaconda3\\\\share\\\\jupyter\\\\nbextensions\\\\snippets_menu\\\\snippets_submenus_python\\\\scipy_special.js\\n[I 11:41:37 InstallContribNbextensionsApp] Copying: C:\\\\Users\\\\stepn\\\\anaconda3\\\\lib\\\\site-packages\\\\jupyter_contrib_nbextensions\\\\nbextensions\\\\snippets_menu\\\\snippets_submenus_python\\\\sympy.js -> C:\\\\Users\\\\stepn\\\\anaconda3\\\\share\\\\jupyter\\\\nbextensions\\\\snippets_menu\\\\snippets_submenus_python\\\\sympy.js\\n[I 11:41:37 InstallContribNbextensionsApp] Copying: C:\\\\Users\\\\stepn\\\\anaconda3\\\\lib\\\\site-packages\\\\jupyter_contrib_nbextensions\\\\nbextensions\\\\snippets_menu\\\\snippets_submenus_python\\\\sympy_assumptions.js -> C:\\\\Users\\\\stepn\\\\anaconda3\\\\share\\\\jupyter\\\\nbextensions\\\\snippets_menu\\\\snippets_submenus_python\\\\sympy_assumptions.js\\n[I 11:41:37 InstallContribNbextensionsApp] Copying: C:\\\\Users\\\\stepn\\\\anaconda3\\\\lib\\\\site-packages\\\\jupyter_contrib_nbextensions\\\\nbextensions\\\\snippets_menu\\\\snippets_submenus_python\\\\sympy_functions.js -> C:\\\\Users\\\\stepn\\\\anaconda3\\\\share\\\\jupyter\\\\nbextensions\\\\snippets_menu\\\\snippets_submenus_python\\\\sympy_functions.js\\n[I 11:41:37 InstallContribNbextensionsApp] - Validating: ok\\n[I 11:41:37 InstallContribNbextensionsApp] Installing C:\\\\Users\\\\stepn\\\\anaconda3\\\\lib\\\\site-packages\\\\jupyter_contrib_nbextensions\\\\nbextensions\\\\spellchecker -> spellchecker\\n[I 11:41:37 InstallContribNbextensionsApp] Making directory: C:\\\\Users\\\\stepn\\\\anaconda3\\\\share\\\\jupyter\\\\nbextensions\\\\spellchecker\\\\\\n[I 11:41:37 InstallContribNbextensionsApp] Copying: C:\\\\Users\\\\stepn\\\\anaconda3\\\\lib\\\\site-packages\\\\jupyter_contrib_nbextensions\\\\nbextensions\\\\spellchecker\\\\config.yaml -> C:\\\\Users\\\\stepn\\\\anaconda3\\\\share\\\\jupyter\\\\nbextensions\\\\spellchecker\\\\config.yaml\\n[I 11:41:37 InstallContribNbextensionsApp] Copying: C:\\\\Users\\\\stepn\\\\anaconda3\\\\lib\\\\site-packages\\\\jupyter_contrib_nbextensions\\\\nbextensions\\\\spellchecker\\\\download_new_dict.py -> C:\\\\Users\\\\stepn\\\\anaconda3\\\\share\\\\jupyter\\\\nbextensions\\\\spellchecker\\\\download_new_dict.py\\n[I 11:41:37 InstallContribNbextensionsApp] Copying: C:\\\\Users\\\\stepn\\\\anaconda3\\\\lib\\\\site-packages\\\\jupyter_contrib_nbextensions\\\\nbextensions\\\\spellchecker\\\\main.css -> C:\\\\Users\\\\stepn\\\\anaconda3\\\\share\\\\jupyter\\\\nbextensions\\\\spellchecker\\\\main.css\\n[I 11:41:37 InstallContribNbextensionsApp] Copying: C:\\\\Users\\\\stepn\\\\anaconda3\\\\lib\\\\site-packages\\\\jupyter_contrib_nbextensions\\\\nbextensions\\\\spellchecker\\\\main.js -> C:\\\\Users\\\\stepn\\\\anaconda3\\\\share\\\\jupyter\\\\nbextensions\\\\spellchecker\\\\main.js\\n[I 11:41:37 InstallContribNbextensionsApp] Copying: C:\\\\Users\\\\stepn\\\\anaconda3\\\\lib\\\\site-packages\\\\jupyter_contrib_nbextensions\\\\nbextensions\\\\spellchecker\\\\README.md -> C:\\\\Users\\\\stepn\\\\anaconda3\\\\share\\\\jupyter\\\\nbextensions\\\\spellchecker\\\\README.md\\n[I 11:41:37 InstallContribNbextensionsApp] Copying: C:\\\\Users\\\\stepn\\\\anaconda3\\\\lib\\\\site-packages\\\\jupyter_contrib_nbextensions\\\\nbextensions\\\\spellchecker\\\\screenshot.png -> C:\\\\Users\\\\stepn\\\\anaconda3\\\\share\\\\jupyter\\\\nbextensions\\\\spellchecker\\\\screenshot.png\\n[I 11:41:37 InstallContribNbextensionsApp] Making directory: C:\\\\Users\\\\stepn\\\\anaconda3\\\\share\\\\jupyter\\\\nbextensions\\\\spellchecker\\\\typo\\n[I 11:41:37 InstallContribNbextensionsApp] Copying: C:\\\\Users\\\\stepn\\\\anaconda3\\\\lib\\\\site-packages\\\\jupyter_contrib_nbextensions\\\\nbextensions\\\\spellchecker\\\\typo\\\\LICENSE.txt -> C:\\\\Users\\\\stepn\\\\anaconda3\\\\share\\\\jupyter\\\\nbextensions\\\\spellchecker\\\\typo\\\\LICENSE.txt\\n[I 11:41:37 InstallContribNbextensionsApp] Copying: C:\\\\Users\\\\stepn\\\\anaconda3\\\\lib\\\\site-packages\\\\jupyter_contrib_nbextensions\\\\nbextensions\\\\spellchecker\\\\typo\\\\typo.js -> C:\\\\Users\\\\stepn\\\\anaconda3\\\\share\\\\jupyter\\\\nbextensions\\\\spellchecker\\\\typo\\\\typo.js\\n[I 11:41:37 InstallContribNbextensionsApp] Making directory: C:\\\\Users\\\\stepn\\\\anaconda3\\\\share\\\\jupyter\\\\nbextensions\\\\spellchecker\\\\__pycache__\\n[I 11:41:37 InstallContribNbextensionsApp] Copying: C:\\\\Users\\\\stepn\\\\anaconda3\\\\lib\\\\site-packages\\\\jupyter_contrib_nbextensions\\\\nbextensions\\\\spellchecker\\\\__pycache__\\\\download_new_dict.cpython-37.pyc -> C:\\\\Users\\\\stepn\\\\anaconda3\\\\share\\\\jupyter\\\\nbextensions\\\\spellchecker\\\\__pycache__\\\\download_new_dict.cpython-37.pyc\\n[I 11:41:37 InstallContribNbextensionsApp] - Validating: ok\\n[I 11:41:37 InstallContribNbextensionsApp] Installing C:\\\\Users\\\\stepn\\\\anaconda3\\\\lib\\\\site-packages\\\\jupyter_contrib_nbextensions\\\\nbextensions\\\\splitcell -> splitcell\\n[I 11:41:37 InstallContribNbextensionsApp] Making directory: C:\\\\Users\\\\stepn\\\\anaconda3\\\\share\\\\jupyter\\\\nbextensions\\\\splitcell\\\\\\n[I 11:41:37 InstallContribNbextensionsApp] Copying: C:\\\\Users\\\\stepn\\\\anaconda3\\\\lib\\\\site-packages\\\\jupyter_contrib_nbextensions\\\\nbextensions\\\\splitcell\\\\icon.png -> C:\\\\Users\\\\stepn\\\\anaconda3\\\\share\\\\jupyter\\\\nbextensions\\\\splitcell\\\\icon.png\\n[I 11:41:37 InstallContribNbextensionsApp] Copying: C:\\\\Users\\\\stepn\\\\anaconda3\\\\lib\\\\site-packages\\\\jupyter_contrib_nbextensions\\\\nbextensions\\\\splitcell\\\\readme.md -> C:\\\\Users\\\\stepn\\\\anaconda3\\\\share\\\\jupyter\\\\nbextensions\\\\splitcell\\\\readme.md\\n[I 11:41:37 InstallContribNbextensionsApp] Copying: C:\\\\Users\\\\stepn\\\\anaconda3\\\\lib\\\\site-packages\\\\jupyter_contrib_nbextensions\\\\nbextensions\\\\splitcell\\\\splitcell.js -> C:\\\\Users\\\\stepn\\\\anaconda3\\\\share\\\\jupyter\\\\nbextensions\\\\splitcell\\\\splitcell.js\\n[I 11:41:37 InstallContribNbextensionsApp] Copying: C:\\\\Users\\\\stepn\\\\anaconda3\\\\lib\\\\site-packages\\\\jupyter_contrib_nbextensions\\\\nbextensions\\\\splitcell\\\\splitcell.yaml -> C:\\\\Users\\\\stepn\\\\anaconda3\\\\share\\\\jupyter\\\\nbextensions\\\\splitcell\\\\splitcell.yaml\\n[I 11:41:37 InstallContribNbextensionsApp] - Validating: ok\\n[I 11:41:37 InstallContribNbextensionsApp] Installing C:\\\\Users\\\\stepn\\\\anaconda3\\\\lib\\\\site-packages\\\\jupyter_contrib_nbextensions\\\\nbextensions\\\\table_beautifier -> table_beautifier\\n[I 11:41:37 InstallContribNbextensionsApp] Making directory: C:\\\\Users\\\\stepn\\\\anaconda3\\\\share\\\\jupyter\\\\nbextensions\\\\table_beautifier\\\\\\n[I 11:41:37 InstallContribNbextensionsApp] Copying: C:\\\\Users\\\\stepn\\\\anaconda3\\\\lib\\\\site-packages\\\\jupyter_contrib_nbextensions\\\\nbextensions\\\\table_beautifier\\\\main.css -> C:\\\\Users\\\\stepn\\\\anaconda3\\\\share\\\\jupyter\\\\nbextensions\\\\table_beautifier\\\\main.css\\n[I 11:41:37 InstallContribNbextensionsApp] Copying: C:\\\\Users\\\\stepn\\\\anaconda3\\\\lib\\\\site-packages\\\\jupyter_contrib_nbextensions\\\\nbextensions\\\\table_beautifier\\\\main.js -> C:\\\\Users\\\\stepn\\\\anaconda3\\\\share\\\\jupyter\\\\nbextensions\\\\table_beautifier\\\\main.js\\n[I 11:41:37 InstallContribNbextensionsApp] Copying: C:\\\\Users\\\\stepn\\\\anaconda3\\\\lib\\\\site-packages\\\\jupyter_contrib_nbextensions\\\\nbextensions\\\\table_beautifier\\\\README.md -> C:\\\\Users\\\\stepn\\\\anaconda3\\\\share\\\\jupyter\\\\nbextensions\\\\table_beautifier\\\\README.md\\n[I 11:41:37 InstallContribNbextensionsApp] Copying: C:\\\\Users\\\\stepn\\\\anaconda3\\\\lib\\\\site-packages\\\\jupyter_contrib_nbextensions\\\\nbextensions\\\\table_beautifier\\\\table_beautifier.yaml -> C:\\\\Users\\\\stepn\\\\anaconda3\\\\share\\\\jupyter\\\\nbextensions\\\\table_beautifier\\\\table_beautifier.yaml\\n[I 11:41:37 InstallContribNbextensionsApp] - Validating: ok\\n[I 11:41:37 InstallContribNbextensionsApp] Installing C:\\\\Users\\\\stepn\\\\anaconda3\\\\lib\\\\site-packages\\\\jupyter_contrib_nbextensions\\\\nbextensions\\\\toc2 -> toc2\\n[I 11:41:37 InstallContribNbextensionsApp] Making directory: C:\\\\Users\\\\stepn\\\\anaconda3\\\\share\\\\jupyter\\\\nbextensions\\\\toc2\\\\\\n[I 11:41:37 InstallContribNbextensionsApp] Copying: C:\\\\Users\\\\stepn\\\\anaconda3\\\\lib\\\\site-packages\\\\jupyter_contrib_nbextensions\\\\nbextensions\\\\toc2\\\\demo.gif -> C:\\\\Users\\\\stepn\\\\anaconda3\\\\share\\\\jupyter\\\\nbextensions\\\\toc2\\\\demo.gif\\n[I 11:41:37 InstallContribNbextensionsApp] Copying: C:\\\\Users\\\\stepn\\\\anaconda3\\\\lib\\\\site-packages\\\\jupyter_contrib_nbextensions\\\\nbextensions\\\\toc2\\\\demo2.gif -> C:\\\\Users\\\\stepn\\\\anaconda3\\\\share\\\\jupyter\\\\nbextensions\\\\toc2\\\\demo2.gif\\n[I 11:41:37 InstallContribNbextensionsApp] Copying: C:\\\\Users\\\\stepn\\\\anaconda3\\\\lib\\\\site-packages\\\\jupyter_contrib_nbextensions\\\\nbextensions\\\\toc2\\\\demo3.gif -> C:\\\\Users\\\\stepn\\\\anaconda3\\\\share\\\\jupyter\\\\nbextensions\\\\toc2\\\\demo3.gif\\n[I 11:41:37 InstallContribNbextensionsApp] Copying: C:\\\\Users\\\\stepn\\\\anaconda3\\\\lib\\\\site-packages\\\\jupyter_contrib_nbextensions\\\\nbextensions\\\\toc2\\\\demo_dark.png -> C:\\\\Users\\\\stepn\\\\anaconda3\\\\share\\\\jupyter\\\\nbextensions\\\\toc2\\\\demo_dark.png\\n[I 11:41:37 InstallContribNbextensionsApp] Copying: C:\\\\Users\\\\stepn\\\\anaconda3\\\\lib\\\\site-packages\\\\jupyter_contrib_nbextensions\\\\nbextensions\\\\toc2\\\\icon.png -> C:\\\\Users\\\\stepn\\\\anaconda3\\\\share\\\\jupyter\\\\nbextensions\\\\toc2\\\\icon.png\\n[I 11:41:37 InstallContribNbextensionsApp] Copying: C:\\\\Users\\\\stepn\\\\anaconda3\\\\lib\\\\site-packages\\\\jupyter_contrib_nbextensions\\\\nbextensions\\\\toc2\\\\image.png -> C:\\\\Users\\\\stepn\\\\anaconda3\\\\share\\\\jupyter\\\\nbextensions\\\\toc2\\\\image.png\\n[I 11:41:37 InstallContribNbextensionsApp] Copying: C:\\\\Users\\\\stepn\\\\anaconda3\\\\lib\\\\site-packages\\\\jupyter_contrib_nbextensions\\\\nbextensions\\\\toc2\\\\main.css -> C:\\\\Users\\\\stepn\\\\anaconda3\\\\share\\\\jupyter\\\\nbextensions\\\\toc2\\\\main.css\\n[I 11:41:37 InstallContribNbextensionsApp] Copying: C:\\\\Users\\\\stepn\\\\anaconda3\\\\lib\\\\site-packages\\\\jupyter_contrib_nbextensions\\\\nbextensions\\\\toc2\\\\main.js -> C:\\\\Users\\\\stepn\\\\anaconda3\\\\share\\\\jupyter\\\\nbextensions\\\\toc2\\\\main.js\\n[I 11:41:37 InstallContribNbextensionsApp] Copying: C:\\\\Users\\\\stepn\\\\anaconda3\\\\lib\\\\site-packages\\\\jupyter_contrib_nbextensions\\\\nbextensions\\\\toc2\\\\README.md -> C:\\\\Users\\\\stepn\\\\anaconda3\\\\share\\\\jupyter\\\\nbextensions\\\\toc2\\\\README.md\\n[I 11:41:37 InstallContribNbextensionsApp] Copying: C:\\\\Users\\\\stepn\\\\anaconda3\\\\lib\\\\site-packages\\\\jupyter_contrib_nbextensions\\\\nbextensions\\\\toc2\\\\toc2.js -> C:\\\\Users\\\\stepn\\\\anaconda3\\\\share\\\\jupyter\\\\nbextensions\\\\toc2\\\\toc2.js\\n[I 11:41:37 InstallContribNbextensionsApp] Copying: C:\\\\Users\\\\stepn\\\\anaconda3\\\\lib\\\\site-packages\\\\jupyter_contrib_nbextensions\\\\nbextensions\\\\toc2\\\\toc2.yaml -> C:\\\\Users\\\\stepn\\\\anaconda3\\\\share\\\\jupyter\\\\nbextensions\\\\toc2\\\\toc2.yaml\\n[I 11:41:37 InstallContribNbextensionsApp] - Validating: ok\\n[I 11:41:37 InstallContribNbextensionsApp] Installing C:\\\\Users\\\\stepn\\\\anaconda3\\\\lib\\\\site-packages\\\\jupyter_contrib_nbextensions\\\\nbextensions\\\\toggle_all_line_numbers -> toggle_all_line_numbers\\n[I 11:41:37 InstallContribNbextensionsApp] Making directory: C:\\\\Users\\\\stepn\\\\anaconda3\\\\share\\\\jupyter\\\\nbextensions\\\\toggle_all_line_numbers\\\\\\n[I 11:41:37 InstallContribNbextensionsApp] Copying: C:\\\\Users\\\\stepn\\\\anaconda3\\\\lib\\\\site-packages\\\\jupyter_contrib_nbextensions\\\\nbextensions\\\\toggle_all_line_numbers\\\\icon.png -> C:\\\\Users\\\\stepn\\\\anaconda3\\\\share\\\\jupyter\\\\nbextensions\\\\toggle_all_line_numbers\\\\icon.png\\n[I 11:41:37 InstallContribNbextensionsApp] Copying: C:\\\\Users\\\\stepn\\\\anaconda3\\\\lib\\\\site-packages\\\\jupyter_contrib_nbextensions\\\\nbextensions\\\\toggle_all_line_numbers\\\\main.js -> C:\\\\Users\\\\stepn\\\\anaconda3\\\\share\\\\jupyter\\\\nbextensions\\\\toggle_all_line_numbers\\\\main.js\\n[I 11:41:37 InstallContribNbextensionsApp] Copying: C:\\\\Users\\\\stepn\\\\anaconda3\\\\lib\\\\site-packages\\\\jupyter_contrib_nbextensions\\\\nbextensions\\\\toggle_all_line_numbers\\\\main.yaml -> C:\\\\Users\\\\stepn\\\\anaconda3\\\\share\\\\jupyter\\\\nbextensions\\\\toggle_all_line_numbers\\\\main.yaml\\n[I 11:41:37 InstallContribNbextensionsApp] Copying: C:\\\\Users\\\\stepn\\\\anaconda3\\\\lib\\\\site-packages\\\\jupyter_contrib_nbextensions\\\\nbextensions\\\\toggle_all_line_numbers\\\\readme.md -> C:\\\\Users\\\\stepn\\\\anaconda3\\\\share\\\\jupyter\\\\nbextensions\\\\toggle_all_line_numbers\\\\readme.md\\n[I 11:41:37 InstallContribNbextensionsApp] - Validating: ok\\n[I 11:41:37 InstallContribNbextensionsApp] Installing C:\\\\Users\\\\stepn\\\\anaconda3\\\\lib\\\\site-packages\\\\jupyter_contrib_nbextensions\\\\nbextensions\\\\tree-filter -> tree-filter\\n[I 11:41:37 InstallContribNbextensionsApp] Making directory: C:\\\\Users\\\\stepn\\\\anaconda3\\\\share\\\\jupyter\\\\nbextensions\\\\tree-filter\\\\\\n[I 11:41:37 InstallContribNbextensionsApp] Copying: C:\\\\Users\\\\stepn\\\\anaconda3\\\\lib\\\\site-packages\\\\jupyter_contrib_nbextensions\\\\nbextensions\\\\tree-filter\\\\demo.gif -> C:\\\\Users\\\\stepn\\\\anaconda3\\\\share\\\\jupyter\\\\nbextensions\\\\tree-filter\\\\demo.gif\\n[I 11:41:37 InstallContribNbextensionsApp] Copying: C:\\\\Users\\\\stepn\\\\anaconda3\\\\lib\\\\site-packages\\\\jupyter_contrib_nbextensions\\\\nbextensions\\\\tree-filter\\\\index.js -> C:\\\\Users\\\\stepn\\\\anaconda3\\\\share\\\\jupyter\\\\nbextensions\\\\tree-filter\\\\index.js\\n[I 11:41:37 InstallContribNbextensionsApp] Copying: C:\\\\Users\\\\stepn\\\\anaconda3\\\\lib\\\\site-packages\\\\jupyter_contrib_nbextensions\\\\nbextensions\\\\tree-filter\\\\readme.md -> C:\\\\Users\\\\stepn\\\\anaconda3\\\\share\\\\jupyter\\\\nbextensions\\\\tree-filter\\\\readme.md\\n[I 11:41:37 InstallContribNbextensionsApp] Copying: C:\\\\Users\\\\stepn\\\\anaconda3\\\\lib\\\\site-packages\\\\jupyter_contrib_nbextensions\\\\nbextensions\\\\tree-filter\\\\tree-filter.yaml -> C:\\\\Users\\\\stepn\\\\anaconda3\\\\share\\\\jupyter\\\\nbextensions\\\\tree-filter\\\\tree-filter.yaml\\n[I 11:41:37 InstallContribNbextensionsApp] - Validating: ok\\n[I 11:41:37 InstallContribNbextensionsApp] Installing C:\\\\Users\\\\stepn\\\\anaconda3\\\\lib\\\\site-packages\\\\jupyter_contrib_nbextensions\\\\nbextensions\\\\varInspector -> varInspector\\n[I 11:41:37 InstallContribNbextensionsApp] Making directory: C:\\\\Users\\\\stepn\\\\anaconda3\\\\share\\\\jupyter\\\\nbextensions\\\\varInspector\\\\\\n[I 11:41:37 InstallContribNbextensionsApp] Copying: C:\\\\Users\\\\stepn\\\\anaconda3\\\\lib\\\\site-packages\\\\jupyter_contrib_nbextensions\\\\nbextensions\\\\varInspector\\\\demo.gif -> C:\\\\Users\\\\stepn\\\\anaconda3\\\\share\\\\jupyter\\\\nbextensions\\\\varInspector\\\\demo.gif\\n[I 11:41:37 InstallContribNbextensionsApp] Copying: C:\\\\Users\\\\stepn\\\\anaconda3\\\\lib\\\\site-packages\\\\jupyter_contrib_nbextensions\\\\nbextensions\\\\varInspector\\\\icon.png -> C:\\\\Users\\\\stepn\\\\anaconda3\\\\share\\\\jupyter\\\\nbextensions\\\\varInspector\\\\icon.png\\n[I 11:41:37 InstallContribNbextensionsApp] Copying: C:\\\\Users\\\\stepn\\\\anaconda3\\\\lib\\\\site-packages\\\\jupyter_contrib_nbextensions\\\\nbextensions\\\\varInspector\\\\jquery.tablesorter.min.js -> C:\\\\Users\\\\stepn\\\\anaconda3\\\\share\\\\jupyter\\\\nbextensions\\\\varInspector\\\\jquery.tablesorter.min.js\\n[I 11:41:37 InstallContribNbextensionsApp] Copying: C:\\\\Users\\\\stepn\\\\anaconda3\\\\lib\\\\site-packages\\\\jupyter_contrib_nbextensions\\\\nbextensions\\\\varInspector\\\\main.css -> C:\\\\Users\\\\stepn\\\\anaconda3\\\\share\\\\jupyter\\\\nbextensions\\\\varInspector\\\\main.css\\n[I 11:41:37 InstallContribNbextensionsApp] Copying: C:\\\\Users\\\\stepn\\\\anaconda3\\\\lib\\\\site-packages\\\\jupyter_contrib_nbextensions\\\\nbextensions\\\\varInspector\\\\main.js -> C:\\\\Users\\\\stepn\\\\anaconda3\\\\share\\\\jupyter\\\\nbextensions\\\\varInspector\\\\main.js\\n[I 11:41:37 InstallContribNbextensionsApp] Copying: C:\\\\Users\\\\stepn\\\\anaconda3\\\\lib\\\\site-packages\\\\jupyter_contrib_nbextensions\\\\nbextensions\\\\varInspector\\\\README.md -> C:\\\\Users\\\\stepn\\\\anaconda3\\\\share\\\\jupyter\\\\nbextensions\\\\varInspector\\\\README.md\\n[I 11:41:37 InstallContribNbextensionsApp] Copying: C:\\\\Users\\\\stepn\\\\anaconda3\\\\lib\\\\site-packages\\\\jupyter_contrib_nbextensions\\\\nbextensions\\\\varInspector\\\\tablesorter_LICENSE.txt -> C:\\\\Users\\\\stepn\\\\anaconda3\\\\share\\\\jupyter\\\\nbextensions\\\\varInspector\\\\tablesorter_LICENSE.txt\\n[I 11:41:37 InstallContribNbextensionsApp] Copying: C:\\\\Users\\\\stepn\\\\anaconda3\\\\lib\\\\site-packages\\\\jupyter_contrib_nbextensions\\\\nbextensions\\\\varInspector\\\\varInspector.yaml -> C:\\\\Users\\\\stepn\\\\anaconda3\\\\share\\\\jupyter\\\\nbextensions\\\\varInspector\\\\varInspector.yaml\\n[I 11:41:37 InstallContribNbextensionsApp] Copying: C:\\\\Users\\\\stepn\\\\anaconda3\\\\lib\\\\site-packages\\\\jupyter_contrib_nbextensions\\\\nbextensions\\\\varInspector\\\\var_list.py -> C:\\\\Users\\\\stepn\\\\anaconda3\\\\share\\\\jupyter\\\\nbextensions\\\\varInspector\\\\var_list.py\\n[I 11:41:37 InstallContribNbextensionsApp] Copying: C:\\\\Users\\\\stepn\\\\anaconda3\\\\lib\\\\site-packages\\\\jupyter_contrib_nbextensions\\\\nbextensions\\\\varInspector\\\\var_list.r -> C:\\\\Users\\\\stepn\\\\anaconda3\\\\share\\\\jupyter\\\\nbextensions\\\\varInspector\\\\var_list.r\\n[I 11:41:37 InstallContribNbextensionsApp] Making directory: C:\\\\Users\\\\stepn\\\\anaconda3\\\\share\\\\jupyter\\\\nbextensions\\\\varInspector\\\\__pycache__\\n[I 11:41:37 InstallContribNbextensionsApp] Copying: C:\\\\Users\\\\stepn\\\\anaconda3\\\\lib\\\\site-packages\\\\jupyter_contrib_nbextensions\\\\nbextensions\\\\varInspector\\\\__pycache__\\\\var_list.cpython-37.pyc -> C:\\\\Users\\\\stepn\\\\anaconda3\\\\share\\\\jupyter\\\\nbextensions\\\\varInspector\\\\__pycache__\\\\var_list.cpython-37.pyc\\n[I 11:41:37 InstallContribNbextensionsApp] - Validating: ok\\n[I 11:41:37 InstallContribNbextensionsApp] Installing C:\\\\Users\\\\stepn\\\\anaconda3\\\\lib\\\\site-packages\\\\jupyter_contrib_nbextensions\\\\nbextensions\\\\zenmode -> zenmode\\n[I 11:41:37 InstallContribNbextensionsApp] Making directory: C:\\\\Users\\\\stepn\\\\anaconda3\\\\share\\\\jupyter\\\\nbextensions\\\\zenmode\\\\\\n[I 11:41:37 InstallContribNbextensionsApp] Copying: C:\\\\Users\\\\stepn\\\\anaconda3\\\\lib\\\\site-packages\\\\jupyter_contrib_nbextensions\\\\nbextensions\\\\zenmode\\\\main.css -> C:\\\\Users\\\\stepn\\\\anaconda3\\\\share\\\\jupyter\\\\nbextensions\\\\zenmode\\\\main.css\\n[I 11:41:37 InstallContribNbextensionsApp] Copying: C:\\\\Users\\\\stepn\\\\anaconda3\\\\lib\\\\site-packages\\\\jupyter_contrib_nbextensions\\\\nbextensions\\\\zenmode\\\\main.js -> C:\\\\Users\\\\stepn\\\\anaconda3\\\\share\\\\jupyter\\\\nbextensions\\\\zenmode\\\\main.js\\n[I 11:41:37 InstallContribNbextensionsApp] Copying: C:\\\\Users\\\\stepn\\\\anaconda3\\\\lib\\\\site-packages\\\\jupyter_contrib_nbextensions\\\\nbextensions\\\\zenmode\\\\README.md -> C:\\\\Users\\\\stepn\\\\anaconda3\\\\share\\\\jupyter\\\\nbextensions\\\\zenmode\\\\README.md\\n[I 11:41:37 InstallContribNbextensionsApp] Copying: C:\\\\Users\\\\stepn\\\\anaconda3\\\\lib\\\\site-packages\\\\jupyter_contrib_nbextensions\\\\nbextensions\\\\zenmode\\\\zenmode.yaml -> C:\\\\Users\\\\stepn\\\\anaconda3\\\\share\\\\jupyter\\\\nbextensions\\\\zenmode\\\\zenmode.yaml\\n[I 11:41:37 InstallContribNbextensionsApp] Making directory: C:\\\\Users\\\\stepn\\\\anaconda3\\\\share\\\\jupyter\\\\nbextensions\\\\zenmode\\\\images\\n[I 11:41:37 InstallContribNbextensionsApp] Copying: C:\\\\Users\\\\stepn\\\\anaconda3\\\\lib\\\\site-packages\\\\jupyter_contrib_nbextensions\\\\nbextensions\\\\zenmode\\\\images\\\\back1.jpg -> C:\\\\Users\\\\stepn\\\\anaconda3\\\\share\\\\jupyter\\\\nbextensions\\\\zenmode\\\\images\\\\back1.jpg\\n[I 11:41:37 InstallContribNbextensionsApp] Copying: C:\\\\Users\\\\stepn\\\\anaconda3\\\\lib\\\\site-packages\\\\jupyter_contrib_nbextensions\\\\nbextensions\\\\zenmode\\\\images\\\\back11.jpg -> C:\\\\Users\\\\stepn\\\\anaconda3\\\\share\\\\jupyter\\\\nbextensions\\\\zenmode\\\\images\\\\back11.jpg\\n[I 11:41:37 InstallContribNbextensionsApp] Copying: C:\\\\Users\\\\stepn\\\\anaconda3\\\\lib\\\\site-packages\\\\jupyter_contrib_nbextensions\\\\nbextensions\\\\zenmode\\\\images\\\\back12.jpg -> C:\\\\Users\\\\stepn\\\\anaconda3\\\\share\\\\jupyter\\\\nbextensions\\\\zenmode\\\\images\\\\back12.jpg\\n[I 11:41:37 InstallContribNbextensionsApp] Copying: C:\\\\Users\\\\stepn\\\\anaconda3\\\\lib\\\\site-packages\\\\jupyter_contrib_nbextensions\\\\nbextensions\\\\zenmode\\\\images\\\\back2.jpg -> C:\\\\Users\\\\stepn\\\\anaconda3\\\\share\\\\jupyter\\\\nbextensions\\\\zenmode\\\\images\\\\back2.jpg\\n[I 11:41:37 InstallContribNbextensionsApp] Copying: C:\\\\Users\\\\stepn\\\\anaconda3\\\\lib\\\\site-packages\\\\jupyter_contrib_nbextensions\\\\nbextensions\\\\zenmode\\\\images\\\\back21.jpg -> C:\\\\Users\\\\stepn\\\\anaconda3\\\\share\\\\jupyter\\\\nbextensions\\\\zenmode\\\\images\\\\back21.jpg\\n[I 11:41:37 InstallContribNbextensionsApp] Copying: C:\\\\Users\\\\stepn\\\\anaconda3\\\\lib\\\\site-packages\\\\jupyter_contrib_nbextensions\\\\nbextensions\\\\zenmode\\\\images\\\\back22.jpg -> C:\\\\Users\\\\stepn\\\\anaconda3\\\\share\\\\jupyter\\\\nbextensions\\\\zenmode\\\\images\\\\back22.jpg\\n[I 11:41:37 InstallContribNbextensionsApp] Copying: C:\\\\Users\\\\stepn\\\\anaconda3\\\\lib\\\\site-packages\\\\jupyter_contrib_nbextensions\\\\nbextensions\\\\zenmode\\\\images\\\\back3.jpg -> C:\\\\Users\\\\stepn\\\\anaconda3\\\\share\\\\jupyter\\\\nbextensions\\\\zenmode\\\\images\\\\back3.jpg\\n[I 11:41:37 InstallContribNbextensionsApp] Copying: C:\\\\Users\\\\stepn\\\\anaconda3\\\\lib\\\\site-packages\\\\jupyter_contrib_nbextensions\\\\nbextensions\\\\zenmode\\\\images\\\\ipynblogo0.png -> C:\\\\Users\\\\stepn\\\\anaconda3\\\\share\\\\jupyter\\\\nbextensions\\\\zenmode\\\\images\\\\ipynblogo0.png\\n[I 11:41:37 InstallContribNbextensionsApp] Copying: C:\\\\Users\\\\stepn\\\\anaconda3\\\\lib\\\\site-packages\\\\jupyter_contrib_nbextensions\\\\nbextensions\\\\zenmode\\\\images\\\\ipynblogo1.png -> C:\\\\Users\\\\stepn\\\\anaconda3\\\\share\\\\jupyter\\\\nbextensions\\\\zenmode\\\\images\\\\ipynblogo1.png\\n[I 11:41:37 InstallContribNbextensionsApp] - Validating: ok\\n[I 11:41:37 InstallContribNbextensionsApp] Installing C:\\\\Users\\\\stepn\\\\anaconda3\\\\lib\\\\site-packages\\\\jupyter_highlight_selected_word\\\\static\\\\highlight_selected_word -> highlight_selected_word\\n[I 11:41:37 InstallContribNbextensionsApp] Up to date: C:\\\\Users\\\\stepn\\\\anaconda3\\\\share\\\\jupyter\\\\nbextensions\\\\highlight_selected_word\\\\configurator.yaml\\n[I 11:41:37 InstallContribNbextensionsApp] Up to date: C:\\\\Users\\\\stepn\\\\anaconda3\\\\share\\\\jupyter\\\\nbextensions\\\\highlight_selected_word\\\\main.js\\n[I 11:41:37 InstallContribNbextensionsApp] Up to date: C:\\\\Users\\\\stepn\\\\anaconda3\\\\share\\\\jupyter\\\\nbextensions\\\\highlight_selected_word\\\\README.md\\n[I 11:41:37 InstallContribNbextensionsApp] - Validating: ok\\n[I 11:41:37 InstallContribNbextensionsApp] Installing C:\\\\Users\\\\stepn\\\\anaconda3\\\\lib\\\\site-packages\\\\latex_envs\\\\static -> latex_envs\\n[I 11:41:37 InstallContribNbextensionsApp] Up to date: C:\\\\Users\\\\stepn\\\\anaconda3\\\\share\\\\jupyter\\\\nbextensions\\\\latex_envs\\\\bibInNb4.js\\n[I 11:41:37 InstallContribNbextensionsApp] Up to date: C:\\\\Users\\\\stepn\\\\anaconda3\\\\share\\\\jupyter\\\\nbextensions\\\\latex_envs\\\\bibtex2.js\\n[I 11:41:37 InstallContribNbextensionsApp] Up to date: C:\\\\Users\\\\stepn\\\\anaconda3\\\\share\\\\jupyter\\\\nbextensions\\\\latex_envs\\\\configuration_toolbar.png\\n[I 11:41:37 InstallContribNbextensionsApp] Up to date: C:\\\\Users\\\\stepn\\\\anaconda3\\\\share\\\\jupyter\\\\nbextensions\\\\latex_envs\\\\envsLatex.js\\n[I 11:41:37 InstallContribNbextensionsApp] Up to date: C:\\\\Users\\\\stepn\\\\anaconda3\\\\share\\\\jupyter\\\\nbextensions\\\\latex_envs\\\\envsLatex.json\\n[I 11:41:37 InstallContribNbextensionsApp] Up to date: C:\\\\Users\\\\stepn\\\\anaconda3\\\\share\\\\jupyter\\\\nbextensions\\\\latex_envs\\\\example.png\\n[I 11:41:37 InstallContribNbextensionsApp] Up to date: C:\\\\Users\\\\stepn\\\\anaconda3\\\\share\\\\jupyter\\\\nbextensions\\\\latex_envs\\\\example_user_envs.json\\n[I 11:41:37 InstallContribNbextensionsApp] Up to date: C:\\\\Users\\\\stepn\\\\anaconda3\\\\share\\\\jupyter\\\\nbextensions\\\\latex_envs\\\\icon.png\\n[I 11:41:37 InstallContribNbextensionsApp] Up to date: C:\\\\Users\\\\stepn\\\\anaconda3\\\\share\\\\jupyter\\\\nbextensions\\\\latex_envs\\\\initNb.js\\n[I 11:41:37 InstallContribNbextensionsApp] Up to date: C:\\\\Users\\\\stepn\\\\anaconda3\\\\share\\\\jupyter\\\\nbextensions\\\\latex_envs\\\\latex_envs.css\\n[I 11:41:37 InstallContribNbextensionsApp] Up to date: C:\\\\Users\\\\stepn\\\\anaconda3\\\\share\\\\jupyter\\\\nbextensions\\\\latex_envs\\\\latex_envs.js\\n[I 11:41:37 InstallContribNbextensionsApp] Up to date: C:\\\\Users\\\\stepn\\\\anaconda3\\\\share\\\\jupyter\\\\nbextensions\\\\latex_envs\\\\latex_envs.yaml\\n[I 11:41:37 InstallContribNbextensionsApp] Up to date: C:\\\\Users\\\\stepn\\\\anaconda3\\\\share\\\\jupyter\\\\nbextensions\\\\latex_envs\\\\main_toolbar.png\\n[I 11:41:37 InstallContribNbextensionsApp] Up to date: C:\\\\Users\\\\stepn\\\\anaconda3\\\\share\\\\jupyter\\\\nbextensions\\\\latex_envs\\\\README.md\\n[I 11:41:37 InstallContribNbextensionsApp] Up to date: C:\\\\Users\\\\stepn\\\\anaconda3\\\\share\\\\jupyter\\\\nbextensions\\\\latex_envs\\\\thmsInNb4.js\\n[I 11:41:37 InstallContribNbextensionsApp] Up to date: C:\\\\Users\\\\stepn\\\\anaconda3\\\\share\\\\jupyter\\\\nbextensions\\\\latex_envs\\\\doc\\\\biblio_ipython.bib\\n[I 11:41:37 InstallContribNbextensionsApp] Up to date: C:\\\\Users\\\\stepn\\\\anaconda3\\\\share\\\\jupyter\\\\nbextensions\\\\latex_envs\\\\doc\\\\configuration_toolbar.png\\n[I 11:41:37 InstallContribNbextensionsApp] Up to date: C:\\\\Users\\\\stepn\\\\anaconda3\\\\share\\\\jupyter\\\\nbextensions\\\\latex_envs\\\\doc\\\\config_toolbar.png\\n[I 11:41:37 InstallContribNbextensionsApp] Up to date: C:\\\\Users\\\\stepn\\\\anaconda3\\\\share\\\\jupyter\\\\nbextensions\\\\latex_envs\\\\doc\\\\documentation.pdf\\n[I 11:41:37 InstallContribNbextensionsApp] Up to date: C:\\\\Users\\\\stepn\\\\anaconda3\\\\share\\\\jupyter\\\\nbextensions\\\\latex_envs\\\\doc\\\\documentation.tex\\n[I 11:41:37 InstallContribNbextensionsApp] Up to date: C:\\\\Users\\\\stepn\\\\anaconda3\\\\share\\\\jupyter\\\\nbextensions\\\\latex_envs\\\\doc\\\\example.png\\n[I 11:41:37 InstallContribNbextensionsApp] Up to date: C:\\\\Users\\\\stepn\\\\anaconda3\\\\share\\\\jupyter\\\\nbextensions\\\\latex_envs\\\\doc\\\\header.tex\\n[I 11:41:37 InstallContribNbextensionsApp] Up to date: C:\\\\Users\\\\stepn\\\\anaconda3\\\\share\\\\jupyter\\\\nbextensions\\\\latex_envs\\\\doc\\\\IEEEtran.bst\\n[I 11:41:37 InstallContribNbextensionsApp] Up to date: C:\\\\Users\\\\stepn\\\\anaconda3\\\\share\\\\jupyter\\\\nbextensions\\\\latex_envs\\\\doc\\\\LaTeX_envs_menu.png\\n[I 11:41:37 InstallContribNbextensionsApp] Up to date: C:\\\\Users\\\\stepn\\\\anaconda3\\\\share\\\\jupyter\\\\nbextensions\\\\latex_envs\\\\doc\\\\latex_env_doc.html\\n[I 11:41:37 InstallContribNbextensionsApp] Up to date: C:\\\\Users\\\\stepn\\\\anaconda3\\\\share\\\\jupyter\\\\nbextensions\\\\latex_envs\\\\doc\\\\latex_env_doc.ipynb\\n[I 11:41:37 InstallContribNbextensionsApp] Up to date: C:\\\\Users\\\\stepn\\\\anaconda3\\\\share\\\\jupyter\\\\nbextensions\\\\latex_envs\\\\doc\\\\latex_env_doc.tex\\n[I 11:41:37 InstallContribNbextensionsApp] Up to date: C:\\\\Users\\\\stepn\\\\anaconda3\\\\share\\\\jupyter\\\\nbextensions\\\\latex_envs\\\\doc\\\\main_toolbar.png\\n[I 11:41:37 InstallContribNbextensionsApp] Up to date: C:\\\\Users\\\\stepn\\\\anaconda3\\\\share\\\\jupyter\\\\nbextensions\\\\latex_envs\\\\doc\\\\README.md\\n[I 11:41:37 InstallContribNbextensionsApp] Up to date: C:\\\\Users\\\\stepn\\\\anaconda3\\\\share\\\\jupyter\\\\nbextensions\\\\latex_envs\\\\doc\\\\Toggles.png\\n[I 11:41:37 InstallContribNbextensionsApp] Up to date: C:\\\\Users\\\\stepn\\\\anaconda3\\\\share\\\\jupyter\\\\nbextensions\\\\latex_envs\\\\doc\\\\.ipynb_checkpoints\\\\latex_env_doc-checkpoint.ipynb\\n[I 11:41:37 InstallContribNbextensionsApp] Up to date: C:\\\\Users\\\\stepn\\\\anaconda3\\\\share\\\\jupyter\\\\nbextensions\\\\latex_envs\\\\doc\\\\latex_env_doc_files\\\\latex_env_doc_23_2.png\\n[I 11:41:37 InstallContribNbextensionsApp] Up to date: C:\\\\Users\\\\stepn\\\\anaconda3\\\\share\\\\jupyter\\\\nbextensions\\\\latex_envs\\\\doc\\\\latex_env_doc_files\\\\latex_env_doc_24_2.png\\n[I 11:41:37 InstallContribNbextensionsApp] Up to date: C:\\\\Users\\\\stepn\\\\anaconda3\\\\share\\\\jupyter\\\\nbextensions\\\\latex_envs\\\\doc\\\\latex_env_doc_files\\\\latex_env_doc_26_2.png\\n[I 11:41:37 InstallContribNbextensionsApp] Up to date: C:\\\\Users\\\\stepn\\\\anaconda3\\\\share\\\\jupyter\\\\nbextensions\\\\latex_envs\\\\doc\\\\latex_env_doc_files\\\\latex_env_doc_27_2.png\\n[I 11:41:37 InstallContribNbextensionsApp] Up to date: C:\\\\Users\\\\stepn\\\\anaconda3\\\\share\\\\jupyter\\\\nbextensions\\\\latex_envs\\\\doc\\\\latex_env_doc_files\\\\latex_env_doc_41_0.png\\n[I 11:41:37 InstallContribNbextensionsApp] Up to date: C:\\\\Users\\\\stepn\\\\anaconda3\\\\share\\\\jupyter\\\\nbextensions\\\\latex_envs\\\\doc\\\\latex_env_doc_files\\\\latex_env_doc_42_0.png\\n[I 11:41:37 InstallContribNbextensionsApp] Up to date: C:\\\\Users\\\\stepn\\\\anaconda3\\\\share\\\\jupyter\\\\nbextensions\\\\latex_envs\\\\doc\\\\latex_env_doc_files\\\\latex_env_doc_43_0.png\\n[I 11:41:37 InstallContribNbextensionsApp] Up to date: C:\\\\Users\\\\stepn\\\\anaconda3\\\\share\\\\jupyter\\\\nbextensions\\\\latex_envs\\\\doc\\\\latex_env_doc_files\\\\latex_env_doc_44_0.png\\n[I 11:41:37 InstallContribNbextensionsApp] Up to date: C:\\\\Users\\\\stepn\\\\anaconda3\\\\share\\\\jupyter\\\\nbextensions\\\\latex_envs\\\\doc\\\\latex_env_doc_files\\\\latex_env_doc_45_0.png\\n[I 11:41:37 InstallContribNbextensionsApp] Up to date: C:\\\\Users\\\\stepn\\\\anaconda3\\\\share\\\\jupyter\\\\nbextensions\\\\latex_envs\\\\doc\\\\latex_env_doc_files\\\\latex_env_doc_46_0.png\\n[I 11:41:37 InstallContribNbextensionsApp] Up to date: C:\\\\Users\\\\stepn\\\\anaconda3\\\\share\\\\jupyter\\\\nbextensions\\\\latex_envs\\\\doc\\\\latex_env_doc_files\\\\latex_env_doc_47_0.png\\n[I 11:41:37 InstallContribNbextensionsApp] Up to date: C:\\\\Users\\\\stepn\\\\anaconda3\\\\share\\\\jupyter\\\\nbextensions\\\\latex_envs\\\\doc\\\\latex_env_doc_files\\\\latex_env_doc_48_0.png\\n[I 11:41:37 InstallContribNbextensionsApp] Up to date: C:\\\\Users\\\\stepn\\\\anaconda3\\\\share\\\\jupyter\\\\nbextensions\\\\latex_envs\\\\doc\\\\latex_env_doc_files\\\\latex_env_doc_49_0.png\\n[I 11:41:37 InstallContribNbextensionsApp] Up to date: C:\\\\Users\\\\stepn\\\\anaconda3\\\\share\\\\jupyter\\\\nbextensions\\\\latex_envs\\\\doc\\\\latex_env_doc_files\\\\latex_env_doc_50_0.png\\n[I 11:41:37 InstallContribNbextensionsApp] Up to date: C:\\\\Users\\\\stepn\\\\anaconda3\\\\share\\\\jupyter\\\\nbextensions\\\\latex_envs\\\\doc\\\\latex_env_doc_files\\\\latex_env_doc_51_0.png\\n[I 11:41:37 InstallContribNbextensionsApp] Up to date: C:\\\\Users\\\\stepn\\\\anaconda3\\\\share\\\\jupyter\\\\nbextensions\\\\latex_envs\\\\doc\\\\latex_env_doc_files\\\\latex_env_doc_52_0.png\\n[I 11:41:37 InstallContribNbextensionsApp] - Validating: ok\\n[I 11:41:37 InstallContribNbextensionsApp] Installing jupyter_contrib_nbextensions items to config in C:\\\\Users\\\\stepn\\\\anaconda3\\\\etc\\\\jupyter\\nEnabling: jupyter_nbextensions_configurator\\n- Writing config: C:\\\\Users\\\\stepn\\\\anaconda3\\\\etc\\\\jupyter\\n    - Validating...\\n      jupyter_nbextensions_configurator 0.4.1 ok\\nEnabling notebook nbextension nbextensions_configurator/config_menu/main...\\nEnabling tree nbextension nbextensions_configurator/tree_tab/main...\\n[I 11:41:37 InstallContribNbextensionsApp] Enabling notebook extension contrib_nbextensions_help_item/main...\\n[I 11:41:37 InstallContribNbextensionsApp]       - Validating: ok\\n[I 11:41:37 InstallContribNbextensionsApp] - Editing config: C:\\\\Users\\\\stepn\\\\anaconda3\\\\etc\\\\jupyter\\\\jupyter_nbconvert_config.json\\n[I 11:41:37 InstallContribNbextensionsApp] --  Configuring nbconvert template path\\n[I 11:41:37 InstallContribNbextensionsApp] --  Configuring nbconvert preprocessors\\n[I 11:41:37 InstallContribNbextensionsApp] - Writing config: C:\\\\Users\\\\stepn\\\\anaconda3\\\\etc\\\\jupyter\\\\jupyter_nbconvert_config.json\\n[I 11:41:37 InstallContribNbextensionsApp] --  Writing updated config file C:\\\\Users\\\\stepn\\\\anaconda3\\\\etc\\\\jupyter\\\\jupyter_nbconvert_config.json\\n'\n",
      "done\n",
      "\n",
      "Note: you may need to restart the kernel to use updated packages.\n"
     ]
    },
    {
     "name": "stderr",
     "output_type": "stream",
     "text": [
      "\n",
      "\n",
      "==> WARNING: A newer version of conda exists. <==\n",
      "  current version: 4.8.2\n",
      "  latest version: 4.9.2\n",
      "\n",
      "Please update conda by running\n",
      "\n",
      "    $ conda update -n base -c defaults conda\n",
      "\n",
      "\n"
     ]
    }
   ],
   "source": [
    "conda install -c conda-forge jupyter_contrib_nbextensions"
   ]
  },
  {
   "cell_type": "code",
   "execution_count": 50,
   "metadata": {},
   "outputs": [
    {
     "name": "stdout",
     "output_type": "stream",
     "text": [
      "Requirement already satisfied: autopep8 in c:\\users\\stepn\\anaconda3\\lib\\site-packages (1.4.4)\n",
      "Requirement already satisfied: pycodestyle>=2.4.0 in c:\\users\\stepn\\anaconda3\\lib\\site-packages (from autopep8) (2.5.0)\n",
      "Note: you may need to restart the kernel to use updated packages.\n"
     ]
    }
   ],
   "source": [
    "pip install autopep8"
   ]
  },
  {
   "cell_type": "code",
   "execution_count": 52,
   "metadata": {},
   "outputs": [
    {
     "name": "stdout",
     "output_type": "stream",
     "text": [
      "Collecting package metadata (current_repodata.json): ...working... done\n",
      "Solving environment: ...working... done\n",
      "\n",
      "## Package Plan ##\n",
      "\n",
      "  environment location: C:\\Users\\stepn\\anaconda3\n",
      "\n",
      "  added / updated specs:\n",
      "    - conda\n",
      "\n",
      "\n",
      "The following packages will be downloaded:\n",
      "\n",
      "    package                    |            build\n",
      "    ---------------------------|-----------------\n",
      "    backports.functools_lru_cache-1.6.1|     pyhd3eb1b0_0          12 KB\n",
      "    conda-4.9.2                |   py37haa95532_0         2.9 MB\n",
      "    conda-package-handling-1.7.2|   py37h76e460a_0         724 KB\n",
      "    ------------------------------------------------------------\n",
      "                                           Total:         3.6 MB\n",
      "\n",
      "The following packages will be UPDATED:\n",
      "\n",
      "  conda-package-han~                   1.6.0-py37h62dcd97_0 --> 1.7.2-py37h76e460a_0\n",
      "\n",
      "The following packages will be SUPERSEDED by a higher-priority channel:\n",
      "\n",
      "  conda              conda-forge::conda-4.9.2-py37h03978a9~ --> pkgs/main::conda-4.9.2-py37haa95532_0\n",
      "\n",
      "The following packages will be DOWNGRADED:\n",
      "\n",
      "  backports.functoo~                             1.6.1-py_0 --> 1.6.1-pyhd3eb1b0_0\n",
      "\n",
      "\n",
      "\n",
      "Downloading and Extracting Packages\n",
      "\n",
      "backports.functools_ | 12 KB     |            |   0% \n",
      "backports.functools_ | 12 KB     | ########## | 100% \n",
      "backports.functools_ | 12 KB     | ########## | 100% \n",
      "\n",
      "conda-package-handli | 724 KB    |            |   0% \n",
      "conda-package-handli | 724 KB    | 8          |   9% \n",
      "conda-package-handli | 724 KB    | #####7     |  57% \n",
      "conda-package-handli | 724 KB    | ########## | 100% \n",
      "conda-package-handli | 724 KB    | ########## | 100% \n",
      "\n",
      "conda-4.9.2          | 2.9 MB    |            |   0% \n",
      "conda-4.9.2          | 2.9 MB    | #7         |  17% \n",
      "conda-4.9.2          | 2.9 MB    | ######2    |  63% \n",
      "conda-4.9.2          | 2.9 MB    | ########## | 100% \n",
      "conda-4.9.2          | 2.9 MB    | ########## | 100% \n",
      "Preparing transaction: ...working... done\n",
      "Verifying transaction: ...working... done\n",
      "Executing transaction: ...working... done\n",
      "\n",
      "Note: you may need to restart the kernel to use updated packages.\n"
     ]
    }
   ],
   "source": [
    "conda update -n base -c defaults conda"
   ]
  },
  {
   "cell_type": "code",
   "execution_count": 1,
   "metadata": {},
   "outputs": [
    {
     "name": "stdout",
     "output_type": "stream",
     "text": [
      "Requirement already satisfied: autopep8 in c:\\users\\stepn\\anaconda3\\lib\\site-packages (1.4.4)\n",
      "Requirement already satisfied: pycodestyle>=2.4.0 in c:\\users\\stepn\\anaconda3\\lib\\site-packages (from autopep8) (2.5.0)\n",
      "Note: you may need to restart the kernel to use updated packages.\n"
     ]
    }
   ],
   "source": [
    "pip install autopep8"
   ]
  },
  {
   "cell_type": "code",
   "execution_count": null,
   "metadata": {},
   "outputs": [],
   "source": []
  }
 ],
 "metadata": {
  "kernelspec": {
   "display_name": "Python 3",
   "language": "python",
   "name": "python3"
  },
  "language_info": {
   "codemirror_mode": {
    "name": "ipython",
    "version": 3
   },
   "file_extension": ".py",
   "mimetype": "text/x-python",
   "name": "python",
   "nbconvert_exporter": "python",
   "pygments_lexer": "ipython3",
   "version": "3.7.6"
  }
 },
 "nbformat": 4,
 "nbformat_minor": 4
}
