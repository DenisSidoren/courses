{
 "cells": [
  {
   "cell_type": "markdown",
   "metadata": {},
   "source": [
    "# Заголовок первого уровня\n",
    "## второго\n",
    "### третьего\n",
    "\n",
    "Список:\n",
    "- первый\n",
    "- второй\n"
   ]
  },
  {
   "cell_type": "code",
   "execution_count": null,
   "metadata": {},
   "outputs": [],
   "source": [
    "print(\"Hello WORLD!\")"
   ]
  },
  {
   "cell_type": "code",
   "execution_count": null,
   "metadata": {},
   "outputs": [],
   "source": [
    "print(2+5)"
   ]
  },
  {
   "cell_type": "code",
   "execution_count": null,
   "metadata": {},
   "outputs": [],
   "source": [
    "a=2+5\n",
    "Type(a)"
   ]
  },
  {
   "cell_type": "code",
   "execution_count": null,
   "metadata": {},
   "outputs": [],
   "source": [
    "((123 - 33)**5 + 123 / (4 + 76))"
   ]
  },
  {
   "cell_type": "code",
   "execution_count": null,
   "metadata": {},
   "outputs": [],
   "source": [
    "x=((67+33)*(25-20))/25\n",
    "print(x)"
   ]
  },
  {
   "cell_type": "code",
   "execution_count": null,
   "metadata": {},
   "outputs": [],
   "source": [
    "x=round((4+5*60-17+(65/4))**(1/2),3)\n",
    "print(x)"
   ]
  },
  {
   "cell_type": "code",
   "execution_count": null,
   "metadata": {},
   "outputs": [],
   "source": [
    "x=round(6.996+45*((13/2)**2)+2*18**(1/2),3)\n",
    "print(x)\n",
    "type(x)"
   ]
  },
  {
   "cell_type": "code",
   "execution_count": null,
   "metadata": {},
   "outputs": [],
   "source": [
    "x=round((1267-20*(((5**3)/2)**2))/((8**5)*(36**(1/2))),3)\n",
    "print(x)"
   ]
  },
  {
   "cell_type": "code",
   "execution_count": null,
   "metadata": {},
   "outputs": [],
   "source": [
    "((((9**(1/2))**3)**2)**2)/((-2)**(-3))"
   ]
  },
  {
   "cell_type": "code",
   "execution_count": null,
   "metadata": {},
   "outputs": [],
   "source": [
    "'hey'+'!'"
   ]
  },
  {
   "cell_type": "code",
   "execution_count": null,
   "metadata": {},
   "outputs": [],
   "source": [
    "'42' + 2"
   ]
  },
  {
   "cell_type": "code",
   "execution_count": null,
   "metadata": {},
   "outputs": [],
   "source": [
    "'42'*2"
   ]
  },
  {
   "cell_type": "code",
   "execution_count": null,
   "metadata": {},
   "outputs": [],
   "source": [
    "4 ** (1/2)"
   ]
  },
  {
   "cell_type": "code",
   "execution_count": null,
   "metadata": {},
   "outputs": [],
   "source": [
    "str(int(float('2.4')))"
   ]
  },
  {
   "cell_type": "code",
   "execution_count": null,
   "metadata": {},
   "outputs": [],
   "source": [
    "input('Ты болеешь?')\n",
    "type(input())"
   ]
  },
  {
   "cell_type": "code",
   "execution_count": null,
   "metadata": {},
   "outputs": [],
   "source": [
    "user_name = input('Введите своё имя: \\n')"
   ]
  },
  {
   "cell_type": "code",
   "execution_count": null,
   "metadata": {},
   "outputs": [],
   "source": [
    "multiplier = int(input('Введите множитель для числа 5: \\n'))\n",
    "print(5*multiplier)"
   ]
  },
  {
   "cell_type": "code",
   "execution_count": null,
   "metadata": {},
   "outputs": [],
   "source": [
    "a = float(input('Введите основание степени: \\n'))\n",
    "b = float(input('Введите показатель степени: \\n'))\n",
    "# В функции print() можно в качестве аргументов \n",
    "# перечислять через запятую все нужные для вывода данные\n",
    "print('Полученное число:', a**b) "
   ]
  },
  {
   "cell_type": "code",
   "execution_count": null,
   "metadata": {},
   "outputs": [],
   "source": [
    "name=input('Введите свое имя: \\n')\n",
    "print('Сегодня Вас зовут:', name)"
   ]
  },
  {
   "cell_type": "code",
   "execution_count": null,
   "metadata": {},
   "outputs": [],
   "source": [
    "word=input('Напишите какое-нибудь слово:\\n')\n",
    "print(len(word))"
   ]
  },
  {
   "cell_type": "code",
   "execution_count": null,
   "metadata": {},
   "outputs": [],
   "source": [
    "word='Очаровательно'\n",
    "print(len(word))"
   ]
  },
  {
   "cell_type": "code",
   "execution_count": null,
   "metadata": {},
   "outputs": [],
   "source": [
    "a=117\n",
    "b=23\n",
    "print(a%b)"
   ]
  },
  {
   "cell_type": "code",
   "execution_count": null,
   "metadata": {},
   "outputs": [],
   "source": [
    "a=12\n",
    "b=17\n",
    "c=25\n",
    "print((a*b*c)**(1/3))"
   ]
  },
  {
   "cell_type": "code",
   "execution_count": null,
   "metadata": {},
   "outputs": [],
   "source": [
    "x=100500\n",
    "fx=6.996+45*((x/2)**2)+2*x\n",
    "print(fx)"
   ]
  },
  {
   "cell_type": "code",
   "execution_count": null,
   "metadata": {},
   "outputs": [],
   "source": [
    "weight= float(input(\"Введите свой вес:\\n\"))\n",
    "height = float(input(\"Введите свой рост:\\n\"))\n",
    "IMT=weight/(height**2)\n",
    "print('Ваш ИМТ = ', round(IMT,3))"
   ]
  },
  {
   "cell_type": "code",
   "execution_count": null,
   "metadata": {},
   "outputs": [],
   "source": [
    "a = 270\n",
    "b = 12.8\n",
    "print(((a+b)/2)**(1/3))"
   ]
  },
  {
   "cell_type": "code",
   "execution_count": null,
   "metadata": {},
   "outputs": [],
   "source": [
    "a = 23\n",
    "print('Вы ввели число, которое при умножении на 3 даёт', a*3)"
   ]
  },
  {
   "cell_type": "code",
   "execution_count": null,
   "metadata": {},
   "outputs": [],
   "source": [
    "string_1 = 'Hello, world!'\n",
    "string_2 = 'Python <3'\n",
    "string_3 = 'qwerty'\n",
    "print(len((string_1)*len(string_2)*len(string_3))**(1/3))"
   ]
  },
  {
   "cell_type": "code",
   "execution_count": null,
   "metadata": {},
   "outputs": [],
   "source": [
    "string = 'Привет!'\n",
    "power = 5\n",
    "print(string, len(string), (len(string))**power)"
   ]
  },
  {
   "cell_type": "code",
   "execution_count": null,
   "metadata": {},
   "outputs": [],
   "source": []
  },
  {
   "cell_type": "code",
   "execution_count": null,
   "metadata": {},
   "outputs": [],
   "source": [
    "a = float(input('Введите любое число:'))\n",
    "if a % 2 == 0:\n",
    "    print('Число чётное.')\n",
    "else:\n",
    "    print('Число нечётное.')"
   ]
  },
  {
   "cell_type": "code",
   "execution_count": null,
   "metadata": {},
   "outputs": [],
   "source": [
    "word= 'ОченьДлинноеСлово'\n",
    "if len(word)<=7:\n",
    "    print('Это слово короткое.')\n",
    "else:\n",
    "    print('Это слово длинное.')"
   ]
  },
  {
   "cell_type": "code",
   "execution_count": null,
   "metadata": {},
   "outputs": [],
   "source": [
    "word=input('Введите какое-нибудь слово:')\n",
    "if 'ф' in word:\n",
    "    print('Ого! Вы ввели редкое слово')\n",
    "else:\n",
    "    print(\"Эх, это не очень редкое слово...\")"
   ]
  },
  {
   "cell_type": "code",
   "execution_count": null,
   "metadata": {},
   "outputs": [],
   "source": [
    "word = 'ОченьДлинноеСлово'\n",
    "letter = 'и'\n",
    "if letter in word:\n",
    "    print('Выбранная буква есть в введённом слове')\n",
    "else:\n",
    "    print('Выбранной буквы нет в введённом слове')"
   ]
  },
  {
   "cell_type": "code",
   "execution_count": null,
   "metadata": {},
   "outputs": [],
   "source": [
    "number = 122\n",
    "coren = number**(1/2)\n",
    "if coren%1 == 0:\n",
    "    print(int(coren))\n",
    "else:\n",
    "    print('Квадратный корень из', number, '- не целое число')"
   ]
  },
  {
   "cell_type": "code",
   "execution_count": null,
   "metadata": {},
   "outputs": [],
   "source": [
    "169**(1/2)"
   ]
  },
  {
   "cell_type": "code",
   "execution_count": null,
   "metadata": {},
   "outputs": [],
   "source": [
    "5/2"
   ]
  },
  {
   "cell_type": "code",
   "execution_count": null,
   "metadata": {},
   "outputs": [],
   "source": [
    "number=int(input('Введите число от 1 до 7\\n'))\n",
    "if number==1:\n",
    "    print('понедельник')\n",
    "elif number==2:\n",
    "    print('вторник')\n",
    "elif number==3:\n",
    "    print('среда')\n",
    "elif number==4:\n",
    "    print('четверг')\n",
    "elif number==5:\n",
    "    print('пятница')\n",
    "elif number==6:\n",
    "    print('суббота')\n",
    "elif number==7:\n",
    "    print('воскресение')\n",
    "else:\n",
    "    print('От 1 до 7! Что не понятного?')"
   ]
  },
  {
   "cell_type": "code",
   "execution_count": null,
   "metadata": {},
   "outputs": [],
   "source": [
    "weight= float(input(\"Введите свой вес:\\n\"))\n",
    "height = float(input(\"Введите свой рост:\\n\"))\n",
    "IMT=weight/(height**2)\n",
    "if IMT > 24.99:\n",
    "    print('Избыточная масса тела')\n",
    "elif IMT < 18.5:\n",
    "    print('Недостаточная масса тела')\n",
    "else:\n",
    "    print('Норма')"
   ]
  },
  {
   "cell_type": "code",
   "execution_count": null,
   "metadata": {},
   "outputs": [],
   "source": [
    "mark=0\n",
    "if mark <4:\n",
    "    print('неудовлетворительно')\n",
    "elif mark == 4 or mark == 5:\n",
    "    print('удовлетворительно')\n",
    "elif mark == 6 or mark == 7:\n",
    "    print('хорошо')\n",
    "elif mark == 8 or mark == 9 or mark == 10:\n",
    "    print('отлично')\n",
    "else:\n",
    "    print('Вы ввели неправильное значение')"
   ]
  },
  {
   "cell_type": "code",
   "execution_count": null,
   "metadata": {},
   "outputs": [],
   "source": [
    "norm_x = [10, 100]\n",
    "x = 10.000001\n",
    "if x >= norm_x[0] and x<= norm_x[1]:\n",
    "    print (\"Great\")\n",
    "else:\n",
    "    print (\"Oops\")"
   ]
  },
  {
   "cell_type": "code",
   "execution_count": null,
   "metadata": {},
   "outputs": [],
   "source": [
    "balance = 455\n",
    "if balance > 5000:\n",
    "    print('Сегодня твой выбор - ресторан!')\n",
    "elif balance > 2500:\n",
    "    print('Эх, только фастфуд.')\n",
    "else:\n",
    "    print('Придётся потерпеть!')"
   ]
  },
  {
   "cell_type": "code",
   "execution_count": null,
   "metadata": {},
   "outputs": [],
   "source": [
    "number=452\n",
    "if number%2 == 0:\n",
    "    print('Число делится на 2 без остатка.')\n",
    "elif number%3 == 0:\n",
    "     print('Число делится на 3 без остатка.')\n",
    "elif number%5 == 0:\n",
    "     print('Число делится на 5 без остатка.')\n",
    "else:\n",
    "    print('Число не делится ни на 2, ни на 3, ни на 5 без остатка!')"
   ]
  },
  {
   "cell_type": "code",
   "execution_count": null,
   "metadata": {},
   "outputs": [],
   "source": []
  },
  {
   "cell_type": "code",
   "execution_count": null,
   "metadata": {},
   "outputs": [],
   "source": [
    "a = True \n",
    "b = False\n",
    "a and b or not a and not b"
   ]
  },
  {
   "cell_type": "code",
   "execution_count": null,
   "metadata": {},
   "outputs": [],
   "source": [
    "\"239\" < \"30\" and 239 > 30"
   ]
  },
  {
   "cell_type": "code",
   "execution_count": null,
   "metadata": {},
   "outputs": [],
   "source": [
    "\"5a\"<\"5b\" and 123/2 > 30 or True"
   ]
  },
  {
   "cell_type": "code",
   "execution_count": null,
   "metadata": {},
   "outputs": [],
   "source": [
    "\"Python\" > \"Ruby\""
   ]
  },
  {
   "cell_type": "code",
   "execution_count": null,
   "metadata": {},
   "outputs": [],
   "source": [
    "False and True or 12<5**2 and \"Python\" > \"Ruby\""
   ]
  },
  {
   "cell_type": "code",
   "execution_count": null,
   "metadata": {},
   "outputs": [],
   "source": [
    "\"Android\" < \"Apple\""
   ]
  },
  {
   "cell_type": "code",
   "execution_count": null,
   "metadata": {},
   "outputs": [],
   "source": [
    "\"Android\" > \"Apple\" "
   ]
  },
  {
   "cell_type": "code",
   "execution_count": null,
   "metadata": {},
   "outputs": [],
   "source": [
    "\"test\" > \"push\""
   ]
  },
  {
   "cell_type": "code",
   "execution_count": null,
   "metadata": {},
   "outputs": [],
   "source": [
    "x = 10 \n",
    "y = 15\n",
    "y > x**y - 1000 or \"test\" > \"push\""
   ]
  },
  {
   "cell_type": "code",
   "execution_count": null,
   "metadata": {},
   "outputs": [],
   "source": [
    "flower = 'роза'\n",
    "color = 'фиолетовый'\n",
    "if ('синий' in color or 'белый' in color) and 'роза' in flower:\n",
    "    print('Ане понравятся эти цветы')\n",
    "else:\n",
    "    print('Аня не фанат таких цветов')"
   ]
  },
  {
   "cell_type": "code",
   "execution_count": null,
   "metadata": {},
   "outputs": [],
   "source": [
    "height = 180\n",
    "weight = 92\n",
    "color = 'синий'\n",
    "if height>170 and weight < 80 and color=='красный':\n",
    "    print('Ваша половинка нашлась!')\n",
    "else:\n",
    "    print('Попробуем поискать ещё...')"
   ]
  },
  {
   "cell_type": "code",
   "execution_count": null,
   "metadata": {},
   "outputs": [],
   "source": [
    "number=346\n",
    "if number%2==0 or number%5==0 or number%173==0 or number%821==0:\n",
    "    print('Вова, это нужное число')\n",
    "else:\n",
    "    print('Вова, в этот раз ты не попал')\n"
   ]
  },
  {
   "cell_type": "code",
   "execution_count": null,
   "metadata": {},
   "outputs": [],
   "source": [
    "fav_word = 'рубинчик'\n",
    "if 'рептилия'in fav_word or 'питон'in fav_word or 'змея' in fav_word:\n",
    "    print('Python')\n",
    "elif 'плюс'in fav_word or 'плюсы'in fav_word:\n",
    "    print('C++')\n",
    "elif 'рубин'in fav_word or 'кристалл'in fav_word:\n",
    "    print('Ruby')\n",
    "else:\n",
    "    print('Python')"
   ]
  },
  {
   "cell_type": "code",
   "execution_count": null,
   "metadata": {},
   "outputs": [],
   "source": [
    "hour = 18\n",
    "minute = 47\n",
    "if (hour==10 and minute<30) or (hour==12 and minute>0) or (hour==13 and minute<40) or (hour==15 and minute>0) or (hour==16 and minute>=0)or (hour==17 and minute>=0)or (hour==19 and minute>30):\n",
    "    print('Преподаватель свободен.')\n",
    "else:\n",
    "    print('Преподаватель занят.')"
   ]
  },
  {
   "cell_type": "code",
   "execution_count": null,
   "metadata": {},
   "outputs": [],
   "source": [
    "print(ord(\"L\"))"
   ]
  },
  {
   "cell_type": "code",
   "execution_count": null,
   "metadata": {},
   "outputs": [],
   "source": [
    "print(chr(170119))"
   ]
  },
  {
   "cell_type": "code",
   "execution_count": null,
   "metadata": {},
   "outputs": [],
   "source": [
    "word = 'подшипник'\n",
    "for i, letter in enumerate(word):\n",
    "    if i%2 == 0:\n",
    "        print(letter)"
   ]
  },
  {
   "cell_type": "code",
   "execution_count": null,
   "metadata": {},
   "outputs": [],
   "source": [
    "year_1 = 2013\n",
    "year_2 = 2020\n",
    "for i in range(year_1, year_2+1):\n",
    "    if i%4 == 0:\n",
    "        print(i, 'год високосный')\n",
    "    else:\n",
    "        print(i, 'год невисокосный')"
   ]
  },
  {
   "cell_type": "code",
   "execution_count": null,
   "metadata": {},
   "outputs": [],
   "source": [
    "word = 'Зимушка-зима'\n",
    "for letter in word:\n",
    "    if letter in 'ауоыиэяюёе':\n",
    "        print(letter)"
   ]
  },
  {
   "cell_type": "code",
   "execution_count": null,
   "metadata": {},
   "outputs": [],
   "source": [
    "name = 'Сергей'\n",
    "for i, letter in enumerate(name):\n",
    "    print('Буква', i+1, 'в этом имени -', letter)"
   ]
  },
  {
   "cell_type": "code",
   "execution_count": null,
   "metadata": {},
   "outputs": [],
   "source": [
    "num_1 = 25\n",
    "num_2 = 45\n",
    "if num_2<num_1 or num_1<0:\n",
    "    print('Введён неверный диапазон чисел')\n",
    "else:\n",
    "    for i in range(num_1, num_2+1):\n",
    "        if (i%3==0 or i%5==0) and i%2!=0:\n",
    "            print(i)\n",
    "    "
   ]
  },
  {
   "cell_type": "code",
   "execution_count": null,
   "metadata": {},
   "outputs": [],
   "source": [
    "sum_squares = 0\n",
    "for i in range(1, 3):\n",
    "    sum_squares += i**2\n",
    "print(sum_squares)"
   ]
  },
  {
   "cell_type": "code",
   "execution_count": null,
   "metadata": {},
   "outputs": [],
   "source": [
    "sum_2 = 0\n",
    "sum_3 = 0\n",
    "for i in range(10, 26):\n",
    "    if i%2 == 0:\n",
    "        sum_2 += i**2\n",
    "    if i%3 == 0:\n",
    "        sum_3 += i**3\n",
    "else:\n",
    "    print(sum_2, sum_3)"
   ]
  },
  {
   "cell_type": "code",
   "execution_count": null,
   "metadata": {},
   "outputs": [],
   "source": [
    "number = int(input())\n",
    "\n",
    "factorial = 1\n",
    "for i in range(1, number + 1):\n",
    "    factorial = factorial*i \n",
    "else:\n",
    "    print('Факториал числа', number, 'равен', factorial)\n",
    "    "
   ]
  },
  {
   "cell_type": "code",
   "execution_count": null,
   "metadata": {},
   "outputs": [],
   "source": [
    "for i in range(1, 11):\n",
    "    print(i, i**2, i**3)"
   ]
  },
  {
   "cell_type": "code",
   "execution_count": null,
   "metadata": {},
   "outputs": [],
   "source": [
    "number = 84\n",
    "for i in range(1, number+1):\n",
    "    if number%i==0:\n",
    "        print(i)"
   ]
  },
  {
   "cell_type": "code",
   "execution_count": null,
   "metadata": {},
   "outputs": [],
   "source": [
    "num_1 = 12\n",
    "num_2 = 38\n",
    "for i in range(2,num_1+1):\n",
    "    if num_1 %i==0 and num_2 %i==0:\n",
    "        print(i)"
   ]
  },
  {
   "cell_type": "code",
   "execution_count": null,
   "metadata": {},
   "outputs": [],
   "source": [
    "n=10\n",
    "a=0\n",
    "b=1\n",
    "for i in range(0, n):\n",
    "    summ=a+b\n",
    "    a=b\n",
    "    b=summ\n",
    "    print(b)"
   ]
  },
  {
   "cell_type": "code",
   "execution_count": null,
   "metadata": {},
   "outputs": [],
   "source": [
    "number = 15\n",
    "for i in range(1, 11):\n",
    "    print(number, 'X', i, '=', number*i)"
   ]
  },
  {
   "cell_type": "code",
   "execution_count": null,
   "metadata": {},
   "outputs": [],
   "source": [
    "num_1 = 1812\n",
    "num_2 = 2500\n",
    "max_del=0\n",
    "if num_1<=num_2:\n",
    "    for i in range(2,num_1+1):\n",
    "        if num_1%i==0 and num_2%i==0:\n",
    "            max_del=i\n",
    "        else:\n",
    "            continue\n",
    "else:\n",
    "    for i in range(2,num_2+1):\n",
    "        if num_1%i==0 and num_2%i==0:\n",
    "            max_del=i\n",
    "        else:\n",
    "            continue\n",
    "print(max_del)"
   ]
  },
  {
   "cell_type": "code",
   "execution_count": null,
   "metadata": {},
   "outputs": [],
   "source": [
    "print('Hallo!', end='')\n",
    "print('Hallo!')\n",
    "print('Hallo!', end='')\n",
    "print('Hallo!')\n",
    "print('Hallo!')"
   ]
  },
  {
   "cell_type": "code",
   "execution_count": null,
   "metadata": {},
   "outputs": [],
   "source": [
    " string = 'абстракция'\n",
    "for letter in string:\n",
    "    if letter in 'абв':\n",
    "        continue\n",
    "    else:\n",
    "        print(letter, end='')"
   ]
  },
  {
   "cell_type": "code",
   "execution_count": null,
   "metadata": {},
   "outputs": [],
   "source": [
    "string = 'нет'\n",
    "a=0\n",
    "for i in range(5):\n",
    "    if string=='нет':\n",
    "        print('Увы, это неправильный ответ')\n",
    "        a+= 1\n",
    "        if a==5:\n",
    "            print('Это безнадёжно!')\n",
    "            break\n",
    "    else:\n",
    "        print('Это отлично!')\n",
    "\n",
    "    "
   ]
  },
  {
   "cell_type": "code",
   "execution_count": null,
   "metadata": {},
   "outputs": [],
   "source": [
    "number = 173\n",
    "for i in range(2, number+1):\n",
    "    if number%i!=0:\n",
    "        continue\n",
    "    elif i==number:\n",
    "        print('Простое')\n",
    "    else:\n",
    "        print('Не является простым')\n",
    "        break"
   ]
  },
  {
   "cell_type": "code",
   "execution_count": null,
   "metadata": {},
   "outputs": [],
   "source": [
    "string = 'прелестная строка'\n",
    "for i, letter in enumerate(string):\n",
    "    if i%2!=0:\n",
    "        continue\n",
    "    elif i%2==0 and letter in 'аоиеёэыуюя':\n",
    "        print('Строка мне не нравится!')\n",
    "        break\n",
    "    else:\n",
    "        continue     "
   ]
  },
  {
   "cell_type": "code",
   "execution_count": null,
   "metadata": {},
   "outputs": [],
   "source": [
    "money = 1\n",
    "year = 0\n",
    "yearly_multiplier = 1.06\n",
    "\n",
    "while money < 2:\n",
    "    money = money*yearly_multiplier\n",
    "    year += 1\n",
    "else:\n",
    "    print('Деньги удвоятся через', year, 'лет')\n"
   ]
  },
  {
   "cell_type": "code",
   "execution_count": null,
   "metadata": {},
   "outputs": [],
   "source": [
    "Y = 170000\n",
    "Z = 1000000\n",
    "stavka=1.1\n",
    "year = 0\n",
    "while Y<=Z:\n",
    "    Y=Y*stavka\n",
    "    year+=1\n",
    "else:\n",
    "    print(year)"
   ]
  },
  {
   "cell_type": "code",
   "execution_count": null,
   "metadata": {},
   "outputs": [],
   "source": [
    "weight = 77\n",
    "al_weight = 0\n",
    "while al_weight <= 400:\n",
    "    al_weight+=weight\n",
    "else:\n",
    "    print('Перевес', al_weight-400, 'кг')"
   ]
  },
  {
   "cell_type": "code",
   "execution_count": 8,
   "metadata": {},
   "outputs": [
    {
     "name": "stdout",
     "output_type": "stream",
     "text": [
      "Какая хорошая строка!\n"
     ]
    }
   ],
   "source": [
    "string = 'Денис'\n",
    "for i, letter in enumerate(string):\n",
    "    if i%2!=0:\n",
    "        continue\n",
    "    elif i%2==0 and letter in 'аоиеёэыуюя':\n",
    "        print('Строка мне не нравится!')\n",
    "        break\n",
    "else:\n",
    "    print(\"Какая хорошая строка!\")\n"
   ]
  },
  {
   "cell_type": "code",
   "execution_count": 10,
   "metadata": {},
   "outputs": [
    {
     "name": "stdout",
     "output_type": "stream",
     "text": [
      "7\n"
     ]
    }
   ],
   "source": [
    "current_health=500\n",
    "attack=80\n",
    "second=0\n",
    "while current_health>0:\n",
    "    current_health-=attack\n",
    "    second+=1\n",
    "else:\n",
    "    print(second)"
   ]
  },
  {
   "cell_type": "code",
   "execution_count": 6,
   "metadata": {},
   "outputs": [
    {
     "name": "stdout",
     "output_type": "stream",
     "text": [
      "Строка мне не нравится!\n"
     ]
    }
   ],
   "source": [
    "string = 'прелестная строка'\n",
    "for i, letter in enumerate(string):\n",
    "    if i%2==0 and letter in 'аоиеёэыуюя':\n",
    "        print('Строка мне не нравится!')\n",
    "        break\n",
    "else:\n",
    "    print(\"Какая хорошая строка!\")"
   ]
  },
  {
   "cell_type": "code",
   "execution_count": 14,
   "metadata": {},
   "outputs": [
    {
     "name": "stdout",
     "output_type": "stream",
     "text": [
      "10000\n",
      "7200\n",
      "4400\n",
      "1600\n",
      "Слишком большие расходы\n"
     ]
    }
   ],
   "source": [
    "spent = 2800\n",
    "balance = 10000\n",
    "print(balance)\n",
    "while balance>0:\n",
    "    if balance<spent:\n",
    "        print('Слишком большие расходы')\n",
    "        break\n",
    "    balance-=spent\n",
    "    print(balance)\n",
    "\n",
    "    "
   ]
  },
  {
   "cell_type": "code",
   "execution_count": 16,
   "metadata": {},
   "outputs": [
    {
     "name": "stdout",
     "output_type": "stream",
     "text": [
      "20\n"
     ]
    }
   ],
   "source": [
    "volume=1000\n",
    "robot=5\n",
    "time=0\n",
    "while volume>0:\n",
    "    volume-=robot\n",
    "    robot+=5\n",
    "    time+=1\n",
    "else:\n",
    "    print(time)"
   ]
  },
  {
   "cell_type": "code",
   "execution_count": 20,
   "metadata": {},
   "outputs": [
    {
     "name": "stdout",
     "output_type": "stream",
     "text": [
      "3\n"
     ]
    }
   ],
   "source": [
    "for i in range(10):\n",
    "    if i>=3:\n",
    "        break\n",
    "print(i)"
   ]
  },
  {
   "cell_type": "code",
   "execution_count": 22,
   "metadata": {},
   "outputs": [
    {
     "name": "stdout",
     "output_type": "stream",
     "text": [
      "10\n",
      "12\n",
      "10\n",
      "12\n",
      "10\n",
      "12\n",
      "10\n",
      "12\n",
      "10\n",
      "12\n",
      "10\n",
      "12\n",
      "10\n",
      "12\n",
      "10\n",
      "12\n",
      "10\n",
      "12\n",
      "10\n",
      "12\n",
      "10\n",
      "12\n",
      "10\n",
      "12\n",
      "10\n",
      "12\n",
      "12\n"
     ]
    }
   ],
   "source": [
    "count=1\n",
    "while count<27:\n",
    "    if count%2==0:\n",
    "        to_print = 12\n",
    "    else:\n",
    "        to_print=10\n",
    "    count+=1\n",
    "    print(to_print)\n",
    "print(to_print)"
   ]
  },
  {
   "cell_type": "code",
   "execution_count": 13,
   "metadata": {},
   "outputs": [
    {
     "name": "stdout",
     "output_type": "stream",
     "text": [
      "1\n",
      "1 2 3 4 5 6 7 8 9 2\n",
      "2 4 6 8 10 12 14 16 18 3\n",
      "3 6 9 12 15 18 21 24 27 4\n",
      "4 8 12 16 20 24 28 32 36 5\n",
      "5 10 15 20 25 30 35 40 45 6\n",
      "6 12 18 24 30 36 42 48 54 7\n",
      "7 14 21 28 35 42 49 56 63 8\n",
      "8 16 24 32 40 48 56 64 72 9\n",
      "9 18 27 36 45 54 63 72 81 "
     ]
    }
   ],
   "source": [
    "for i in range(1,10):\n",
    "    print(i)\n",
    "    for n in range(1,10):\n",
    "        a=i*n\n",
    "        print(a,end=' ')\n",
    "        \n",
    "        "
   ]
  },
  {
   "cell_type": "code",
   "execution_count": null,
   "metadata": {},
   "outputs": [],
   "source": []
  }
 ],
 "metadata": {
  "kernelspec": {
   "display_name": "Python 3",
   "language": "python",
   "name": "python3"
  },
  "language_info": {
   "codemirror_mode": {
    "name": "ipython",
    "version": 3
   },
   "file_extension": ".py",
   "mimetype": "text/x-python",
   "name": "python",
   "nbconvert_exporter": "python",
   "pygments_lexer": "ipython3",
   "version": "3.7.6"
  }
 },
 "nbformat": 4,
 "nbformat_minor": 4
}
